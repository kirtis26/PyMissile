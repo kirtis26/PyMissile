{
 "cells": [
  {
   "cell_type": "code",
   "execution_count": 1,
   "metadata": {},
   "outputs": [],
   "source": [
    "import numpy as np\n",
    "import matplotlib.pyplot as plt\n",
    "import timeit\n",
    "from math import *\n",
    "import pickle\n",
    "import pandas as pd\n",
    "from tqdm import tqdm\n",
    "from aero_info import *\n",
    "from missile_gym import MissileGym\n",
    "from ipywidgets import interact, interactive, fixed\n",
    "from matplotlib.pylab import figure, subplot2grid\n",
    "from interpolation import Interp1d, Interp2d, InterpVec\n",
    "import ipywidgets"
   ]
  },
  {
   "cell_type": "code",
   "execution_count": 2,
   "metadata": {},
   "outputs": [
    {
     "name": "stdout",
     "output_type": "stream",
     "text": [
      "Using matplotlib backend: Qt5Agg\n"
     ]
    }
   ],
   "source": [
    "%matplotlib"
   ]
  },
  {
   "cell_type": "code",
   "execution_count": 3,
   "metadata": {},
   "outputs": [],
   "source": [
    "%matplotlib inline"
   ]
  },
  {
   "cell_type": "code",
   "execution_count": 4,
   "metadata": {},
   "outputs": [],
   "source": [
    "# настройка шрифтов\n",
    "rc = {\"font.family\" : \"serif\", \n",
    "      \"mathtext.fontset\" : \"stix\"}\n",
    "plt.rcParams.update(rc)\n",
    "plt.rcParams[\"font.serif\"] = [\"Times New Roman\"] + plt.rcParams[\"font.serif\"]"
   ]
  },
  {
   "cell_type": "markdown",
   "metadata": {},
   "source": [
    "# Баллистическое проектирование ЗУР"
   ]
  },
  {
   "cell_type": "markdown",
   "metadata": {},
   "source": [
    "**Прототип 48Н6Е** (С-300 ПМУ-1). Бескрылая нормальная схема (частный случай \"нормальной\" схемы) - \"схема с несущим корпусом\". Двигатель разгонно-маршевый однорежимный из высокопрочного алюминиевого сплава (таблица 4.3). \n",
    "\n",
    "mz_cy = - 0.02...0.06 для обычной схемы (x_t - x_fa) / L_korp\n",
    "\n",
    "АД ОУ - рули-элероны выполняют еще и роль стабилизирующих поверхностей, обеспечивающих необходимые запасы статической устойчивости.\n",
    "\n",
    "* стр. 455 про бескрылую схему можно многое узнать\n",
    "\n",
    "* стр. 511 про нашу ракету написал Грушин\n",
    "\n",
    "* стр. 527 про бал проектирование"
   ]
  },
  {
   "cell_type": "markdown",
   "metadata": {},
   "source": [
    "## 1) Первоначальный баллистический расчет\n",
    "Для начала проинтегрируем систему, приняв угол склонения ракеты **thetta (Q)** постоянным на активном участке полета. Для этого используем упрощенную систему уравнений движения ракеты [*пособие Астахова \"Бал. пр-е\", система ур-ний (4)*], где все переменные коэф-ты выраженны через проектные параметры ракеты, при **alpha = 0**, следовательно, и **Cya = 0**. Найдем минимум стартовой массы ракеты (перебором относительной массы топливного заряда при заданном коэф-те конструктивно-массового совершенства и массе полезной нагрузки из прототипа). Получим в итоге профиль скорости нашей ЗУР, который будет использован в первоначальном АД проектировании для получения коэф-тов Суа от числа М, и Сх от alpha и числа М. Далее будем использовать исходную полную систему уравнений движения [*Физ. основы устр-ва ракетного оружия, глава 3*] для уточнения баллистического расчёта и дальнешего АД расчета."
   ]
  },
  {
   "cell_type": "markdown",
   "metadata": {},
   "source": [
    "### 1.1. Простая прогонка с параметрами прототипа"
   ]
  },
  {
   "cell_type": "code",
   "execution_count": 5,
   "metadata": {},
   "outputs": [],
   "source": [
    "alpha, Cy_alpha = 0, 0"
   ]
  },
  {
   "cell_type": "code",
   "execution_count": 6,
   "metadata": {},
   "outputs": [],
   "source": [
    "# Пример формирования словаря с начальными данными одноступенчатой ракеты (аналог - ЗУР 48Н6E ЗРС С-300 ПМУ-1)\n",
    "opts = {\n",
    "    'init_conditions': {'l_pusk': 8,\n",
    "                        'x': 0,\n",
    "                        'y': 20,\n",
    "                        'v': 25,\n",
    "                        'thetta': 35},\n",
    "    'η_0': 14,\n",
    "    'I_10': 2700,\n",
    "    'myu_0': 0.59,\n",
    "    'lambda_e': 2.373,\n",
    "    'k': 1.21,\n",
    "    'p_00': 5*1e6,\n",
    "    'q_M': 2400 * 9.80665 / (np.pi * 0.515**2 / 4),\n",
    "    'i': 1.2,\n",
    "    'integr': {'stop_conditions': 'x_max',\n",
    "               'value': 2e5,\n",
    "               'dt': 5e-1}\n",
    "}  \n",
    "m_бч = 145\n",
    "m_пн = 730\n",
    "α_д = 0.18"
   ]
  },
  {
   "cell_type": "code",
   "execution_count": 7,
   "metadata": {},
   "outputs": [],
   "source": [
    "def ozvb(dict_opts):\n",
    "    \n",
    "    \"\"\"\n",
    "    Ф-ция решения прямой задачи внешней баллистики (ОЗВБ) ракеты\n",
    "    argument:  dict_opts {dict}  -- словарь с опциями (начальными данными)\n",
    "    return:    dict_res  {dict}  -- словарь с результатами решения ОЗВБ\n",
    "    \"\"\"\n",
    "    \n",
    "    # const:\n",
    "    g     = 9.80665\n",
    "    p_h0  = 101325\n",
    "    k_air = 1.41\n",
    "    \n",
    "    def func_stop(stop_conditions):\n",
    "        if stop_conditions == 't0':\n",
    "            return lambda t: dict_opts['I_10'] * dict_opts['myu_0'] / dict_opts['η_0'] / g - t\n",
    "        if stop_conditions == 'v_max':\n",
    "            return lambda v: dict_opts['integr']['value'] - v\n",
    "        if stop_conditions == 'y_max':\n",
    "            return lambda y: dict_opts['integr']['value'] - y\n",
    "        if stop_conditions == 'x_max':\n",
    "            return lambda x: dict_opts['integr']['value'] - x\n",
    "        if stop_conditions == 'step_max':\n",
    "            return lambda i: dict_opts['integr']['value'] - i\n",
    "        if stop_conditions == 't_max':\n",
    "            return lambda t: dict_opts['integr']['value'] - t\n",
    "\n",
    "    def f(λ, k):\n",
    "        # табличная газодинамическая функция\n",
    "        return (1 + λ ** 2) * (1 - ((k - 1) / (k + 1)) * λ ** 2) ** (1 / (k - 1))\n",
    "\n",
    "    def π(y):\n",
    "        # ф-ция изменения атмосф. давления с высотой\n",
    "        p_h = table_atm(y, 2)\n",
    "        return p_h / p_h0\n",
    "\n",
    "    def ξ_stage(μ, μ_0):\n",
    "        # ф-ция, учитывающая отстыковку стартовой ступени (для двухступенчатых ракет)\n",
    "        if μ < μ_0:\n",
    "            return 1\n",
    "        else:\n",
    "            return 0\n",
    "   \n",
    "    def ξ_pusk(x, y):\n",
    "        # ф-ция, учитывающая неизменность угла наклона траектории при движении ракеты по направляющей\n",
    "        if np.sqrt(x ** 2 + y ** 2) <= dict_opts['init_conditions']['l_pusk']:\n",
    "            return 0\n",
    "        else:\n",
    "            return 1\n",
    "\n",
    "    def system(t, Y, r=dict_opts, Cx=Cx43):\n",
    "            \n",
    "        y1 = Y[0] # v\n",
    "        y2 = Y[1] # θ\n",
    "        y3 = Y[2] # x\n",
    "        y4 = Y[3] # y\n",
    "        y5 = Y[4] # μ \n",
    "        \n",
    "        M  = y1 / table_atm(y4, 4)\n",
    "        \n",
    "        a10_1 = g * r['η_0'] / (1 - y5)\n",
    "        a10_2 = g * r['η_0'] * (1 - π(y4)) / ((f(r['lambda_e'], r['k']) * (r['p_00'] / p_h0) - 1) * (1 - y5))\n",
    "        a1_3  = g * r['i'] * Cx(M) * k_air * p_h0 * π(y4) * (M ** 2) / (2 * r['q_M'] * (1 - y5))\n",
    "        a1_4  = g * np.sin(y2)\n",
    "        \n",
    "        # dv/dt\n",
    "        f1 = (a10_1 + a10_2) * ξ_stage(y5, r['myu_0']) - a1_3 - a1_4\n",
    "        # dθ/dt\n",
    "        f2 = g * ξ_pusk(y3, y4) / (y1 ** (ξ_pusk(y3, y4))) * (Cy_alpha * alpha * table_atm(y4, 3) * y1 ** 2 / (2 * r['q_M'] * (1 - y5)) + r['η_0'] * np.sin(np.radians(alpha)) / (1 - y5) - np.cos(y2) * (1 - ξ_stage(y5, r['myu_0'])))\n",
    "        # dx/dt\n",
    "        f3 = y1 * np.cos(y2)\n",
    "        # dy/dt\n",
    "        f4 = y1 * np.sin(y2)\n",
    "        # dμ/dt\n",
    "        f5 = g * (r['η_0'] / r['I_10']) * ξ_stage(y5, r['myu_0'])\n",
    "        \n",
    "        return np.array([f1, f2, f3, f4, f5])\n",
    "   \n",
    "    def RK4(F, Y0, stop_conditions=dict_opts['integr']['stop_conditions'],\n",
    "            func_end=func_stop(dict_opts['integr']['stop_conditions']), \n",
    "            dt=dict_opts['integr']['dt'], y=dict_opts['init_conditions']['y'],\n",
    "            t0=0, max_time=300): \n",
    "        \n",
    "        ti = t0 \n",
    "        Yi = Y0\n",
    "        res = {\n",
    "        'y1': [Y0[0]],\n",
    "        'y2': [Y0[1]],\n",
    "        'y3': [Y0[2]],\n",
    "        'y4': [Y0[3]],\n",
    "        'y5': [Y0[4]],\n",
    "        'Mach': [Y0[0]/table_atm(Y0[3],4)],\n",
    "        't': [t0],\n",
    "        'stop_reason': ''        \n",
    "        }\n",
    "\n",
    "        def foo_init_stop(stop_conditions, fint, *args):\n",
    "            if stop_conditions == 't0':\n",
    "                if fint == 1:\n",
    "                    return args[1]\n",
    "                if fint == 0:\n",
    "                    return t0\n",
    "            elif stop_conditions == 'v_max':\n",
    "                if fint == 1:\n",
    "                    return args[0][0]\n",
    "                if fint == 0:\n",
    "                    return Y0[0]\n",
    "            elif stop_conditions == 'y_max':\n",
    "                if fint == 1:\n",
    "                    return args[0][3]\n",
    "                if fint==0:\n",
    "                    return Y0[3]\n",
    "            elif stop_conditions == 'x_max':\n",
    "                if fint == 1:\n",
    "                    return args[0][2]\n",
    "                if fint == 0:\n",
    "                    return Y0[2]\n",
    "            elif stop_conditions == 't_max':\n",
    "                if fint == 1:\n",
    "                    return args[1]\n",
    "                if fint == 0:\n",
    "                    return t0\n",
    "            else:\n",
    "                print('unknown condition')\n",
    "        \n",
    "        flag = True\n",
    "        var = foo_init_stop(stop_conditions, 0, Yi, ti)\n",
    "        \n",
    "        while func_end(var) > 0 and ti < max_time and Yi[3] < 8e4 and flag == True:\n",
    "            \n",
    "            k1 = F(ti, Yi)\n",
    "            k2 = F(ti + dt / 2, Yi + k1 * dt / 2)\n",
    "            k3 = F(ti + dt / 2, Yi + k2 * dt / 2)\n",
    "            k4 = F(ti + dt, Yi + k3 * dt)\n",
    "            Yi += dt * (k1 + 2 * k2 + 2 * k3 + k4) / 6\n",
    "            \n",
    "            ti += dt\n",
    "            if Yi[3] <= 0:\n",
    "                flag = False\n",
    "            \n",
    "            var = foo_init_stop(stop_conditions, 1, Yi, ti)\n",
    "            \n",
    "            res['y1'].append(Yi[0])\n",
    "            res['y2'].append(Yi[1])\n",
    "            res['y3'].append(Yi[2])\n",
    "            res['y4'].append(Yi[3])\n",
    "            res['y5'].append(Yi[4])\n",
    "            res['Mach'].append(Yi[0]/table_atm(Yi[3],4))\n",
    "            res['t'].append(ti)\n",
    "            \n",
    "        if func_end(var) < 0:\n",
    "            stop_reason = dict_opts['integr']['stop_conditions']\n",
    "        elif ti >= max_time:\n",
    "            stop_reason = 'max_time'\n",
    "        elif Yi[3] <= 0:\n",
    "            stop_reason = f'missile arrived (x = {Yi[2]}; y = 0)'\n",
    "        elif Yi[3] >= 8e4:\n",
    "            stop_reason = 'y_max_atmo'\n",
    "        else:\n",
    "            stop_reason = 'unknown reason'\n",
    "        res['stop_reason'] = stop_reason\n",
    "        print(f'stop reason: {stop_reason};\\nflight time: {ti} с.;')\n",
    "        \n",
    "        return res\n",
    "    \n",
    "    init = [dict_opts['init_conditions']['v'], np.radians(dict_opts['init_conditions']['thetta']),\n",
    "            dict_opts['init_conditions']['x'], dict_opts['init_conditions']['y'], 0]\n",
    "    \n",
    "    fl_start = timeit.default_timer()\n",
    "    res = RK4(system, init)\n",
    "    fl_end   = timeit.default_timer() - fl_start \n",
    "    print(f'execution time: {fl_end} с.')\n",
    "    \n",
    "    dict_res = {\n",
    "        'v': np.array(res['y1']),\n",
    "        'thetta': np.array(res['y2']),\n",
    "        'x':  np.array(res['y3']),\n",
    "        'y': np.array(res['y4']),\n",
    "        'myu':  np.array(res['y5']),\n",
    "        't':  np.array(res['t']),\n",
    "        'Mach': np.array(res['Mach']),\n",
    "        'stop_reason': res['stop_reason'],\n",
    "        'execution_time': fl_end\n",
    "    }\n",
    "\n",
    "    return dict_res"
   ]
  },
  {
   "cell_type": "code",
   "execution_count": 8,
   "metadata": {},
   "outputs": [
    {
     "name": "stdout",
     "output_type": "stream",
     "text": [
      "stop reason: x_max;\n",
      "flight time: 150.5 с.;\n",
      "execution time: 18.158771599999994 с.\n"
     ]
    }
   ],
   "source": [
    "res = ozvb(opts)"
   ]
  },
  {
   "cell_type": "code",
   "execution_count": 9,
   "metadata": {},
   "outputs": [
    {
     "data": {
      "image/png": "[encoded data removed]",
      "text/plain": [
       "<Figure size 432x288 with 1 Axes>"
      ]
     },
     "metadata": {
      "needs_background": "light"
     },
     "output_type": "display_data"
    }
   ],
   "source": [
    "plt.figure()\n",
    "plt.plot(res['t'], res['v'])\n",
    "plt.grid()\n",
    "plt.xlabel('t'), plt.ylabel('V') \n",
    "plt.show()"
   ]
  },
  {
   "cell_type": "code",
   "execution_count": 10,
   "metadata": {},
   "outputs": [
    {
     "data": {
      "image/png": "[encoded data removed]",
      "text/plain": [
       "<Figure size 432x288 with 1 Axes>"
      ]
     },
     "metadata": {
      "needs_background": "light"
     },
     "output_type": "display_data"
    }
   ],
   "source": [
    "plt.figure()\n",
    "plt.plot(res['x'], res['y'])\n",
    "plt.xlabel('x'), plt.ylabel('y') \n",
    "plt.axis('equal')\n",
    "plt.ylim(0, 8e4)\n",
    "plt.grid()\n",
    "plt.show()"
   ]
  },
  {
   "cell_type": "code",
   "execution_count": 11,
   "metadata": {},
   "outputs": [
    {
     "data": {
      "image/png": "[encoded data removed]",
      "text/plain": [
       "<Figure size 432x288 with 1 Axes>"
      ]
     },
     "metadata": {
      "needs_background": "light"
     },
     "output_type": "display_data"
    }
   ],
   "source": [
    "plt.figure()\n",
    "plt.plot(res['t'], np.degrees(res['thetta']))\n",
    "plt.xlabel('t'), plt.ylabel('thetta') \n",
    "plt.grid()\n",
    "plt.show()"
   ]
  },
  {
   "cell_type": "markdown",
   "metadata": {},
   "source": [
    "### 1.2. Поиск оптимального начального угла склонения ракеты Q0"
   ]
  },
  {
   "cell_type": "code",
   "execution_count": null,
   "metadata": {},
   "outputs": [],
   "source": [
    "mass_thetta = np.arange(20, 65, 5)\n",
    "mass_y_end  = []\n",
    "mass_x_end  = []\n",
    "mass_stop   = []\n",
    "for i in mass_thetta:\n",
    "    opts['init_conditions']['thetta'] = i\n",
    "    res = ozvb(opts)\n",
    "    mass_y_end.append(res['y'][-1])\n",
    "    mass_x_end.append(res['x'][-1])\n",
    "    mass_stop.append(res['stop_reason'])  \n",
    "mass_y_end = np.array(mass_y_end)\n",
    "mass_x_end = np.array(mass_x_end)"
   ]
  },
  {
   "cell_type": "code",
   "execution_count": null,
   "metadata": {},
   "outputs": [],
   "source": [
    "y_end_max = mass_y_end[0]\n",
    "for i in range(len(mass_x_end)):\n",
    "    if mass_stop[i] == 'x_max' and mass_y_end[i] > y_end_max and mass_y_end[i] < 35e3:\n",
    "        thetta_opt = mass_thetta[i]"
   ]
  },
  {
   "cell_type": "code",
   "execution_count": null,
   "metadata": {},
   "outputs": [],
   "source": [
    "from interpolation import Interp1d, Interp2d, InterpVec\n",
    "thetta_itr = Interp1d(mass_y_end, mass_thetta)\n",
    "thetta_itr(3e4)"
   ]
  },
  {
   "cell_type": "code",
   "execution_count": null,
   "metadata": {},
   "outputs": [],
   "source": [
    "plt.figure(dpi=100)\n",
    "plt.plot(mass_thetta, mass_x_end/1e3, label='$D_{max}$')\n",
    "plt.plot(mass_thetta, mass_y_end/1e3, label='$H_{end}$')\n",
    "plt.vlines(thetta_opt, 0, 200, ls='-.', color='grey')\n",
    "plt.hlines(30, 0, thetta_opt, ls='-.', color='grey')\n",
    "plt.xlabel('θ$_0$, град')\n",
    "plt.ylabel('$D_{max}$, $H_{end}$ [км]')\n",
    "plt.text(thetta_opt, -15, 'θ$_{opt}$')\n",
    "plt.text(20, 35, 'H$_{end}$=30')\n",
    "plt.legend()\n",
    "plt.grid()\n",
    "plt.ylim(0,205)\n",
    "plt.xlim(20,60)\n",
    "plt.savefig('pictures/Поиск оптимального угла.png', dpi=300, bbox_inches='tight')\n",
    "plt.show()"
   ]
  },
  {
   "cell_type": "code",
   "execution_count": 8,
   "metadata": {},
   "outputs": [],
   "source": [
    "thetta_opt = 31.857218264235136"
   ]
  },
  {
   "cell_type": "code",
   "execution_count": 9,
   "metadata": {},
   "outputs": [],
   "source": [
    "opts['init_conditions']['thetta'] = thetta_opt"
   ]
  },
  {
   "cell_type": "markdown",
   "metadata": {},
   "source": [
    "### 1.3. Поиск минимума стартовой массы ракеты"
   ]
  },
  {
   "cell_type": "code",
   "execution_count": null,
   "metadata": {},
   "outputs": [],
   "source": [
    "mass_μ_0 = np.arange(0.55, 0.66, 0.01)"
   ]
  },
  {
   "cell_type": "code",
   "execution_count": null,
   "metadata": {},
   "outputs": [],
   "source": [
    "mass_m_0, mass_V_0, mass_myu_0 = [], [], []\n",
    "for i in mass_μ_0:\n",
    "    opts['myu_0'] = i\n",
    "    m_0 = m_пн / (1 - (1 + α_д) * i)\n",
    "    opts['q_M'] = m_0 * 9.80665 / (np.pi * 0.515**2 / 4)\n",
    "    res = ozvb(opts)\n",
    "    if res['stop_reason'] == 'x_max' and max(res['v']) > 2100:\n",
    "        mass_m_0.append(m_0)\n",
    "        mass_V_0.append(max(res['v']))\n",
    "        mass_myu_0.append(i)"
   ]
  },
  {
   "cell_type": "code",
   "execution_count": null,
   "metadata": {},
   "outputs": [],
   "source": [
    "ind_min, m_0_opt = np.argmin(mass_m_0), min(mass_m_0)\n",
    "myu_0_opt = mass_myu_0[ind_min]\n",
    "t_0 = opts['I_10'] * myu_0_opt / opts['η_0'] / 9.80665\n",
    "print(f'Стартовая масса ракеты m0 = {m_0_opt} (μ = {myu_0_opt})')\n",
    "print(f'Время работы ДУ t = {t_0}')"
   ]
  },
  {
   "cell_type": "markdown",
   "metadata": {},
   "source": [
    "### 1.4. Получаем профиль скорости и траекторию полёта"
   ]
  },
  {
   "cell_type": "code",
   "execution_count": null,
   "metadata": {},
   "outputs": [],
   "source": [
    "opts['myu_0'] = myu_0_opt\n",
    "opts['q_M'] = m_0_opt * 9.80665 / (np.pi * 0.515**2 / 4)\n",
    "opts['integr']['dt'] = 0.5"
   ]
  },
  {
   "cell_type": "code",
   "execution_count": 10,
   "metadata": {},
   "outputs": [
    {
     "name": "stdout",
     "output_type": "stream",
     "text": [
      "stop reason: x_max;\n",
      "flight time: 152.5 с.;\n",
      "execution time: 14.756109500000008 с.\n"
     ]
    }
   ],
   "source": [
    "res = ozvb(opts)"
   ]
  },
  {
   "cell_type": "code",
   "execution_count": 11,
   "metadata": {},
   "outputs": [
    {
     "data": {
      "image/png": "[encoded data removed]",
      "text/plain": [
       "<Figure size 600x400 with 1 Axes>"
      ]
     },
     "metadata": {
      "needs_background": "light"
     },
     "output_type": "display_data"
    },
    {
     "data": {
      "text/plain": [
       "(2134.073637948761, 1388.5738644117987)"
      ]
     },
     "execution_count": 11,
     "metadata": {},
     "output_type": "execute_result"
    }
   ],
   "source": [
    "plt.figure(dpi=100)\n",
    "plt.plot(res['t'], res['v'], linewidth=2)\n",
    "plt.grid()\n",
    "plt.xlabel('$t$, с'), plt.ylabel('$V$, м/с') \n",
    "plt.grid(True, linewidth=0.3, color='k')\n",
    "plt.savefig('pictures/профиль скорости начальный.png', dpi=300, bbox_inches='tight')\n",
    "plt.show()\n",
    "max(res['v']), np.mean(res['v'])"
   ]
  },
  {
   "cell_type": "code",
   "execution_count": 12,
   "metadata": {},
   "outputs": [
    {
     "data": {
      "image/png": "[encoded data removed]",
      "text/plain": [
       "<Figure size 600x400 with 1 Axes>"
      ]
     },
     "metadata": {
      "needs_background": "light"
     },
     "output_type": "display_data"
    }
   ],
   "source": [
    "plt.figure(dpi=100)\n",
    "plt.plot(res['x']/1e3, res['y']/1e3, linewidth=2)\n",
    "plt.xlabel('$x$, км'), plt.ylabel('$y$, км') \n",
    "plt.xlim(0, 200), plt.ylim(0, 200)\n",
    "plt.grid(True, linewidth=0.3, color='k')\n",
    "plt.show()"
   ]
  },
  {
   "cell_type": "code",
   "execution_count": 13,
   "metadata": {
    "scrolled": true
   },
   "outputs": [
    {
     "name": "stdout",
     "output_type": "stream",
     "text": [
      "Стартовая масса ракеты: m0 = 2399.9999999999995 кг;\n",
      "Нагрузка на мидель на старте: q = 112986.7659357338 Н/м^2;\n",
      "Длина корпуса ракеты: l = 7.680962471774003 м (длина ТПК 7810 мм);\n",
      "Удлинение корпуса ракеты: λ = 14.914490236454375;\n",
      "Масса топлива двигателя: w = 1415.9999999999995 кг;\n",
      "Время работы двигателя: t = 11.602913766241713 с;\n",
      "Расход топлива: G = 122.03831111111107 кг/с;\n",
      "Тяга ДУ: P = 329503.4399999999 Н;\n"
     ]
    }
   ],
   "source": [
    "g = 9.80665\n",
    "m_0 = opts['q_M'] * np.pi * 0.515**2 / (9.80665 * 4)\n",
    "d = 0.515 # из прототипа\n",
    "gamma = 1500 # плотность ракеты по статистике (удельный вес)\n",
    "q_m = (4 * m_0 * g) / (np.pi * d**2)\n",
    "l_korp = m_0 / (np.pi * d**2 / 4 * gamma)\n",
    "lambd_korp = l_korp / d\n",
    "w_marsh = m_0 * opts['myu_0']\n",
    "t_marsh = opts['I_10'] * opts['myu_0'] / opts['η_0'] / g\n",
    "G_marsh = w_marsh / t_marsh\n",
    "P_marsh = opts['η_0'] * g * m_0 #  у прототипа 220000\n",
    "print(f'Стартовая масса ракеты: m0 = {m_0} кг;')\n",
    "print(f'Нагрузка на мидель на старте: q = {q_m} Н/м^2;')\n",
    "print(f'Длина корпуса ракеты: l = {l_korp} м (длина ТПК 7810 мм);')\n",
    "print(f'Удлинение корпуса ракеты: λ = {lambd_korp};')\n",
    "print(f'Масса топлива двигателя: w = {w_marsh} кг;')\n",
    "print(f'Время работы двигателя: t = {t_marsh} с;')\n",
    "print(f'Расход топлива: G = {G_marsh} кг/с;')\n",
    "print(f'Тяга ДУ: P = {P_marsh} Н;')"
   ]
  },
  {
   "cell_type": "markdown",
   "metadata": {},
   "source": [
    "## 2) Определение АД коэффициентов для более подробной мат модели"
   ]
  },
  {
   "cell_type": "markdown",
   "metadata": {},
   "source": [
    "### 2.1. Центровочный расчет ракеты"
   ]
  },
  {
   "cell_type": "code",
   "execution_count": 127,
   "metadata": {},
   "outputs": [],
   "source": [
    "# длины отсеков\n",
    "L1, L2, L3, L4, L5 = 1.360, 1.163, 0.465, 3.863, 0.849"
   ]
  },
  {
   "cell_type": "code",
   "execution_count": 128,
   "metadata": {},
   "outputs": [
    {
     "data": {
      "text/plain": [
       "7.7"
      ]
     },
     "execution_count": 128,
     "metadata": {},
     "output_type": "execute_result"
    }
   ],
   "source": [
    "L1+L2+L3+L4+L5"
   ]
  },
  {
   "cell_type": "code",
   "execution_count": 129,
   "metadata": {},
   "outputs": [],
   "source": [
    "w_marsh = 1547.279\n",
    "α_д = 0.236"
   ]
  },
  {
   "cell_type": "code",
   "execution_count": 130,
   "metadata": {},
   "outputs": [
    {
     "data": {
      "text/plain": [
       "365.15784399999995"
      ]
     },
     "execution_count": 130,
     "metadata": {},
     "output_type": "execute_result"
    }
   ],
   "source": [
    "α_д * w_marsh"
   ]
  },
  {
   "cell_type": "code",
   "execution_count": 131,
   "metadata": {},
   "outputs": [],
   "source": [
    "# плотности отсеков\n",
    "rho1, rho2, rho3, rho5 = 350, 630, 1500, 800"
   ]
  },
  {
   "cell_type": "code",
   "execution_count": 132,
   "metadata": {},
   "outputs": [],
   "source": [
    "L_korp = 7700 / 1e3\n",
    "L_cil = 4567 / 1e3\n",
    "L_korm = 135 / 1e3\n",
    "# L_oper = 1200 / 1e3\n",
    "b_0_oper = 1360.030793 / 1e3\n",
    "L_kon1 = 1360 / 1e3\n",
    "L_kon2 = 1628 / 1e3\n",
    "x_b_oper = 6500 / 1e3\n",
    "a = 0.2 # 0.15...0,2\n",
    "betta_kon2 = 1\n",
    "d = 515 / 1e3\n",
    "d_kon1 = d - 2 * np.tan(np.radians(betta_kon2)) * L_kon2\n",
    "d_kon2 = d_kon1 + 2 * np.tan(np.radians(betta_kon2)) * L2\n",
    "d_korm = 464 / 1e3\n",
    "c_oper = 0.03\n",
    "khi_pk_oper = 50\n",
    "khi_rul = 0\n",
    "class_korp = 7\n",
    "class_oper = 5\n",
    "# S_oper =  1.20092864206\n",
    "x_ct_0 = 4.719208153897406\n",
    "x_ct_marsh = 4.333379398949821"
   ]
  },
  {
   "cell_type": "code",
   "execution_count": 133,
   "metadata": {
    "scrolled": true
   },
   "outputs": [
    {
     "data": {
      "text/plain": [
       "(0.07474012762427584,\n",
       " 0.2092344884749249,\n",
       " 0.09384174611213834,\n",
       " 0.8046908213278218,\n",
       " 0.17415991823135216)"
      ]
     },
     "execution_count": 133,
     "metadata": {},
     "output_type": "execute_result"
    }
   ],
   "source": [
    "# объемы отсеков\n",
    "V1 = 1/3 * np.pi * (d_kon1/2)**2 * L_kon1\n",
    "V2 = 1/3 * np.pi * L2 * ((d_kon1/2)**2 + (d_kon1/2) * (d_kon2/2) + (d_kon2/2)**2)\n",
    "V3 = 1/3 * np.pi * L3 * ((d_kon2/2)**2 + (d_kon2/2) * (d/2) + (d/2)**2)\n",
    "V4 = 1/4 * np.pi * d**2 * L4 \n",
    "V5 = 1/4 * np.pi * d**2 * (L5 - L_korm) + 1/3 * np.pi * L_korm * ((d/2)**2 + (d/2)*(d_korm/2) + (d_korm/2)**2)\n",
    "V1, V2, V3, V4, V5"
   ]
  },
  {
   "cell_type": "code",
   "execution_count": 134,
   "metadata": {},
   "outputs": [
    {
     "data": {
      "text/plain": [
       "(26.159044668496545,\n",
       " 131.8177277392027,\n",
       " 140.76261916820752,\n",
       " 1912.4368439999998,\n",
       " 139.32793458508172)"
      ]
     },
     "execution_count": 134,
     "metadata": {},
     "output_type": "execute_result"
    }
   ],
   "source": [
    "# массы отсеков\n",
    "Q1, Q2, Q3, Q4, Q5 = rho1 * V1, rho2 * V2, rho3 * V3, w_marsh + α_д * w_marsh, rho5 * V5\n",
    "Q1, Q2, Q3, Q4, Q5"
   ]
  },
  {
   "cell_type": "code",
   "execution_count": 135,
   "metadata": {},
   "outputs": [
    {
     "data": {
      "text/plain": [
       "2350.504170160988"
      ]
     },
     "execution_count": 135,
     "metadata": {},
     "output_type": "execute_result"
    }
   ],
   "source": [
    "# масса ракеты\n",
    "Q1 + Q2 + Q3 + Q4 + Q5"
   ]
  },
  {
   "cell_type": "code",
   "execution_count": 136,
   "metadata": {},
   "outputs": [
    {
     "data": {
      "text/plain": [
       "(0.9066666666666667, 1.957937945958474, 2.762072351565512, 4.9195, 7.2755)"
      ]
     },
     "execution_count": 136,
     "metadata": {},
     "output_type": "execute_result"
    }
   ],
   "source": [
    "# центры масс отсеков\n",
    "x_ct1 = 2/3 * L_kon1\n",
    "r_kon1, r_kon2 = d_kon1/2, d_kon2/2\n",
    "x_ct2 = L_kon1 + (L2 - L2/4 * ((r_kon2**2 + 2*r_kon1*r_kon2 + 3*r_kon1**2) / (r_kon2**2 + r_kon1*r_kon2 + r_kon1**2)))\n",
    "x_ct3 = L_kon1 + L2 + (L3 - L3/4 * ((r_kon2**2 + 2*r_kon1*r_kon2 + 3*r_kon1**2) / (r_kon2**2 + r_kon1*r_kon2 + r_kon1**2)))\n",
    "x_ct4 = L_kon1 + L_kon2 + L4/2\n",
    "x_ct5 = L_kon1 + L_kon2 + L4 + L5/2\n",
    "x_ct1, x_ct2, x_ct3, x_ct4, x_ct5"
   ]
  },
  {
   "cell_type": "code",
   "execution_count": 137,
   "metadata": {},
   "outputs": [
    {
     "data": {
      "text/plain": [
       "(4.719208153897406, 4.333379398949821)"
      ]
     },
     "execution_count": 137,
     "metadata": {},
     "output_type": "execute_result"
    }
   ],
   "source": [
    "# центры масс ракеты в характерных точках\n",
    "x_ct_0 = (Q1 * x_ct1 + Q2 * x_ct2 + Q3 * x_ct3 + Q4 * x_ct4 + Q5 * x_ct5) / (Q1 + Q2 + Q3 + Q4 + Q5)\n",
    "x_ct_marsh = (Q1 * x_ct1 + Q2 * x_ct2 + Q3 * x_ct3 + (α_д * w_marsh) * x_ct4 + Q5 * x_ct5) / (Q1 + Q2 + Q3 + (α_д * w_marsh) + Q5)\n",
    "x_ct_0, x_ct_marsh"
   ]
  },
  {
   "cell_type": "code",
   "execution_count": 138,
   "metadata": {},
   "outputs": [
    {
     "data": {
      "text/plain": [
       "(-3.8125414872307393,\n",
       " -2.761270207938932,\n",
       " -1.9571358023318939,\n",
       " 0.2002918461025942,\n",
       " 2.556291846102594)"
      ]
     },
     "execution_count": 138,
     "metadata": {},
     "output_type": "execute_result"
    }
   ],
   "source": [
    "x_ct1 - x_ct_0, x_ct2 - x_ct_0, x_ct3 - x_ct_0, x_ct4 - x_ct_0, x_ct5 - x_ct_0"
   ]
  },
  {
   "cell_type": "code",
   "execution_count": 139,
   "metadata": {},
   "outputs": [
    {
     "data": {
      "text/plain": [
       "(-3.426712732283154,\n",
       " -2.3754414529913466,\n",
       " -1.5713070473843085,\n",
       " 0.5861206010501796,\n",
       " 2.9421206010501795)"
      ]
     },
     "execution_count": 139,
     "metadata": {},
     "output_type": "execute_result"
    }
   ],
   "source": [
    "x_ct1 - x_ct_marsh, x_ct2 - x_ct_marsh, x_ct3 - x_ct_marsh, x_ct4 - x_ct_marsh, x_ct5 - x_ct_marsh"
   ]
  },
  {
   "cell_type": "code",
   "execution_count": 140,
   "metadata": {},
   "outputs": [
    {
     "data": {
      "text/plain": [
       "2911.6447714795327"
      ]
     },
     "execution_count": 140,
     "metadata": {},
     "output_type": "execute_result"
    }
   ],
   "source": [
    "I1 = Q1 * (x_ct1 - x_ct_0) ** 2\n",
    "I2 = Q2 * (x_ct2 - x_ct_0) ** 2\n",
    "I3 = Q3 * (x_ct3 - x_ct_0) ** 2\n",
    "I4 = Q4 * (x_ct4 - x_ct_0) ** 2\n",
    "I5 = Q5 * (x_ct5 - x_ct_0) ** 2\n",
    "I0 = I1 + I2 + I3 + I4 + I5\n",
    "I0"
   ]
  },
  {
   "cell_type": "code",
   "execution_count": 141,
   "metadata": {},
   "outputs": [
    {
     "data": {
      "text/plain": [
       "2730.001679060948"
      ]
     },
     "execution_count": 141,
     "metadata": {},
     "output_type": "execute_result"
    }
   ],
   "source": [
    "I1пуст = Q1 * (x_ct1 - x_ct_marsh) ** 2\n",
    "I2пуст = Q2 * (x_ct2 - x_ct_marsh) ** 2\n",
    "I3пуст = Q3 * (x_ct3 - x_ct_marsh) ** 2\n",
    "I4пуст = (Q4-w_marsh) * (x_ct4 - x_ct_marsh) ** 2\n",
    "I5пуст = (Q5) * (x_ct5 - x_ct_marsh) ** 2\n",
    "Iпуст = I1пуст + I2пуст + I3пуст + I4пуст + I5пуст\n",
    "Iпуст"
   ]
  },
  {
   "cell_type": "code",
   "execution_count": 142,
   "metadata": {},
   "outputs": [
    {
     "data": {
      "text/plain": [
       "5.010763051267342"
      ]
     },
     "execution_count": 142,
     "metadata": {},
     "output_type": "execute_result"
    }
   ],
   "source": [
    "# разбежка центра масс\n",
    "razbezhka = (x_ct_0 - x_ct_marsh) / L_korp * 100\n",
    "razbezhka"
   ]
  },
  {
   "cell_type": "markdown",
   "metadata": {},
   "source": [
    "### 2.2. Определение АД характеристик на траектории полета полученного профиля скорости"
   ]
  },
  {
   "cell_type": "code",
   "execution_count": 143,
   "metadata": {},
   "outputs": [],
   "source": [
    "def get_P(t):\n",
    "    if t < t_marsh:\n",
    "        return P_marsh\n",
    "    else:\n",
    "        return 0"
   ]
  },
  {
   "cell_type": "code",
   "execution_count": 144,
   "metadata": {},
   "outputs": [],
   "source": [
    "def get_x_ct(t):\n",
    "    dx_ct = abs(x_ct_0 - x_ct_marsh) / t_marsh\n",
    "    if t < t_marsh:\n",
    "        return x_ct_0 - dx_ct * t\n",
    "    else:\n",
    "        return x_ct_marsh"
   ]
  },
  {
   "cell_type": "code",
   "execution_count": 145,
   "metadata": {},
   "outputs": [],
   "source": [
    "def aero_coef(state, params):\n",
    "    \"\"\"\n",
    "    Ф-ция расчёта аэродинамических коэффициентов ракеты в состоянии state\n",
    "    arguments: state {np.ndarray}             -- состояние ракеты:\n",
    "                                                 [v,   x, y, Q,       alpha,   t]\n",
    "                                                 [м/с, м, м, радианы, градусы, с]\n",
    "               params {np.ndarray/list/tuple} -- варьируемые параметры:\n",
    "                                                 [S_oper, x_b_oper, L_oper, khi_pk_oper]\n",
    "    return: {dict}                            -- словарь с АД коэф-тами \n",
    "    \"\"\" \n",
    "    \n",
    "    S_oper, x_b_oper, L_oper, khi_pk_oper = params\n",
    "    \n",
    "    v, x, y, alpha, t = state[0], state[1], state[2], state[4], state[5] \n",
    "    Mach = v / table_atm(y, 4)\n",
    "    nyu = table_atm(y, 6)\n",
    "    x_ct = get_x_ct(t)\n",
    "    Re_korp_f = v * L_korp / nyu\n",
    "    Re_korp_t = table_4_5(Mach, Re_korp_f, class_korp, L_korp)\n",
    "    \n",
    "    \n",
    "    # Вычисление геометрии корпуса:\n",
    "    L_nos = L_kon1 + L_kon2\n",
    "    d_kon1 = d - 2 * np.tan(np.radians(betta_kon2)) * L_kon2\n",
    "    betta_kon1 = (d_kon1 / 2) / L_kon1\n",
    "    S_kon1 = np.pi * d_kon1**2 / 4\n",
    "    S_mid = np.pi * d**2 / 4\n",
    "    S_dno = np.pi * d_korm**2 / 4\n",
    "    F_f = (np.pi * d_kon1/2 * np.sqrt((d_kon1/2)**2 + L_kon1**2)) + (np.pi * (d_kon1/2 + d/2) * np.sqrt((d/2 - d_kon1/2)**2 + L_kon2**2)) + (np.pi * d * L_cil) + (np.pi * (d_korm/2 + d/2) * np.sqrt((d/2 - d_korm/2)**2 + L_korm**2))\n",
    "    W_nos = 1/3 * L_kon1 * S_mid + 1/3 * np.pi * L_kon2 * ((d_kon1/2)**2 + (d_kon1/2)*(d/2) + (d/2)**2)\n",
    "    lambd_korp = L_korp / d\n",
    "    lambd_nos = L_nos / d\n",
    "    lambd_cil = L_cil / d\n",
    "    lambd_korm = L_korm / d\n",
    "    nu_korm = d_korm / d\n",
    "    \n",
    "    \n",
    "    # Вычисление геометрии рулей (оперения):\n",
    "    D_oper = d / L_oper\n",
    "    L_k_oper = L_oper - d\n",
    "    tg_khi_pk_oper = np.tan(np.radians(khi_pk_oper))\n",
    "    lambd_oper = L_oper**2 / S_oper\n",
    "    nu_oper = (S_oper / (L_oper * b_0_oper) - 0.5) ** (-1) / 2\n",
    "    b_k_oper = b_0_oper / nu_oper\n",
    "    b_a_oper = 4 / 3 * S_oper / L_oper * (1 - (nu_oper / (nu_oper + 1) ** 2))\n",
    "    b_b_oper = b_0_oper * (1 - (nu_oper - 1) / nu_oper * d / L_oper)\n",
    "    z_a_oper = L_oper / 6 * ((nu_oper + 2) / (nu_oper + 1))\n",
    "    S_k_oper = S_oper * (1 - ((nu_oper - 1) / (nu_oper + 1)) * d / L_oper) * (1 - d / L_oper)\n",
    "    nu_k_oper = nu_oper - d / L_oper * (nu_oper - 1)\n",
    "    lambd_k_oper = lambd_oper * ((1 - d / L_oper) / (1 - ((nu_oper - 1) / (nu_oper + 1) * d / L_oper)))\n",
    "    tg_khi_05_oper = tg_khi_pk_oper - 2 / lambd_oper * (nu_k_oper - 1) / (nu_k_oper + 1)\n",
    "    a_oper = 2/3 * b_b_oper\n",
    "    K_oper = 1 / (1 - a_oper / b_a_oper)\n",
    "    L_hv_oper = L_korp - x_b_oper - b_b_oper\n",
    "    if tg_khi_pk_oper == 0:\n",
    "        x_b_a_oper = x_b_oper\n",
    "    else:\n",
    "        x_b_a_oper = x_b_oper + (z_a_oper - d / 2) * tg_khi_pk_oper\n",
    "\n",
    "    \n",
    "    # Коэф-т подъемной силы корпуса\n",
    "    if Mach <= 1:\n",
    "        Cy_alpha_nos = 2 / 57.3 * (1 + 0.27 * Mach**2)\n",
    "    else:\n",
    "        Cy_alpha_nos = 2 / 57.3 * (np.cos(np.radians(betta_kon1))**2 * S_kon1 / S_mid\n",
    "                                   + np.cos(np.radians(betta_kon2))**2 * (1 - S_kon1 / S_mid))\n",
    "    Cy_alpha_korm = - 2 / 57.3 * (1 - nu_korm ** 2) * a\n",
    "    Cy_alpha_korp = Cy_alpha_nos + Cy_alpha_korm\n",
    "    \n",
    "    \n",
    "    # Коэф-т подъемной силы оперения по углу атаки\n",
    "    K_t_oper = table_3_21(Mach, lambd_nos)\n",
    "    Cy_alpha_k_oper = Cy_alpha_iz_kr(Mach * np.sqrt(K_t_oper), lambd_oper, c_oper, tg_khi_05_oper)\n",
    "    k_aa_oper = (1 + 0.41 * D_oper)**2 * ((1 + 3 * D_oper - 1 / nu_k_oper * D_oper * (1 - D_oper)) / (1 + D_oper)**2)\n",
    "    K_aa_oper = 1 + 3 * D_oper - (D_oper * (1 - D_oper)) / nu_k_oper\n",
    "    Cy_alpha_oper = Cy_alpha_k_oper * K_aa_oper\n",
    "    \n",
    "    \n",
    "    # Коэф-т подъемной силы оперения (рулей) по углу их отклонения\n",
    "    K_delt_0_oper = k_aa_oper\n",
    "    k_delt_0_oper = k_aa_oper ** 2 / K_aa_oper\n",
    "    if Mach <= 1:\n",
    "        k_shch = 0.825\n",
    "    elif 1 < Mach <= 1.4:\n",
    "        k_shch = 0.85 + 0.15 * (Mach - 1) / 0.4\n",
    "    else:\n",
    "        k_shch = 0.975\n",
    "    n_eff = k_shch * np.cos(np.radians(khi_rul))\n",
    "    Сy_delt_oper = Cy_alpha_k_oper * K_delt_0_oper * n_eff\n",
    "    \n",
    "    \n",
    "    # Коэф-т подъемной силы ракеты\n",
    "    Cy_alpha = Cy_alpha_korp * (S_mid / S_mid)  + Cy_alpha_oper * (S_oper / S_mid) * K_t_oper    \n",
    "      \n",
    "    \n",
    "    # Сопротивление корпуса\n",
    "    x_t = Re_korp_t * nyu / v\n",
    "    x_t_ = x_t / L_korp\n",
    "    Cx_f_ = table_4_2(Re_korp_f, x_t_) / 2\n",
    "    nu_m = table_4_3(Mach, x_t_)\n",
    "    nu_c = 1 + 1 / lambd_nos\n",
    "    Cx_tr = Cx_f_ * (F_f / S_mid) * nu_m * nu_c\n",
    "    \n",
    "    if Mach > 1:\n",
    "        p_kon1_ = (0.0016 + 0.002 / Mach**2) * betta_kon1**1.7\n",
    "        p_kon2_ = (0.0016 + 0.002 / Mach**2) * betta_kon2**1.7\n",
    "        Cx_nos = p_kon1_ * (S_kon1 / S_mid) + p_kon2_ * (1 - (S_kon1 / S_mid))\n",
    "    else:\n",
    "        Cx_nos = table_4_11(Mach, lambd_nos)\n",
    "\n",
    "    Cx_korm = table_4_24(Mach, nu_korm, lambd_korm)\n",
    "    \n",
    "    if get_P(t) == 0:\n",
    "        p_dno_ = table_p_dno_(Mach, oper=True)\n",
    "        K_nu = table_k_nu(nu_korm, lambd_korm, Mach)\n",
    "        Cx_dno = p_dno_ * K_nu * (S_dno / S_mid)\n",
    "    else:\n",
    "        Cx_dno = 0\n",
    "    Cx_0_korp = Cx_tr + Cx_nos + Cx_korm + Cx_dno\n",
    "    \n",
    "    if Mach < 1:\n",
    "        phi = -0.2\n",
    "    else:\n",
    "        phi = 0.7\n",
    "    Cx_ind_korp = Cy_alpha_korp * alpha**2 * ((1 + phi) / 57.3)\n",
    "    \n",
    "    Cx_korp = Cx_0_korp + Cx_ind_korp\n",
    "    \n",
    "    \n",
    "    # Сопротивление оперения\n",
    "    Re_oper_f = v * b_a_oper / nyu\n",
    "    Re_oper_t = table_4_5(Mach, Re_oper_f, class_oper, b_a_oper)\n",
    "    x_t_oper = Re_oper_t / Re_oper_f\n",
    "    C_f_oper = table_4_2(Re_oper_f, x_t_oper)\n",
    "    nu_c_oper = table_4_28(x_t_oper, c_oper)\n",
    "    Cx_oper_prof = C_f_oper * nu_c_oper\n",
    "    \n",
    "    if Mach < 1.1:\n",
    "        Cx_oper_voln = table_4_30(Mach, nu_k_oper, lambd_oper, tg_khi_05_oper, c_oper)\n",
    "    else:\n",
    "        phi = table_4_32(Mach, tg_khi_05_oper)\n",
    "        Cx_oper_voln = (table_4_30(Mach, nu_k_oper, lambd_oper, tg_khi_05_oper, c_oper)) * (1 + phi * (K_oper - 1))\n",
    "        \n",
    "    Cx_0_oper = Cx_oper_prof + Cx_oper_voln\n",
    "    \n",
    "    if Mach * np.cos(np.radians(khi_pk_oper)) > 1:\n",
    "        Cx_ind_oper = (Cy_alpha_oper * alpha) * np.tan(np.radians(alpha))\n",
    "    else:\n",
    "        Cx_ind_oper = 0.38 * (Cy_alpha_oper * alpha)**2 / (lambd_oper - 0.8 * (Cy_alpha_oper * alpha) * (lambd_oper - 1)) *\\\n",
    "        ((lambd_oper / np.cos(np.radians(khi_pk_oper)) + 4) / (lambd_oper + 4))\n",
    "        \n",
    "    Cx_oper = Cx_0_oper + Cx_ind_oper\n",
    "    \n",
    "    Cx_0 = 1.05 * (Cx_0_korp * (S_mid / S_mid) + Cx_0_oper * K_t_oper * (S_oper / S_mid))\n",
    "    Cx_ind = Cx_ind_korp * (S_mid / S_mid) + Cx_ind_oper * (S_oper / S_mid) * K_t_oper\n",
    "    Cx = Cx_0 + Cx_ind\n",
    "    \n",
    "    \n",
    "    # Центр давления корпуса\n",
    "    delta_x_f = F_iz_korp(Mach, lambd_nos, lambd_cil, L_nos)\n",
    "    x_fa_nos_cil = L_nos - W_nos / S_mid + delta_x_f\n",
    "    x_fa_korm = L_korp - 0.5 * L_korm   \n",
    "    x_fa_korp = 1 / Cy_alpha_korp * (Cy_alpha_nos * x_fa_nos_cil + Cy_alpha_korm * x_fa_korm)\n",
    "    \n",
    "    \n",
    "    # Фокус оперения по углу атаки\n",
    "    x_f_iz_oper_ = F_iz_kr(Mach, lambd_k_oper, tg_khi_05_oper, nu_k_oper)\n",
    "    x_f_iz_oper = x_b_a_oper + b_a_oper * x_f_iz_oper_\n",
    "    f1 = table_5_11(D_oper, L_k_oper)\n",
    "    x_f_delt_oper = x_f_iz_oper - tg_khi_05_oper * f1\n",
    "    if Mach > 1:\n",
    "        b__b_oper = b_b_oper / (np.pi / 2 * d * np.sqrt(Mach ** 2 - 1))\n",
    "        L__hv_oper = L_hv_oper / (np.pi * d * np.sqrt(Mach ** 2 - 1))\n",
    "        c_const_oper = (4 + 1 / nu_k_oper) * (1 + 8 * D_oper ** 2)\n",
    "        F_1_oper = 1 - 1 / (c_const_oper * b__b_oper ** 2) * (1 - np.exp(-c_const_oper * b__b_oper ** 2))\n",
    "        F_oper = 1 - np.sqrt(np.pi) / (2 * b__b_oper * np.sqrt(c_const_oper)) * (table_int_ver((b__b_oper + L__hv_oper) *\\\n",
    "                np.sqrt(2 * c_const_oper)) - table_int_ver(L__hv_oper * np.sqrt(2 * c_const_oper)))\n",
    "        x_f_b_oper_ = x_f_iz_oper_ + 0.02 * lambd_oper * tg_khi_05_oper\n",
    "        x_f_ind_oper = x_b_oper + b_b_oper * x_f_b_oper_ * F_oper * F_1_oper\n",
    "        x_fa_oper = 1 / K_aa_oper * (x_f_iz_oper + (k_aa_oper - 1) * x_f_delt_oper + (K_aa_oper - k_aa_oper) * x_f_ind_oper)\n",
    "    else:\n",
    "        x_f_b_oper_ = x_f_iz_oper_ + 0.02 * lambd_oper * tg_khi_05_oper\n",
    "        x_f_ind_oper = x_b_oper + b_b_oper * x_f_b_oper_\n",
    "        x_fa_oper = 1 / K_aa_oper * (x_f_iz_oper + (k_aa_oper - 1) * x_f_delt_oper + (K_aa_oper - k_aa_oper) * x_f_ind_oper)\n",
    "\n",
    "        \n",
    "    # Фокус оперения по углу отклонения\n",
    "    x_fd_oper = 1 / K_delt_0_oper * (k_delt_0_oper * x_f_iz_oper + (K_delt_0_oper - k_delt_0_oper) * x_f_ind_oper)\n",
    "    \n",
    "    \n",
    "    # Фокус ракеты\n",
    "    x_fa = 1 / Cy_alpha * ((Cy_alpha_korp * (S_mid / S_mid) * x_fa_korp) + Cy_alpha_oper * (S_oper / S_mid) * x_fa_oper * K_t_oper)\n",
    "    \n",
    "    \n",
    "    # Демпфирующие моменты АД поверхностей\n",
    "    x_c_ob = L_korp * ((2 * (lambd_nos + lambd_cil)**2 - lambd_nos**2) / (4 * (lambd_nos + lambd_cil) * (lambd_nos + lambd_cil - 2 / 3 * lambd_nos)))\n",
    "    m_z_wz_korp = - 2 * (1 - x_ct / L_korp + (x_ct / L_korp) ** 2 - x_c_ob / L_korp)\n",
    "\n",
    "    x_ct_oper_ = (x_ct - x_b_a_oper) / b_a_oper\n",
    "    mz_wz_cya_iz_kr = table_5_15(nu_oper, lambd_oper, tg_khi_05_oper, Mach)\n",
    "    B1 = table_5_16(lambd_oper, tg_khi_05_oper, Mach)\n",
    "    m_z_wz_oper = (mz_wz_cya_iz_kr - B1 * (1 / 2 - x_ct_oper_) - 57.3 * (1 / 2 - x_ct_oper_)**2) * K_aa_oper * Cy_alpha_k_oper\n",
    "\n",
    "    m_z_wz = m_z_wz_korp * (S_mid / S_mid) * (L_korp / L_korp)**2 + m_z_wz_oper * (S_oper / S_mid) * (b_a_oper / L_korp)**2 * np.sqrt(K_t_oper)\n",
    "\n",
    "    \n",
    "    # Балансировочная зависимость\n",
    "    M_z_delt = Сy_delt_oper * (x_ct - x_fd_oper) / L_korp\n",
    "    M_z_alpha = Cy_alpha * (x_ct - x_fa) / L_korp\n",
    "    ballans_relation = - (M_z_alpha / M_z_delt)\n",
    "\n",
    "    \n",
    "    # Запас статической устойчивости\n",
    "    m_z_cy = (x_ct - x_fa) / L_korp\n",
    "    \n",
    "    \n",
    "    return {\n",
    "        'Cy_alpha': Cy_alpha,\n",
    "        'Cy_alpha_korp': Cy_alpha_korp,\n",
    "        'Cy_alpha_oper': Cy_alpha_oper,\n",
    "        'Cx': Cx,\n",
    "        'Cx_0': Cx_0,\n",
    "        'Cx_0_korp': Cx_0_korp,\n",
    "        'Cx_0_oper': Cx_0_oper,\n",
    "        'Cx_ind': Cx_ind,\n",
    "        'Cx_ind_korp': Cx_ind_korp,\n",
    "        'Cx_ind_oper': Cx_ind_oper,\n",
    "        'x_fa': x_fa,\n",
    "        'x_fa_korp': x_fa_korp,\n",
    "        'x_fa_oper': x_fa_oper,\n",
    "        'x_fd_oper': x_fd_oper,\n",
    "        'm_z_cy': m_z_cy,\n",
    "        'm_z_wz': m_z_wz,\n",
    "        'm_z_wz_korp': m_z_wz_korp,\n",
    "        'm_z_wz_oper': m_z_wz_oper,\n",
    "        'ballans_relation': ballans_relation,\n",
    "        'M_z_alpha': M_z_alpha,\n",
    "        'M_z_delt': M_z_delt\n",
    "    }"
   ]
  },
  {
   "cell_type": "code",
   "execution_count": 146,
   "metadata": {},
   "outputs": [],
   "source": [
    "def foo_aero(solve, alpha, params):\n",
    "    \n",
    "    Cya = []\n",
    "    Cy_alpha_korp = []\n",
    "    Cy_alpha_oper = []\n",
    "    Cx = []\n",
    "    Cx_0 = []\n",
    "    Cx_ind = []\n",
    "    Cx_0_korp = []\n",
    "    Cx_ind_korp = []\n",
    "    Cx_0_oper = []\n",
    "    Cx_ind_oper = []\n",
    "    m_z_cy = []\n",
    "    m_z_wz = []\n",
    "    m_z_wz_korp = []\n",
    "    m_z_wz_oper = []\n",
    "    x_fa = []\n",
    "    x_fa_korp = []\n",
    "    x_fa_oper = []\n",
    "    x_fd_oper = []\n",
    "    ballans_relation = []\n",
    "    M_z_alpha = []\n",
    "    M_z_delt = []\n",
    "    t = []\n",
    "    \n",
    "    for r in range(len(solve['t'])):\n",
    "        arg = [solve['v'][r], solve['x'][r], solve['y'][r], solve['thetta'][r], alpha, solve['t'][r]]\n",
    "        res_aero = aero_coef(arg, params)\n",
    "        \n",
    "        Cya.append(res_aero['Cy_alpha'])\n",
    "        Cy_alpha_korp.append(res_aero['Cy_alpha_korp'])\n",
    "        Cy_alpha_oper.append(res_aero['Cy_alpha_oper'])\n",
    "        \n",
    "        Cx.append(res_aero['Cx'])\n",
    "        Cx_0.append(res_aero['Cx_0'])\n",
    "        Cx_ind.append(res_aero['Cx_ind'])\n",
    "        Cx_0_korp.append(res_aero['Cx_0_korp'])\n",
    "        Cx_ind_korp.append(res_aero['Cx_ind_korp'])\n",
    "        Cx_0_oper.append(res_aero['Cx_0_oper'])\n",
    "        Cx_ind_oper.append(res_aero['Cx_ind_oper'])\n",
    "        \n",
    "        m_z_cy.append(res_aero['m_z_cy'])\n",
    "        m_z_wz.append(res_aero['m_z_wz'])\n",
    "        m_z_wz_korp.append(res_aero['m_z_wz_korp'])\n",
    "        m_z_wz_oper.append(res_aero['m_z_wz_oper'])\n",
    "        \n",
    "        x_fa.append(res_aero['x_fa'])\n",
    "        x_fa_korp.append(res_aero['x_fa_korp'])\n",
    "        x_fa_oper.append(res_aero['x_fa_oper'])\n",
    "        x_fd_oper.append(res_aero['x_fd_oper'])\n",
    "        \n",
    "        ballans_relation.append(res_aero['ballans_relation'])\n",
    "        M_z_alpha.append(res_aero['M_z_alpha'])\n",
    "        M_z_delt.append(res_aero['M_z_delt'])\n",
    "        \n",
    "        t.append(solve['t'][r])\n",
    "        \n",
    "    return {\n",
    "        'Cy_alpha': Cya,\n",
    "        'Cy_alpha_korp': Cy_alpha_korp,\n",
    "        'Cy_alpha_oper': Cy_alpha_oper,\n",
    "        'Cx': Cx,\n",
    "        'Cx_0': Cx_0,\n",
    "        'Cx_0_korp': Cx_0_korp,\n",
    "        'Cx_0_oper': Cx_0_oper,\n",
    "        'Cx_ind': Cx_ind,\n",
    "        'Cx_ind_korp': Cx_ind_korp,\n",
    "        'Cx_ind_oper': Cx_ind_oper,\n",
    "        'x_fa': x_fa,\n",
    "        'x_fa_korp': x_fa_korp,\n",
    "        'x_fa_oper': x_fa_oper,\n",
    "        'x_fd_oper': x_fd_oper,\n",
    "        'm_z_cy': m_z_cy,\n",
    "        'm_z_wz': m_z_wz,\n",
    "        'm_z_wz_korp': m_z_wz_korp,\n",
    "        'm_z_wz_oper': m_z_wz_oper,\n",
    "        'ballans_relation': ballans_relation,\n",
    "        'M_z_alpha': M_z_alpha,\n",
    "        'M_z_delt': M_z_delt,\n",
    "        't': t\n",
    "    }"
   ]
  },
  {
   "cell_type": "code",
   "execution_count": 147,
   "metadata": {},
   "outputs": [],
   "source": [
    "mass_S_oper, count_S_oper = np.arange(1.0, 2.0, 0.01), 0.01\n",
    "mass_xb_oper, count_xb_oper = np.linspace(5.5, 7.0, 100, retstep=True)\n",
    "mass_L_oper, count_L_oper = np.linspace(1.0, 2.0, 100, retstep=True)\n",
    "mass_khi_pk_oper = np.arange(0.0, 90.0, 1)\n",
    "mass_alpha = np.arange(0.0, 20.0, 1)"
   ]
  },
  {
   "cell_type": "code",
   "execution_count": 148,
   "metadata": {},
   "outputs": [
    {
     "data": {
      "application/vnd.jupyter.widget-view+json": {
       "model_id": "3fecb4d595e04e2eabc405c65e6430a8",
       "version_major": 2,
       "version_minor": 0
      },
      "text/plain": [
       "interactive(children=(FloatSlider(value=1.0, description='S$_{опер}$, м$^2$', max=1.9900000000000009, min=1.0,…"
      ]
     },
     "metadata": {},
     "output_type": "display_data"
    }
   ],
   "source": [
    "@interact(i=ipywidgets.FloatSlider(description='S$_{опер}$, м$^2$',  min=mass_S_oper[0], max=mass_S_oper[-1], step=count_S_oper, value=1.0),\n",
    "          j=ipywidgets.FloatSlider(description='xb$_{опер}$, м', min=mass_xb_oper[0], max=mass_xb_oper[-1], step=count_xb_oper, value=6.55),\n",
    "          l=ipywidgets.FloatSlider(description='L$_{опер}$, м',  min=mass_L_oper[0], max=mass_L_oper[-1], step=count_L_oper, value=1.25),\n",
    "          h=ipywidgets.FloatSlider(description='χ$_{пк.опер}$, град',    min=mass_khi_pk_oper[0], max=mass_khi_pk_oper[-1], step=1, value=65),\n",
    "          alf=ipywidgets.FloatSlider(description='α, град',  min=mass_alpha[0], max=mass_alpha[-1], step=1))\n",
    "def draw_missile(i, j, l, h, alf):\n",
    "    \n",
    "    params = [i, j, l, h]\n",
    "    S_oper, x_b_oper, L_oper, khi_pk_oper = i, j, l, h\n",
    "    \n",
    "    res_aero = foo_aero(res, alf, params)\n",
    "    \n",
    "    clr_line = 'black'\n",
    "    clr_axis = 'darkorange'\n",
    "    clr_fill = 'lightgrey'\n",
    "    clr_fill_rul = 'white'\n",
    "    hatch = \"/////\"\n",
    "    alpha = 0.8\n",
    "    alpha_fill = 0.8\n",
    "    end_ax = 0.1\n",
    "    width_line = 1\n",
    "    width_axis = 0.8\n",
    "    \n",
    "    d_kon1 = d - 2 * np.tan(np.radians(betta_kon2)) * L_kon2\n",
    "    d_kon2 = d_kon1 + 2 * np.tan(np.radians(betta_kon2)) * L2\n",
    "    nu_oper = b_0_oper * L_oper / (2 * S_oper - b_0_oper * L_oper)\n",
    "    b_k_oper = b_0_oper / nu_oper\n",
    "    \n",
    "    plt.figure(figsize=(16,12))  \n",
    "    plt.title('Эскиз ракеты')\n",
    "    \n",
    "    ax01 = subplot2grid((10, 4), (0, 0), colspan=4, rowspan=4)\n",
    "    ax02 = subplot2grid((10, 4), (4, 0), colspan=2, rowspan=2)\n",
    "    ax03 = subplot2grid((10, 4), (6, 0), colspan=2, rowspan=2,sharex=ax02)\n",
    "    ax04 = subplot2grid((10, 4), (4, 2), colspan=2, rowspan=2,sharex=ax02)\n",
    "    ax05 = subplot2grid((10, 4), (6, 2), colspan=2, rowspan=2,sharex=ax02)\n",
    "    ax06 = subplot2grid((10, 4), (8, 0), colspan=2, rowspan=2,sharex=ax02)\n",
    "    ax07 = subplot2grid((10, 4), (8, 2), colspan=2, rowspan=2,sharex=ax02)\n",
    "    \n",
    "    # 1-ый отсек\n",
    "    ax01.plot([0, L1], [0, d_kon1/2],  linestyle='-', linewidth=width_line, color=clr_line, alpha=alpha)\n",
    "    ax01.plot([0, L1], [0, -d_kon1/2], linestyle='-', linewidth=width_line, color=clr_line, alpha=alpha)\n",
    "\n",
    "    # 2-ой отсек\n",
    "    ax01.plot([L1, L1+L2], [d_kon1/2, d_kon2/2],   linestyle='-', linewidth=width_line, color=clr_line, alpha=alpha)\n",
    "    ax01.plot([L1, L1+L2], [-d_kon1/2, -d_kon2/2], linestyle='-', linewidth=width_line, color=clr_line, alpha=alpha)\n",
    "\n",
    "    # 3-ий отсек\n",
    "    ax01.plot([L1+L2, L1+L2+L3], [d_kon2/2, d/2],   linestyle='-', linewidth=width_line, color=clr_line, alpha=alpha)\n",
    "    ax01.plot([L1+L2, L1+L2+L3], [-d_kon2/2, -d/2], linestyle='-', linewidth=width_line, color=clr_line, alpha=alpha)\n",
    "\n",
    "    # 4-ый отсек\n",
    "    ax01.plot([L1+L2+L3, L1+L2+L3+L4], [d/2, d/2],   linestyle='-', linewidth=width_line, color=clr_line, alpha=alpha)\n",
    "    plt.plot([L1+L2+L3, L1+L2+L3+L4], [-d/2, -d/2], linestyle='-', linewidth=width_line, color=clr_line, alpha=alpha)\n",
    "\n",
    "    # 5-ый отсек\n",
    "    ax01.plot([L1+L2+L3+L4, L1+L2+L3+L4+L5-L_korm], [d/2, d/2],   linestyle='-', linewidth=width_line, color=clr_line, alpha=alpha)\n",
    "    ax01.plot([L1+L2+L3+L4, L1+L2+L3+L4+L5-L_korm], [-d/2, -d/2], linestyle='-', linewidth=width_line, color=clr_line, alpha=alpha)\n",
    "    ax01.plot([L1+L2+L3+L4+L5-L_korm, L1+L2+L3+L4+L5], [d/2, d_korm/2],   linestyle='-', linewidth=width_line, color=clr_line, alpha=alpha)\n",
    "    ax01.plot([L1+L2+L3+L4+L5-L_korm, L1+L2+L3+L4+L5], [-d/2, -d_korm/2], linestyle='-', linewidth=width_line, color=clr_line, alpha=alpha)\n",
    "    ax01.plot([L1+L2+L3+L4+L5-L_korm, L1+L2+L3+L4+L5-L_korm], [-d/2, d/2], linestyle='-', linewidth=width_line, color=clr_line, alpha=alpha)\n",
    "    ax01.plot([L1+L2+L3+L4+L5, L1+L2+L3+L4+L5], [-d_korm/2, d_korm/2], linestyle='-', linewidth=width_line, color=clr_line, alpha=alpha)\n",
    "\n",
    "    # Состыковка отсеков\n",
    "    ax01.plot([L1, L1], [-d_kon1/2, d_kon1/2], linestyle='-', linewidth=width_line, color=clr_line, alpha=alpha)\n",
    "    ax01.plot([L1+L2, L1+L2], [-d_kon2/2, d_kon2/2], linestyle='-', linewidth=width_line, color=clr_line, alpha=alpha)\n",
    "    ax01.plot([L1+L2+L3, L1+L2+L3], [-d/2, d/2], linestyle='-', linewidth=width_line, color=clr_line, alpha=alpha)\n",
    "    ax01.plot([L1+L2+L3+L4, L1+L2+L3+L4], [-d/2, d/2], linestyle='-', linewidth=width_line, color=clr_line, alpha=alpha)\n",
    "\n",
    "\n",
    "    # Рули\n",
    "    ax01.plot([x_b_oper, x_b_oper+np.tan(np.radians(khi_pk_oper))*(L_oper-d)/2], [d/2, L_oper/2],  linestyle='-', linewidth=width_line, color=clr_line, alpha=alpha)\n",
    "    ax01.plot([x_b_oper, x_b_oper+np.tan(np.radians(khi_pk_oper))*(L_oper-d)/2], [-d/2, -L_oper/2],linestyle='-', linewidth=width_line, color=clr_line, alpha=alpha)\n",
    "    ax01.plot([x_b_oper+np.tan(np.radians(khi_pk_oper))*(L_oper-d)/2, x_b_oper+np.tan(np.radians(khi_pk_oper))*(L_oper-d)/2+b_k_oper],\n",
    "             [L_oper/2, L_oper/2],  linestyle='-', linewidth=width_line, color=clr_line, alpha=alpha)\n",
    "    ax01.plot([x_b_oper+np.tan(np.radians(khi_pk_oper))*(L_oper-d)/2, x_b_oper+np.tan(np.radians(khi_pk_oper))*(L_oper-d)/2+b_k_oper],\n",
    "             [-L_oper/2, -L_oper/2],  linestyle='-', linewidth=width_line, color=clr_line, alpha=alpha)\n",
    "    ax01.plot([x_b_oper+np.tan(np.radians(khi_pk_oper))*(L_oper-d)/2+b_k_oper, x_b_oper+np.tan(np.radians(khi_pk_oper))*(L_oper-d)/2+b_k_oper],\n",
    "             [d/2, L_oper/2],  linestyle='-', linewidth=width_line, color=clr_line, alpha=alpha)\n",
    "    ax01.plot([x_b_oper+np.tan(np.radians(khi_pk_oper))*(L_oper-d)/2+b_k_oper, x_b_oper+np.tan(np.radians(khi_pk_oper))*(L_oper-d)/2+b_k_oper],\n",
    "             [-d/2, -L_oper/2],  linestyle='-', linewidth=width_line, color=clr_line, alpha=alpha)\n",
    "    ax01.plot([x_b_oper, x_b_oper+np.tan(np.radians(khi_pk_oper))*(L_oper-d)/2+b_k_oper], [d/2, d/2],  linestyle='--', linewidth=width_line, color=clr_line, alpha=alpha)\n",
    "    ax01.plot([x_b_oper, x_b_oper+np.tan(np.radians(khi_pk_oper))*(L_oper-d)/2+b_k_oper], [-d/2, -d/2],  linestyle='--', linewidth=width_line, color=clr_line, alpha=alpha)\n",
    "    ax01.plot([x_b_oper-np.tan(np.radians(khi_pk_oper))*d/2, x_b_oper], [0, d/2],  linestyle='-.', linewidth=width_line, color=clr_line, alpha=alpha)\n",
    "    ax01.plot([x_b_oper-np.tan(np.radians(khi_pk_oper))*d/2, x_b_oper], [0, -d/2],  linestyle='-.', linewidth=width_line, color=clr_line, alpha=alpha)\n",
    "\n",
    "\n",
    "    # Разукраска\n",
    "    arr_x_korp = np.array([0, L_kon1, L_kon1+L_kon2, L_korp-L_korm, L_korp])\n",
    "    arr_y_korp = np.array([0, d_kon1/2, d/2, d/2, d_korm/2])\n",
    "    arr_x_rul  = np.array([x_b_oper, x_b_oper+np.tan(np.radians(khi_pk_oper))*(L_oper-d)/2,\n",
    "                           x_b_oper+np.tan(np.radians(khi_pk_oper))*(L_oper-d)/2+b_k_oper])\n",
    "    arr_yh_rul  = np.array([d/2, L_oper/2, L_oper/2])\n",
    "    arr_yl_rul = np.array([d/2, d/2, d/2])\n",
    "    ax01.fill_between(arr_x_korp, arr_y_korp, -arr_y_korp, facecolor=clr_fill, alpha=alpha_fill, edgecolor=\"black\", linewidth=0.5)\n",
    "    ax01.fill_between(arr_x_rul,  arr_yh_rul,  arr_yl_rul, facecolor=clr_fill_rul, hatch=hatch, alpha=alpha_fill, edgecolor=\"black\", linewidth=0.5)\n",
    "    ax01.fill_between(arr_x_rul, -arr_yh_rul, -arr_yl_rul, facecolor=clr_fill_rul, hatch=hatch, alpha=alpha_fill, edgecolor=\"black\", linewidth=0.5)\n",
    "\n",
    "    # Центр масс\n",
    "    ax01.scatter(x_ct_0, 0, s=10, color='silver', edgecolors='black')\n",
    "    ax01.text(x_ct_0+0.01, 0.05, 'ЦМ$_{полн}$', fontsize=14)\n",
    "    ax01.scatter(x_ct_marsh, 0, s=10, color='silver', edgecolors='black')\n",
    "    ax01.text(x_ct_marsh-0.5, 0.05, 'ЦМ$_{пуст}$', fontsize=14)\n",
    "    ax01.plot([x_ct_0, x_ct_0], [0, -1], linewidth=0.7, linestyle='-', color='black')\n",
    "    ax01.plot([x_ct_marsh, x_ct_marsh], [0, -1], linewidth=0.7, linestyle='-' , color='black')\n",
    "    ax01.plot([x_ct_0, x_ct_marsh], [-1, -1], linewidth=0.7, linestyle='-' , color='black')\n",
    "    ax01.scatter(x_ct_0-0.05, -1, marker='>', color='black')\n",
    "    ax01.scatter(x_ct_marsh+0.05, -1, marker='<', color='black')\n",
    "    ax01.text(x_ct_marsh+(x_ct_0-x_ct_marsh)/7, -0.9, 'Δ$_{разб}$', fontsize=14)\n",
    "    \n",
    "    # Осевая\n",
    "    ax01.plot([0-end_ax, L_korp+end_ax], [0, 0], linestyle='-.', linewidth=width_axis, color=clr_axis, alpha=1)\n",
    "    ax01.axis('equal')\n",
    "    ax01.tick_params(labeltop=True, top=True, labelbottom=False, bottom=False, labelsize=14)\n",
    "    \n",
    "    ax02.plot(res_aero['t'], res_aero['Cy_alpha'], label='$C_{Y.ЛА}^{a}$', c='k')\n",
    "    ax02.plot(res_aero['t'], res_aero['Cy_alpha_korp'], label='$C_{Y.корп}^{a}$', c='blue')\n",
    "    ax02.plot(res_aero['t'], res_aero['Cy_alpha_oper'], label='$C_{Y.опер}^{a}$', c='red')\n",
    "    ax02.tick_params(labeltop=False, top=False, pad = 10, labelbottom=False, bottom=False, labelsize=14)\n",
    "    ax02.legend(fontsize=12)\n",
    "    ax02.grid(True)\n",
    "    \n",
    "    ax03.plot(res_aero['t'], res_aero['Cx'], label='$C_{X.ЛА}$', c='k')\n",
    "    ax03.plot(res_aero['t'], res_aero['Cx_0'], label=r'$C_{X0.ЛА}$', c='k', ls='-.')\n",
    "    ax03.plot(res_aero['t'], res_aero['Cx_ind'], label=r'$C_{Xind.ЛА}$', c='k', ls='--')\n",
    "    ax03.plot(res_aero['t'], res_aero['Cx_0_korp'], label=r'$C_{X0.корп}$', c='blue', ls='-.')\n",
    "    ax03.plot(res_aero['t'], res_aero['Cx_ind_korp'], label=r'$C_{Xind.корп}$', c='blue', ls='--')\n",
    "    ax03.plot(res_aero['t'], res_aero['Cx_0_oper'], label=r'$C_{X0.опер}$', c='red', ls='-.')\n",
    "    ax03.plot(res_aero['t'], res_aero['Cx_ind_oper'], label=r'$C_{Xind.опер}$', c='red', ls='--')\n",
    "    ax03.legend(loc='best', ncol=3)\n",
    "    ax03.tick_params(left=True, labelleft=True, labelbottom=False, bottom=False, labelsize=14)\n",
    "    ax03.grid(True)\n",
    "    \n",
    "    ax04.plot(res_aero['t'], res_aero['m_z_wz'], label='$m_z^{wz}$', color='black', ls='-')\n",
    "    ax04.plot(res_aero['t'], res_aero['m_z_wz_korp'], label='$m_{z.корп}^{wz}$', color='blue', ls='--')\n",
    "    ax04.plot(res_aero['t'], res_aero['m_z_wz_oper'], label='$m_{z.опер}^{wz}$', color='red', ls='-.')\n",
    "    ax04.tick_params(labeltop=False, top=False, pad = 10, left=False, labelleft=False, right=True, labelright=True, labelbottom=False, bottom=False, labelsize=14)\n",
    "    ax04.legend(fontsize=12)\n",
    "    ax04.grid(True)\n",
    "       \n",
    "    ax05.plot(res_aero['t'], res_aero['x_fa'], color='darkorange', label='$x_{fa}$')\n",
    "    ax05.plot(res_aero['t'], res_aero['x_fa_korp'], color='blue', label='$x_{fa.korp}$')\n",
    "    ax05.plot(res_aero['t'], res_aero['x_fa_oper'], color='red', label='$x_{fa.oper}$')\n",
    "#     ax05.plot(res_aero['t'], res_aero['x_fd_oper'], color='k', label='$x_{fd.oper}$')\n",
    "    ax05.tick_params(left=False, labelleft=False, right=True, labelright=True, labelbottom=False, bottom=False, labelsize=14)\n",
    "    ax05.legend(fontsize=12)\n",
    "    ax05.grid(True)\n",
    "    \n",
    "    ax06.plot(res_aero['t'], res_aero['m_z_cy'], label='$m_z^{Cy}$', color='darkorange')\n",
    "    ax06.tick_params(labelbottom=True, bottom=True, labelsize=14)\n",
    "    ax06.legend(fontsize=12)\n",
    "    ax06.grid(True)\n",
    "    \n",
    "    ax07.plot(res_aero['t'], res_aero['ballans_relation'], label='$δ / α$', color='darkorange')\n",
    "    ax07.plot(res_aero['t'], res_aero['M_z_delt'], label='$M_{z}^δ$', color='red')\n",
    "    ax07.plot(res_aero['t'], res_aero['M_z_alpha'], label='$M_{z}^α$', color='green')\n",
    "    ax07.tick_params(left=False, labelleft=False, right=True, labelright=True, labelbottom=True, bottom=True, labelsize=14)\n",
    "    ax07.legend(fontsize=12, loc='right')\n",
    "    ax07.grid(True)\n",
    "    \n",
    "#     plt.savefig('pictures/Аэродинамика ЛА.png', dpi=900, bbox_inches='tight')\n",
    "    \n",
    "    plt.show()"
   ]
  },
  {
   "cell_type": "code",
   "execution_count": null,
   "metadata": {},
   "outputs": [],
   "source": [
    "arr_mach = res['Mach'][:np.argmax(res['Mach'])+1]\n",
    "arr_mach"
   ]
  },
  {
   "cell_type": "code",
   "execution_count": null,
   "metadata": {},
   "outputs": [],
   "source": [
    "arr_cya = []\n",
    "for i in range(len(arr_mach)):\n",
    "    arr_cya.append(res_aero[i]['Cy_alpha'])\n",
    "arr_cya = np.array(arr_cya)\n",
    "arr_cya"
   ]
  },
  {
   "cell_type": "code",
   "execution_count": null,
   "metadata": {},
   "outputs": [],
   "source": [
    "data_cya_from_mach = {'Cya': arr_cya, 'Mach': arr_mach} \n",
    "df1 = pd.DataFrame(data_cya_from_mach)\n",
    "df1.to_csv('data_constants/cya_from_mach.csv', sep = \";\", index=False)"
   ]
  },
  {
   "cell_type": "code",
   "execution_count": null,
   "metadata": {},
   "outputs": [],
   "source": [
    "df1 = pd.read_csv('data_constants/cya_from_mach.csv', sep = \";\")\n",
    "df1"
   ]
  },
  {
   "cell_type": "code",
   "execution_count": null,
   "metadata": {},
   "outputs": [],
   "source": [
    "arr_alpha = np.arange(-40, 41, 1)\n",
    "arr_alpha"
   ]
  },
  {
   "cell_type": "code",
   "execution_count": null,
   "metadata": {},
   "outputs": [],
   "source": [
    "arr_cx = []\n",
    "for i in tqdm(arr_alpha):\n",
    "    res_aero = foo_aero(res, alpha=i)\n",
    "    cx_from_mach = []\n",
    "    for j in range(len(arr_mach)):\n",
    "        cx_from_mach.append(res_aero[j]['Cx'])\n",
    "    arr_cx.append(cx_from_mach)\n",
    "arr_cx = np.array(arr_cx)\n",
    "arr_cx"
   ]
  },
  {
   "cell_type": "code",
   "execution_count": null,
   "metadata": {},
   "outputs": [],
   "source": [
    "df2 = pd.DataFrame(arr_cx, columns=arr_mach, index=arr_alpha)\n",
    "df2.to_csv('data_constants/cx_from_mach_and_alpha.csv', sep = \";\")"
   ]
  },
  {
   "cell_type": "code",
   "execution_count": null,
   "metadata": {},
   "outputs": [],
   "source": [
    "df2 = pd.read_csv('data_constants/cx_from_mach_and_alpha.csv', sep = \";\", index_col=0)\n",
    "df2"
   ]
  },
  {
   "cell_type": "markdown",
   "metadata": {},
   "source": [
    "## 3) Бал. расчет с помощью более подробной мат. модели"
   ]
  },
  {
   "cell_type": "code",
   "execution_count": 149,
   "metadata": {},
   "outputs": [],
   "source": [
    "opts = {\n",
    "    'm_0': 2350,\n",
    "    'vel_abs': 1700,\n",
    "    't_marsh': 11.6,\n",
    "    'w_marsh': 1547.3,\n",
    "    'P_marsh': 329900,\n",
    "    'dt': 0.01,\n",
    "    'tau': 1/20,\n",
    "    't_max': 160,\n",
    "    'I': 2500,\n",
    "    'r_kill': 50,\n",
    "    'alpha_max': 20,\n",
    "    'xi': 0.5,\n",
    "    'am': 4,\n",
    "    'dny': 1,\n",
    "    'init_conditions': {'V_0': 25, 'pos_0': (0, 20)},\n",
    "    'L_korp': 7700 / 1e3,\n",
    "    'L_cil': 4567 / 1e3,\n",
    "    'L_korm': 135 / 1e3,\n",
    "    'L_oper': 1250 / 1e3,\n",
    "    'L_kon1': 1360 / 1e3,\n",
    "    'L_kon2': 1628 / 1e3,\n",
    "    'b_0_oper': 1360 / 1e3,\n",
    "    'x_b_oper': 6530 / 1e3,\n",
    "    'a': 0.2,\n",
    "    'betta_kon2': 1,\n",
    "    'd': 515 / 1e3,\n",
    "    'd_korm': 464 / 1e3,\n",
    "    'c_oper': 0.03,\n",
    "    'khi_pk_oper': 65,\n",
    "    'khi_rul': 0.0,\n",
    "    'class_korp': 7,\n",
    "    'class_oper': 5,\n",
    "    'S_oper': 1.0,\n",
    "    'x_ct_0': 4.719208153897406,\n",
    "    'x_ct_marsh': 4.333379398949821,\n",
    "}"
   ]
  },
  {
   "cell_type": "markdown",
   "metadata": {},
   "source": [
    "### 3.1. Построение зоны поражения и пуска"
   ]
  },
  {
   "cell_type": "code",
   "execution_count": 150,
   "metadata": {},
   "outputs": [],
   "source": [
    "def foo_gym_hit(mis_opts, trg_pos, trg_vel, aero=False, record=False):\n",
    "    \"\"\"\n",
    "    Функция тренажера огня, моделирующая движение ц.м. ракеты к цели с заданным простым постоянным вектором скорости\n",
    "    arguments: mis_opts {dict} -- параметры ракеты\n",
    "               trg_pos {tuple/list/np.ndarray} -- положение цели\n",
    "               trg_vel {tuple/np.ndarray} -- скорость цели\n",
    "    keyword arguments: aero {bool} -- включатель расчета аэродинамических коэффициентов ракеты во время ее\n",
    "                                      полета ракеты по кинематической траектории {default: False}\n",
    "                       record {bool} -- включатель записи результатов (состояний) моделирования шагов по времени,\n",
    "                                        иначе возвращается последнее состояние моделирования {default: False}\n",
    "    returns: {dict} if record = True\n",
    "             (tuple) if record = False\n",
    "    \"\"\"\n",
    "    gym = MissileGym.make_simple_scenario(mis_opts, trg_pos, trg_vel)\n",
    "    done = False\n",
    "    obs = gym.reset()\n",
    "    state = gym.get_state()\n",
    "    history = [(state, obs, done, {}, {})]\n",
    "    alphas_targeting = [0]\n",
    "    \n",
    "    while not done:\n",
    "        obs, done, info = gym.step_with_guidance()\n",
    "        state = gym.get_state()\n",
    "        aero_res = gym.get_aero_constants() if aero == True else {}\n",
    "        if record == True:\n",
    "            history.append((state, obs, done, info, aero_res))\n",
    "            alphas_targeting.append(gym.missile.alpha_targeting if abs(gym.missile.alpha_targeting) < gym.missile.alpha_max else copysign(gym.missile.alpha_max, gym.missile.alpha_targeting))\n",
    "    \n",
    "    inf = info['done_reason']\n",
    "    print(f'info = {inf}')\n",
    "    \n",
    "    if record == True:\n",
    "        mis_vs, mis_xs, mis_ys, mis_vels, alphas, Qs = [], [], [], [], [], []\n",
    "        trg_xs, trg_ys, trg_vs, trg_vels = [], [], [], []\n",
    "        infos, aeros, ts = [], [], []\n",
    "        \n",
    "        for state, obs, done, info, aero_res in history:\n",
    "            gym.set_state(state)\n",
    "            mis_smry = gym.missile.get_summary()\n",
    "            trg_smry = gym.target.get_summary()\n",
    "            mis_xs.append(mis_smry['x'])\n",
    "            mis_ys.append(mis_smry['y'])\n",
    "            trg_xs.append(trg_smry['x'])\n",
    "            trg_ys.append(trg_smry['y'])\n",
    "            ts.append(mis_smry['t'])\n",
    "            mis_vs.append(mis_smry['v'])\n",
    "            trg_vs.append(trg_smry['v'])\n",
    "            alphas.append(mis_smry['alpha'])\n",
    "            Qs.append(mis_smry['Q'])\n",
    "            trg_vels.append(gym.target.vel)\n",
    "            mis_vels.append(gym.missile.vel)\n",
    "            aeros.append(aero_res)\n",
    "            infos.append(info)\n",
    "\n",
    "        trg_nys = [MissileGym.get_overload(v0, v1, t1-t0)[1] for v0, v1, t1, t0 in zip(trg_vels, trg_vels[1:], ts[1:], ts)]\n",
    "        trg_nys += [trg_nys[-1]]\n",
    "        mis_nys = [MissileGym.get_overload(v0, v1, t1-t0)[1] for v0, v1, t1, t0 in zip(mis_vels, mis_vels[1:], ts[1:], ts)]\n",
    "        mis_nys += [trg_nys[-1]]\n",
    "\n",
    "        trg_nxs = [MissileGym.get_overload(v0, v1, t1-t0)[0] for v0, v1, t1, t0 in zip(trg_vels, trg_vels[1:], ts[1:], ts)]\n",
    "        trg_nxs += [trg_nxs[-1]]\n",
    "        mis_nxs = [MissileGym.get_overload(v0, v1, t1-t0)[0] for v0, v1, t1, t0 in zip(mis_vels, mis_vels[1:], ts[1:], ts)]\n",
    "        mis_nxs += [trg_nxs[-1]]\n",
    "    \n",
    "        dict_res = {\n",
    "            't': ts,\n",
    "            'missile': {'v': mis_vs, 'x': mis_xs, 'y': mis_ys, 'Q': Qs, 'alpha': alphas, 'nx': mis_nxs, 'ny': mis_nys, 'vel': mis_vels},\n",
    "            'target': {'v': trg_vs, 'x': trg_xs, 'y': trg_ys, 'ny': trg_nys, 'nx': trg_nxs, 'vel': trg_vels},\n",
    "            'alpha_targeting': alphas_targeting,\n",
    "            'aero': aeros,\n",
    "            'info': infos \n",
    "        }\n",
    "    if record == True:\n",
    "        return dict_res\n",
    "    else:\n",
    "        return state, obs, done, info, aero_res"
   ]
  },
  {
   "cell_type": "code",
   "execution_count": 151,
   "metadata": {},
   "outputs": [],
   "source": [
    "trg_vel = (-400, 0)\n",
    "xs = np.linspace(-100e3, 350e3, 51)\n",
    "ys = np.linspace(100, 30e3, 51)"
   ]
  },
  {
   "cell_type": "code",
   "execution_count": null,
   "metadata": {},
   "outputs": [],
   "source": [
    "res_gym = []\n",
    "for i, x in enumerate(tqdm(xs)):\n",
    "    for j, y in enumerate(ys):\n",
    "        res_gym_hit = foo_gym_hit(opts, (x, y), trg_vel, record=True)\n",
    "        res_gym.append(res_gym_hit)"
   ]
  },
  {
   "cell_type": "code",
   "execution_count": null,
   "metadata": {},
   "outputs": [],
   "source": [
    "with open('saves/zone_affected.bin', 'wb') as f:\n",
    "    pickle.dump(res_gym, f)"
   ]
  },
  {
   "cell_type": "code",
   "execution_count": 55,
   "metadata": {},
   "outputs": [],
   "source": [
    "with open('saves/zone_affected_foo.bin', 'rb') as f:\n",
    "    res_gym = pickle.load(f)"
   ]
  },
  {
   "cell_type": "code",
   "execution_count": 56,
   "metadata": {},
   "outputs": [],
   "source": [
    "zone_ny = []\n",
    "zone_xs = []\n",
    "zone_ys = []\n",
    "zone_xs0 = []\n",
    "zone_ys0 = []\n",
    "zone_ts = []\n",
    "for i in range(len(res_gym)):\n",
    "    zone_ny.append(max(np.absolute(res_gym[i]['missile']['ny'])))\n",
    "    zone_xs.append(res_gym[i]['missile']['x'][-1])\n",
    "    zone_ys.append(res_gym[i]['missile']['y'][-1])\n",
    "    zone_xs0.append(res_gym[i]['target']['x'][0])\n",
    "    zone_ys0.append(res_gym[i]['target']['y'][0])\n",
    "    zone_ts.append(res_gym[i]['t'][-1])\n",
    "res_dict = {'x': zone_xs, 'y': zone_ys, 'x0': zone_xs0, 'y0': zone_ys0, 't': zone_ts, 'ny': zone_ny}"
   ]
  },
  {
   "cell_type": "code",
   "execution_count": null,
   "metadata": {},
   "outputs": [],
   "source": [
    "with open('saves/zone_destroy.bin', 'wb') as f:\n",
    "    pickle.dump(res_dict, f)"
   ]
  },
  {
   "cell_type": "code",
   "execution_count": 57,
   "metadata": {},
   "outputs": [],
   "source": [
    "with open('saves/zone_destroy.bin', 'rb') as f:\n",
    "    zone = pickle.load(f)"
   ]
  },
  {
   "cell_type": "code",
   "execution_count": 58,
   "metadata": {},
   "outputs": [],
   "source": [
    "ny_r = 25 # располагаемая перегрузка\n",
    "zone_xs = []\n",
    "zone_ys = []\n",
    "zone_ts = []\n",
    "zone_pusk_xs = []\n",
    "zone_pusk_ys = []\n",
    "for i in range(len(zone['ny'])):\n",
    "    if zone['ny'][i] <= ny_r and (np.sqrt(zone['x'][i]**2 + zone['y'][i]**2) >= 5000):\n",
    "        zone_xs.append(zone['x'][i])\n",
    "        zone_ys.append(zone['y'][i])\n",
    "        zone_ts.append(zone['t'][i])\n",
    "        zone_pusk_xs.append(zone['x0'][i])\n",
    "        zone_pusk_ys.append(zone['y0'][i])"
   ]
  },
  {
   "cell_type": "code",
   "execution_count": 163,
   "metadata": {},
   "outputs": [
    {
     "data": {
      "image/png": "[encoded data removed]",
      "text/plain": [
       "<Figure size 1600x800 with 1 Axes>"
      ]
     },
     "metadata": {
      "needs_background": "light"
     },
     "output_type": "display_data"
    }
   ],
   "source": [
    "plt.figure(figsize=(16, 8), dpi=100)\n",
    "plt.scatter(zone_xs, zone_ys, s=20, label='Зона поражения')\n",
    "plt.fill_between([-150e3,250e3], [0,0], [-1000,-1000], facecolor='white', hatch='\\\\\\\\\\\\\\\\\\\\', linewidth=0.5)\n",
    "# plt.scatter(zone_pusk_xs, zone_pusk_ys, s=25, label='Зона пуска')\n",
    "plt.legend(fontsize=14)\n",
    "plt.axis('equal')\n",
    "plt.ylim(-100, 30000)\n",
    "plt.tick_params(labelsize=14)\n",
    "plt.savefig('pictures/Зона поражения.png', dpi=700, bbox_inches='tight')\n",
    "plt.show()"
   ]
  },
  {
   "cell_type": "markdown",
   "metadata": {},
   "source": [
    "### 3.2. Баллистический расчет самой дальней точки поражения"
   ]
  },
  {
   "cell_type": "code",
   "execution_count": 152,
   "metadata": {},
   "outputs": [],
   "source": [
    "trg_pos = (max(zone_pusk_xs), max(zone_pusk_ys))\n",
    "# trg_pos = (0, 8e3)"
   ]
  },
  {
   "cell_type": "code",
   "execution_count": 153,
   "metadata": {},
   "outputs": [
    {
     "name": "stdout",
     "output_type": "stream",
     "text": [
      "meet: True; meeting point: [253854.44257245  30000.        ]\n",
      "info = target destroyed\n",
      "Wall time: 7min 48s\n"
     ]
    }
   ],
   "source": [
    "%time res_hit = foo_gym_hit(opts, trg_pos, trg_vel, aero=True, record=True)"
   ]
  },
  {
   "cell_type": "code",
   "execution_count": 158,
   "metadata": {},
   "outputs": [
    {
     "data": {
      "text/plain": [
       "(2447.8957221288024, 1699.8246430854)"
      ]
     },
     "execution_count": 158,
     "metadata": {},
     "output_type": "execute_result"
    }
   ],
   "source": [
    "max(res_hit['missile']['v']), np.average(res_hit['missile']['v'])"
   ]
  },
  {
   "cell_type": "code",
   "execution_count": 159,
   "metadata": {},
   "outputs": [
    {
     "data": {
      "image/png": "[encoded data removed]",
      "text/plain": [
       "<Figure size 1152x864 with 2 Axes>"
      ]
     },
     "metadata": {
      "needs_background": "light"
     },
     "output_type": "display_data"
    }
   ],
   "source": [
    "plt.figure(figsize=(16,12))\n",
    "\n",
    "ax01 = subplot2grid((8, 4), (0, 0), colspan=4, rowspan=2)\n",
    "ax00 = subplot2grid((8, 4), (2, 0), colspan=4, rowspan=2)\n",
    "\n",
    "ax00.plot(res_hit['t'], res_hit['missile']['v'], lw=2, ls='-', label='Пофиль скорости')\n",
    "ax00.hlines(np.average(res_hit['missile']['v']), 0, res_hit['t'][-1], ls='--', color='darkorange', lw=2, label='$V_{ср}$')\n",
    "ax00.legend(loc='best', fontsize=14)\n",
    "ax00.tick_params(left=False, labelleft=False, right=True, labelright=True, labelsize=14)\n",
    "ax00.grid(True)\n",
    "\n",
    "ax01.plot(res_hit['missile']['x'], res_hit['missile']['y'], lw=2, ls='-', color='k', label='Траектория ракеты')\n",
    "ax01.legend(loc='lower right', fontsize=14)\n",
    "ax01.tick_params(left=False, labelleft=False, right=True, labelright=True, labelbottom=False, bottom=False, labeltop=True, top=True, labelsize=14)\n",
    "ax01.grid(True)\n",
    "\n",
    "plt.savefig('pictures/Профиль точный.png', dpi=300, bbox_inches='tight')"
   ]
  },
  {
   "cell_type": "code",
   "execution_count": 160,
   "metadata": {},
   "outputs": [],
   "source": [
    "Cya = []\n",
    "Cy_alpha_korp = []\n",
    "Cy_alpha_oper = []\n",
    "Cx  = []\n",
    "Cx_0 = []\n",
    "Cx_0_korp = []\n",
    "Cx_0_oper = []\n",
    "Cx_ind = []\n",
    "Cx_ind_korp = []\n",
    "Cx_ind_oper = []\n",
    "t   = []\n",
    "alpha = []\n",
    "Mach = []\n",
    "m_z_cy = []\n",
    "m_z_wz = []\n",
    "m_z_wz_korp = []\n",
    "m_z_wz_oper = []\n",
    "x_fa = []\n",
    "x_fa_oper = []\n",
    "x_fa_korp = []\n",
    "x_fd_oper = []\n",
    "ballans_relation = []\n",
    "M_z_alpha = []\n",
    "for i in range(1, len(res_hit['aero'])):\n",
    "    \n",
    "    Cya.append(res_hit['aero'][i]['Cy_alpha'])\n",
    "    Cy_alpha_korp.append(res_hit['aero'][i]['Cy_alpha_korp'])\n",
    "    Cy_alpha_oper.append(res_hit['aero'][i]['Cy_alpha_oper'])\n",
    "    \n",
    "    Cx.append(res_hit['aero'][i]['Cx'])\n",
    "    Cx_0.append(res_hit['aero'][i]['Cx_0'])\n",
    "    Cx_0_korp.append(res_hit['aero'][i]['Cx_0_korp'])\n",
    "    Cx_0_oper.append(res_hit['aero'][i]['Cx_0_oper'])\n",
    "    Cx_ind.append(res_hit['aero'][i]['Cx_ind'])\n",
    "    Cx_ind_korp.append(res_hit['aero'][i]['Cx_ind_korp'])\n",
    "    Cx_ind_oper.append(res_hit['aero'][i]['Cx_ind_oper'])\n",
    "    \n",
    "    m_z_cy.append(res_hit['aero'][i]['m_z_cy'])\n",
    "    m_z_wz.append(res_hit['aero'][i]['m_z_wz'])\n",
    "    m_z_wz_korp.append(res_hit['aero'][i]['m_z_wz_korp'])\n",
    "    m_z_wz_oper.append(res_hit['aero'][i]['m_z_wz_oper'])\n",
    "    \n",
    "    x_fa.append(res_hit['aero'][i]['x_fa'])\n",
    "    x_fa_oper.append(res_hit['aero'][i]['x_fa_oper'])\n",
    "    x_fa_korp.append(res_hit['aero'][i]['x_fa_korp'])\n",
    "    x_fd_oper.append(res_hit['aero'][i]['x_fd_oper'])\n",
    "    \n",
    "    ballans_relation.append(res_hit['aero'][i]['ballans_relation'])\n",
    "    \n",
    "    t.append(res_hit['aero'][i]['t'])\n",
    "    alpha.append(res_hit['aero'][i]['alpha'])\n",
    "    Mach.append(res_hit['aero'][i]['Mach'])"
   ]
  },
  {
   "cell_type": "code",
   "execution_count": 161,
   "metadata": {},
   "outputs": [
    {
     "data": {
      "application/vnd.jupyter.widget-view+json": {
       "model_id": "dc6004c435d543dc8ce6b78c094bc9ad",
       "version_major": 2,
       "version_minor": 0
      },
      "text/plain": [
       "interactive(children=(IntSlider(value=3048, description='tau', max=3048), Output()), _dom_classes=('widget-int…"
      ]
     },
     "metadata": {},
     "output_type": "display_data"
    }
   ],
   "source": [
    "@interact(i=ipywidgets.IntSlider(description='tau', max=len(res_hit['t'])-1, step=1, value=len(res_hit['t'])-1))\n",
    "def draw_aero_gym_hit(i):\n",
    "    \n",
    "    plt.figure(figsize=(16,12))\n",
    "\n",
    "    ax00 = subplot2grid((8, 4), (0, 2), colspan=2, rowspan=2)\n",
    "    ax01 = subplot2grid((8, 4), (0, 0), colspan=2, rowspan=2)\n",
    "    ax02 = subplot2grid((8, 4), (2, 0), colspan=2, rowspan=2)\n",
    "    ax03 = subplot2grid((8, 4), (4, 0), colspan=2, rowspan=2,sharex=ax02)\n",
    "    ax04 = subplot2grid((8, 4), (2, 2), colspan=2, rowspan=2,sharex=ax02)\n",
    "    ax05 = subplot2grid((8, 4), (4, 2), colspan=2, rowspan=2,sharex=ax02)\n",
    "    ax06 = subplot2grid((8, 4), (6, 0), colspan=2, rowspan=2,sharex=ax02)\n",
    "    ax07 = subplot2grid((8, 4), (6, 2), colspan=2, rowspan=2,sharex=ax02)\n",
    "    \n",
    "    ax00.plot(t[:i], Mach[:i], lw=3, ls=':', color='k', label='Mach')\n",
    "    ax00.legend(loc='best', fontsize=14)\n",
    "    ax00.tick_params(left=False, labelleft=False, right=True, labelright=True,  pad = 0, labelsize=12)\n",
    "    ax00.grid(True)\n",
    "    \n",
    "    ax01.plot(res_hit['missile']['x'][:i], res_hit['missile']['y'][:i], lw=3, ls=':', color='k', label='траектория ракеты')\n",
    "    ax01.plot(res_hit['target']['x'][:i], res_hit['target']['y'][:i], lw=3, ls=':', color='red', label='траектория цели')\n",
    "    ax01.tick_params(labelsize=12, pad = 0)\n",
    "    ax01.legend(loc='best', fontsize=14)\n",
    "    ax01.grid(True)\n",
    "    \n",
    "    ax02.plot(t[:i], Cya[:i], label='$C_{Y.ЛА}^{a}$', c='k')\n",
    "    ax02.plot(t[:i], Cy_alpha_korp[:i], label='$C_{Y.корп}^{a}$', c='blue')\n",
    "    ax02.plot(t[:i], Cy_alpha_oper[:i], label='$C_{Y.опер}^{a}$', c='red')\n",
    "    ax02.tick_params(labeltop=False, top=False, labelbottom=False, bottom=False, labelsize=12)\n",
    "    ax02.legend(fontsize=14)\n",
    "    ax02.grid(True)\n",
    "    \n",
    "    ax03.plot(t[:i], Cx[:i], label='$C_{X.ЛА}$', c='k')\n",
    "    ax03.plot(t[:i], Cx_0[:i], label=r'$C_{X0.ЛА}$', c='k', ls='-.')\n",
    "    ax03.plot(t[:i], Cx_ind[:i], label=r'$C_{Xind.ЛА}$', c='k', ls='--')\n",
    "    ax03.plot(t[:i], Cx_0_korp[:i], label=r'$C_{X0.корп}$', c='blue', ls='-.')\n",
    "    ax03.plot(t[:i], Cx_ind_korp[:i], label=r'$C_{Xind.корп}$', c='blue', ls='--')\n",
    "    ax03.plot(t[:i], Cx_0_oper[:i], label=r'$C_{X0.опер}$', c='red', ls='-.')\n",
    "    ax03.plot(t[:i], Cx_ind_oper[:i], label=r'$C_{Xind.опер}$', c='red', ls='--')\n",
    "    ax03.legend(loc='best', ncol=3, fontsize=14)\n",
    "    ax03.tick_params(left=True, labelleft=True, labelbottom=False, bottom=False, labelsize=12)\n",
    "    ax03.grid(True)\n",
    "    \n",
    "    ax04.plot(t[:i], m_z_wz[:i], label='$m_z^{wz}$', color='black', ls='-')\n",
    "    ax04.plot(t[:i], m_z_wz_korp[:i], label='$m_{z.корп}^{wz}$', color='blue', ls='--')\n",
    "    ax04.plot(t[:i], m_z_wz_oper[:i], label='$m_{z.опер}^{wz}$', color='red', ls='-.')\n",
    "    ax04.tick_params(labeltop=False, top=False, pad = 10, left=False, labelleft=False, right=True, labelright=True, labelbottom=False, bottom=False, labelsize=12)\n",
    "    ax04.legend(fontsize=14)\n",
    "    ax04.grid(True)\n",
    "       \n",
    "    ax05.plot(t[:i], x_fa[:i], color='darkorange', label='$x_{fa}$')\n",
    "    ax05.plot(t[:i], x_fa_korp[:i], color='blue', label='$x_{fa.korp}$')\n",
    "    ax05.plot(t[:i], x_fa_oper[:i], color='red', label='$x_{fa.oper}$')\n",
    "    ax05.tick_params(left=False, labelleft=False, right=True, labelright=True, labelbottom=False, bottom=False, labelsize=12)\n",
    "    ax05.legend(fontsize=14)\n",
    "    ax05.grid(True)\n",
    "    \n",
    "    ax06.plot(t[:i], m_z_cy[:i], label='$m_z^{Cy}$', color='darkorange')\n",
    "    ax06.tick_params(labelbottom=True, bottom=True, labelsize=12)\n",
    "    ax06.legend(fontsize=14)\n",
    "    ax06.grid(True)\n",
    "    \n",
    "    ax07.plot(t[:i], ballans_relation[:i], label='$δ / α$', color='darkorange')\n",
    "#     ax07.plot(t[:i], M_z_delt[:i], label='$M_{z}^δ$', color='red')\n",
    "#     ax07.plot(t[:i], M_z_alpha[:i], label='$M_{z}^α$', color='green')\n",
    "    ax07.tick_params(left=False, labelleft=False, right=True, labelright=True, labelbottom=True, bottom=True, labelsize=12)\n",
    "    ax07.legend(fontsize=14)\n",
    "    ax07\n",
    "    ax07.grid(True)\n",
    "    \n",
    "    plt.savefig('pictures/Аэродинамика ЛА.png', dpi=900, bbox_inches='tight')\n",
    "    \n",
    "    plt.show()"
   ]
  },
  {
   "cell_type": "code",
   "execution_count": 162,
   "metadata": {},
   "outputs": [
    {
     "data": {
      "application/vnd.jupyter.widget-view+json": {
       "model_id": "4d7d5a21ec7e44bca16e98229c787aa0",
       "version_major": 2,
       "version_minor": 0
      },
      "text/plain": [
       "interactive(children=(IntSlider(value=3048, description='tau', max=3048), Output()), _dom_classes=('widget-int…"
      ]
     },
     "metadata": {},
     "output_type": "display_data"
    }
   ],
   "source": [
    "@interact(i=ipywidgets.IntSlider(description='tau', max=len(res_hit['t'])-1, step=1, value=len(res_hit['t'])-1))\n",
    "def draw_gym_hit(i):\n",
    "    \n",
    "    plt.figure(figsize=(16,12))\n",
    "    \n",
    "    ax01 = subplot2grid((8, 4), (0, 0), colspan=4, rowspan=4)\n",
    "    ax02 = subplot2grid((8, 4), (4, 0), colspan=2, rowspan=2)\n",
    "    ax03 = subplot2grid((8, 4), (6, 0), colspan=2, rowspan=2,sharex=ax02)\n",
    "    ax04 = subplot2grid((8, 4), (4, 2), colspan=2, rowspan=2,sharex=ax02)\n",
    "    ax05 = subplot2grid((8, 4), (6, 2), colspan=2, rowspan=2,sharex=ax02)\n",
    "    \n",
    "    ax01.plot(res_hit['missile']['x'][:i], res_hit['missile']['y'][:i], lw=3, ls=':', color='k', label='траектория ракеты')\n",
    "    ax01.plot(res_hit['target']['x'][:i], res_hit['target']['y'][:i], lw=3, ls=':', color='red', label='траектория цели')\n",
    "    ax01.tick_params(labelsize=12, pad = 0)\n",
    "    ax01.legend(loc='best', fontsize=14)\n",
    "    ax01.grid(True)\n",
    "    \n",
    "    ax02.plot(res_hit['t'][:i], res_hit['missile']['v'][:i], label='$V_р$', c='k')\n",
    "    ax02.plot(res_hit['t'][:i], res_hit['target']['v'][:i], label='$V_ц$', c='red')\n",
    "    ax02.tick_params(left=True, labelleft=True,labelbottom=False, bottom=False, right=False, labelright=False, labelsize=12)\n",
    "    ax02.legend(fontsize=14)\n",
    "    ax02.grid(True)\n",
    "    \n",
    "    ax03.plot(res_hit['t'][:i], res_hit['missile']['ny'][:i], label=r'$n_y$ ракеты', c='k')\n",
    "    ax03.plot(res_hit['t'][:i], res_hit['missile']['nx'][:i], label=r'$n_x$ ракеты', c='k', ls='--')\n",
    "    ax03.plot(res_hit['t'][:i], res_hit['target']['ny'][:i], label=r'$n_y$ цели', c='red')\n",
    "    ax03.plot(res_hit['t'][:i], res_hit['target']['nx'][:i], label=r'$n_x$ цели', c='red', ls='--')\n",
    "    ax03.legend(loc='best', ncol=2, fontsize=14)\n",
    "    ax03.tick_params(left=True, labelleft=True, right=False, labelright=False, labelsize=12)\n",
    "    ax03.grid(True)\n",
    "    \n",
    "    ax04.plot(res_hit['t'][:i], res_hit['missile']['alpha'][:i], label=r'$\\alpha$', color='k')\n",
    "    ax04.plot(res_hit['t'][:i], res_hit['alpha_targeting'][:i], label=r'$\\alpha_{пот}$', color='darkorange', ls='-')\n",
    "    ax04.tick_params(left=False, labelleft=False, labelbottom=False, bottom=False, right=True, labelright=True, labelsize=12)\n",
    "    ax04.legend(fontsize=14)\n",
    "    ax04.grid(True)\n",
    "       \n",
    "    ax05.plot(res_hit['t'][:i], res_hit['missile']['Q'][:i], color='k', label='Q')\n",
    "    ax05.tick_params(left=False, labelleft=False, right=True, labelright=True, labelsize=12)\n",
    "    ax05.legend(fontsize=14)\n",
    "    ax05.grid(True)\n",
    "    \n",
    "    plt.savefig('pictures/Баллистика.png', dpi=900, bbox_inches='tight')\n",
    "    \n",
    "    plt.show()"
   ]
  },
  {
   "cell_type": "code",
   "execution_count": null,
   "metadata": {},
   "outputs": [],
   "source": []
  }
 ],
 "metadata": {
  "kernelspec": {
   "display_name": "Python 3",
   "language": "python",
   "name": "python3"
  },
  "language_info": {
   "codemirror_mode": {
    "name": "ipython",
    "version": 3
   },
   "file_extension": ".py",
   "mimetype": "text/x-python",
   "name": "python",
   "nbconvert_exporter": "python",
   "pygments_lexer": "ipython3",
   "version": "3.8.5"
  }
 },
 "nbformat": 4,
 "nbformat_minor": 4
}
