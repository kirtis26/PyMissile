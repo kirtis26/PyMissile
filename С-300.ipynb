{
 "cells": [
  {
   "cell_type": "code",
   "execution_count": 1,
   "metadata": {},
   "outputs": [],
   "source": [
    "import numpy as np\n",
    "import matplotlib.pyplot as plt\n",
    "import timeit\n",
    "from math import *\n",
    "import pickle\n",
    "import pandas as pd\n",
    "from tqdm import tqdm\n",
    "from aero_info import *\n",
    "from missile_gym import MissileGym\n",
    "from ipywidgets import interact, interactive, fixed\n",
    "from matplotlib.pylab import figure, subplot2grid\n",
    "from interpolation import Interp1d, Interp2d, InterpVec\n",
    "import ipywidgets"
   ]
  },
  {
   "cell_type": "code",
   "execution_count": 2,
   "metadata": {},
   "outputs": [
    {
     "name": "stdout",
     "output_type": "stream",
     "text": [
      "Using matplotlib backend: Qt5Agg\n"
     ]
    }
   ],
   "source": [
    "%matplotlib"
   ]
  },
  {
   "cell_type": "code",
   "execution_count": 3,
   "metadata": {},
   "outputs": [],
   "source": [
    "%matplotlib inline"
   ]
  },
  {
   "cell_type": "code",
   "execution_count": 4,
   "metadata": {},
   "outputs": [],
   "source": [
    "# настройка шрифтов\n",
    "rc = {\"font.family\" : \"serif\", \n",
    "      \"mathtext.fontset\" : \"stix\"}\n",
    "plt.rcParams.update(rc)\n",
    "plt.rcParams[\"font.serif\"] = [\"Times New Roman\"] + plt.rcParams[\"font.serif\"]"
   ]
  },
  {
   "cell_type": "markdown",
   "metadata": {},
   "source": [
    "# Баллистическое проектирование ЗУР"
   ]
  },
  {
   "cell_type": "markdown",
   "metadata": {},
   "source": [
    "**Прототип 48Н6Е** (С-300 ПМУ-1). Бескрылая нормальная схема (частный случай \"нормальной\" схемы) - \"схема с несущим корпусом\". Двигатель разгонно-маршевый однорежимный из высокопрочного алюминиевого сплава (таблица 4.3). \n",
    "\n",
    "mz_cy = - 0.02...0.06 для обычной схемы (x_t - x_fa) / L_korp\n",
    "\n",
    "АД ОУ - рули-элероны выполняют еще и роль стабилизирующих поверхностей, обеспечивающих необходимые запасы статической устойчивости."
   ]
  },
  {
   "cell_type": "markdown",
   "metadata": {},
   "source": [
    "## 1) Первоначальный баллистический расчет\n",
    "Для начала проинтегрируем систему, приняв угол склонения ракеты **thetta (Q)** постоянным на активном участке полета. Для этого используем упрощенную систему уравнений движения ракеты [*пособие Астахова \"Бал. пр-е\", система ур-ний (4)*], где все переменные коэф-ты выраженны через проектные параметры ракеты, при **alpha = 0**, следовательно, и **Cya = 0**. Найдем минимум стартовой массы ракеты (перебором относительной массы топливного заряда при заданном коэф-те конструктивно-массового совершенства и массе полезной нагрузки из прототипа). Получим в итоге профиль скорости нашей ЗУР, который будет использован в первоначальном АД проектировании для получения коэф-тов Суа от числа М, и Сх от alpha и числа М. Далее будем использовать исходную полную систему уравнений движения [*Физ. основы устр-ва ракетного оружия, глава 3*] для уточнения баллистического расчёта и дальнешего АД расчета."
   ]
  },
  {
   "cell_type": "markdown",
   "metadata": {},
   "source": [
    "### 1.1. Простая прогонка с параметрами прототипа"
   ]
  },
  {
   "cell_type": "code",
   "execution_count": 5,
   "metadata": {},
   "outputs": [],
   "source": [
    "alpha, Cy_alpha = 0, 0"
   ]
  },
  {
   "cell_type": "code",
   "execution_count": 6,
   "metadata": {},
   "outputs": [],
   "source": [
    "# Пример формирования словаря с начальными данными одноступенчатой ракеты (аналог - ЗУР 48Н6E ЗРС С-300 ПМУ-1)\n",
    "opts = {\n",
    "    'init_conditions': {'l_pusk': 8,\n",
    "                        'x': 0,\n",
    "                        'y': 20,\n",
    "                        'v': 25,\n",
    "                        'thetta': 35},\n",
    "    'η_0': 13,\n",
    "    'I_10': 2600,\n",
    "    'myu_0': 0.59,\n",
    "    'lambda_e': 2.373,\n",
    "    'k': 1.21,\n",
    "    'p_00': 5*1e6,\n",
    "    'q_M': 2400 * 9.80665 / (np.pi * 0.515**2 / 4),\n",
    "    'i': 1.2,\n",
    "    'integr': {'stop_conditions': 'x_max',\n",
    "               'value': 2e5,\n",
    "               'dt': 5e-1}\n",
    "} "
   ]
  },
  {
   "cell_type": "code",
   "execution_count": 7,
   "metadata": {},
   "outputs": [],
   "source": [
    "def ozvb(dict_opts):\n",
    "    \n",
    "    \"\"\"\n",
    "    Ф-ция решения прямой задачи внешней баллистики (ОЗВБ) ракеты\n",
    "    argument:  dict_opts {dict}  -- словарь с опциями (начальными данными)\n",
    "    return:    dict_res  {dict}  -- словарь с результатами решения ОЗВБ\n",
    "    \"\"\"\n",
    "    \n",
    "    # const:\n",
    "    g     = 9.80665\n",
    "    p_h0  = 101325\n",
    "    k_air = 1.41\n",
    "    \n",
    "    def func_stop(stop_conditions):\n",
    "        if stop_conditions == 't0':\n",
    "            return lambda t: dict_opts['I_10'] * dict_opts['myu_0'] / dict_opts['η_0'] / g - t\n",
    "        if stop_conditions == 'v_max':\n",
    "            return lambda v: dict_opts['integr']['value'] - v\n",
    "        if stop_conditions == 'y_max':\n",
    "            return lambda y: dict_opts['integr']['value'] - y\n",
    "        if stop_conditions == 'x_max':\n",
    "            return lambda x: dict_opts['integr']['value'] - x\n",
    "        if stop_conditions == 'step_max':\n",
    "            return lambda i: dict_opts['integr']['value'] - i\n",
    "        if stop_conditions == 't_max':\n",
    "            return lambda t: dict_opts['integr']['value'] - t\n",
    "\n",
    "    def f(λ, k):\n",
    "        # табличная газодинамическая функция\n",
    "        return (1 + λ ** 2) * (1 - ((k - 1) / (k + 1)) * λ ** 2) ** (1 / (k - 1))\n",
    "\n",
    "    def π(y):\n",
    "        # ф-ция изменения атмосф. давления с высотой\n",
    "        p_h = table_atm(y, 2)\n",
    "        return p_h / p_h0\n",
    "\n",
    "    def ξ_stage(μ, μ_0):\n",
    "        # ф-ция, учитывающая отстыковку стартовой ступени (для двухступенчатых ракет)\n",
    "        if μ < μ_0:\n",
    "            return 1\n",
    "        else:\n",
    "            return 0\n",
    "   \n",
    "    def ξ_pusk(x, y):\n",
    "        # ф-ция, учитывающая неизменность угла наклона траектории при движении ракеты по направляющей\n",
    "        if np.sqrt(x ** 2 + y ** 2) <= dict_opts['init_conditions']['l_pusk']:\n",
    "            return 0\n",
    "        else:\n",
    "            return 1\n",
    "\n",
    "    def system(t, Y, r=dict_opts, Cx=Cx43):\n",
    "            \n",
    "        y1 = Y[0] # v\n",
    "        y2 = Y[1] # θ\n",
    "        y3 = Y[2] # x\n",
    "        y4 = Y[3] # y\n",
    "        y5 = Y[4] # μ \n",
    "        \n",
    "        M  = y1 / table_atm(y4, 4)\n",
    "        \n",
    "        a10_1 = g * r['η_0'] / (1 - y5)\n",
    "        a10_2 = g * r['η_0'] * (1 - π(y4)) / ((f(r['lambda_e'], r['k']) * (r['p_00'] / p_h0) - 1) * (1 - y5))\n",
    "        a1_3  = g * r['i'] * Cx(M) * k_air * p_h0 * π(y4) * (M ** 2) / (2 * r['q_M'] * (1 - y5))\n",
    "        a1_4  = g * np.sin(y2)\n",
    "        \n",
    "        # dv/dt\n",
    "        f1 = (a10_1 + a10_2) * ξ_stage(y5, r['myu_0']) - a1_3 - a1_4\n",
    "        # dθ/dt\n",
    "        f2 = g * ξ_pusk(y3, y4) / (y1 ** (ξ_pusk(y3, y4))) * (Cy_alpha * alpha * table_atm(y4, 3) * y1 ** 2 / (2 * r['q_M'] * (1 - y5)) + r['η_0'] * np.sin(np.radians(alpha)) / (1 - y5) - np.cos(y2) * (1 - ξ_stage(y5, r['myu_0'])))\n",
    "        # dx/dt\n",
    "        f3 = y1 * np.cos(y2)\n",
    "        # dy/dt\n",
    "        f4 = y1 * np.sin(y2)\n",
    "        # dμ/dt\n",
    "        f5 = g * (r['η_0'] / r['I_10']) * ξ_stage(y5, r['myu_0'])\n",
    "        \n",
    "        return np.array([f1, f2, f3, f4, f5])\n",
    "   \n",
    "    def RK4(F, Y0, stop_conditions=dict_opts['integr']['stop_conditions'],\n",
    "            func_end=func_stop(dict_opts['integr']['stop_conditions']), \n",
    "            dt=dict_opts['integr']['dt'], y=dict_opts['init_conditions']['y'],\n",
    "            t0=0, max_time=300): \n",
    "        \n",
    "        ti = t0 \n",
    "        Yi = Y0\n",
    "        res = {\n",
    "        'y1': [Y0[0]],\n",
    "        'y2': [Y0[1]],\n",
    "        'y3': [Y0[2]],\n",
    "        'y4': [Y0[3]],\n",
    "        'y5': [Y0[4]],\n",
    "        'Mach': [Y0[0]/table_atm(Y0[3],4)],\n",
    "        't': [t0],\n",
    "        'stop_reason': ''        \n",
    "        }\n",
    "\n",
    "        def foo_init_stop(stop_conditions, fint, *args):\n",
    "            if stop_conditions == 't0':\n",
    "                if fint == 1:\n",
    "                    return args[1]\n",
    "                if fint == 0:\n",
    "                    return t0\n",
    "            elif stop_conditions == 'v_max':\n",
    "                if fint == 1:\n",
    "                    return args[0][0]\n",
    "                if fint == 0:\n",
    "                    return Y0[0]\n",
    "            elif stop_conditions == 'y_max':\n",
    "                if fint == 1:\n",
    "                    return args[0][3]\n",
    "                if fint==0:\n",
    "                    return Y0[3]\n",
    "            elif stop_conditions == 'x_max':\n",
    "                if fint == 1:\n",
    "                    return args[0][2]\n",
    "                if fint == 0:\n",
    "                    return Y0[2]\n",
    "            elif stop_conditions == 't_max':\n",
    "                if fint == 1:\n",
    "                    return args[1]\n",
    "                if fint == 0:\n",
    "                    return t0\n",
    "            else:\n",
    "                print('unknown condition')\n",
    "        \n",
    "        flag = True\n",
    "        var = foo_init_stop(stop_conditions, 0, Yi, ti)\n",
    "        \n",
    "        while func_end(var) > 0 and ti < max_time and Yi[3] < 8e4 and flag == True:\n",
    "            \n",
    "            k1 = F(ti, Yi)\n",
    "            k2 = F(ti + dt / 2, Yi + k1 * dt / 2)\n",
    "            k3 = F(ti + dt / 2, Yi + k2 * dt / 2)\n",
    "            k4 = F(ti + dt, Yi + k3 * dt)\n",
    "            Yi += dt * (k1 + 2 * k2 + 2 * k3 + k4) / 6\n",
    "            \n",
    "            ti += dt\n",
    "            if Yi[3] <= 0:\n",
    "                flag = False\n",
    "            \n",
    "            var = foo_init_stop(stop_conditions, 1, Yi, ti)\n",
    "            \n",
    "            res['y1'].append(Yi[0])\n",
    "            res['y2'].append(Yi[1])\n",
    "            res['y3'].append(Yi[2])\n",
    "            res['y4'].append(Yi[3])\n",
    "            res['y5'].append(Yi[4])\n",
    "            res['Mach'].append(Yi[0]/table_atm(Yi[3],4))\n",
    "            res['t'].append(ti)\n",
    "            \n",
    "        if func_end(var) < 0:\n",
    "            stop_reason = dict_opts['integr']['stop_conditions']\n",
    "        elif ti >= max_time:\n",
    "            stop_reason = 'max_time'\n",
    "        elif Yi[3] <= 0:\n",
    "            stop_reason = f'missile arrived (x = {Yi[2]}; y = 0)'\n",
    "        elif Yi[3] >= 8e4:\n",
    "            stop_reason = 'y_max_atmo'\n",
    "        else:\n",
    "            stop_reason = 'unknown reason'\n",
    "        res['stop_reason'] = stop_reason\n",
    "        print(f'stop reason: {stop_reason};\\nflight time: {ti} с.;')\n",
    "        \n",
    "        return res\n",
    "    \n",
    "    init = [dict_opts['init_conditions']['v'], np.radians(dict_opts['init_conditions']['thetta']),\n",
    "            dict_opts['init_conditions']['x'], dict_opts['init_conditions']['y'], 0]\n",
    "    \n",
    "    fl_start = timeit.default_timer()\n",
    "    res = RK4(system, init)\n",
    "    fl_end   = timeit.default_timer() - fl_start \n",
    "    print(f'execution time: {fl_end} с.')\n",
    "    \n",
    "    dict_res = {\n",
    "        'v': np.array(res['y1']),\n",
    "        'thetta': np.array(res['y2']),\n",
    "        'x':  np.array(res['y3']),\n",
    "        'y': np.array(res['y4']),\n",
    "        'myu':  np.array(res['y5']),\n",
    "        't':  np.array(res['t']),\n",
    "        'Mach': np.array(res['Mach']),\n",
    "        'stop_reason': res['stop_reason'],\n",
    "        'execution_time': fl_end\n",
    "    }\n",
    "\n",
    "    return dict_res"
   ]
  },
  {
   "cell_type": "code",
   "execution_count": 8,
   "metadata": {},
   "outputs": [
    {
     "name": "stdout",
     "output_type": "stream",
     "text": [
      "stop reason: y_max_atmo;\n",
      "flight time: 66.0 с.;\n",
      "execution time: 10.3052536 с.\n"
     ]
    }
   ],
   "source": [
    "res = ozvb(opts)"
   ]
  },
  {
   "cell_type": "code",
   "execution_count": 9,
   "metadata": {},
   "outputs": [
    {
     "data": {
      "image/png": "[encoded data removed]",
      "text/plain": [
       "<Figure size 432x288 with 1 Axes>"
      ]
     },
     "metadata": {
      "needs_background": "light"
     },
     "output_type": "display_data"
    }
   ],
   "source": [
    "plt.figure()\n",
    "plt.plot(res['t'], res['v'])\n",
    "plt.grid()\n",
    "plt.xlabel('t'), plt.ylabel('V') \n",
    "plt.show()"
   ]
  },
  {
   "cell_type": "code",
   "execution_count": 10,
   "metadata": {},
   "outputs": [
    {
     "data": {
      "image/png": "[encoded data removed]",
      "text/plain": [
       "<Figure size 432x288 with 1 Axes>"
      ]
     },
     "metadata": {
      "needs_background": "light"
     },
     "output_type": "display_data"
    }
   ],
   "source": [
    "plt.figure()\n",
    "plt.plot(res['x'], res['y'])\n",
    "plt.xlabel('x'), plt.ylabel('y') \n",
    "plt.axis('equal')\n",
    "plt.ylim(0, 8e4)\n",
    "plt.grid()\n",
    "plt.show()"
   ]
  },
  {
   "cell_type": "code",
   "execution_count": 11,
   "metadata": {},
   "outputs": [
    {
     "data": {
      "image/png": "[encoded data removed]",
      "text/plain": [
       "<Figure size 432x288 with 1 Axes>"
      ]
     },
     "metadata": {
      "needs_background": "light"
     },
     "output_type": "display_data"
    }
   ],
   "source": [
    "plt.figure()\n",
    "plt.plot(res['t'], np.degrees(res['thetta']))\n",
    "plt.xlabel('t'), plt.ylabel('thetta') \n",
    "plt.grid()\n",
    "plt.show()"
   ]
  },
  {
   "cell_type": "markdown",
   "metadata": {},
   "source": [
    "### 1.2. Поиск оптимального начального угла склонения ракеты Q0"
   ]
  },
  {
   "cell_type": "code",
   "execution_count": null,
   "metadata": {},
   "outputs": [],
   "source": [
    "mass_thetta = np.arange(20, 65, 5)\n",
    "mass_y_end  = []\n",
    "mass_x_end  = []\n",
    "mass_stop   = []\n",
    "for i in mass_thetta:\n",
    "    opts['init_conditions']['thetta'] = i\n",
    "    res = ozvb(opts)\n",
    "    mass_y_end.append(res['y'][-1])\n",
    "    mass_x_end.append(res['x'][-1])\n",
    "    mass_stop.append(res['stop_reason'])  \n",
    "mass_y_end = np.array(mass_y_end)\n",
    "mass_x_end = np.array(mass_x_end)"
   ]
  },
  {
   "cell_type": "code",
   "execution_count": null,
   "metadata": {},
   "outputs": [],
   "source": [
    "y_end_max = mass_y_end[0]\n",
    "for i in range(len(mass_x_end)):\n",
    "    if mass_stop[i] == 'x_max' and mass_y_end[i] > y_end_max and mass_y_end[i] < 35e3:\n",
    "        thetta_opt = mass_thetta[i]"
   ]
  },
  {
   "cell_type": "code",
   "execution_count": null,
   "metadata": {},
   "outputs": [],
   "source": [
    "from interpolation import Interp1d, Interp2d, InterpVec\n",
    "thetta_itr = Interp1d(mass_y_end, mass_thetta)\n",
    "thetta_itr(3e4)"
   ]
  },
  {
   "cell_type": "code",
   "execution_count": null,
   "metadata": {},
   "outputs": [],
   "source": [
    "plt.figure(dpi=100)\n",
    "plt.plot(mass_thetta, mass_x_end/1e3, label='$D_{max}$')\n",
    "plt.plot(mass_thetta, mass_y_end/1e3, label='$H_{end}$')\n",
    "plt.vlines(thetta_opt, 0, 200, ls='-.', color='grey')\n",
    "plt.hlines(30, 0, thetta_opt, ls='-.', color='grey')\n",
    "plt.xlabel('θ$_0$, град')\n",
    "plt.ylabel('$D_{max}$, $H_{end}$ [км]')\n",
    "plt.text(thetta_opt, -15, 'θ$_{opt}$')\n",
    "plt.text(20, 35, 'H$_{end}$=30')\n",
    "plt.legend()\n",
    "plt.grid()\n",
    "plt.ylim(0,205)\n",
    "plt.xlim(20,60)\n",
    "plt.savefig('pictures/Поиск оптимального угла.png', dpi=300, bbox_inches='tight')\n",
    "plt.show()"
   ]
  },
  {
   "cell_type": "code",
   "execution_count": 8,
   "metadata": {},
   "outputs": [],
   "source": [
    "thetta_opt = 31.857218264235136"
   ]
  },
  {
   "cell_type": "code",
   "execution_count": 9,
   "metadata": {},
   "outputs": [],
   "source": [
    "opts['init_conditions']['thetta'] = thetta_opt"
   ]
  },
  {
   "cell_type": "markdown",
   "metadata": {},
   "source": [
    "### 1.3. Поиск минимума стартовой массы ракеты"
   ]
  },
  {
   "cell_type": "code",
   "execution_count": 10,
   "metadata": {},
   "outputs": [],
   "source": [
    "V_average = 1700\n",
    "I10 = 2600\n",
    "η0 = 13\n",
    "α_д = 0.2\n",
    "m_пн = 700\n",
    "p_nom = 5.233 * 1e6\n",
    "lambda_e = 2.285\n",
    "opts['I_10'] = I10\n",
    "opts['η_0'] = η0\n",
    "opts['p_00'] = p_nom\n",
    "opts['lambda_e'] = lambda_e\n",
    "mass_V0 = np.arange(V_average-200, V_average+400, 10)"
   ]
  },
  {
   "cell_type": "code",
   "execution_count": 11,
   "metadata": {},
   "outputs": [],
   "source": [
    "@np.vectorize\n",
    "def μ0(V0, Q0, Vн=25, η0=η0, B=2*1e-6, I10=I10, g=9.80665):\n",
    "    χ = 1 - (B * V0**2 / (3 * η0)) - (np.sin(np.radians(Q0)) / η0)\n",
    "    return 1 - np.exp(-(V0) / (χ * I10))"
   ]
  },
  {
   "cell_type": "code",
   "execution_count": 12,
   "metadata": {},
   "outputs": [
    {
     "data": {
      "text/plain": [
       "array([0.49517627, 0.49810467, 0.50103097, 0.5039552 , 0.50687738,\n",
       "       0.50979754, 0.5127157 , 0.51563189, 0.51854612, 0.52145843,\n",
       "       0.52436883, 0.52727734, 0.53018398, 0.53308876, 0.53599172,\n",
       "       0.53889286, 0.54179219, 0.54468974, 0.54758551, 0.55047953,\n",
       "       0.5533718 , 0.55626232, 0.55915113, 0.56203821, 0.56492358,\n",
       "       0.56780726, 0.57068923, 0.57356951, 0.57644811, 0.57932502,\n",
       "       0.58220025, 0.5850738 , 0.58794566, 0.59081584, 0.59368434,\n",
       "       0.59655115, 0.59941627, 0.60227969, 0.6051414 , 0.6080014 ,\n",
       "       0.61085967, 0.61371622, 0.61657102, 0.61942406, 0.62227532,\n",
       "       0.6251248 , 0.62797248, 0.63081833, 0.63366234, 0.63650449,\n",
       "       0.63934476, 0.64218311, 0.64501954, 0.647854  , 0.65068647,\n",
       "       0.65351693, 0.65634534, 0.65917167, 0.66199589, 0.66481796])"
      ]
     },
     "execution_count": 12,
     "metadata": {},
     "output_type": "execute_result"
    }
   ],
   "source": [
    "mass_μ0 = μ0(mass_V0, thetta_opt)\n",
    "mass_μ0"
   ]
  },
  {
   "cell_type": "code",
   "execution_count": 13,
   "metadata": {},
   "outputs": [],
   "source": [
    "@np.vectorize\n",
    "def m0(μ0, m_пн=m_пн, α_д=α_д):\n",
    "    return m_пн / (1 - μ0 * (1 + α_д))"
   ]
  },
  {
   "cell_type": "code",
   "execution_count": 14,
   "metadata": {},
   "outputs": [
    {
     "data": {
      "text/plain": [
       "array([1725.03665223, 1740.10575981, 1755.42937126, 1771.01412021,\n",
       "       1786.86686876, 1802.99471734, 1819.4050151 , 1836.10537085,\n",
       "       1853.10366456, 1870.40805951, 1888.02701503, 1905.96930003,\n",
       "       1924.24400722, 1942.86056807, 1961.82876874, 1981.15876675,\n",
       "       2000.86110877, 2020.94674928, 2041.42707043, 2062.31390301,\n",
       "       2083.61954866, 2105.35680349, 2127.53898297, 2150.17994854,\n",
       "       2173.29413571, 2196.89658399, 2221.00296868, 2245.62963469,\n",
       "       2270.79363256, 2296.51275678, 2322.80558671, 2349.69153011,\n",
       "       2377.19086972, 2405.32481292, 2434.11554486, 2463.58628528,\n",
       "       2493.7613493 , 2524.66621261, 2556.32758128, 2588.77346677,\n",
       "       2622.03326634, 2656.13784967, 2691.11965183, 2727.01277359,\n",
       "       2763.85308935, 2801.67836373, 2840.52837732, 2880.44506269,\n",
       "       2921.47265154, 2963.65783406, 3007.04993173, 3051.70108486,\n",
       "       3097.66645648, 3145.00445404, 3193.77697105, 3244.04965048,\n",
       "       3295.89217251, 3349.37856911, 3404.58756852, 3461.60297291])"
      ]
     },
     "execution_count": 14,
     "metadata": {},
     "output_type": "execute_result"
    }
   ],
   "source": [
    "mass_m0 = m0(mass_μ0)\n",
    "mass_m0"
   ]
  },
  {
   "cell_type": "code",
   "execution_count": 15,
   "metadata": {},
   "outputs": [],
   "source": [
    "@np.vectorize\n",
    "def qm0(m0, d=0.515, g=9.80665):\n",
    "    return 4 * m0 * g / (np.pi * d**2)"
   ]
  },
  {
   "cell_type": "code",
   "execution_count": 16,
   "metadata": {},
   "outputs": [
    {
     "data": {
      "text/plain": [
       "array([ 81210.9635232 ,  81920.38424441,  82641.78645284,  83375.48244535,\n",
       "        84121.79527445,  84881.05921297,  85653.62024302,  86439.83657064,\n",
       "        87240.07916775,  88054.73234321,  88884.19434466,  89728.87799318,\n",
       "        90589.2113529 ,  91465.63843777,  92358.61995795,  93268.63410839,\n",
       "        94196.17740249,  95141.76555377,  96105.93440886,  97089.24093538,\n",
       "        98092.26426835,  99115.60681942, 100159.89545319, 101225.78273547,\n",
       "       102313.94825871, 103425.10005012, 104559.97606858, 105719.34579706,\n",
       "       106904.01193755, 108114.81221637, 109352.62130839, 110618.35288924,\n",
       "       111912.96182573, 113237.44651529, 114592.85138648, 115980.26957372,\n",
       "       117400.8457803 , 118855.7793457 , 120346.32753401, 121873.80906264,\n",
       "       123439.60789173, 125045.17729723, 126692.04425265, 128381.81414704,\n",
       "       130116.17586979, 131896.90729593, 133725.88120909, 135605.0717036 ,\n",
       "       137536.56111139, 139522.5475046 , 141565.35283056, 143667.43174212,\n",
       "       145831.38119367, 148059.95088146, 150356.05461612, 152722.78272602,\n",
       "       155163.41560191, 157681.43850761, 160280.55779658, 162964.71869281])"
      ]
     },
     "execution_count": 16,
     "metadata": {},
     "output_type": "execute_result"
    }
   ],
   "source": [
    "mass_qm0 = qm0(mass_m0)\n",
    "mass_qm0"
   ]
  },
  {
   "cell_type": "code",
   "execution_count": 26,
   "metadata": {
    "scrolled": true
   },
   "outputs": [
    {
     "name": "stderr",
     "output_type": "stream",
     "text": [
      "  2%|█▍                                                                                 | 1/60 [00:23<22:58, 23.36s/it]"
     ]
    },
    {
     "name": "stdout",
     "output_type": "stream",
     "text": [
      "stop reason: missile arrived (x = 123572.31157756445; y = 0);\n",
      "flight time: 155.5 с.;\n",
      "execution time: 23.363293999999996 с.\n"
     ]
    },
    {
     "name": "stderr",
     "output_type": "stream",
     "text": [
      "\r",
      "  3%|██▊                                                                                | 2/60 [00:46<22:29, 23.27s/it]"
     ]
    },
    {
     "name": "stdout",
     "output_type": "stream",
     "text": [
      "stop reason: missile arrived (x = 124420.99795772482; y = 0);\n",
      "flight time: 155.5 с.;\n",
      "execution time: 23.049401699999976 с.\n"
     ]
    },
    {
     "name": "stderr",
     "output_type": "stream",
     "text": [
      "\r",
      "  5%|████▏                                                                              | 3/60 [01:10<22:22, 23.55s/it]"
     ]
    },
    {
     "name": "stdout",
     "output_type": "stream",
     "text": [
      "stop reason: missile arrived (x = 125480.85449236416; y = 0);\n",
      "flight time: 156.0 с.;\n",
      "execution time: 24.20346649999999 с.\n"
     ]
    },
    {
     "name": "stderr",
     "output_type": "stream",
     "text": [
      "\r",
      "  7%|█████▌                                                                             | 4/60 [01:37<23:00, 24.65s/it]"
     ]
    },
    {
     "name": "stdout",
     "output_type": "stream",
     "text": [
      "stop reason: missile arrived (x = 131965.12228531553; y = 0);\n",
      "flight time: 159.5 с.;\n",
      "execution time: 27.208573500000057 с.\n"
     ]
    },
    {
     "name": "stderr",
     "output_type": "stream",
     "text": [
      "\r",
      "  8%|██████▉                                                                            | 5/60 [02:05<23:18, 25.43s/it]"
     ]
    },
    {
     "name": "stdout",
     "output_type": "stream",
     "text": [
      "stop reason: missile arrived (x = 133086.96718967447; y = 0);\n",
      "flight time: 160.0 с.;\n",
      "execution time: 27.263549000000012 с.\n"
     ]
    },
    {
     "name": "stderr",
     "output_type": "stream",
     "text": [
      "\r",
      " 10%|████████▎                                                                          | 6/60 [02:32<23:25, 26.02s/it]"
     ]
    },
    {
     "name": "stdout",
     "output_type": "stream",
     "text": [
      "stop reason: missile arrived (x = 134217.4995227613; y = 0);\n",
      "flight time: 160.5 с.;\n",
      "execution time: 27.395944699999973 с.\n"
     ]
    },
    {
     "name": "stderr",
     "output_type": "stream",
     "text": [
      "\r",
      " 12%|█████████▋                                                                         | 7/60 [03:01<23:43, 26.86s/it]"
     ]
    },
    {
     "name": "stdout",
     "output_type": "stream",
     "text": [
      "stop reason: missile arrived (x = 143677.19163692146; y = 0);\n",
      "flight time: 165.0 с.;\n",
      "execution time: 28.80861010000001 с.\n"
     ]
    },
    {
     "name": "stderr",
     "output_type": "stream",
     "text": [
      "\r",
      " 13%|███████████                                                                        | 8/60 [03:29<23:44, 27.39s/it]"
     ]
    },
    {
     "name": "stdout",
     "output_type": "stream",
     "text": [
      "stop reason: missile arrived (x = 147849.38579567362; y = 0);\n",
      "flight time: 167.0 с.;\n",
      "execution time: 28.625538699999993 с.\n"
     ]
    },
    {
     "name": "stderr",
     "output_type": "stream",
     "text": [
      "\r",
      " 15%|████████████▍                                                                      | 9/60 [03:58<23:38, 27.82s/it]"
     ]
    },
    {
     "name": "stdout",
     "output_type": "stream",
     "text": [
      "stop reason: missile arrived (x = 149106.37735216887; y = 0);\n",
      "flight time: 167.5 с.;\n",
      "execution time: 28.80796190000001 с.\n"
     ]
    },
    {
     "name": "stderr",
     "output_type": "stream",
     "text": [
      "\r",
      " 17%|█████████████▋                                                                    | 10/60 [04:26<23:14, 27.89s/it]"
     ]
    },
    {
     "name": "stdout",
     "output_type": "stream",
     "text": [
      "stop reason: missile arrived (x = 150373.05080640034; y = 0);\n",
      "flight time: 168.0 с.;\n",
      "execution time: 28.05992600000002 с.\n"
     ]
    },
    {
     "name": "stderr",
     "output_type": "stream",
     "text": [
      "\r",
      " 18%|███████████████                                                                   | 11/60 [04:55<22:54, 28.05s/it]"
     ]
    },
    {
     "name": "stdout",
     "output_type": "stream",
     "text": [
      "stop reason: missile arrived (x = 151649.1812101557; y = 0);\n",
      "flight time: 168.5 с.;\n",
      "execution time: 28.41316649999999 с.\n"
     ]
    },
    {
     "name": "stderr",
     "output_type": "stream",
     "text": [
      "\r",
      " 20%|████████████████▍                                                                 | 12/60 [05:23<22:34, 28.23s/it]"
     ]
    },
    {
     "name": "stdout",
     "output_type": "stream",
     "text": [
      "stop reason: missile arrived (x = 159342.01789189922; y = 0);\n",
      "flight time: 172.0 с.;\n",
      "execution time: 28.647569299999986 с.\n"
     ]
    },
    {
     "name": "stderr",
     "output_type": "stream",
     "text": [
      "\r",
      " 22%|█████████████████▊                                                                | 13/60 [05:51<21:58, 28.06s/it]"
     ]
    },
    {
     "name": "stdout",
     "output_type": "stream",
     "text": [
      "stop reason: missile arrived (x = 160694.84015397928; y = 0);\n",
      "flight time: 172.5 с.;\n",
      "execution time: 27.665866100000017 с.\n"
     ]
    },
    {
     "name": "stderr",
     "output_type": "stream",
     "text": [
      "\r",
      " 23%|███████████████████▏                                                              | 14/60 [06:21<22:01, 28.74s/it]"
     ]
    },
    {
     "name": "stdout",
     "output_type": "stream",
     "text": [
      "stop reason: missile arrived (x = 162057.62075247444; y = 0);\n",
      "flight time: 173.0 с.;\n",
      "execution time: 30.315364700000032 с.\n"
     ]
    },
    {
     "name": "stderr",
     "output_type": "stream",
     "text": [
      "\r",
      " 25%|████████████████████▌                                                             | 15/60 [07:12<26:27, 35.28s/it]"
     ]
    },
    {
     "name": "stdout",
     "output_type": "stream",
     "text": [
      "stop reason: missile arrived (x = 173806.01046564043; y = 0);\n",
      "flight time: 178.5 с.;\n",
      "execution time: 50.53719520000004 с.\n"
     ]
    },
    {
     "name": "stderr",
     "output_type": "stream",
     "text": [
      "\r",
      " 27%|█████████████████████▊                                                            | 16/60 [07:42<24:40, 33.65s/it]"
     ]
    },
    {
     "name": "stdout",
     "output_type": "stream",
     "text": [
      "stop reason: missile arrived (x = 175278.88707572772; y = 0);\n",
      "flight time: 179.0 с.;\n",
      "execution time: 29.85729839999999 с.\n"
     ]
    },
    {
     "name": "stderr",
     "output_type": "stream",
     "text": [
      "\r",
      " 28%|███████████████████████▏                                                          | 17/60 [08:13<23:35, 32.92s/it]"
     ]
    },
    {
     "name": "stdout",
     "output_type": "stream",
     "text": [
      "stop reason: missile arrived (x = 180562.64864438542; y = 0);\n",
      "flight time: 181.5 с.;\n",
      "execution time: 31.211838799999896 с.\n"
     ]
    },
    {
     "name": "stderr",
     "output_type": "stream",
     "text": [
      "\r",
      " 30%|████████████████████████▌                                                         | 18/60 [08:41<21:55, 31.31s/it]"
     ]
    },
    {
     "name": "stdout",
     "output_type": "stream",
     "text": [
      "stop reason: missile arrived (x = 182090.2957571156; y = 0);\n",
      "flight time: 182.0 с.;\n",
      "execution time: 27.546905500000094 с.\n"
     ]
    },
    {
     "name": "stderr",
     "output_type": "stream",
     "text": [
      "\r",
      " 32%|█████████████████████████▉                                                        | 19/60 [09:08<20:39, 30.22s/it]"
     ]
    },
    {
     "name": "stdout",
     "output_type": "stream",
     "text": [
      "stop reason: missile arrived (x = 183628.1792779235; y = 0);\n",
      "flight time: 182.5 с.;\n",
      "execution time: 27.678300799999988 с.\n"
     ]
    },
    {
     "name": "stderr",
     "output_type": "stream",
     "text": [
      "\r",
      " 33%|███████████████████████████▎                                                      | 20/60 [09:40<20:22, 30.55s/it]"
     ]
    },
    {
     "name": "stdout",
     "output_type": "stream",
     "text": [
      "stop reason: missile arrived (x = 185176.34947477005; y = 0);\n",
      "flight time: 183.0 с.;\n",
      "execution time: 31.330465300000014 с.\n"
     ]
    },
    {
     "name": "stderr",
     "output_type": "stream",
     "text": [
      "\r",
      " 35%|████████████████████████████▋                                                     | 21/60 [10:14<20:38, 31.75s/it]"
     ]
    },
    {
     "name": "stdout",
     "output_type": "stream",
     "text": [
      "stop reason: missile arrived (x = 194681.31818240063; y = 0);\n",
      "flight time: 187.0 с.;\n",
      "execution time: 34.52344529999982 с.\n"
     ]
    },
    {
     "name": "stderr",
     "output_type": "stream",
     "text": [
      "\r",
      " 37%|██████████████████████████████                                                    | 22/60 [10:42<19:27, 30.73s/it]"
     ]
    },
    {
     "name": "stdout",
     "output_type": "stream",
     "text": [
      "stop reason: missile arrived (x = 196318.71018738262; y = 0);\n",
      "flight time: 187.5 с.;\n",
      "execution time: 28.370352299999922 с.\n"
     ]
    },
    {
     "name": "stderr",
     "output_type": "stream",
     "text": [
      "\r",
      " 38%|███████████████████████████████▍                                                  | 23/60 [11:13<18:53, 30.64s/it]"
     ]
    },
    {
     "name": "stdout",
     "output_type": "stream",
     "text": [
      "stop reason: missile arrived (x = 198261.89788659516; y = 0);\n",
      "flight time: 188.5 с.;\n",
      "execution time: 30.430539599999975 с.\n"
     ]
    },
    {
     "name": "stderr",
     "output_type": "stream",
     "text": [
      "\r",
      " 40%|████████████████████████████████▊                                                 | 24/60 [11:40<17:44, 29.57s/it]"
     ]
    },
    {
     "name": "stdout",
     "output_type": "stream",
     "text": [
      "stop reason: x_max;\n",
      "flight time: 179.0 с.;\n",
      "execution time: 27.051181999999926 с.\n"
     ]
    },
    {
     "name": "stderr",
     "output_type": "stream",
     "text": [
      "\r",
      " 42%|██████████████████████████████████▏                                               | 25/60 [12:02<15:54, 27.26s/it]"
     ]
    },
    {
     "name": "stdout",
     "output_type": "stream",
     "text": [
      "stop reason: x_max;\n",
      "flight time: 175.5 с.;\n",
      "execution time: 21.867012899999963 с.\n"
     ]
    },
    {
     "name": "stderr",
     "output_type": "stream",
     "text": [
      "\r",
      " 43%|███████████████████████████████████▌                                              | 26/60 [12:24<14:38, 25.85s/it]"
     ]
    },
    {
     "name": "stdout",
     "output_type": "stream",
     "text": [
      "stop reason: x_max;\n",
      "flight time: 174.5 с.;\n",
      "execution time: 22.550253299999895 с.\n"
     ]
    },
    {
     "name": "stderr",
     "output_type": "stream",
     "text": [
      "\r",
      " 45%|████████████████████████████████████▉                                             | 27/60 [12:41<12:39, 23.03s/it]"
     ]
    },
    {
     "name": "stdout",
     "output_type": "stream",
     "text": [
      "stop reason: x_max;\n",
      "flight time: 173.5 с.;\n",
      "execution time: 16.445137899999963 с.\n"
     ]
    },
    {
     "name": "stderr",
     "output_type": "stream",
     "text": [
      "\r",
      " 47%|██████████████████████████████████████▎                                           | 28/60 [13:00<11:36, 21.77s/it]"
     ]
    },
    {
     "name": "stdout",
     "output_type": "stream",
     "text": [
      "stop reason: x_max;\n",
      "flight time: 172.5 с.;\n",
      "execution time: 18.832056299999977 с.\n"
     ]
    },
    {
     "name": "stderr",
     "output_type": "stream",
     "text": [
      "\r",
      " 48%|███████████████████████████████████████▋                                          | 29/60 [13:16<10:21, 20.04s/it]"
     ]
    },
    {
     "name": "stdout",
     "output_type": "stream",
     "text": [
      "stop reason: x_max;\n",
      "flight time: 167.5 с.;\n",
      "execution time: 16.013358199999857 с.\n"
     ]
    },
    {
     "name": "stderr",
     "output_type": "stream",
     "text": [
      "\r",
      " 50%|█████████████████████████████████████████                                         | 30/60 [13:31<09:22, 18.75s/it]"
     ]
    },
    {
     "name": "stdout",
     "output_type": "stream",
     "text": [
      "stop reason: x_max;\n",
      "flight time: 167.0 с.;\n",
      "execution time: 15.732255800000075 с.\n"
     ]
    },
    {
     "name": "stderr",
     "output_type": "stream",
     "text": [
      "\r",
      " 52%|██████████████████████████████████████████▎                                       | 31/60 [13:47<08:36, 17.80s/it]"
     ]
    },
    {
     "name": "stdout",
     "output_type": "stream",
     "text": [
      "stop reason: x_max;\n",
      "flight time: 166.0 с.;\n",
      "execution time: 15.596255500000098 с.\n"
     ]
    },
    {
     "name": "stderr",
     "output_type": "stream",
     "text": [
      "\r",
      " 53%|███████████████████████████████████████████▋                                      | 32/60 [14:02<07:54, 16.93s/it]"
     ]
    },
    {
     "name": "stdout",
     "output_type": "stream",
     "text": [
      "stop reason: x_max;\n",
      "flight time: 160.0 с.;\n",
      "execution time: 14.90096820000008 с.\n"
     ]
    },
    {
     "name": "stderr",
     "output_type": "stream",
     "text": [
      "\r",
      " 55%|█████████████████████████████████████████████                                     | 33/60 [14:17<07:20, 16.30s/it]"
     ]
    },
    {
     "name": "stdout",
     "output_type": "stream",
     "text": [
      "stop reason: x_max;\n",
      "flight time: 159.5 с.;\n",
      "execution time: 14.831805799999984 с.\n"
     ]
    },
    {
     "name": "stderr",
     "output_type": "stream",
     "text": [
      "\r",
      " 57%|██████████████████████████████████████████████▍                                   | 34/60 [14:31<06:50, 15.78s/it]"
     ]
    },
    {
     "name": "stdout",
     "output_type": "stream",
     "text": [
      "stop reason: x_max;\n",
      "flight time: 157.0 с.;\n",
      "execution time: 14.555286699999897 с.\n"
     ]
    },
    {
     "name": "stderr",
     "output_type": "stream",
     "text": [
      "\r",
      " 58%|███████████████████████████████████████████████▊                                  | 35/60 [14:46<06:23, 15.33s/it]"
     ]
    },
    {
     "name": "stdout",
     "output_type": "stream",
     "text": [
      "stop reason: x_max;\n",
      "flight time: 156.5 с.;\n",
      "execution time: 14.293908200000033 с.\n"
     ]
    },
    {
     "name": "stderr",
     "output_type": "stream",
     "text": [
      "\r",
      " 60%|█████████████████████████████████████████████████▏                                | 36/60 [15:00<06:00, 15.02s/it]"
     ]
    },
    {
     "name": "stdout",
     "output_type": "stream",
     "text": [
      "stop reason: x_max;\n",
      "flight time: 155.5 с.;\n",
      "execution time: 14.26927169999999 с.\n"
     ]
    },
    {
     "name": "stderr",
     "output_type": "stream",
     "text": [
      "\r",
      " 62%|██████████████████████████████████████████████████▌                               | 37/60 [15:14<05:39, 14.76s/it]"
     ]
    },
    {
     "name": "stdout",
     "output_type": "stream",
     "text": [
      "stop reason: x_max;\n",
      "flight time: 155.0 с.;\n",
      "execution time: 14.150618200000054 с.\n"
     ]
    },
    {
     "name": "stderr",
     "output_type": "stream",
     "text": [
      "\r",
      " 63%|███████████████████████████████████████████████████▉                              | 38/60 [15:28<05:20, 14.56s/it]"
     ]
    },
    {
     "name": "stdout",
     "output_type": "stream",
     "text": [
      "stop reason: x_max;\n",
      "flight time: 151.0 с.;\n",
      "execution time: 14.097275700000182 с.\n"
     ]
    },
    {
     "name": "stderr",
     "output_type": "stream",
     "text": [
      "\r",
      " 65%|█████████████████████████████████████████████████████▎                            | 39/60 [15:42<05:03, 14.43s/it]"
     ]
    },
    {
     "name": "stdout",
     "output_type": "stream",
     "text": [
      "stop reason: x_max;\n",
      "flight time: 150.5 с.;\n",
      "execution time: 14.143391399999928 с.\n"
     ]
    },
    {
     "name": "stderr",
     "output_type": "stream",
     "text": [
      "\r",
      " 67%|██████████████████████████████████████████████████████▋                           | 40/60 [15:56<04:45, 14.29s/it]"
     ]
    },
    {
     "name": "stdout",
     "output_type": "stream",
     "text": [
      "stop reason: x_max;\n",
      "flight time: 150.0 с.;\n",
      "execution time: 13.94664580000017 с.\n"
     ]
    },
    {
     "name": "stderr",
     "output_type": "stream",
     "text": [
      "\r",
      " 68%|████████████████████████████████████████████████████████                          | 41/60 [16:10<04:27, 14.09s/it]"
     ]
    },
    {
     "name": "stdout",
     "output_type": "stream",
     "text": [
      "stop reason: x_max;\n",
      "flight time: 144.5 с.;\n",
      "execution time: 13.610386000000062 с.\n"
     ]
    },
    {
     "name": "stderr",
     "output_type": "stream",
     "text": [
      "\r",
      " 70%|█████████████████████████████████████████████████████████▍                        | 42/60 [16:23<04:09, 13.87s/it]"
     ]
    },
    {
     "name": "stdout",
     "output_type": "stream",
     "text": [
      "stop reason: x_max;\n",
      "flight time: 142.5 с.;\n",
      "execution time: 13.378028100000165 с.\n"
     ]
    },
    {
     "name": "stderr",
     "output_type": "stream",
     "text": [
      "\r",
      " 72%|██████████████████████████████████████████████████████████▊                       | 43/60 [16:37<03:53, 13.71s/it]"
     ]
    },
    {
     "name": "stdout",
     "output_type": "stream",
     "text": [
      "stop reason: x_max;\n",
      "flight time: 142.0 с.;\n",
      "execution time: 13.337233100000049 с.\n"
     ]
    },
    {
     "name": "stderr",
     "output_type": "stream",
     "text": [
      "\r",
      " 73%|████████████████████████████████████████████████████████████▏                     | 44/60 [16:50<03:36, 13.55s/it]"
     ]
    },
    {
     "name": "stdout",
     "output_type": "stream",
     "text": [
      "stop reason: x_max;\n",
      "flight time: 141.5 с.;\n",
      "execution time: 13.17948279999996 с.\n"
     ]
    },
    {
     "name": "stderr",
     "output_type": "stream",
     "text": [
      "\r",
      " 75%|█████████████████████████████████████████████████████████████▌                    | 45/60 [17:03<03:21, 13.41s/it]"
     ]
    },
    {
     "name": "stdout",
     "output_type": "stream",
     "text": [
      "stop reason: x_max;\n",
      "flight time: 140.5 с.;\n",
      "execution time: 13.066939999999931 с.\n"
     ]
    },
    {
     "name": "stderr",
     "output_type": "stream",
     "text": [
      "\r",
      " 77%|██████████████████████████████████████████████████████████████▊                   | 46/60 [17:16<03:08, 13.44s/it]"
     ]
    },
    {
     "name": "stdout",
     "output_type": "stream",
     "text": [
      "stop reason: x_max;\n",
      "flight time: 140.0 с.;\n",
      "execution time: 13.501414100000147 с.\n"
     ]
    },
    {
     "name": "stderr",
     "output_type": "stream",
     "text": [
      "\r",
      " 78%|████████████████████████████████████████████████████████████████▏                 | 47/60 [17:29<02:51, 13.22s/it]"
     ]
    },
    {
     "name": "stdout",
     "output_type": "stream",
     "text": [
      "stop reason: x_max;\n",
      "flight time: 136.5 с.;\n",
      "execution time: 12.69817779999994 с.\n"
     ]
    },
    {
     "name": "stderr",
     "output_type": "stream",
     "text": [
      "\r",
      " 80%|█████████████████████████████████████████████████████████████████▌                | 48/60 [17:42<02:37, 13.10s/it]"
     ]
    },
    {
     "name": "stdout",
     "output_type": "stream",
     "text": [
      "stop reason: x_max;\n",
      "flight time: 136.0 с.;\n",
      "execution time: 12.836587100000088 с.\n"
     ]
    },
    {
     "name": "stderr",
     "output_type": "stream",
     "text": [
      "\r",
      " 82%|██████████████████████████████████████████████████████████████████▉               | 49/60 [17:54<02:21, 12.86s/it]"
     ]
    },
    {
     "name": "stdout",
     "output_type": "stream",
     "text": [
      "stop reason: x_max;\n",
      "flight time: 131.5 с.;\n",
      "execution time: 12.308265199999823 с.\n"
     ]
    },
    {
     "name": "stderr",
     "output_type": "stream",
     "text": [
      "\r",
      " 83%|████████████████████████████████████████████████████████████████████▎             | 50/60 [18:06<02:06, 12.67s/it]"
     ]
    },
    {
     "name": "stdout",
     "output_type": "stream",
     "text": [
      "stop reason: x_max;\n",
      "flight time: 131.0 с.;\n",
      "execution time: 12.211281799999824 с.\n"
     ]
    },
    {
     "name": "stderr",
     "output_type": "stream",
     "text": [
      "\r",
      " 85%|█████████████████████████████████████████████████████████████████████▋            | 51/60 [18:18<01:51, 12.43s/it]"
     ]
    },
    {
     "name": "stdout",
     "output_type": "stream",
     "text": [
      "stop reason: x_max;\n",
      "flight time: 129.0 с.;\n",
      "execution time: 11.863451799999893 с.\n"
     ]
    },
    {
     "name": "stderr",
     "output_type": "stream",
     "text": [
      "\r",
      " 87%|███████████████████████████████████████████████████████████████████████           | 52/60 [18:30<01:38, 12.26s/it]"
     ]
    },
    {
     "name": "stdout",
     "output_type": "stream",
     "text": [
      "stop reason: x_max;\n",
      "flight time: 128.5 с.;\n",
      "execution time: 11.8698930999999 с.\n"
     ]
    },
    {
     "name": "stderr",
     "output_type": "stream",
     "text": [
      "\r",
      " 88%|████████████████████████████████████████████████████████████████████████▍         | 53/60 [18:42<01:24, 12.13s/it]"
     ]
    },
    {
     "name": "stdout",
     "output_type": "stream",
     "text": [
      "stop reason: x_max;\n",
      "flight time: 128.0 с.;\n",
      "execution time: 11.810306500000024 с.\n"
     ]
    },
    {
     "name": "stderr",
     "output_type": "stream",
     "text": [
      "\r",
      " 90%|█████████████████████████████████████████████████████████████████████████▊        | 54/60 [18:54<01:12, 12.07s/it]"
     ]
    },
    {
     "name": "stdout",
     "output_type": "stream",
     "text": [
      "stop reason: x_max;\n",
      "flight time: 127.5 с.;\n",
      "execution time: 11.953500300000087 с.\n"
     ]
    },
    {
     "name": "stderr",
     "output_type": "stream",
     "text": [
      "\r",
      " 92%|███████████████████████████████████████████████████████████████████████████▏      | 55/60 [19:05<00:58, 11.70s/it]"
     ]
    },
    {
     "name": "stdout",
     "output_type": "stream",
     "text": [
      "stop reason: y_max_atmo;\n",
      "flight time: 117.0 с.;\n",
      "execution time: 10.821565799999917 с.\n"
     ]
    },
    {
     "name": "stderr",
     "output_type": "stream",
     "text": [
      "\r",
      " 93%|████████████████████████████████████████████████████████████████████████████▌     | 56/60 [19:15<00:45, 11.32s/it]"
     ]
    },
    {
     "name": "stdout",
     "output_type": "stream",
     "text": [
      "stop reason: y_max_atmo;\n",
      "flight time: 114.0 с.;\n",
      "execution time: 10.446130499999981 с.\n"
     ]
    },
    {
     "name": "stderr",
     "output_type": "stream",
     "text": [
      "\r",
      " 95%|█████████████████████████████████████████████████████████████████████████████▉    | 57/60 [19:25<00:33, 11.02s/it]"
     ]
    },
    {
     "name": "stdout",
     "output_type": "stream",
     "text": [
      "stop reason: y_max_atmo;\n",
      "flight time: 111.5 с.;\n",
      "execution time: 10.296810800000003 с.\n"
     ]
    },
    {
     "name": "stderr",
     "output_type": "stream",
     "text": [
      "\r",
      " 97%|███████████████████████████████████████████████████████████████████████████████▎  | 58/60 [19:35<00:20, 10.45s/it]"
     ]
    },
    {
     "name": "stdout",
     "output_type": "stream",
     "text": [
      "stop reason: y_max_atmo;\n",
      "flight time: 98.0 с.;\n",
      "execution time: 9.125900600000023 с.\n"
     ]
    },
    {
     "name": "stderr",
     "output_type": "stream",
     "text": [
      "\r",
      " 98%|████████████████████████████████████████████████████████████████████████████████▋ | 59/60 [19:43<00:09,  9.94s/it]"
     ]
    },
    {
     "name": "stdout",
     "output_type": "stream",
     "text": [
      "stop reason: y_max_atmo;\n",
      "flight time: 94.5 с.;\n",
      "execution time: 8.74980759999994 с.\n"
     ]
    },
    {
     "name": "stderr",
     "output_type": "stream",
     "text": [
      "100%|██████████████████████████████████████████████████████████████████████████████████| 60/60 [19:52<00:00, 19.87s/it]"
     ]
    },
    {
     "name": "stdout",
     "output_type": "stream",
     "text": [
      "stop reason: y_max_atmo;\n",
      "flight time: 93.5 с.;\n",
      "execution time: 8.697578499999963 с.\n"
     ]
    },
    {
     "name": "stderr",
     "output_type": "stream",
     "text": [
      "\n"
     ]
    }
   ],
   "source": [
    "mass_reason = []\n",
    "mass_x_end = []\n",
    "mass_y_end = []\n",
    "mass_v_max = []\n",
    "mass_v_avr = []\n",
    "for i in tqdm(range(len(mass_V0))):\n",
    "    opts['myu_0'] = mass_μ0[i]\n",
    "    opts['q_M'] = mass_qm0[i]\n",
    "    res = ozvb(opts)\n",
    "    mass_reason.append(res['stop_reason'])\n",
    "    mass_x_end.append(res['x'][-1])\n",
    "    mass_y_end.append(res['y'][-1])\n",
    "    mass_v_max.append(max(res['v']))\n",
    "    mass_v_avr.append(np.average(res['v']))"
   ]
  },
  {
   "cell_type": "code",
   "execution_count": 41,
   "metadata": {},
   "outputs": [],
   "source": [
    "mass_x_end_env = []\n",
    "mass_y_end_env = []\n",
    "mass_v_max_env = []\n",
    "mass_v_avr_env = []\n",
    "mass_m0_env = []\n",
    "mass_μ0_env = []\n",
    "mass_v_max_opt = []\n",
    "mass_m0_opt = []\n",
    "mass_μ0_opt = []\n",
    "mass_v_avr_opt = []\n",
    "for i in range(len(mass_reason)):\n",
    "    if mass_reason[i] == 'x_max':\n",
    "        mass_x_end_env.append(mass_x_end[i])\n",
    "        mass_y_end_env.append(mass_y_end[i])\n",
    "        mass_v_max_env.append(mass_v_max[i])\n",
    "        mass_m0_env.append(mass_m0[i])\n",
    "        mass_μ0_env.append(mass_μ0[i])\n",
    "        mass_v_avr_env.append(mass_v_avr[i])\n",
    "    if mass_y_end[i] > 30e3:\n",
    "        mass_v_max_opt.append(mass_v_max[i])\n",
    "        mass_m0_opt.append(mass_m0[i])\n",
    "        mass_μ0_opt.append(mass_μ0[i])\n",
    "        mass_v_avr_opt.append(mass_v_avr[i])"
   ]
  },
  {
   "cell_type": "code",
   "execution_count": 42,
   "metadata": {},
   "outputs": [
    {
     "data": {
      "text/plain": [
       "(1374.7429417617577, 2349.6915301141094, 0.58507379549306)"
      ]
     },
     "execution_count": 42,
     "metadata": {},
     "output_type": "execute_result"
    }
   ],
   "source": [
    "mass_μ0_opt[0] * mass_m0_opt[0], mass_m0_opt[0], mass_μ0_opt[0]"
   ]
  },
  {
   "cell_type": "code",
   "execution_count": 17,
   "metadata": {},
   "outputs": [],
   "source": [
    "μ0_opt = 0.58507379549306\n",
    "m0_opt = 2350"
   ]
  },
  {
   "cell_type": "code",
   "execution_count": 46,
   "metadata": {},
   "outputs": [
    {
     "data": {
      "image/png": "[encoded data removed]",
      "text/plain": [
       "<Figure size 900x600 with 1 Axes>"
      ]
     },
     "metadata": {
      "needs_background": "light"
     },
     "output_type": "display_data"
    }
   ],
   "source": [
    "plt.figure(dpi=150)\n",
    "# plt.plot(mass_v_avr, mass_m0, lw=2, ls='-.')\n",
    "# plt.plot(mass_v_avr_env, mass_m0_env, lw=2, label='$D_{max}$ = 200 км')\n",
    "plt.plot(mass_v_max, mass_m0, lw=2, ls='-.')\n",
    "plt.plot(mass_v_max_env, mass_m0_env, lw=2, label='$D_{max}$ = 200 км')\n",
    "plt.plot(mass_v_max_opt, mass_m0_opt, lw=2, label='$H(D_{max})$ > 30 км')\n",
    "plt.vlines(mass_v_max_opt[0], mass_m0[0], mass_m0_opt[0], ls='--', color='k', lw=1)\n",
    "plt.hlines(mass_m0_opt[0], mass_v_max[0], mass_v_max_opt[0], ls='--', color='k', lw=1)\n",
    "plt.scatter(mass_v_max_opt[0], mass_m0_opt[0], marker='*', s=150, color='silver', edgecolor='k', label='Оптимальная $m_0$', zorder=1)\n",
    "plt.ylabel('$m_0$', fontsize=12)\n",
    "plt.xlabel('$V_{0}(V_{max})$', fontsize=12)\n",
    "plt.ylim(mass_m0[0], mass_m0[-1])\n",
    "plt.xlim(mass_v_max[0], mass_v_max[-1])\n",
    "plt.legend(fontsize=10)\n",
    "plt.grid()\n",
    "plt.savefig('pictures/решение обратной задачи.png', dpi=500, bbox_inches='tight')\n",
    "plt.show()"
   ]
  },
  {
   "cell_type": "markdown",
   "metadata": {},
   "source": [
    "### 1.4. Получаем профиль скорости и траекторию полёта"
   ]
  },
  {
   "cell_type": "code",
   "execution_count": 18,
   "metadata": {},
   "outputs": [],
   "source": [
    "opts['myu_0'] = μ0_opt\n",
    "opts['q_M'] = m0_opt * 9.80665 / (np.pi * 0.515**2 / 4)\n",
    "opts['integr']['dt'] = 0.5"
   ]
  },
  {
   "cell_type": "code",
   "execution_count": 19,
   "metadata": {},
   "outputs": [
    {
     "name": "stdout",
     "output_type": "stream",
     "text": [
      "stop reason: x_max;\n",
      "flight time: 163.0 с.;\n",
      "execution time: 22.316002300000008 с.\n"
     ]
    }
   ],
   "source": [
    "res = ozvb(opts)"
   ]
  },
  {
   "cell_type": "code",
   "execution_count": 20,
   "metadata": {},
   "outputs": [
    {
     "data": {
      "image/png": "[encoded data removed]",
      "text/plain": [
       "<Figure size 600x400 with 1 Axes>"
      ]
     },
     "metadata": {
      "needs_background": "light"
     },
     "output_type": "display_data"
    },
    {
     "data": {
      "text/plain": [
       "(2013.8068187339888, 1303.8163063149402)"
      ]
     },
     "execution_count": 20,
     "metadata": {},
     "output_type": "execute_result"
    }
   ],
   "source": [
    "plt.figure(dpi=100)\n",
    "plt.plot(res['t'], res['v'], linewidth=2)\n",
    "plt.grid()\n",
    "plt.xlabel('$t$, с'), plt.ylabel('$V$, м/с') \n",
    "plt.grid(True, linewidth=0.3, color='k')\n",
    "plt.savefig('pictures/профиль скорости начальный.png', dpi=300, bbox_inches='tight')\n",
    "plt.show()\n",
    "max(res['v']), np.mean(res['v'])"
   ]
  },
  {
   "cell_type": "code",
   "execution_count": 21,
   "metadata": {},
   "outputs": [
    {
     "data": {
      "image/png": "[encoded data removed]",
      "text/plain": [
       "<Figure size 600x400 with 1 Axes>"
      ]
     },
     "metadata": {
      "needs_background": "light"
     },
     "output_type": "display_data"
    }
   ],
   "source": [
    "plt.figure(dpi=100)\n",
    "plt.plot(res['x']/1e3, res['y']/1e3, linewidth=2)\n",
    "plt.xlabel('$x$, км'), plt.ylabel('$y$, км') \n",
    "plt.xlim(0, 200), plt.ylim(0, 200)\n",
    "plt.grid(True, linewidth=0.3, color='k')\n",
    "plt.show()"
   ]
  },
  {
   "cell_type": "code",
   "execution_count": 22,
   "metadata": {
    "scrolled": true
   },
   "outputs": [
    {
     "name": "stdout",
     "output_type": "stream",
     "text": [
      "Стартовая масса ракеты: m0 = 2349.9999999999995 кг;\n",
      "Нагрузка на мидель на старте: q = 110632.87497873933 Н/м^2;\n",
      "Длина корпуса ракеты: l = 7.520942420278712 м (длина ТПК 7810 мм);\n",
      "Удлинение корпуса ракеты: λ = 14.603771689861576;\n",
      "Масса топлива двигателя: w = 1374.9234194086907 кг;\n",
      "Время работы двигателя: t = 11.932184701056123 с;\n",
      "Расход топлива: G = 115.22813749999995 кг/с;\n",
      "Тяга ДУ: P = 299593.1574999999 Н;\n",
      "Полный импульс тяги ДУ: I = 3574800.8904625964 Н*с;\n"
     ]
    }
   ],
   "source": [
    "g = 9.80665\n",
    "m_0 = opts['q_M'] * np.pi * 0.515**2 / (9.80665 * 4)\n",
    "d = 0.515 # из прототипа\n",
    "gamma = 1500 # плотность ракеты по статистике (удельный вес)\n",
    "q_m = (4 * m_0 * g) / (np.pi * d**2)\n",
    "l_korp = m_0 / (np.pi * d**2 / 4 * gamma)\n",
    "lambd_korp = l_korp / d\n",
    "w_marsh = m_0 * opts['myu_0']\n",
    "t_marsh = opts['I_10'] * opts['myu_0'] / opts['η_0'] / g\n",
    "G_marsh = w_marsh / t_marsh\n",
    "P_marsh = opts['η_0'] * g * m_0 #  у прототипа 220000\n",
    "print(f'Стартовая масса ракеты: m0 = {m_0} кг;')\n",
    "print(f'Нагрузка на мидель на старте: q = {q_m} Н/м^2;')\n",
    "print(f'Длина корпуса ракеты: l = {l_korp} м (длина ТПК 7810 мм);')\n",
    "print(f'Удлинение корпуса ракеты: λ = {lambd_korp};')\n",
    "print(f'Масса топлива двигателя: w = {w_marsh} кг;')\n",
    "print(f'Время работы двигателя: t = {t_marsh} с;')\n",
    "print(f'Расход топлива: G = {G_marsh} кг/с;')\n",
    "print(f'Тяга ДУ: P = {P_marsh} Н;')\n",
    "print(f'Полный импульс тяги ДУ: I = {P_marsh*t_marsh} Н*с;')"
   ]
  },
  {
   "cell_type": "markdown",
   "metadata": {},
   "source": [
    "## 2) Определение АД коэффициентов для более подробной мат модели\n",
    "\n",
    "Далее как бы идет уже центровочный расчет, но перед этим надо посчитать движок, чтобы в конце определить длину заряда и следовательно накинуть приблизительно длину отсека ДУ, а остальные отсеки берем из прототипа. Изи"
   ]
  },
  {
   "cell_type": "markdown",
   "metadata": {},
   "source": [
    "### 2.1. Центровочный расчет ракеты"
   ]
  },
  {
   "cell_type": "code",
   "execution_count": 145,
   "metadata": {},
   "outputs": [],
   "source": [
    "# длины отсеков\n",
    "L1, L2, L3, L4, L5 = 0.913, 1.163, 0.568, 5, 0.654"
   ]
  },
  {
   "cell_type": "code",
   "execution_count": 146,
   "metadata": {},
   "outputs": [],
   "source": [
    "# из расчета РДТТ\n",
    "w_marsh = 1428.122\n",
    "α_д = 0.202"
   ]
  },
  {
   "cell_type": "code",
   "execution_count": 147,
   "metadata": {},
   "outputs": [],
   "source": [
    "# плотности отсеков\n",
    "rho1, rho2, rho3, rho5 = 350, 630, 1500, 800"
   ]
  },
  {
   "cell_type": "code",
   "execution_count": 148,
   "metadata": {},
   "outputs": [
    {
     "data": {
      "text/plain": [
       "(8.298,\n",
       " 5.519,\n",
       " 0.913,\n",
       " 1.7309999999999999,\n",
       " 0.45457056521851075,\n",
       " 0.49517104624154484)"
      ]
     },
     "execution_count": 148,
     "metadata": {},
     "output_type": "execute_result"
    }
   ],
   "source": [
    "L_korm = 135 / 1e3\n",
    "b_0_oper = 1360.030793 / 1e3\n",
    "betta_kon2 = 1\n",
    "a = 0.2\n",
    "d = 0.515\n",
    "d_korm = 0.490\n",
    "c_oper = 0.03\n",
    "khi_rul = 0\n",
    "class_korp = 7\n",
    "class_oper = 5\n",
    "\n",
    "L_korp = L1 + L2 + L3 + L4 + L5\n",
    "L_cil = (L4 + L5 - L_korm)\n",
    "L_kon1 = L1\n",
    "L_kon2 = (L2 + L3)\n",
    "d_kon1 = d - 2 * np.tan(np.radians(betta_kon2)) * L_kon2\n",
    "d_kon2 = d_kon1 + 2 * np.tan(np.radians(betta_kon2)) * L2\n",
    "L_korp, L_cil, L_kon1, L_kon2, d_kon1, d_kon2"
   ]
  },
  {
   "cell_type": "code",
   "execution_count": 149,
   "metadata": {
    "scrolled": true
   },
   "outputs": [
    {
     "data": {
      "text/plain": [
       "(0.04939034105320427,\n",
       " 0.2061033311052143,\n",
       " 0.11382137676154422,\n",
       " 1.0415361394354412,\n",
       " 0.13488989617874605)"
      ]
     },
     "execution_count": 149,
     "metadata": {},
     "output_type": "execute_result"
    }
   ],
   "source": [
    "# объемы отсеков\n",
    "V1 = 1/3 * np.pi * (d_kon1/2)**2 * L_kon1\n",
    "V2 = 1/3 * np.pi * L2 * ((d_kon1/2)**2 + (d_kon1/2) * (d_kon2/2) + (d_kon2/2)**2)\n",
    "V3 = 1/3 * np.pi * L3 * ((d_kon2/2)**2 + (d_kon2/2) * (d/2) + (d/2)**2)\n",
    "V4 = 1/4 * np.pi * d**2 * L4 \n",
    "V5 = 1/4 * np.pi * d**2 * (L5 - L_korm) + 1/3 * np.pi * L_korm * ((d/2)**2 + (d/2)*(d_korm/2) + (d_korm/2)**2)\n",
    "V1, V2, V3, V4, V5"
   ]
  },
  {
   "cell_type": "code",
   "execution_count": 150,
   "metadata": {},
   "outputs": [
    {
     "data": {
      "text/plain": [
       "(17.286619368621494,\n",
       " 129.84509859628503,\n",
       " 170.73206514231632,\n",
       " 1716.602644,\n",
       " 107.91191694299684)"
      ]
     },
     "execution_count": 150,
     "metadata": {},
     "output_type": "execute_result"
    }
   ],
   "source": [
    "# массы отсеков\n",
    "Q1, Q2, Q3, Q4, Q5 = rho1 * V1, rho2 * V2, rho3 * V3, w_marsh + α_д * w_marsh, rho5 * V5\n",
    "Q1, Q2, Q3, Q4, Q5"
   ]
  },
  {
   "cell_type": "code",
   "execution_count": 151,
   "metadata": {},
   "outputs": [
    {
     "data": {
      "text/plain": [
       "2142.3783440502198"
      ]
     },
     "execution_count": 151,
     "metadata": {},
     "output_type": "execute_result"
    }
   ],
   "source": [
    "# масса ракеты\n",
    "Q1 + Q2 + Q3 + Q4 + Q5"
   ]
  },
  {
   "cell_type": "code",
   "execution_count": 152,
   "metadata": {},
   "outputs": [
    {
     "data": {
      "text/plain": [
       "(0.6086666666666667, 1.5110622638534332, 2.368088878648968, 5.144, 7.971)"
      ]
     },
     "execution_count": 152,
     "metadata": {},
     "output_type": "execute_result"
    }
   ],
   "source": [
    "# центры масс отсеков\n",
    "x_ct1 = 2/3 * L_kon1\n",
    "r_kon1, r_kon2 = d_kon1/2, d_kon2/2\n",
    "x_ct2 = L_kon1 + (L2 - L2/4 * ((r_kon2**2 + 2*r_kon1*r_kon2 + 3*r_kon1**2) / (r_kon2**2 + r_kon1*r_kon2 + r_kon1**2)))\n",
    "x_ct3 = L_kon1 + L2 + (L3 - L3/4 * ((r_kon2**2 + 2*r_kon1*r_kon2 + 3*r_kon1**2) / (r_kon2**2 + r_kon1*r_kon2 + r_kon1**2)))\n",
    "x_ct4 = L_kon1 + L_kon2 + L4/2\n",
    "x_ct5 = L_kon1 + L_kon2 + L4 + L5/2\n",
    "x_ct1, x_ct2, x_ct3, x_ct4, x_ct5"
   ]
  },
  {
   "cell_type": "code",
   "execution_count": 153,
   "metadata": {},
   "outputs": [
    {
     "data": {
      "text/plain": [
       "(4.808396444826858, 4.137372904870341)"
      ]
     },
     "execution_count": 153,
     "metadata": {},
     "output_type": "execute_result"
    }
   ],
   "source": [
    "# центры масс ракеты в характерных точках\n",
    "x_ct_0 = (Q1 * x_ct1 + Q2 * x_ct2 + Q3 * x_ct3 + Q4 * x_ct4 + Q5 * x_ct5) / (Q1 + Q2 + Q3 + Q4 + Q5)\n",
    "x_ct_marsh = (Q1 * x_ct1 + Q2 * x_ct2 + Q3 * x_ct3 + (α_д * w_marsh) * x_ct4 + Q5 * x_ct5) / (Q1 + Q2 + Q3 + (α_д * w_marsh) + Q5)\n",
    "x_ct_0, x_ct_marsh"
   ]
  },
  {
   "cell_type": "code",
   "execution_count": 154,
   "metadata": {},
   "outputs": [
    {
     "data": {
      "text/plain": [
       "(-4.199729778160192,\n",
       " -3.297334180973425,\n",
       " -2.44030756617789,\n",
       " 0.335603555173142,\n",
       " 3.162603555173142)"
      ]
     },
     "execution_count": 154,
     "metadata": {},
     "output_type": "execute_result"
    }
   ],
   "source": [
    "x_ct1 - x_ct_0, x_ct2 - x_ct_0, x_ct3 - x_ct_0, x_ct4 - x_ct_0, x_ct5 - x_ct_0"
   ]
  },
  {
   "cell_type": "code",
   "execution_count": 155,
   "metadata": {},
   "outputs": [
    {
     "data": {
      "text/plain": [
       "(-3.5287062382036747,\n",
       " -2.626310641016908,\n",
       " -1.7692840262213734,\n",
       " 1.0066270951296588,\n",
       " 3.8336270951296587)"
      ]
     },
     "execution_count": 155,
     "metadata": {},
     "output_type": "execute_result"
    }
   ],
   "source": [
    "x_ct1 - x_ct_marsh, x_ct2 - x_ct_marsh, x_ct3 - x_ct_marsh, x_ct4 - x_ct_marsh, x_ct5 - x_ct_marsh"
   ]
  },
  {
   "cell_type": "code",
   "execution_count": 156,
   "metadata": {},
   "outputs": [
    {
     "data": {
      "text/plain": [
       "4006.035045421562"
      ]
     },
     "execution_count": 156,
     "metadata": {},
     "output_type": "execute_result"
    }
   ],
   "source": [
    "I1 = Q1 * (x_ct1 - x_ct_0) ** 2\n",
    "I2 = Q2 * (x_ct2 - x_ct_0) ** 2\n",
    "I3 = Q3 * (x_ct3 - x_ct_0) ** 2\n",
    "I4 = Q4 * (x_ct4 - x_ct_0) ** 2\n",
    "I5 = Q5 * (x_ct5 - x_ct_0) ** 2\n",
    "I0 = I1 + I2 + I3 + I4 + I5\n",
    "I0"
   ]
  },
  {
   "cell_type": "code",
   "execution_count": 157,
   "metadata": {},
   "outputs": [
    {
     "data": {
      "text/plain": [
       "3523.5759721556424"
      ]
     },
     "execution_count": 157,
     "metadata": {},
     "output_type": "execute_result"
    }
   ],
   "source": [
    "I1пуст = Q1 * (x_ct1 - x_ct_marsh) ** 2\n",
    "I2пуст = Q2 * (x_ct2 - x_ct_marsh) ** 2\n",
    "I3пуст = Q3 * (x_ct3 - x_ct_marsh) ** 2\n",
    "I4пуст = (Q4-w_marsh) * (x_ct4 - x_ct_marsh) ** 2\n",
    "I5пуст = (Q5) * (x_ct5 - x_ct_marsh) ** 2\n",
    "Iпуст = I1пуст + I2пуст + I3пуст + I4пуст + I5пуст\n",
    "Iпуст"
   ]
  },
  {
   "cell_type": "code",
   "execution_count": 158,
   "metadata": {},
   "outputs": [
    {
     "data": {
      "text/plain": [
       "8.08656953430365"
      ]
     },
     "execution_count": 158,
     "metadata": {},
     "output_type": "execute_result"
    }
   ],
   "source": [
    "# разбежка центра масс\n",
    "razbezhka = (x_ct_0 - x_ct_marsh) / L_korp * 100\n",
    "razbezhka"
   ]
  },
  {
   "cell_type": "markdown",
   "metadata": {},
   "source": [
    "### 2.2. Определение АД характеристик на траектории полета полученного профиля скорости"
   ]
  },
  {
   "cell_type": "code",
   "execution_count": 159,
   "metadata": {},
   "outputs": [],
   "source": [
    "def get_P(t):\n",
    "    if t < t_marsh:\n",
    "        return P_marsh\n",
    "    else:\n",
    "        return 0"
   ]
  },
  {
   "cell_type": "code",
   "execution_count": 160,
   "metadata": {},
   "outputs": [],
   "source": [
    "def get_x_ct(t):\n",
    "    dx_ct = abs(x_ct_0 - x_ct_marsh) / t_marsh\n",
    "    if t < t_marsh:\n",
    "        return x_ct_0 - dx_ct * t\n",
    "    else:\n",
    "        return x_ct_marsh"
   ]
  },
  {
   "cell_type": "code",
   "execution_count": 161,
   "metadata": {},
   "outputs": [],
   "source": [
    "def aero_coef(state, params):\n",
    "    \"\"\"\n",
    "    Ф-ция расчёта аэродинамических коэффициентов ракеты в состоянии state\n",
    "    arguments: state {np.ndarray}             -- состояние ракеты:\n",
    "                                                 [v,   x, y, Q,       alpha,   t]\n",
    "                                                 [м/с, м, м, радианы, градусы, с]\n",
    "               params {np.ndarray/list/tuple} -- варьируемые параметры:\n",
    "                                                 [S_oper, x_b_oper, L_oper, khi_pk_oper]\n",
    "    return: {dict}                            -- словарь с АД коэф-тами \n",
    "    \"\"\" \n",
    "    \n",
    "    S_oper, x_b_oper, L_oper, khi_pk_oper = params\n",
    "    \n",
    "    v, x, y, alpha, t = state[0], state[1], state[2], state[4], state[5] \n",
    "    Mach = v / table_atm(y, 4)\n",
    "    nyu = table_atm(y, 6)\n",
    "    x_ct = get_x_ct(t)\n",
    "    Re_korp_f = v * L_korp / nyu\n",
    "    Re_korp_t = table_4_5(Mach, Re_korp_f, class_korp, L_korp)\n",
    "    \n",
    "    \n",
    "    # Вычисление геометрии корпуса:\n",
    "    L_nos = L_kon1 + L_kon2\n",
    "    d_kon1 = d - 2 * np.tan(np.radians(betta_kon2)) * L_kon2\n",
    "    betta_kon1 = (d_kon1 / 2) / L_kon1\n",
    "    S_kon1 = np.pi * d_kon1**2 / 4\n",
    "    S_mid = np.pi * d**2 / 4\n",
    "    S_dno = np.pi * d_korm**2 / 4\n",
    "    F_f = (np.pi * d_kon1/2 * np.sqrt((d_kon1/2)**2 + L_kon1**2)) + (np.pi * (d_kon1/2 + d/2) * np.sqrt((d/2 - d_kon1/2)**2 + L_kon2**2)) + (np.pi * d * L_cil) + (np.pi * (d_korm/2 + d/2) * np.sqrt((d/2 - d_korm/2)**2 + L_korm**2))\n",
    "    W_nos = 1/3 * L_kon1 * S_mid + 1/3 * np.pi * L_kon2 * ((d_kon1/2)**2 + (d_kon1/2)*(d/2) + (d/2)**2)\n",
    "    lambd_korp = L_korp / d\n",
    "    lambd_nos = L_nos / d\n",
    "    lambd_cil = L_cil / d\n",
    "    lambd_korm = L_korm / d\n",
    "    nu_korm = d_korm / d\n",
    "    \n",
    "    \n",
    "    # Вычисление геометрии рулей (оперения):\n",
    "    D_oper = d / L_oper\n",
    "    L_k_oper = L_oper - d\n",
    "    tg_khi_pk_oper = np.tan(np.radians(khi_pk_oper))\n",
    "    lambd_oper = L_oper**2 / S_oper\n",
    "    nu_oper = (S_oper / (L_oper * b_0_oper) - 0.5) ** (-1) / 2\n",
    "    b_k_oper = b_0_oper / nu_oper\n",
    "    b_a_oper = 4 / 3 * S_oper / L_oper * (1 - (nu_oper / (nu_oper + 1) ** 2))\n",
    "    b_b_oper = b_0_oper * (1 - (nu_oper - 1) / nu_oper * d / L_oper)\n",
    "    z_a_oper = L_oper / 6 * ((nu_oper + 2) / (nu_oper + 1))\n",
    "    S_k_oper = S_oper * (1 - ((nu_oper - 1) / (nu_oper + 1)) * d / L_oper) * (1 - d / L_oper)\n",
    "    nu_k_oper = nu_oper - d / L_oper * (nu_oper - 1)\n",
    "    lambd_k_oper = lambd_oper * ((1 - d / L_oper) / (1 - ((nu_oper - 1) / (nu_oper + 1) * d / L_oper)))\n",
    "    tg_khi_05_oper = tg_khi_pk_oper - 2 / lambd_oper * (nu_k_oper - 1) / (nu_k_oper + 1)\n",
    "    a_oper = 2/3 * b_b_oper\n",
    "    K_oper = 1 / (1 - a_oper / b_a_oper)\n",
    "    L_hv_oper = L_korp - x_b_oper - b_b_oper\n",
    "    if tg_khi_pk_oper == 0:\n",
    "        x_b_a_oper = x_b_oper\n",
    "    else:\n",
    "        x_b_a_oper = x_b_oper + (z_a_oper - d / 2) * tg_khi_pk_oper\n",
    "\n",
    "    \n",
    "    # Коэф-т подъемной силы корпуса\n",
    "    if Mach <= 1:\n",
    "        Cy_alpha_nos = 2 / 57.3 * (1 + 0.27 * Mach**2)\n",
    "    else:\n",
    "        Cy_alpha_nos = 2 / 57.3 * (np.cos(np.radians(betta_kon1))**2 * S_kon1 / S_mid\n",
    "                                   + np.cos(np.radians(betta_kon2))**2 * (1 - S_kon1 / S_mid))\n",
    "    Cy_alpha_korm = - 2 / 57.3 * (1 - nu_korm ** 2) * a\n",
    "    Cy_alpha_korp = Cy_alpha_nos + Cy_alpha_korm\n",
    "    \n",
    "    \n",
    "    # Коэф-т подъемной силы оперения по углу атаки\n",
    "    K_t_oper = table_3_21(Mach, lambd_nos)\n",
    "    Cy_alpha_k_oper = Cy_alpha_iz_kr(Mach * np.sqrt(K_t_oper), lambd_oper, c_oper, tg_khi_05_oper)\n",
    "    k_aa_oper = (1 + 0.41 * D_oper)**2 * ((1 + 3 * D_oper - 1 / nu_k_oper * D_oper * (1 - D_oper)) / (1 + D_oper)**2)\n",
    "    K_aa_oper = 1 + 3 * D_oper - (D_oper * (1 - D_oper)) / nu_k_oper\n",
    "    Cy_alpha_oper = Cy_alpha_k_oper * K_aa_oper\n",
    "    \n",
    "    \n",
    "    # Коэф-т подъемной силы оперения (рулей) по углу их отклонения\n",
    "    K_delt_0_oper = k_aa_oper\n",
    "    k_delt_0_oper = k_aa_oper ** 2 / K_aa_oper\n",
    "    if Mach <= 1:\n",
    "        k_shch = 0.825\n",
    "    elif 1 < Mach <= 1.4:\n",
    "        k_shch = 0.85 + 0.15 * (Mach - 1) / 0.4\n",
    "    else:\n",
    "        k_shch = 0.975\n",
    "    n_eff = k_shch * np.cos(np.radians(khi_rul))\n",
    "    Сy_delt_oper = Cy_alpha_k_oper * K_delt_0_oper * n_eff\n",
    "    \n",
    "    \n",
    "    # Коэф-т подъемной силы ракеты\n",
    "    Cy_alpha = Cy_alpha_korp * (S_mid / S_mid)  + Cy_alpha_oper * (S_oper / S_mid) * K_t_oper    \n",
    "      \n",
    "    \n",
    "    # Сопротивление корпуса\n",
    "    x_t = Re_korp_t * nyu / v\n",
    "    x_t_ = x_t / L_korp\n",
    "    Cx_f_ = table_4_2(Re_korp_f, x_t_) / 2\n",
    "    nu_m = table_4_3(Mach, x_t_)\n",
    "    nu_c = 1 + 1 / lambd_nos\n",
    "    Cx_tr = Cx_f_ * (F_f / S_mid) * nu_m * nu_c\n",
    "    \n",
    "    if Mach > 1:\n",
    "        p_kon1_ = (0.0016 + 0.002 / Mach**2) * betta_kon1**1.7\n",
    "        p_kon2_ = (0.0016 + 0.002 / Mach**2) * betta_kon2**1.7\n",
    "        Cx_nos = p_kon1_ * (S_kon1 / S_mid) + p_kon2_ * (1 - (S_kon1 / S_mid))\n",
    "    else:\n",
    "        Cx_nos = table_4_11(Mach, lambd_nos)\n",
    "\n",
    "    Cx_korm = table_4_24(Mach, nu_korm, lambd_korm)\n",
    "    \n",
    "    if get_P(t) == 0:\n",
    "        p_dno_ = table_p_dno_(Mach, oper=True)\n",
    "        K_nu = table_k_nu(nu_korm, lambd_korm, Mach)\n",
    "        Cx_dno = p_dno_ * K_nu * (S_dno / S_mid)\n",
    "    else:\n",
    "        Cx_dno = 0\n",
    "    Cx_0_korp = Cx_tr + Cx_nos + Cx_korm + Cx_dno\n",
    "    \n",
    "    if Mach < 1:\n",
    "        phi = -0.2\n",
    "    else:\n",
    "        phi = 0.7\n",
    "    Cx_ind_korp = Cy_alpha_korp * alpha**2 * ((1 + phi) / 57.3)\n",
    "    \n",
    "    Cx_korp = Cx_0_korp + Cx_ind_korp\n",
    "    \n",
    "    \n",
    "    # Сопротивление оперения\n",
    "    Re_oper_f = v * b_a_oper / nyu\n",
    "    Re_oper_t = table_4_5(Mach, Re_oper_f, class_oper, b_a_oper)\n",
    "    x_t_oper = Re_oper_t / Re_oper_f\n",
    "    C_f_oper = table_4_2(Re_oper_f, x_t_oper)\n",
    "    nu_c_oper = table_4_28(x_t_oper, c_oper)\n",
    "    Cx_oper_prof = C_f_oper * nu_c_oper\n",
    "    \n",
    "    if Mach < 1.1:\n",
    "        Cx_oper_voln = table_4_30(Mach, nu_k_oper, lambd_oper, tg_khi_05_oper, c_oper)\n",
    "    else:\n",
    "        phi = table_4_32(Mach, tg_khi_05_oper)\n",
    "        Cx_oper_voln = (table_4_30(Mach, nu_k_oper, lambd_oper, tg_khi_05_oper, c_oper)) * (1 + phi * (K_oper - 1))\n",
    "        \n",
    "    Cx_0_oper = Cx_oper_prof + Cx_oper_voln\n",
    "    \n",
    "    if Mach * np.cos(np.radians(khi_pk_oper)) > 1:\n",
    "        Cx_ind_oper = (Cy_alpha_oper * alpha) * np.tan(np.radians(alpha))\n",
    "    else:\n",
    "        Cx_ind_oper = 0.38 * (Cy_alpha_oper * alpha)**2 / (lambd_oper - 0.8 * (Cy_alpha_oper * alpha) * (lambd_oper - 1)) *\\\n",
    "        ((lambd_oper / np.cos(np.radians(khi_pk_oper)) + 4) / (lambd_oper + 4))\n",
    "        \n",
    "    Cx_oper = Cx_0_oper + Cx_ind_oper\n",
    "    \n",
    "    Cx_0 = 1.05 * (Cx_0_korp * (S_mid / S_mid) + Cx_0_oper * K_t_oper * (S_oper / S_mid))\n",
    "    Cx_ind = Cx_ind_korp * (S_mid / S_mid) + Cx_ind_oper * (S_oper / S_mid) * K_t_oper\n",
    "    Cx = Cx_0 + Cx_ind\n",
    "    \n",
    "    \n",
    "    # Центр давления корпуса\n",
    "    delta_x_f = F_iz_korp(Mach, lambd_nos, lambd_cil, L_nos)\n",
    "    x_fa_nos_cil = L_nos - W_nos / S_mid + delta_x_f\n",
    "    x_fa_korm = L_korp - 0.5 * L_korm   \n",
    "    x_fa_korp = 1 / Cy_alpha_korp * (Cy_alpha_nos * x_fa_nos_cil + Cy_alpha_korm * x_fa_korm)\n",
    "    \n",
    "    \n",
    "    # Фокус оперения по углу атаки\n",
    "    x_f_iz_oper_ = F_iz_kr(Mach, lambd_k_oper, tg_khi_05_oper, nu_k_oper)\n",
    "    x_f_iz_oper = x_b_a_oper + b_a_oper * x_f_iz_oper_\n",
    "    f1 = table_5_11(D_oper, L_k_oper)\n",
    "    x_f_delt_oper = x_f_iz_oper - tg_khi_05_oper * f1\n",
    "    if Mach > 1:\n",
    "        b__b_oper = b_b_oper / (np.pi / 2 * d * np.sqrt(Mach ** 2 - 1))\n",
    "        L__hv_oper = L_hv_oper / (np.pi * d * np.sqrt(Mach ** 2 - 1))\n",
    "        c_const_oper = (4 + 1 / nu_k_oper) * (1 + 8 * D_oper ** 2)\n",
    "        F_1_oper = 1 - 1 / (c_const_oper * b__b_oper ** 2) * (1 - np.exp(-c_const_oper * b__b_oper ** 2))\n",
    "        F_oper = 1 - np.sqrt(np.pi) / (2 * b__b_oper * np.sqrt(c_const_oper)) * (table_int_ver((b__b_oper + L__hv_oper) *\\\n",
    "                np.sqrt(2 * c_const_oper)) - table_int_ver(L__hv_oper * np.sqrt(2 * c_const_oper)))\n",
    "        x_f_b_oper_ = x_f_iz_oper_ + 0.02 * lambd_oper * tg_khi_05_oper\n",
    "        x_f_ind_oper = x_b_oper + b_b_oper * x_f_b_oper_ * F_oper * F_1_oper\n",
    "        x_fa_oper = 1 / K_aa_oper * (x_f_iz_oper + (k_aa_oper - 1) * x_f_delt_oper + (K_aa_oper - k_aa_oper) * x_f_ind_oper)\n",
    "    else:\n",
    "        x_f_b_oper_ = x_f_iz_oper_ + 0.02 * lambd_oper * tg_khi_05_oper\n",
    "        x_f_ind_oper = x_b_oper + b_b_oper * x_f_b_oper_\n",
    "        x_fa_oper = 1 / K_aa_oper * (x_f_iz_oper + (k_aa_oper - 1) * x_f_delt_oper + (K_aa_oper - k_aa_oper) * x_f_ind_oper)\n",
    "\n",
    "        \n",
    "    # Фокус оперения по углу отклонения\n",
    "    x_fd_oper = 1 / K_delt_0_oper * (k_delt_0_oper * x_f_iz_oper + (K_delt_0_oper - k_delt_0_oper) * x_f_ind_oper)\n",
    "    \n",
    "    \n",
    "    # Фокус ракеты\n",
    "    x_fa = 1 / Cy_alpha * ((Cy_alpha_korp * (S_mid / S_mid) * x_fa_korp) + Cy_alpha_oper * (S_oper / S_mid) * x_fa_oper * K_t_oper)\n",
    "    \n",
    "    \n",
    "    # Демпфирующие моменты АД поверхностей\n",
    "    x_c_ob = L_korp * ((2 * (lambd_nos + lambd_cil)**2 - lambd_nos**2) / (4 * (lambd_nos + lambd_cil) * (lambd_nos + lambd_cil - 2 / 3 * lambd_nos)))\n",
    "    m_z_wz_korp = - 2 * (1 - x_ct / L_korp + (x_ct / L_korp) ** 2 - x_c_ob / L_korp)\n",
    "\n",
    "    x_ct_oper_ = (x_ct - x_b_a_oper) / b_a_oper\n",
    "    mz_wz_cya_iz_kr = table_5_15(nu_oper, lambd_oper, tg_khi_05_oper, Mach)\n",
    "    B1 = table_5_16(lambd_oper, tg_khi_05_oper, Mach)\n",
    "    m_z_wz_oper = (mz_wz_cya_iz_kr - B1 * (1 / 2 - x_ct_oper_) - 57.3 * (1 / 2 - x_ct_oper_)**2) * K_aa_oper * Cy_alpha_k_oper\n",
    "\n",
    "    m_z_wz = m_z_wz_korp * (S_mid / S_mid) * (L_korp / L_korp)**2 + m_z_wz_oper * (S_oper / S_mid) * (b_a_oper / L_korp)**2 * np.sqrt(K_t_oper)\n",
    "\n",
    "    \n",
    "    # Балансировочная зависимость\n",
    "    M_z_delt = Сy_delt_oper * (x_ct - x_fd_oper) / L_korp\n",
    "    M_z_alpha = Cy_alpha * (x_ct - x_fa) / L_korp\n",
    "    ballans_relation = - (M_z_alpha / M_z_delt)\n",
    "\n",
    "    \n",
    "    # Запас статической устойчивости\n",
    "    m_z_cy = (x_ct - x_fa) / L_korp\n",
    "    \n",
    "    \n",
    "    return {\n",
    "        'Cy_alpha': Cy_alpha,\n",
    "        'Cy_alpha_korp': Cy_alpha_korp,\n",
    "        'Cy_alpha_oper': Cy_alpha_oper,\n",
    "        'Cx': Cx,\n",
    "        'Cx_0': Cx_0,\n",
    "        'Cx_0_korp': Cx_0_korp,\n",
    "        'Cx_0_oper': Cx_0_oper,\n",
    "        'Cx_ind': Cx_ind,\n",
    "        'Cx_ind_korp': Cx_ind_korp,\n",
    "        'Cx_ind_oper': Cx_ind_oper,\n",
    "        'x_fa': x_fa,\n",
    "        'x_fa_korp': x_fa_korp,\n",
    "        'x_fa_oper': x_fa_oper,\n",
    "        'x_fd_oper': x_fd_oper,\n",
    "        'm_z_cy': m_z_cy,\n",
    "        'm_z_wz': m_z_wz,\n",
    "        'm_z_wz_korp': m_z_wz_korp,\n",
    "        'm_z_wz_oper': m_z_wz_oper,\n",
    "        'ballans_relation': ballans_relation,\n",
    "        'M_z_alpha': M_z_alpha,\n",
    "        'M_z_delt': M_z_delt\n",
    "    }\n",
    "\n",
    "def foo_aero(solve, alpha, params):\n",
    "    \n",
    "    Cya = []\n",
    "    Cy_alpha_korp = []\n",
    "    Cy_alpha_oper = []\n",
    "    Cx = []\n",
    "    Cx_0 = []\n",
    "    Cx_ind = []\n",
    "    Cx_0_korp = []\n",
    "    Cx_ind_korp = []\n",
    "    Cx_0_oper = []\n",
    "    Cx_ind_oper = []\n",
    "    m_z_cy = []\n",
    "    m_z_wz = []\n",
    "    m_z_wz_korp = []\n",
    "    m_z_wz_oper = []\n",
    "    x_fa = []\n",
    "    x_fa_korp = []\n",
    "    x_fa_oper = []\n",
    "    x_fd_oper = []\n",
    "    ballans_relation = []\n",
    "    M_z_alpha = []\n",
    "    M_z_delt = []\n",
    "    t = []\n",
    "    \n",
    "    for r in range(len(solve['t'])):\n",
    "        arg = [solve['v'][r], solve['x'][r], solve['y'][r], solve['thetta'][r], alpha, solve['t'][r]]\n",
    "        res_aero = aero_coef(arg, params)\n",
    "        \n",
    "        Cya.append(res_aero['Cy_alpha'])\n",
    "        Cy_alpha_korp.append(res_aero['Cy_alpha_korp'])\n",
    "        Cy_alpha_oper.append(res_aero['Cy_alpha_oper'])\n",
    "        \n",
    "        Cx.append(res_aero['Cx'])\n",
    "        Cx_0.append(res_aero['Cx_0'])\n",
    "        Cx_ind.append(res_aero['Cx_ind'])\n",
    "        Cx_0_korp.append(res_aero['Cx_0_korp'])\n",
    "        Cx_ind_korp.append(res_aero['Cx_ind_korp'])\n",
    "        Cx_0_oper.append(res_aero['Cx_0_oper'])\n",
    "        Cx_ind_oper.append(res_aero['Cx_ind_oper'])\n",
    "        \n",
    "        m_z_cy.append(res_aero['m_z_cy'])\n",
    "        m_z_wz.append(res_aero['m_z_wz'])\n",
    "        m_z_wz_korp.append(res_aero['m_z_wz_korp'])\n",
    "        m_z_wz_oper.append(res_aero['m_z_wz_oper'])\n",
    "        \n",
    "        x_fa.append(res_aero['x_fa'])\n",
    "        x_fa_korp.append(res_aero['x_fa_korp'])\n",
    "        x_fa_oper.append(res_aero['x_fa_oper'])\n",
    "        x_fd_oper.append(res_aero['x_fd_oper'])\n",
    "        \n",
    "        ballans_relation.append(res_aero['ballans_relation'])\n",
    "        M_z_alpha.append(res_aero['M_z_alpha'])\n",
    "        M_z_delt.append(res_aero['M_z_delt'])\n",
    "        \n",
    "        t.append(solve['t'][r])\n",
    "        \n",
    "    return {\n",
    "        'Cy_alpha': Cya,\n",
    "        'Cy_alpha_korp': Cy_alpha_korp,\n",
    "        'Cy_alpha_oper': Cy_alpha_oper,\n",
    "        'Cx': Cx,\n",
    "        'Cx_0': Cx_0,\n",
    "        'Cx_0_korp': Cx_0_korp,\n",
    "        'Cx_0_oper': Cx_0_oper,\n",
    "        'Cx_ind': Cx_ind,\n",
    "        'Cx_ind_korp': Cx_ind_korp,\n",
    "        'Cx_ind_oper': Cx_ind_oper,\n",
    "        'x_fa': x_fa,\n",
    "        'x_fa_korp': x_fa_korp,\n",
    "        'x_fa_oper': x_fa_oper,\n",
    "        'x_fd_oper': x_fd_oper,\n",
    "        'm_z_cy': m_z_cy,\n",
    "        'm_z_wz': m_z_wz,\n",
    "        'm_z_wz_korp': m_z_wz_korp,\n",
    "        'm_z_wz_oper': m_z_wz_oper,\n",
    "        'ballans_relation': ballans_relation,\n",
    "        'M_z_alpha': M_z_alpha,\n",
    "        'M_z_delt': M_z_delt,\n",
    "        't': t\n",
    "    }"
   ]
  },
  {
   "cell_type": "code",
   "execution_count": 162,
   "metadata": {},
   "outputs": [],
   "source": [
    "mass_S_oper, count_S_oper = np.arange(0.5, 2.5, 0.01), 0.01\n",
    "mass_xb_oper, count_xb_oper = np.linspace(5.5, 8.5, 100, retstep=True)\n",
    "mass_L_oper, count_L_oper = np.linspace(1.0, 2.0, 100, retstep=True)\n",
    "mass_khi_pk_oper = np.arange(0.0, 90.0, 1)\n",
    "mass_alpha = np.arange(0.0, 20.0, 1)"
   ]
  },
  {
   "cell_type": "code",
   "execution_count": 165,
   "metadata": {},
   "outputs": [
    {
     "data": {
      "application/vnd.jupyter.widget-view+json": {
       "model_id": "ce86b21a4be941888ae12aa5a206a016",
       "version_major": 2,
       "version_minor": 0
      },
      "text/plain": [
       "interactive(children=(FloatSlider(value=1.1, description='S$_{опер}$, м$^2$', max=2.490000000000002, min=0.5, …"
      ]
     },
     "metadata": {},
     "output_type": "display_data"
    }
   ],
   "source": [
    "@interact(i=ipywidgets.FloatSlider(description='S$_{опер}$, м$^2$',  min=mass_S_oper[0], max=mass_S_oper[-1], step=count_S_oper, value=1.1),\n",
    "          j=ipywidgets.FloatSlider(description='xb$_{опер}$, м', min=mass_xb_oper[0], max=mass_xb_oper[-1], step=count_xb_oper, value=7.37),\n",
    "          l=ipywidgets.FloatSlider(description='L$_{опер}$, м',  min=mass_L_oper[0], max=mass_L_oper[-1], step=count_L_oper, value=1.25),\n",
    "          h=ipywidgets.FloatSlider(description='χ$_{пк.опер}$, град',    min=mass_khi_pk_oper[0], max=mass_khi_pk_oper[-1], step=1, value=55),\n",
    "          alf=ipywidgets.FloatSlider(description='α, град',  min=mass_alpha[0], max=mass_alpha[-1], step=1))\n",
    "def draw_missile(i, j, l, h, alf):\n",
    "    \n",
    "    params = [i, j, l, h]\n",
    "    S_oper, x_b_oper, L_oper, khi_pk_oper = i, j, l, h\n",
    "    \n",
    "    res_aero = foo_aero(res, alf, params)\n",
    "    \n",
    "    clr_line = 'black'\n",
    "    clr_axis = 'darkorange'\n",
    "    clr_fill = 'lightgrey'\n",
    "    clr_fill_rul = 'white'\n",
    "    hatch = \"/////\"\n",
    "    alpha = 0.8\n",
    "    alpha_fill = 0.8\n",
    "    end_ax = 0.1\n",
    "    width_line = 1\n",
    "    width_axis = 0.8\n",
    "    \n",
    "    d_kon1 = d - 2 * np.tan(np.radians(betta_kon2)) * L_kon2\n",
    "    d_kon2 = d_kon1 + 2 * np.tan(np.radians(betta_kon2)) * L2\n",
    "    nu_oper = b_0_oper * L_oper / (2 * S_oper - b_0_oper * L_oper)\n",
    "    b_k_oper = b_0_oper / nu_oper\n",
    "    \n",
    "    plt.figure(figsize=(16,12))  \n",
    "    plt.title('Эскиз ракеты')\n",
    "    \n",
    "    ax01 = subplot2grid((10, 4), (0, 0), colspan=4, rowspan=4)\n",
    "    ax02 = subplot2grid((10, 4), (4, 0), colspan=2, rowspan=2)\n",
    "    ax03 = subplot2grid((10, 4), (6, 0), colspan=2, rowspan=2,sharex=ax02)\n",
    "    ax04 = subplot2grid((10, 4), (4, 2), colspan=2, rowspan=2,sharex=ax02)\n",
    "    ax05 = subplot2grid((10, 4), (6, 2), colspan=2, rowspan=2,sharex=ax02)\n",
    "    ax06 = subplot2grid((10, 4), (8, 0), colspan=2, rowspan=2,sharex=ax02)\n",
    "    ax07 = subplot2grid((10, 4), (8, 2), colspan=2, rowspan=2,sharex=ax02)\n",
    "    \n",
    "    # 1-ый отсек\n",
    "    ax01.plot([0, L1], [0, d_kon1/2],  linestyle='-', linewidth=width_line, color=clr_line, alpha=alpha)\n",
    "    ax01.plot([0, L1], [0, -d_kon1/2], linestyle='-', linewidth=width_line, color=clr_line, alpha=alpha)\n",
    "\n",
    "    # 2-ой отсек\n",
    "    ax01.plot([L1, L1+L2], [d_kon1/2, d_kon2/2],   linestyle='-', linewidth=width_line, color=clr_line, alpha=alpha)\n",
    "    ax01.plot([L1, L1+L2], [-d_kon1/2, -d_kon2/2], linestyle='-', linewidth=width_line, color=clr_line, alpha=alpha)\n",
    "\n",
    "    # 3-ий отсек\n",
    "    ax01.plot([L1+L2, L1+L2+L3], [d_kon2/2, d/2],   linestyle='-', linewidth=width_line, color=clr_line, alpha=alpha)\n",
    "    ax01.plot([L1+L2, L1+L2+L3], [-d_kon2/2, -d/2], linestyle='-', linewidth=width_line, color=clr_line, alpha=alpha)\n",
    "\n",
    "    # 4-ый отсек\n",
    "    ax01.plot([L1+L2+L3, L1+L2+L3+L4], [d/2, d/2],   linestyle='-', linewidth=width_line, color=clr_line, alpha=alpha)\n",
    "    plt.plot([L1+L2+L3, L1+L2+L3+L4], [-d/2, -d/2], linestyle='-', linewidth=width_line, color=clr_line, alpha=alpha)\n",
    "\n",
    "    # 5-ый отсек\n",
    "    ax01.plot([L1+L2+L3+L4, L1+L2+L3+L4+L5-L_korm], [d/2, d/2],   linestyle='-', linewidth=width_line, color=clr_line, alpha=alpha)\n",
    "    ax01.plot([L1+L2+L3+L4, L1+L2+L3+L4+L5-L_korm], [-d/2, -d/2], linestyle='-', linewidth=width_line, color=clr_line, alpha=alpha)\n",
    "    ax01.plot([L1+L2+L3+L4+L5-L_korm, L1+L2+L3+L4+L5], [d/2, d_korm/2],   linestyle='-', linewidth=width_line, color=clr_line, alpha=alpha)\n",
    "    ax01.plot([L1+L2+L3+L4+L5-L_korm, L1+L2+L3+L4+L5], [-d/2, -d_korm/2], linestyle='-', linewidth=width_line, color=clr_line, alpha=alpha)\n",
    "    ax01.plot([L1+L2+L3+L4+L5-L_korm, L1+L2+L3+L4+L5-L_korm], [-d/2, d/2], linestyle='-', linewidth=width_line, color=clr_line, alpha=alpha)\n",
    "    ax01.plot([L1+L2+L3+L4+L5, L1+L2+L3+L4+L5], [-d_korm/2, d_korm/2], linestyle='-', linewidth=width_line, color=clr_line, alpha=alpha)\n",
    "\n",
    "    # Состыковка отсеков\n",
    "    ax01.plot([L1, L1], [-d_kon1/2, d_kon1/2], linestyle='-', linewidth=width_line, color=clr_line, alpha=alpha)\n",
    "    ax01.plot([L1+L2, L1+L2], [-d_kon2/2, d_kon2/2], linestyle='-', linewidth=width_line, color=clr_line, alpha=alpha)\n",
    "    ax01.plot([L1+L2+L3, L1+L2+L3], [-d/2, d/2], linestyle='-', linewidth=width_line, color=clr_line, alpha=alpha)\n",
    "    ax01.plot([L1+L2+L3+L4, L1+L2+L3+L4], [-d/2, d/2], linestyle='-', linewidth=width_line, color=clr_line, alpha=alpha)\n",
    "\n",
    "\n",
    "    # Рули\n",
    "    ax01.plot([x_b_oper, x_b_oper+np.tan(np.radians(khi_pk_oper))*(L_oper-d)/2], [d/2, L_oper/2],  linestyle='-', linewidth=width_line, color=clr_line, alpha=alpha)\n",
    "    ax01.plot([x_b_oper, x_b_oper+np.tan(np.radians(khi_pk_oper))*(L_oper-d)/2], [-d/2, -L_oper/2],linestyle='-', linewidth=width_line, color=clr_line, alpha=alpha)\n",
    "    ax01.plot([x_b_oper+np.tan(np.radians(khi_pk_oper))*(L_oper-d)/2, x_b_oper+np.tan(np.radians(khi_pk_oper))*(L_oper-d)/2+b_k_oper],\n",
    "             [L_oper/2, L_oper/2],  linestyle='-', linewidth=width_line, color=clr_line, alpha=alpha)\n",
    "    ax01.plot([x_b_oper+np.tan(np.radians(khi_pk_oper))*(L_oper-d)/2, x_b_oper+np.tan(np.radians(khi_pk_oper))*(L_oper-d)/2+b_k_oper],\n",
    "             [-L_oper/2, -L_oper/2],  linestyle='-', linewidth=width_line, color=clr_line, alpha=alpha)\n",
    "    ax01.plot([x_b_oper+np.tan(np.radians(khi_pk_oper))*(L_oper-d)/2+b_k_oper, x_b_oper+np.tan(np.radians(khi_pk_oper))*(L_oper-d)/2+b_k_oper],\n",
    "             [d/2, L_oper/2],  linestyle='-', linewidth=width_line, color=clr_line, alpha=alpha)\n",
    "    ax01.plot([x_b_oper+np.tan(np.radians(khi_pk_oper))*(L_oper-d)/2+b_k_oper, x_b_oper+np.tan(np.radians(khi_pk_oper))*(L_oper-d)/2+b_k_oper],\n",
    "             [-d/2, -L_oper/2],  linestyle='-', linewidth=width_line, color=clr_line, alpha=alpha)\n",
    "    ax01.plot([x_b_oper, x_b_oper+np.tan(np.radians(khi_pk_oper))*(L_oper-d)/2+b_k_oper], [d/2, d/2],  linestyle='--', linewidth=width_line, color=clr_line, alpha=alpha)\n",
    "    ax01.plot([x_b_oper, x_b_oper+np.tan(np.radians(khi_pk_oper))*(L_oper-d)/2+b_k_oper], [-d/2, -d/2],  linestyle='--', linewidth=width_line, color=clr_line, alpha=alpha)\n",
    "    ax01.plot([x_b_oper-np.tan(np.radians(khi_pk_oper))*d/2, x_b_oper], [0, d/2],  linestyle='-.', linewidth=width_line, color=clr_line, alpha=alpha)\n",
    "    ax01.plot([x_b_oper-np.tan(np.radians(khi_pk_oper))*d/2, x_b_oper], [0, -d/2],  linestyle='-.', linewidth=width_line, color=clr_line, alpha=alpha)\n",
    "\n",
    "\n",
    "    # Разукраска\n",
    "    arr_x_korp = np.array([0, L_kon1, L_kon1+L_kon2, L_korp-L_korm, L_korp])\n",
    "    arr_y_korp = np.array([0, d_kon1/2, d/2, d/2, d_korm/2])\n",
    "    arr_x_rul  = np.array([x_b_oper, x_b_oper+np.tan(np.radians(khi_pk_oper))*(L_oper-d)/2,\n",
    "                           x_b_oper+np.tan(np.radians(khi_pk_oper))*(L_oper-d)/2+b_k_oper])\n",
    "    arr_yh_rul  = np.array([d/2, L_oper/2, L_oper/2])\n",
    "    arr_yl_rul = np.array([d/2, d/2, d/2])\n",
    "    ax01.fill_between(arr_x_korp, arr_y_korp, -arr_y_korp, facecolor=clr_fill, alpha=alpha_fill, edgecolor=\"black\", linewidth=0.5)\n",
    "    ax01.fill_between(arr_x_rul,  arr_yh_rul,  arr_yl_rul, facecolor=clr_fill_rul, hatch=hatch, alpha=alpha_fill, edgecolor=\"black\", linewidth=0.5)\n",
    "    ax01.fill_between(arr_x_rul, -arr_yh_rul, -arr_yl_rul, facecolor=clr_fill_rul, hatch=hatch, alpha=alpha_fill, edgecolor=\"black\", linewidth=0.5)\n",
    "\n",
    "    # Центр масс\n",
    "    ax01.scatter(x_ct_0, 0, s=10, color='silver', edgecolors='black')\n",
    "    ax01.text(x_ct_0+0.01, 0.05, 'ЦМ$_{полн}$', fontsize=14)\n",
    "    ax01.scatter(x_ct_marsh, 0, s=10, color='silver', edgecolors='black')\n",
    "    ax01.text(x_ct_marsh-0.5, 0.05, 'ЦМ$_{пуст}$', fontsize=14)\n",
    "    ax01.plot([x_ct_0, x_ct_0], [0, -1], linewidth=0.7, linestyle='-', color='black')\n",
    "    ax01.plot([x_ct_marsh, x_ct_marsh], [0, -1], linewidth=0.7, linestyle='-' , color='black')\n",
    "    ax01.plot([x_ct_0, x_ct_marsh], [-1, -1], linewidth=0.7, linestyle='-' , color='black')\n",
    "    ax01.scatter(x_ct_0-0.05, -1, marker='>', color='black')\n",
    "    ax01.scatter(x_ct_marsh+0.05, -1, marker='<', color='black')\n",
    "    ax01.text(x_ct_marsh+(x_ct_0-x_ct_marsh)/7, -0.9, 'Δ$_{разб}$', fontsize=14)\n",
    "    \n",
    "    # Осевая\n",
    "    ax01.plot([0-end_ax, L_korp+end_ax], [0, 0], linestyle='-.', linewidth=width_axis, color=clr_axis, alpha=1)\n",
    "    ax01.axis('equal')\n",
    "    ax01.tick_params(labeltop=True, top=True, labelbottom=False, bottom=False, labelsize=14)\n",
    "    \n",
    "    ax02.plot(res_aero['t'], res_aero['Cy_alpha'], label='$C_{Y.ЛА}^{a}$', c='k')\n",
    "    ax02.plot(res_aero['t'], res_aero['Cy_alpha_korp'], label='$C_{Y.корп}^{a}$', c='blue')\n",
    "    ax02.plot(res_aero['t'], res_aero['Cy_alpha_oper'], label='$C_{Y.опер}^{a}$', c='darkorange')\n",
    "    ax02.tick_params(labeltop=False, top=False, pad = 10, labelbottom=False, bottom=False, labelsize=14)\n",
    "    ax02.legend(fontsize=12)\n",
    "    ax02.grid(True)\n",
    "    \n",
    "    ax03.plot(res_aero['t'], res_aero['Cx'], label='$C_{X.ЛА}$', c='k')\n",
    "    ax03.plot(res_aero['t'], res_aero['Cx_0'], label=r'$C_{X0.ЛА}$', c='k', ls='-.')\n",
    "    ax03.plot(res_aero['t'], res_aero['Cx_ind'], label=r'$C_{Xind.ЛА}$', c='k', ls='--')\n",
    "    ax03.plot(res_aero['t'], res_aero['Cx_0_korp'], label=r'$C_{X0.корп}$', c='blue', ls='-.')\n",
    "    ax03.plot(res_aero['t'], res_aero['Cx_ind_korp'], label=r'$C_{Xind.корп}$', c='blue', ls='--')\n",
    "    ax03.plot(res_aero['t'], res_aero['Cx_0_oper'], label=r'$C_{X0.опер}$', c='darkorange', ls='-.')\n",
    "    ax03.plot(res_aero['t'], res_aero['Cx_ind_oper'], label=r'$C_{Xind.опер}$', c='darkorange', ls='--')\n",
    "    ax03.legend(loc='best', ncol=3)\n",
    "    ax03.tick_params(left=True, labelleft=True, labelbottom=False, bottom=False, labelsize=14)\n",
    "    ax03.grid(True)\n",
    "    \n",
    "    ax04.plot(res_aero['t'], res_aero['m_z_wz'], label='$m_z^{wz}$', color='black', ls='-')\n",
    "    ax04.plot(res_aero['t'], res_aero['m_z_wz_korp'], label='$m_{z.корп}^{wz}$', color='blue', ls='--')\n",
    "    ax04.plot(res_aero['t'], res_aero['m_z_wz_oper'], label='$m_{z.опер}^{wz}$', color='darkorange', ls='-.')\n",
    "    ax04.tick_params(labeltop=False, top=False, pad = 10, left=False, labelleft=False, right=True, labelright=True, labelbottom=False, bottom=False, labelsize=14)\n",
    "    ax04.legend(fontsize=12)\n",
    "    ax04.grid(True)\n",
    "       \n",
    "    ax05.plot(res_aero['t'], res_aero['x_fa'], color='black', label='$x_{fa}$')\n",
    "    ax05.plot(res_aero['t'], res_aero['x_fa_korp'], color='blue', label='$x_{fa.korp}$')\n",
    "    ax05.plot(res_aero['t'], res_aero['x_fa_oper'], color='darkorange', label='$x_{fa.oper}$')\n",
    "#     ax05.plot(res_aero['t'], res_aero['x_fd_oper'], color='k', label='$x_{fd.oper}$')\n",
    "    ax05.tick_params(left=False, labelleft=False, right=True, labelright=True, labelbottom=False, bottom=False, labelsize=14)\n",
    "    ax05.legend(fontsize=12)\n",
    "    ax05.grid(True)\n",
    "    \n",
    "    ax06.plot(res_aero['t'], res_aero['m_z_cy'], label='$m_z^{Cy}$', color='black')\n",
    "    ax06.plot(res_aero['t'], res_aero['M_z_alpha'], label='$M_{z}^α$', ls='-.', color='black')\n",
    "    ax06.plot(res_aero['t'], res_aero['M_z_delt'], label='$M_{z}^δ$', ls='--', color='black')\n",
    "    ax06.tick_params(labelbottom=True, bottom=True, labelsize=14)\n",
    "    ax06.legend(fontsize=12, loc='right')\n",
    "    ax06.grid(True)\n",
    "    \n",
    "    ax07.plot(res_aero['t'], res_aero['ballans_relation'], label='$δ / α$', color='black')\n",
    "    ax07.tick_params(left=False, labelleft=False, right=True, labelright=True, labelbottom=True, bottom=True, labelsize=14)\n",
    "    ax07.legend(fontsize=12, loc='right')\n",
    "    ax07.grid(True)\n",
    "    \n",
    "#     plt.savefig('pictures/Аэродинамика ЛА.png', dpi=900, bbox_inches='tight')\n",
    "    \n",
    "    plt.show()"
   ]
  },
  {
   "cell_type": "code",
   "execution_count": null,
   "metadata": {},
   "outputs": [],
   "source": [
    "arr_mach = res['Mach'][:np.argmax(res['Mach'])+1]\n",
    "arr_mach"
   ]
  },
  {
   "cell_type": "code",
   "execution_count": null,
   "metadata": {},
   "outputs": [],
   "source": [
    "arr_cya = []\n",
    "for i in range(len(arr_mach)):\n",
    "    arr_cya.append(res_aero[i]['Cy_alpha'])\n",
    "arr_cya = np.array(arr_cya)\n",
    "arr_cya"
   ]
  },
  {
   "cell_type": "code",
   "execution_count": null,
   "metadata": {},
   "outputs": [],
   "source": [
    "data_cya_from_mach = {'Cya': arr_cya, 'Mach': arr_mach} \n",
    "df1 = pd.DataFrame(data_cya_from_mach)\n",
    "df1.to_csv('data_constants/cya_from_mach.csv', sep = \";\", index=False)"
   ]
  },
  {
   "cell_type": "code",
   "execution_count": null,
   "metadata": {},
   "outputs": [],
   "source": [
    "df1 = pd.read_csv('data_constants/cya_from_mach.csv', sep = \";\")\n",
    "df1"
   ]
  },
  {
   "cell_type": "code",
   "execution_count": null,
   "metadata": {},
   "outputs": [],
   "source": [
    "arr_alpha = np.arange(-40, 41, 1)\n",
    "arr_alpha"
   ]
  },
  {
   "cell_type": "code",
   "execution_count": null,
   "metadata": {},
   "outputs": [],
   "source": [
    "arr_cx = []\n",
    "for i in tqdm(arr_alpha):\n",
    "    res_aero = foo_aero(res, alpha=i)\n",
    "    cx_from_mach = []\n",
    "    for j in range(len(arr_mach)):\n",
    "        cx_from_mach.append(res_aero[j]['Cx'])\n",
    "    arr_cx.append(cx_from_mach)\n",
    "arr_cx = np.array(arr_cx)\n",
    "arr_cx"
   ]
  },
  {
   "cell_type": "code",
   "execution_count": null,
   "metadata": {},
   "outputs": [],
   "source": [
    "df2 = pd.DataFrame(arr_cx, columns=arr_mach, index=arr_alpha)\n",
    "df2.to_csv('data_constants/cx_from_mach_and_alpha.csv', sep = \";\")"
   ]
  },
  {
   "cell_type": "code",
   "execution_count": null,
   "metadata": {},
   "outputs": [],
   "source": [
    "df2 = pd.read_csv('data_constants/cx_from_mach_and_alpha.csv', sep = \";\", index_col=0)\n",
    "df2"
   ]
  },
  {
   "cell_type": "markdown",
   "metadata": {},
   "source": [
    "## 3) Бал. расчет с помощью более подробной мат. модели"
   ]
  },
  {
   "cell_type": "code",
   "execution_count": 181,
   "metadata": {},
   "outputs": [],
   "source": [
    "opts = {\n",
    "    'm_0': 2350,\n",
    "    'vel_abs': 1700,\n",
    "    't_marsh': 12,\n",
    "    'w_marsh': 1428.122,\n",
    "    'P_marsh': 300e3,\n",
    "    'dt': 0.01,\n",
    "    'tau': 1/20,\n",
    "    't_max': 165,\n",
    "    'I': 2500,\n",
    "    'r_kill': 50,\n",
    "    'alpha_max': 20,\n",
    "    'xi': 0.5,\n",
    "    'am': 4,\n",
    "    'dny': 1,\n",
    "    'init_conditions': {'V_0': 25, 'pos_0': (0, 20)},\n",
    "    'L_korp': 8.298,\n",
    "    'L_cil': 5.519,\n",
    "    'L_korm': 0.135,\n",
    "    'L_oper': 1.25,\n",
    "    'L_kon1': 0.913,\n",
    "    'L_kon2': 1.731,\n",
    "    'b_0_oper': 1360 / 1e3,\n",
    "    'x_b_oper': 7.37,\n",
    "    'a': 0.2,\n",
    "    'betta_kon2': 1,\n",
    "    'd': 0.515,\n",
    "    'd_korm': 0.490,\n",
    "    'c_oper': 0.03,\n",
    "    'khi_pk_oper': 55,\n",
    "    'khi_rul': 0.0,\n",
    "    'class_korp': 7,\n",
    "    'class_oper': 5,\n",
    "    'S_oper': 1.1,\n",
    "    'x_ct_0': 4.808396444826858,\n",
    "    'x_ct_marsh': 4.137372904870341,\n",
    "}"
   ]
  },
  {
   "cell_type": "markdown",
   "metadata": {},
   "source": [
    "### 3.1. Построение зоны поражения и пуска"
   ]
  },
  {
   "cell_type": "code",
   "execution_count": 182,
   "metadata": {},
   "outputs": [],
   "source": [
    "def foo_gym_hit(mis_opts, trg_pos, trg_vel, aero=False, record=False):\n",
    "    \"\"\"\n",
    "    Функция тренажера огня, моделирующая движение ц.м. ракеты к цели с заданным простым постоянным вектором скорости\n",
    "    arguments: mis_opts {dict} -- параметры ракеты\n",
    "               trg_pos {tuple/list/np.ndarray} -- положение цели\n",
    "               trg_vel {tuple/np.ndarray} -- скорость цели\n",
    "    keyword arguments: aero {bool} -- включатель расчета аэродинамических коэффициентов ракеты во время ее\n",
    "                                      полета ракеты по кинематической траектории {default: False}\n",
    "                       record {bool} -- включатель записи результатов (состояний) моделирования шагов по времени,\n",
    "                                        иначе возвращается последнее состояние моделирования {default: False}\n",
    "    returns: {dict} if record = True\n",
    "             (tuple) if record = False\n",
    "    \"\"\"\n",
    "    gym = MissileGym.make_simple_scenario(mis_opts, trg_pos, trg_vel)\n",
    "    done = False\n",
    "    obs = gym.reset()\n",
    "    state = gym.get_state()\n",
    "    history = [(state, obs, done, {}, {})]\n",
    "    alphas_targeting = [0]\n",
    "    \n",
    "    while not done:\n",
    "        obs, done, info = gym.step_with_guidance()\n",
    "        state = gym.get_state()\n",
    "        aero_res = gym.get_aero_constants() if aero == True else {}\n",
    "        if record == True:\n",
    "            history.append((state, obs, done, info, aero_res))\n",
    "            alphas_targeting.append(gym.missile.alpha_targeting if abs(gym.missile.alpha_targeting) < gym.missile.alpha_max else copysign(gym.missile.alpha_max, gym.missile.alpha_targeting))\n",
    "    \n",
    "    inf = info['done_reason']\n",
    "    print(f'info = {inf}')\n",
    "    \n",
    "    if record == True:\n",
    "        mis_vs, mis_xs, mis_ys, mis_vels, alphas, Qs = [], [], [], [], [], []\n",
    "        trg_xs, trg_ys, trg_vs, trg_vels = [], [], [], []\n",
    "        infos, aeros, ts = [], [], []\n",
    "        \n",
    "        for state, obs, done, info, aero_res in history:\n",
    "            gym.set_state(state)\n",
    "            mis_smry = gym.missile.get_summary()\n",
    "            trg_smry = gym.target.get_summary()\n",
    "            mis_xs.append(mis_smry['x'])\n",
    "            mis_ys.append(mis_smry['y'])\n",
    "            trg_xs.append(trg_smry['x'])\n",
    "            trg_ys.append(trg_smry['y'])\n",
    "            ts.append(mis_smry['t'])\n",
    "            mis_vs.append(mis_smry['v'])\n",
    "            trg_vs.append(trg_smry['v'])\n",
    "            alphas.append(mis_smry['alpha'])\n",
    "            Qs.append(mis_smry['Q'])\n",
    "            trg_vels.append(gym.target.vel)\n",
    "            mis_vels.append(gym.missile.vel)\n",
    "            aeros.append(aero_res)\n",
    "            infos.append(info)\n",
    "\n",
    "        trg_nys = [MissileGym.get_overload(v0, v1, t1-t0)[1] for v0, v1, t1, t0 in zip(trg_vels, trg_vels[1:], ts[1:], ts)]\n",
    "        trg_nys += [trg_nys[-1]]\n",
    "        mis_nys = [MissileGym.get_overload(v0, v1, t1-t0)[1] for v0, v1, t1, t0 in zip(mis_vels, mis_vels[1:], ts[1:], ts)]\n",
    "        mis_nys += [trg_nys[-1]]\n",
    "\n",
    "        trg_nxs = [MissileGym.get_overload(v0, v1, t1-t0)[0] for v0, v1, t1, t0 in zip(trg_vels, trg_vels[1:], ts[1:], ts)]\n",
    "        trg_nxs += [trg_nxs[-1]]\n",
    "        mis_nxs = [MissileGym.get_overload(v0, v1, t1-t0)[0] for v0, v1, t1, t0 in zip(mis_vels, mis_vels[1:], ts[1:], ts)]\n",
    "        mis_nxs += [trg_nxs[-1]]\n",
    "    \n",
    "        dict_res = {\n",
    "            't': ts,\n",
    "            'missile': {'v': mis_vs, 'x': mis_xs, 'y': mis_ys, 'Q': Qs, 'alpha': alphas, 'nx': mis_nxs, 'ny': mis_nys, 'vel': mis_vels},\n",
    "            'target': {'v': trg_vs, 'x': trg_xs, 'y': trg_ys, 'ny': trg_nys, 'nx': trg_nxs, 'vel': trg_vels},\n",
    "            'alpha_targeting': alphas_targeting,\n",
    "            'aero': aeros,\n",
    "            'info': infos \n",
    "        }\n",
    "    if record == True:\n",
    "        return dict_res\n",
    "    else:\n",
    "        return state, obs, done, info, aero_res"
   ]
  },
  {
   "cell_type": "code",
   "execution_count": 183,
   "metadata": {},
   "outputs": [],
   "source": [
    "trg_vel = (-400, 0)\n",
    "xs = np.linspace(-100e3, 350e3, 51)\n",
    "ys = np.linspace(100, 30e3, 51)"
   ]
  },
  {
   "cell_type": "code",
   "execution_count": null,
   "metadata": {},
   "outputs": [],
   "source": [
    "res_gym = []\n",
    "for i, x in enumerate(tqdm(xs)):\n",
    "    for j, y in enumerate(ys):\n",
    "        res_gym_hit = foo_gym_hit(opts, (x, y), trg_vel, record=True)\n",
    "        res_gym.append(res_gym_hit)"
   ]
  },
  {
   "cell_type": "code",
   "execution_count": null,
   "metadata": {},
   "outputs": [],
   "source": [
    "with open('saves/zone_affected.bin', 'wb') as f:\n",
    "    pickle.dump(res_gym, f)"
   ]
  },
  {
   "cell_type": "code",
   "execution_count": null,
   "metadata": {},
   "outputs": [],
   "source": [
    "with open('saves/zone_affected_foo.bin', 'rb') as f:\n",
    "    res_gym = pickle.load(f)"
   ]
  },
  {
   "cell_type": "code",
   "execution_count": null,
   "metadata": {},
   "outputs": [],
   "source": [
    "zone_ny = []\n",
    "zone_xs = []\n",
    "zone_ys = []\n",
    "zone_xs0 = []\n",
    "zone_ys0 = []\n",
    "zone_ts = []\n",
    "for i in range(len(res_gym)):\n",
    "    zone_ny.append(max(np.absolute(res_gym[i]['missile']['ny'])))\n",
    "    zone_xs.append(res_gym[i]['missile']['x'][-1])\n",
    "    zone_ys.append(res_gym[i]['missile']['y'][-1])\n",
    "    zone_xs0.append(res_gym[i]['target']['x'][0])\n",
    "    zone_ys0.append(res_gym[i]['target']['y'][0])\n",
    "    zone_ts.append(res_gym[i]['t'][-1])\n",
    "res_dict = {'x': zone_xs, 'y': zone_ys, 'x0': zone_xs0, 'y0': zone_ys0, 't': zone_ts, 'ny': zone_ny}"
   ]
  },
  {
   "cell_type": "code",
   "execution_count": null,
   "metadata": {},
   "outputs": [],
   "source": [
    "with open('saves/zone_destroy.bin', 'wb') as f:\n",
    "    pickle.dump(res_dict, f)"
   ]
  },
  {
   "cell_type": "code",
   "execution_count": 169,
   "metadata": {},
   "outputs": [],
   "source": [
    "with open('saves/zone_destroy.bin', 'rb') as f:\n",
    "    zone = pickle.load(f)"
   ]
  },
  {
   "cell_type": "code",
   "execution_count": 170,
   "metadata": {},
   "outputs": [],
   "source": [
    "ny_r = 25 # располагаемая перегрузка\n",
    "zone_xs = []\n",
    "zone_ys = []\n",
    "zone_ts = []\n",
    "zone_pusk_xs = []\n",
    "zone_pusk_ys = []\n",
    "for i in range(len(zone['ny'])):\n",
    "    if zone['ny'][i] <= ny_r and (np.sqrt(zone['x'][i]**2 + zone['y'][i]**2) >= 5000):\n",
    "        zone_xs.append(zone['x'][i])\n",
    "        zone_ys.append(zone['y'][i])\n",
    "        zone_ts.append(zone['t'][i])\n",
    "        zone_pusk_xs.append(zone['x0'][i])\n",
    "        zone_pusk_ys.append(zone['y0'][i])"
   ]
  },
  {
   "cell_type": "code",
   "execution_count": 171,
   "metadata": {},
   "outputs": [
    {
     "data": {
      "image/png": "[encoded data removed]",
      "text/plain": [
       "<Figure size 1600x800 with 1 Axes>"
      ]
     },
     "metadata": {
      "needs_background": "light"
     },
     "output_type": "display_data"
    }
   ],
   "source": [
    "plt.figure(figsize=(16, 8), dpi=100)\n",
    "plt.scatter(zone_xs, zone_ys, s=20, label='Зона поражения')\n",
    "plt.fill_between([-150e3,250e3], [0,0], [-1000,-1000], facecolor='white', hatch='\\\\\\\\\\\\\\\\\\\\', linewidth=0.5)\n",
    "# plt.scatter(zone_pusk_xs, zone_pusk_ys, s=25, label='Зона пуска')\n",
    "plt.legend(fontsize=14)\n",
    "plt.axis('equal')\n",
    "plt.ylim(-100, 30000)\n",
    "plt.tick_params(labelsize=14)\n",
    "plt.savefig('pictures/Зона поражения.png', dpi=700, bbox_inches='tight')\n",
    "plt.show()"
   ]
  },
  {
   "cell_type": "markdown",
   "metadata": {},
   "source": [
    "### 3.2. Баллистический расчет самой дальней точки поражения"
   ]
  },
  {
   "cell_type": "code",
   "execution_count": 184,
   "metadata": {},
   "outputs": [],
   "source": [
    "trg_pos = (max(zone_pusk_xs), max(zone_pusk_ys))\n",
    "# trg_pos = (0, 8e3)"
   ]
  },
  {
   "cell_type": "code",
   "execution_count": 185,
   "metadata": {},
   "outputs": [
    {
     "name": "stdout",
     "output_type": "stream",
     "text": [
      "meet: True; meeting point: [253854.44257245  30000.        ]\n",
      "info = target destroyed\n",
      "Wall time: 10min 18s\n"
     ]
    }
   ],
   "source": [
    "%time res_hit = foo_gym_hit(opts, trg_pos, trg_vel, aero=True, record=True)"
   ]
  },
  {
   "cell_type": "code",
   "execution_count": 186,
   "metadata": {},
   "outputs": [
    {
     "data": {
      "text/plain": [
       "(2189.6639573465754, 1599.9626136613797)"
      ]
     },
     "execution_count": 186,
     "metadata": {},
     "output_type": "execute_result"
    }
   ],
   "source": [
    "max(res_hit['missile']['v']), np.average(res_hit['missile']['v'])"
   ]
  },
  {
   "cell_type": "code",
   "execution_count": 187,
   "metadata": {},
   "outputs": [
    {
     "data": {
      "image/png": "[encoded data removed]",
      "text/plain": [
       "<Figure size 1152x864 with 2 Axes>"
      ]
     },
     "metadata": {
      "needs_background": "light"
     },
     "output_type": "display_data"
    }
   ],
   "source": [
    "plt.figure(figsize=(16,12))\n",
    "\n",
    "ax01 = subplot2grid((8, 4), (0, 0), colspan=4, rowspan=2)\n",
    "ax00 = subplot2grid((8, 4), (2, 0), colspan=4, rowspan=2)\n",
    "\n",
    "ax00.plot(res_hit['t'], res_hit['missile']['v'], lw=2, ls='-', label='Пофиль скорости')\n",
    "ax00.hlines(np.average(res_hit['missile']['v']), 0, res_hit['t'][-1], ls='--', color='darkorange', lw=2, label='$V_{ср}$')\n",
    "ax00.legend(loc='best', fontsize=14)\n",
    "ax00.tick_params(left=False, labelleft=False, right=True, labelright=True, labelsize=14)\n",
    "ax00.grid(True)\n",
    "\n",
    "ax01.plot(res_hit['missile']['x'], res_hit['missile']['y'], lw=2, ls='-', color='k', label='Траектория ракеты')\n",
    "ax01.legend(loc='lower right', fontsize=14)\n",
    "ax01.tick_params(left=False, labelleft=False, right=True, labelright=True, labelbottom=False, bottom=False, labeltop=True, top=True, labelsize=14)\n",
    "ax01.grid(True)\n",
    "\n",
    "plt.savefig('pictures/Профиль точный.png', dpi=300, bbox_inches='tight')"
   ]
  },
  {
   "cell_type": "code",
   "execution_count": 191,
   "metadata": {},
   "outputs": [],
   "source": [
    "Cya = []\n",
    "Cy_alpha_korp = []\n",
    "Cy_alpha_oper = []\n",
    "Cx  = []\n",
    "Cx_0 = []\n",
    "Cx_0_korp = []\n",
    "Cx_0_oper = []\n",
    "Cx_ind = []\n",
    "Cx_ind_korp = []\n",
    "Cx_ind_oper = []\n",
    "t   = []\n",
    "alpha = []\n",
    "Mach = []\n",
    "m_z_cy = []\n",
    "m_z_wz = []\n",
    "m_z_wz_korp = []\n",
    "m_z_wz_oper = []\n",
    "x_fa = []\n",
    "x_fa_oper = []\n",
    "x_fa_korp = []\n",
    "x_fd_oper = []\n",
    "ballans_relation = []\n",
    "M_z_alpha = []\n",
    "M_z_delt = []\n",
    "for i in range(1, len(res_hit['aero'])):\n",
    "    \n",
    "    Cya.append(res_hit['aero'][i]['Cy_alpha'])\n",
    "    Cy_alpha_korp.append(res_hit['aero'][i]['Cy_alpha_korp'])\n",
    "    Cy_alpha_oper.append(res_hit['aero'][i]['Cy_alpha_oper'])\n",
    "    \n",
    "    Cx.append(res_hit['aero'][i]['Cx'])\n",
    "    Cx_0.append(res_hit['aero'][i]['Cx_0'])\n",
    "    Cx_0_korp.append(res_hit['aero'][i]['Cx_0_korp'])\n",
    "    Cx_0_oper.append(res_hit['aero'][i]['Cx_0_oper'])\n",
    "    Cx_ind.append(res_hit['aero'][i]['Cx_ind'])\n",
    "    Cx_ind_korp.append(res_hit['aero'][i]['Cx_ind_korp'])\n",
    "    Cx_ind_oper.append(res_hit['aero'][i]['Cx_ind_oper'])\n",
    "    \n",
    "    m_z_cy.append(res_hit['aero'][i]['m_z_cy'])\n",
    "    m_z_wz.append(res_hit['aero'][i]['m_z_wz'])\n",
    "    m_z_wz_korp.append(res_hit['aero'][i]['m_z_wz_korp'])\n",
    "    m_z_wz_oper.append(res_hit['aero'][i]['m_z_wz_oper'])\n",
    "    \n",
    "    x_fa.append(res_hit['aero'][i]['x_fa'])\n",
    "    x_fa_oper.append(res_hit['aero'][i]['x_fa_oper'])\n",
    "    x_fa_korp.append(res_hit['aero'][i]['x_fa_korp'])\n",
    "    x_fd_oper.append(res_hit['aero'][i]['x_fd_oper'])\n",
    "    \n",
    "    ballans_relation.append(res_hit['aero'][i]['ballans_relation'])\n",
    "    M_z_alpha.append(res_hit['aero'][i]['M_z_alpha'])\n",
    "    M_z_delt.append(res_hit['aero'][i]['M_z_delt'])\n",
    "    \n",
    "    t.append(res_hit['aero'][i]['t'])\n",
    "    alpha.append(res_hit['aero'][i]['alpha'])\n",
    "    Mach.append(res_hit['aero'][i]['Mach'])"
   ]
  },
  {
   "cell_type": "code",
   "execution_count": 200,
   "metadata": {},
   "outputs": [
    {
     "data": {
      "application/vnd.jupyter.widget-view+json": {
       "model_id": "7d59b6d8129a4a20bde6142697d3fcad",
       "version_major": 2,
       "version_minor": 0
      },
      "text/plain": [
       "interactive(children=(IntSlider(value=3211, description='tau', max=3211), Output()), _dom_classes=('widget-int…"
      ]
     },
     "metadata": {},
     "output_type": "display_data"
    }
   ],
   "source": [
    "@interact(i=ipywidgets.IntSlider(description='tau', max=len(res_hit['t'])-1, step=1, value=len(res_hit['t'])-1))\n",
    "def draw_aero_gym_hit(i):\n",
    "    \n",
    "    plt.figure(figsize=(16,12))\n",
    "\n",
    "    ax00 = subplot2grid((8, 4), (0, 2), colspan=2, rowspan=2)\n",
    "    ax01 = subplot2grid((8, 4), (0, 0), colspan=2, rowspan=2)\n",
    "    ax02 = subplot2grid((8, 4), (2, 0), colspan=2, rowspan=2)\n",
    "    ax03 = subplot2grid((8, 4), (4, 0), colspan=2, rowspan=2,sharex=ax02)\n",
    "    ax04 = subplot2grid((8, 4), (2, 2), colspan=2, rowspan=2,sharex=ax02)\n",
    "    ax05 = subplot2grid((8, 4), (4, 2), colspan=2, rowspan=2,sharex=ax02)\n",
    "    ax06 = subplot2grid((8, 4), (6, 0), colspan=2, rowspan=2,sharex=ax02)\n",
    "    ax07 = subplot2grid((8, 4), (6, 2), colspan=2, rowspan=2,sharex=ax02)\n",
    "    \n",
    "    ax00.plot(t[:i], Mach[:i], lw=3, ls=':', color='k', label='Mach')\n",
    "    ax00.legend(loc='best', fontsize=14)\n",
    "    ax00.tick_params(left=False, labelleft=False, right=True, labelright=True,  pad = 0, labelsize=12)\n",
    "    ax00.grid(True)\n",
    "    \n",
    "    ax01.plot(res_hit['missile']['x'][:i], res_hit['missile']['y'][:i], lw=3, ls=':', color='k', label='траектория ракеты')\n",
    "    ax01.plot(res_hit['target']['x'][:i], res_hit['target']['y'][:i], lw=3, ls=':', color='red', label='траектория цели')\n",
    "    ax01.tick_params(labelsize=12, pad = 0)\n",
    "    ax01.legend(loc='best', fontsize=14)\n",
    "    ax01.grid(True)\n",
    "    \n",
    "    ax02.plot(t[:i], Cya[:i], label='$C_{Y.ЛА}^{a}$', c='k')\n",
    "    ax02.plot(t[:i], Cy_alpha_korp[:i], label='$C_{Y.корп}^{a}$', c='blue')\n",
    "    ax02.plot(t[:i], Cy_alpha_oper[:i], label='$C_{Y.опер}^{a}$', c='darkorange')\n",
    "    ax02.tick_params(labeltop=False, top=False, labelbottom=False, bottom=False, labelsize=12)\n",
    "    ax02.legend(fontsize=14)\n",
    "    ax02.grid(True)\n",
    "    \n",
    "    ax03.plot(t[:i], Cx[:i], label='$C_{X.ЛА}$', c='k')\n",
    "    ax03.plot(t[:i], Cx_0[:i], label=r'$C_{X0.ЛА}$', c='k', ls='-.')\n",
    "    ax03.plot(t[:i], Cx_ind[:i], label=r'$C_{Xind.ЛА}$', c='k', ls='--')\n",
    "    ax03.plot(t[:i], Cx_0_korp[:i], label=r'$C_{X0.корп}$', c='blue', ls='-.')\n",
    "    ax03.plot(t[:i], Cx_ind_korp[:i], label=r'$C_{Xind.корп}$', c='blue', ls='--')\n",
    "    ax03.plot(t[:i], Cx_0_oper[:i], label=r'$C_{X0.опер}$', c='darkorange', ls='-.')\n",
    "    ax03.plot(t[:i], Cx_ind_oper[:i], label=r'$C_{Xind.опер}$', c='darkorange', ls='--')\n",
    "    ax03.legend(loc='best', ncol=3, fontsize=14)\n",
    "    ax03.tick_params(left=True, labelleft=True, labelbottom=False, bottom=False, labelsize=12)\n",
    "    ax03.grid(True)\n",
    "    \n",
    "    ax04.plot(t[:i], m_z_wz[:i], label='$m_z^{wz}$', color='black', ls='-')\n",
    "    ax04.plot(t[:i], m_z_wz_korp[:i], label='$m_{z.корп}^{wz}$', color='blue', ls='--')\n",
    "    ax04.plot(t[:i], m_z_wz_oper[:i], label='$m_{z.опер}^{wz}$', color='darkorange', ls='-.')\n",
    "    ax04.tick_params(labeltop=False, top=False, pad = 5, left=False, labelleft=False, right=True, labelright=True, labelbottom=False, bottom=False, labelsize=12)\n",
    "    ax04.legend(fontsize=14)\n",
    "    ax04.grid(True)\n",
    "       \n",
    "    ax05.plot(t[:i], x_fa[:i], color='k', label='$x_{fa}$')\n",
    "    ax05.plot(t[:i], x_fa_korp[:i], color='blue', label='$x_{fa.korp}$')\n",
    "    ax05.plot(t[:i], x_fa_oper[:i], color='darkorange', label='$x_{fa.oper}$')\n",
    "    ax05.tick_params(left=False, labelleft=False, right=True, labelright=True, labelbottom=False, bottom=False, labelsize=12)\n",
    "    ax05.legend(fontsize=14)\n",
    "    ax05.grid(True)\n",
    "    \n",
    "    ax06.plot(t[:i], m_z_cy[:i], label='$m_z^{Cy}$', color='k')\n",
    "    ax06.plot(t[:i], M_z_delt[:i], label='$M_{z}^δ$', ls='-.', color='k')\n",
    "    ax06.plot(t[:i], M_z_alpha[:i], label='$M_{z}^α$', ls='--',color='k')\n",
    "    ax06.tick_params(labelbottom=True, bottom=True, labelsize=12)\n",
    "    ax06.legend(fontsize=14, loc='right')\n",
    "    ax06.grid(True)\n",
    "    \n",
    "    ax07.plot(t[:i], ballans_relation[:i], label='$δ / α$', color='k')\n",
    "    ax07.tick_params(left=False, labelleft=False, right=True, labelright=True, labelbottom=True, bottom=True, labelsize=12)\n",
    "    ax07.legend(fontsize=14)\n",
    "    ax07\n",
    "    ax07.grid(True)\n",
    "    \n",
    "    plt.savefig('pictures/Аэродинамика ЛА.png', dpi=900, bbox_inches='tight')\n",
    "    \n",
    "    plt.show()"
   ]
  },
  {
   "cell_type": "code",
   "execution_count": 199,
   "metadata": {},
   "outputs": [
    {
     "data": {
      "application/vnd.jupyter.widget-view+json": {
       "model_id": "199d3ed3bcff4657a9ac0bf016fe350f",
       "version_major": 2,
       "version_minor": 0
      },
      "text/plain": [
       "interactive(children=(IntSlider(value=3211, description='tau', max=3211), Output()), _dom_classes=('widget-int…"
      ]
     },
     "metadata": {},
     "output_type": "display_data"
    }
   ],
   "source": [
    "@interact(i=ipywidgets.IntSlider(description='tau', max=len(res_hit['t'])-1, step=1, value=len(res_hit['t'])-1))\n",
    "def draw_gym_hit(i):\n",
    "    \n",
    "    plt.figure(figsize=(16,12))\n",
    "    \n",
    "    ax01 = subplot2grid((8, 4), (0, 0), colspan=4, rowspan=4)\n",
    "    ax02 = subplot2grid((8, 4), (4, 0), colspan=2, rowspan=2)\n",
    "    ax03 = subplot2grid((8, 4), (6, 0), colspan=2, rowspan=2,sharex=ax02)\n",
    "    ax04 = subplot2grid((8, 4), (4, 2), colspan=2, rowspan=2,sharex=ax02)\n",
    "    ax05 = subplot2grid((8, 4), (6, 2), colspan=2, rowspan=2,sharex=ax02)\n",
    "    \n",
    "    ax01.plot(res_hit['missile']['x'][:i], res_hit['missile']['y'][:i], lw=3, ls=':', color='k', label='траектория ракеты')\n",
    "    ax01.plot(res_hit['target']['x'][:i], res_hit['target']['y'][:i], lw=3, ls=':', color='red', label='траектория цели')\n",
    "    ax01.tick_params(labelsize=12, pad = 0)\n",
    "    ax01.legend(loc='best', fontsize=14)\n",
    "    ax01.grid(True)\n",
    "    \n",
    "    ax02.plot(res_hit['t'][:i], res_hit['missile']['v'][:i], label='$V_р$', c='k')\n",
    "    ax02.plot(res_hit['t'][:i], res_hit['target']['v'][:i], label='$V_ц$', c='red')\n",
    "    ax02.tick_params(left=True, labelleft=True,labelbottom=False, bottom=False, right=False, labelright=False, labelsize=12)\n",
    "    ax02.legend(fontsize=14)\n",
    "    ax02.grid(True)\n",
    "    \n",
    "    ax03.plot(res_hit['t'][:i], res_hit['missile']['ny'][:i], label=r'$n_y$ ракеты', c='k')\n",
    "    ax03.plot(res_hit['t'][:i], res_hit['missile']['nx'][:i], label=r'$n_x$ ракеты', c='k', ls='--')\n",
    "    ax03.plot(res_hit['t'][:i], res_hit['target']['ny'][:i], label=r'$n_y$ цели', c='red')\n",
    "    ax03.plot(res_hit['t'][:i], res_hit['target']['nx'][:i], label=r'$n_x$ цели', c='red', ls='--')\n",
    "    ax03.legend(loc='best', ncol=2, fontsize=14)\n",
    "    ax03.tick_params(left=True, labelleft=True, right=False, labelright=False, labelsize=12)\n",
    "    ax03.grid(True)\n",
    "    \n",
    "    ax04.plot(res_hit['t'][:i], res_hit['missile']['alpha'][:i], label=r'$\\alpha$', color='k')\n",
    "    ax04.plot(res_hit['t'][:i], res_hit['alpha_targeting'][:i], label=r'$\\alpha_{пот}$', color='darkorange', ls='-')\n",
    "    ax04.tick_params(left=False, labelleft=False, labelbottom=False, bottom=False, right=True, labelright=True, labelsize=12)\n",
    "    ax04.legend(fontsize=14)\n",
    "    ax04.grid(True)\n",
    "       \n",
    "    ax05.plot(res_hit['t'][:i], res_hit['missile']['Q'][:i], color='k', label='Q')\n",
    "    ax05.tick_params(left=False, labelleft=False, right=True, labelright=True, labelsize=12)\n",
    "    ax05.legend(fontsize=14)\n",
    "    ax05.grid(True)\n",
    "    \n",
    "    plt.savefig('pictures/Баллистика.png', dpi=900, bbox_inches='tight')\n",
    "    \n",
    "    plt.show()"
   ]
  },
  {
   "cell_type": "code",
   "execution_count": null,
   "metadata": {},
   "outputs": [],
   "source": []
  }
 ],
 "metadata": {
  "kernelspec": {
   "display_name": "Python 3 (ipykernel)",
   "language": "python",
   "name": "python3"
  },
  "language_info": {
   "codemirror_mode": {
    "name": "ipython",
    "version": 3
   },
   "file_extension": ".py",
   "mimetype": "text/x-python",
   "name": "python",
   "nbconvert_exporter": "python",
   "pygments_lexer": "ipython3",
   "version": "3.9.7"
  }
 },
 "nbformat": 4,
 "nbformat_minor": 4
}
