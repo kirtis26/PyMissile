{
 "cells": [
  {
   "cell_type": "code",
   "execution_count": 5,
   "metadata": {},
   "outputs": [],
   "source": [
    "import numpy as np\n",
    "import matplotlib.pyplot as plt\n",
    "import timeit\n",
    "import math\n",
    "import pandas as pd\n",
    "from tqdm import tqdm\n",
    "from Aero_info import *"
   ]
  },
  {
   "cell_type": "markdown",
   "metadata": {},
   "source": [
    "# Баллистическое проектирование ЗУР"
   ]
  },
  {
   "cell_type": "markdown",
   "metadata": {},
   "source": [
    "## 1) Первоначальный баллистический расчет\n",
    "Для начала проинтегрируем систему, приняв угол склонения ракеты **thetta (Q)** постоянным на активном участке полета. Для этого используем упрощенную систему уравнений движения ракеты [*пособие Астахова \"Бал. пр-е\", система ур-ний (4)*], где все переменные коэф-ты выраженны через проектные параметры ракеты, при **alpha = 0**, следовательно, и **Cya = 0**. Найдем минимум стартовой массы ракеты (перебором относительной массы топливного заряда при заданном коэф-те конструктивно-массового совершенства и массе полезной нагрузки из прототипа). Получим в итоге профиль скорости нашей ЗУР, который будет использован в первоначальном АД проектировании для получения коэф-тов Суа от числа М, и Сх от alpha и числа М. Далее будем использовать исходную полную систему уравнений движения [*Физ. основы устр-ва ракетного оружия, глава 3*] для уточнения баллистического расчёта и дальнешего АД расчета."
   ]
  },
  {
   "cell_type": "markdown",
   "metadata": {},
   "source": [
    "### 1.1. Простая прогонка с параметрами прототипа"
   ]
  },
  {
   "cell_type": "code",
   "execution_count": 6,
   "metadata": {},
   "outputs": [],
   "source": [
    "alpha, Cy_alpha = 0, 0"
   ]
  },
  {
   "cell_type": "code",
   "execution_count": 7,
   "metadata": {},
   "outputs": [],
   "source": [
    "# Пример формирования словаря с начальными данными одноступенчатой ракеты (аналог - ЗУР 48Н6E ЗРС С-300 ПМУ-1)\n",
    "opts = {\n",
    "    'init_conditions': {'l_pusk': 8,\n",
    "                        'x': 0,\n",
    "                        'y': 50,\n",
    "                        'v': 25,\n",
    "                        'thetta': 35},\n",
    "    'η_0': 14,\n",
    "    'I_10': 2700,\n",
    "    'myu_0': 0.59,\n",
    "    'lambda_e': 2.373,\n",
    "    'k': 1.21,\n",
    "    'p_00': 5*1e6,\n",
    "    'q_M': 2400 * 9.80665 / (np.pi * 0.515**2 / 4),\n",
    "    'i': 1.2,\n",
    "    'integr': {'stop_conditions': 'x_max',\n",
    "               'value': 2e5,\n",
    "               'dt': 1e-1}\n",
    "}  "
   ]
  },
  {
   "cell_type": "code",
   "execution_count": 8,
   "metadata": {},
   "outputs": [],
   "source": [
    "def ozvb(dict_opts):\n",
    "    \n",
    "    \"\"\"\n",
    "    Ф-ция решения прямой задачи внешней баллистики (ОЗВБ) ракеты\n",
    "    argument:  dict_opts {dict}  -- словарь с опциями (начальными данными)\n",
    "    return:    dict_res  {dict}  -- словарь с результатами решения ОЗВБ\n",
    "    \"\"\"\n",
    "    \n",
    "    # const:\n",
    "    g     = 9.80665\n",
    "    p_h0  = 101325\n",
    "    k_air = 1.41\n",
    "    \n",
    "    def func_stop(stop_conditions):\n",
    "        if stop_conditions == 't0':\n",
    "            return lambda t: dict_opts['I_10'] * dict_opts['myu_0'] / dict_opts['η_0'] / g - t\n",
    "        if stop_conditions == 'v_max':\n",
    "            return lambda v: dict_opts['integr']['value'] - v\n",
    "        if stop_conditions == 'y_max':\n",
    "            return lambda y: dict_opts['integr']['value'] - y\n",
    "        if stop_conditions == 'x_max':\n",
    "            return lambda x: dict_opts['integr']['value'] - x\n",
    "        if stop_conditions == 'step_max':\n",
    "            return lambda i: dict_opts['integr']['value'] - i\n",
    "        if stop_conditions == 't_max':\n",
    "            return lambda t: dict_opts['integr']['value'] - t\n",
    "\n",
    "    def f(λ, k):\n",
    "        # табличная газодинамическая функция\n",
    "        return (1 + λ ** 2) * (1 - ((k - 1) / (k + 1)) * λ ** 2) ** (1 / (k - 1))\n",
    "\n",
    "    def π(y):\n",
    "        # ф-ция изменения атмосф. давления с высотой\n",
    "        p_h = table_atm(y, 2)\n",
    "        return p_h / p_h0\n",
    "\n",
    "    def ξ_stage(μ, μ_0):\n",
    "        # ф-ция, учитывающая отстыковку стартовой ступени (для двухступенчатых ракет)\n",
    "        if μ < μ_0:\n",
    "            return 1\n",
    "        else:\n",
    "            return 0\n",
    "   \n",
    "    def ξ_pusk(x, y):\n",
    "        # ф-ция, учитывающая неизменность угла наклона траектории при движении ракеты по направляющей\n",
    "        if np.sqrt(x ** 2 + y ** 2) <= dict_opts['init_conditions']['l_pusk']:\n",
    "            return 0\n",
    "        else:\n",
    "            return 1\n",
    "\n",
    "    def system(t, Y, r=dict_opts, Cx=Cx43):\n",
    "            \n",
    "        y1 = Y[0] # v\n",
    "        y2 = Y[1] # θ\n",
    "        y3 = Y[2] # x\n",
    "        y4 = Y[3] # y\n",
    "        y5 = Y[4] # μ \n",
    "        \n",
    "        M  = y1 / table_atm(y4, 4)\n",
    "        \n",
    "        a10_1 = g * r['η_0'] / (1 - y5)\n",
    "        a10_2 = g * r['η_0'] * (1 - π(y4)) / ((f(r['lambda_e'], r['k']) * (r['p_00'] / p_h0) - 1) * (1 - y5))\n",
    "        a1_3  = g * r['i'] * Cx(M) * k_air * p_h0 * π(y4) * (M ** 2) / (2 * r['q_M'] * (1 - y5))\n",
    "        a1_4  = g * np.sin(y2)\n",
    "        \n",
    "        # dv/dt\n",
    "        f1 = (a10_1 + a10_2) * ξ_stage(y5, r['myu_0']) - a1_3 - a1_4\n",
    "        # dθ/dt\n",
    "        f2 = g * ξ_pusk(y3, y4) / (y1 ** (ξ_pusk(y3, y4))) * (Cy_alpha * alpha * table_atm(y4, 3) * y1 ** 2 / (2 * r['q_M'] * (1 - y5)) + r['η_0'] * np.sin(np.radians(alpha)) / (1 - y5) - np.cos(y2) * (1 - ξ_stage(y5, r['myu_0'])))\n",
    "        # dx/dt\n",
    "        f3 = y1 * np.cos(y2)\n",
    "        # dy/dt\n",
    "        f4 = y1 * np.sin(y2)\n",
    "        # dμ/dt\n",
    "        f5 = g * (r['η_0'] / r['I_10']) * ξ_stage(y5, r['myu_0'])\n",
    "        \n",
    "        return np.array([f1, f2, f3, f4, f5])\n",
    "   \n",
    "    def RK4(F, Y0, stop_conditions=dict_opts['integr']['stop_conditions'],\n",
    "            func_end=func_stop(dict_opts['integr']['stop_conditions']), \n",
    "            dt=dict_opts['integr']['dt'], y=dict_opts['init_conditions']['y'],\n",
    "            t0=0, max_time=300): \n",
    "        \n",
    "        ti = t0 \n",
    "        Yi = Y0\n",
    "        res = {\n",
    "        'y1': [Y0[0]],\n",
    "        'y2': [Y0[1]],\n",
    "        'y3': [Y0[2]],\n",
    "        'y4': [Y0[3]],\n",
    "        'y5': [Y0[4]],\n",
    "        'Mach': [Y0[0]/table_atm(Y0[3],4)],\n",
    "        't': [t0],\n",
    "        'stop_reason': ''        \n",
    "        }\n",
    "\n",
    "        def foo_init_stop(stop_conditions, fint, *args):\n",
    "            if stop_conditions == 't0':\n",
    "                if fint == 1:\n",
    "                    return args[1]\n",
    "                if fint == 0:\n",
    "                    return t0\n",
    "            elif stop_conditions == 'v_max':\n",
    "                if fint == 1:\n",
    "                    return args[0][0]\n",
    "                if fint == 0:\n",
    "                    return Y0[0]\n",
    "            elif stop_conditions == 'y_max':\n",
    "                if fint == 1:\n",
    "                    return args[0][3]\n",
    "                if fint==0:\n",
    "                    return Y0[3]\n",
    "            elif stop_conditions == 'x_max':\n",
    "                if fint == 1:\n",
    "                    return args[0][2]\n",
    "                if fint == 0:\n",
    "                    return Y0[2]\n",
    "            elif stop_conditions == 't_max':\n",
    "                if fint == 1:\n",
    "                    return args[1]\n",
    "                if fint == 0:\n",
    "                    return t0\n",
    "            else:\n",
    "                print('unknown condition')\n",
    "        \n",
    "        flag = True\n",
    "        var = foo_init_stop(stop_conditions, 0, Yi, ti)\n",
    "        \n",
    "        while func_end(var) > 0 and ti < max_time and Yi[3] < 8e4 and flag == True:\n",
    "            \n",
    "            k1 = F(ti, Yi)\n",
    "            k2 = F(ti + dt / 2, Yi + k1 * dt / 2)\n",
    "            k3 = F(ti + dt / 2, Yi + k2 * dt / 2)\n",
    "            k4 = F(ti + dt, Yi + k3 * dt)\n",
    "            Yi += dt * (k1 + 2 * k2 + 2 * k3 + k4) / 6\n",
    "            \n",
    "            ti += dt\n",
    "            if Yi[3] <= 0:\n",
    "                flag = False\n",
    "            \n",
    "            var = foo_init_stop(stop_conditions, 1, Yi, ti)\n",
    "            \n",
    "            res['y1'].append(Yi[0])\n",
    "            res['y2'].append(Yi[1])\n",
    "            res['y3'].append(Yi[2])\n",
    "            res['y4'].append(Yi[3])\n",
    "            res['y5'].append(Yi[4])\n",
    "            res['Mach'].append(Yi[0]/table_atm(Yi[3],4))\n",
    "            res['t'].append(ti)\n",
    "            \n",
    "        if func_end(var) < 0:\n",
    "            stop_reason = dict_opts['integr']['stop_conditions']\n",
    "        elif ti >= max_time:\n",
    "            stop_reason = 'max_time'\n",
    "        elif Yi[3] <= 0:\n",
    "            stop_reason = f'missile arrived (x = {Yi[2]}; y = 0)'\n",
    "        elif Yi[3] >= 8e4:\n",
    "            stop_reason = 'y_max_atmo'\n",
    "        else:\n",
    "            stop_reason = 'unknown reason'\n",
    "        res['stop_reason'] = stop_reason\n",
    "        print(f'stop reason: {stop_reason};\\nflight time: {ti} с.;')\n",
    "        \n",
    "        return res\n",
    "    \n",
    "    init = [dict_opts['init_conditions']['v'], np.radians(dict_opts['init_conditions']['thetta']),\n",
    "            dict_opts['init_conditions']['x'], dict_opts['init_conditions']['y'], 0]\n",
    "    \n",
    "    fl_start = timeit.default_timer()\n",
    "    res = RK4(system, init)\n",
    "    fl_end   = timeit.default_timer() - fl_start \n",
    "    print(f'execution time: {fl_end} с.')\n",
    "    \n",
    "    dict_res = {\n",
    "        'v': np.array(res['y1']),\n",
    "        'thetta': np.array(res['y2']),\n",
    "        'x':  np.array(res['y3']),\n",
    "        'y': np.array(res['y4']),\n",
    "        'myu':  np.array(res['y5']),\n",
    "        't':  np.array(res['t']),\n",
    "        'Mach': np.array(res['Mach']),\n",
    "        'stop_reason': res['stop_reason'],\n",
    "        'execution_time': fl_end\n",
    "    }\n",
    "\n",
    "    return dict_res"
   ]
  },
  {
   "cell_type": "code",
   "execution_count": 5,
   "metadata": {},
   "outputs": [
    {
     "name": "stdout",
     "output_type": "stream",
     "text": [
      "stop reason: x_max;\n",
      "flight time: 150.0 с.;\n",
      "execution time: 35.2462417 с.\n"
     ]
    }
   ],
   "source": [
    "res = ozvb(opts)"
   ]
  },
  {
   "cell_type": "code",
   "execution_count": 6,
   "metadata": {},
   "outputs": [],
   "source": [
    "%matplotlib inline"
   ]
  },
  {
   "cell_type": "code",
   "execution_count": 7,
   "metadata": {},
   "outputs": [
    {
     "data": {
      "image/png": "[encoded data removed]",
      "text/plain": [
       "<Figure size 432x288 with 1 Axes>"
      ]
     },
     "metadata": {
      "needs_background": "light"
     },
     "output_type": "display_data"
    }
   ],
   "source": [
    "plt.figure()\n",
    "plt.plot(res['t'], res['v'])\n",
    "plt.grid()\n",
    "plt.xlabel('t'), plt.ylabel('V') \n",
    "plt.show()"
   ]
  },
  {
   "cell_type": "code",
   "execution_count": 8,
   "metadata": {},
   "outputs": [
    {
     "data": {
      "image/png": "[encoded data removed]",
      "text/plain": [
       "<Figure size 432x288 with 1 Axes>"
      ]
     },
     "metadata": {
      "needs_background": "light"
     },
     "output_type": "display_data"
    }
   ],
   "source": [
    "plt.figure()\n",
    "plt.plot(res['x'], res['y'])\n",
    "plt.xlabel('x'), plt.ylabel('y') \n",
    "plt.axis('equal')\n",
    "plt.ylim(0, 8e4)\n",
    "plt.grid()\n",
    "plt.show()"
   ]
  },
  {
   "cell_type": "code",
   "execution_count": 9,
   "metadata": {},
   "outputs": [
    {
     "data": {
      "image/png": "[encoded data removed]",
      "text/plain": [
       "<Figure size 432x288 with 1 Axes>"
      ]
     },
     "metadata": {
      "needs_background": "light"
     },
     "output_type": "display_data"
    }
   ],
   "source": [
    "plt.figure()\n",
    "plt.plot(res['t'], np.degrees(res['thetta']))\n",
    "plt.xlabel('t'), plt.ylabel('thetta') \n",
    "plt.grid()\n",
    "plt.show()"
   ]
  },
  {
   "cell_type": "markdown",
   "metadata": {},
   "source": [
    "### 1.2. Поиск оптимального начального угла склонения ракеты Q0"
   ]
  },
  {
   "cell_type": "code",
   "execution_count": 82,
   "metadata": {},
   "outputs": [
    {
     "name": "stdout",
     "output_type": "stream",
     "text": [
      "stop reason: missile arrived (x = 117460.73226050592; y = 0);\n",
      "flight time: 122.0 с.;\n",
      "execution time: 24.02381659999992 с.\n",
      "stop reason: missile arrived (x = 169806.79770515338; y = 0);\n",
      "flight time: 152.5 с.;\n",
      "execution time: 29.090437299999394 с.\n",
      "stop reason: x_max;\n",
      "flight time: 155.0 с.;\n",
      "execution time: 29.78911210000024 с.\n",
      "stop reason: x_max;\n",
      "flight time: 150.0 с.;\n",
      "execution time: 30.675045099999807 с.\n",
      "stop reason: x_max;\n",
      "flight time: 151.5 с.;\n",
      "execution time: 22.511136299999635 с.\n",
      "stop reason: y_max_atmo;\n",
      "flight time: 86.0 с.;\n",
      "execution time: 10.636283899999398 с.\n",
      "stop reason: y_max_atmo;\n",
      "flight time: 71.0 с.;\n",
      "execution time: 8.800911499999529 с.\n",
      "stop reason: y_max_atmo;\n",
      "flight time: 63.0 с.;\n",
      "execution time: 7.748707700000523 с.\n",
      "stop reason: y_max_atmo;\n",
      "flight time: 57.5 с.;\n",
      "execution time: 7.378527799999574 с.\n"
     ]
    }
   ],
   "source": [
    "mass_thetta = np.arange(20, 65, 5)\n",
    "mass_y_end  = []\n",
    "mass_x_end  = []\n",
    "mass_stop   = []\n",
    "for i in mass_thetta:\n",
    "    opts['init_conditions']['thetta'] = i\n",
    "    res = ozvb(opts)\n",
    "    mass_y_end.append(res['y'][-1])\n",
    "    mass_x_end.append(res['x'][-1])\n",
    "    mass_stop.append(res['stop_reason'])  \n",
    "mass_y_end = np.array(mass_y_end)\n",
    "mass_x_end = np.array(mass_x_end)"
   ]
  },
  {
   "cell_type": "code",
   "execution_count": 83,
   "metadata": {},
   "outputs": [
    {
     "data": {
      "image/png": "[encoded data removed]",
      "text/plain": [
       "<Figure size 432x288 with 1 Axes>"
      ]
     },
     "metadata": {
      "needs_background": "light"
     },
     "output_type": "display_data"
    }
   ],
   "source": [
    "plt.figure()\n",
    "plt.plot(mass_thetta, mass_x_end, label='x$_{max}$')\n",
    "plt.plot(mass_thetta, mass_y_end*1e1, label='y$_{end}$')\n",
    "plt.xlabel('thetta')\n",
    "plt.legend()\n",
    "plt.grid()\n",
    "plt.show()"
   ]
  },
  {
   "cell_type": "code",
   "execution_count": 84,
   "metadata": {},
   "outputs": [
    {
     "data": {
      "text/plain": [
       "30"
      ]
     },
     "execution_count": 84,
     "metadata": {},
     "output_type": "execute_result"
    }
   ],
   "source": [
    "y_end_max = mass_y_end[0]\n",
    "for i in range(len(mass_x_end)):\n",
    "    if mass_stop[i] == 'x_max' and mass_y_end[i] > y_end_max and mass_y_end[i] < 35e3:\n",
    "        thetta_opt = mass_thetta[i]\n",
    "thetta_opt"
   ]
  },
  {
   "cell_type": "code",
   "execution_count": 10,
   "metadata": {},
   "outputs": [],
   "source": [
    "thetta_opt = 35\n",
    "opts['init_conditions']['thetta'] = thetta_opt"
   ]
  },
  {
   "cell_type": "markdown",
   "metadata": {},
   "source": [
    "### 1.3. Поиск минимума стартовой массы ракеты"
   ]
  },
  {
   "cell_type": "code",
   "execution_count": 10,
   "metadata": {},
   "outputs": [],
   "source": [
    "mass_μ_0 = np.arange(0.55, 0.66, 0.01)\n",
    "m_пн = 730\n",
    "α_д = 0.18"
   ]
  },
  {
   "cell_type": "code",
   "execution_count": 87,
   "metadata": {},
   "outputs": [
    {
     "name": "stdout",
     "output_type": "stream",
     "text": [
      "stop reason: x_max;\n",
      "flight time: 180.0 с.;\n",
      "execution time: 22.716152500000135 с.\n",
      "stop reason: x_max;\n",
      "flight time: 167.5 с.;\n",
      "execution time: 20.846190500000375 с.\n",
      "stop reason: x_max;\n",
      "flight time: 165.0 с.;\n",
      "execution time: 20.280075799999395 с.\n",
      "stop reason: x_max;\n",
      "flight time: 159.0 с.;\n",
      "execution time: 19.86597569999958 с.\n",
      "stop reason: x_max;\n",
      "flight time: 150.0 с.;\n",
      "execution time: 18.68132719999994 с.\n",
      "stop reason: x_max;\n",
      "flight time: 144.5 с.;\n",
      "execution time: 17.926345900000342 с.\n",
      "stop reason: x_max;\n",
      "flight time: 138.0 с.;\n",
      "execution time: 17.331655099999807 с.\n",
      "stop reason: x_max;\n",
      "flight time: 134.5 с.;\n",
      "execution time: 17.033898699999554 с.\n",
      "stop reason: x_max;\n",
      "flight time: 130.0 с.;\n",
      "execution time: 16.17027700000017 с.\n",
      "stop reason: y_max_atmo;\n",
      "flight time: 111.5 с.;\n",
      "execution time: 13.935855199999423 с.\n",
      "stop reason: y_max_atmo;\n",
      "flight time: 97.5 с.;\n",
      "execution time: 12.773819699999876 с.\n"
     ]
    }
   ],
   "source": [
    "mass_m_0, mass_V_0, mass_myu_0 = [], [], []\n",
    "for i in mass_μ_0:\n",
    "    opts['myu_0'] = i\n",
    "    m_0 = m_пн / (1 - (1 + α_д) * i)\n",
    "    opts['q_M'] = m_0 * 9.80665 / (np.pi * 0.515**2 / 4)\n",
    "    res = ozvb(opts)\n",
    "    if res['stop_reason'] == 'x_max' and max(res['v']) > 2100:\n",
    "        mass_m_0.append(m_0)\n",
    "        mass_V_0.append(max(res['v']))\n",
    "        mass_myu_0.append(i)"
   ]
  },
  {
   "cell_type": "code",
   "execution_count": 12,
   "metadata": {},
   "outputs": [
    {
     "ename": "NameError",
     "evalue": "name 'mass_m_0' is not defined",
     "output_type": "error",
     "traceback": [
      "\u001b[1;31m---------------------------------------------------------------------------\u001b[0m",
      "\u001b[1;31mNameError\u001b[0m                                 Traceback (most recent call last)",
      "\u001b[1;32m<ipython-input-12-1176887ce750>\u001b[0m in \u001b[0;36m<module>\u001b[1;34m\u001b[0m\n\u001b[1;32m----> 1\u001b[1;33m \u001b[0mind_min\u001b[0m\u001b[1;33m,\u001b[0m \u001b[0mm_0_opt\u001b[0m \u001b[1;33m=\u001b[0m \u001b[0mnp\u001b[0m\u001b[1;33m.\u001b[0m\u001b[0margmin\u001b[0m\u001b[1;33m(\u001b[0m\u001b[0mmass_m_0\u001b[0m\u001b[1;33m)\u001b[0m\u001b[1;33m,\u001b[0m \u001b[0mmin\u001b[0m\u001b[1;33m(\u001b[0m\u001b[0mmass_m_0\u001b[0m\u001b[1;33m)\u001b[0m\u001b[1;33m\u001b[0m\u001b[1;33m\u001b[0m\u001b[0m\n\u001b[0m\u001b[0;32m      2\u001b[0m \u001b[0mmyu_0_opt\u001b[0m \u001b[1;33m=\u001b[0m \u001b[0mmass_myu_0\u001b[0m\u001b[1;33m[\u001b[0m\u001b[0mind_min\u001b[0m\u001b[1;33m]\u001b[0m\u001b[1;33m\u001b[0m\u001b[1;33m\u001b[0m\u001b[0m\n\u001b[0;32m      3\u001b[0m \u001b[0mt_0\u001b[0m \u001b[1;33m=\u001b[0m \u001b[0mopts\u001b[0m\u001b[1;33m[\u001b[0m\u001b[1;34m'I_10'\u001b[0m\u001b[1;33m]\u001b[0m \u001b[1;33m*\u001b[0m \u001b[0mmyu_0_opt\u001b[0m \u001b[1;33m/\u001b[0m \u001b[0mopts\u001b[0m\u001b[1;33m[\u001b[0m\u001b[1;34m'η_0'\u001b[0m\u001b[1;33m]\u001b[0m \u001b[1;33m/\u001b[0m \u001b[1;36m9.80665\u001b[0m\u001b[1;33m\u001b[0m\u001b[1;33m\u001b[0m\u001b[0m\n\u001b[0;32m      4\u001b[0m \u001b[0mprint\u001b[0m\u001b[1;33m(\u001b[0m\u001b[1;34mf'Стартовая масса ракеты m0 = {m_0_opt} (μ = {myu_0_opt})'\u001b[0m\u001b[1;33m)\u001b[0m\u001b[1;33m\u001b[0m\u001b[1;33m\u001b[0m\u001b[0m\n\u001b[0;32m      5\u001b[0m \u001b[0mprint\u001b[0m\u001b[1;33m(\u001b[0m\u001b[1;34mf'Время работы ДУ t = {t_0}'\u001b[0m\u001b[1;33m)\u001b[0m\u001b[1;33m\u001b[0m\u001b[1;33m\u001b[0m\u001b[0m\n",
      "\u001b[1;31mNameError\u001b[0m: name 'mass_m_0' is not defined"
     ]
    }
   ],
   "source": [
    "ind_min, m_0_opt = np.argmin(mass_m_0), min(mass_m_0)\n",
    "myu_0_opt = mass_myu_0[ind_min]\n",
    "t_0 = opts['I_10'] * myu_0_opt / opts['η_0'] / 9.80665\n",
    "print(f'Стартовая масса ракеты m0 = {m_0_opt} (μ = {myu_0_opt})')\n",
    "print(f'Время работы ДУ t = {t_0}')"
   ]
  },
  {
   "cell_type": "markdown",
   "metadata": {},
   "source": [
    "### 1.4. Получаем профиль скорости и траекторию полёта"
   ]
  },
  {
   "cell_type": "code",
   "execution_count": 11,
   "metadata": {},
   "outputs": [],
   "source": [
    "myu_0_opt = 0.59\n",
    "m_0_opt = 2402.896642527979"
   ]
  },
  {
   "cell_type": "code",
   "execution_count": 12,
   "metadata": {},
   "outputs": [
    {
     "name": "stdout",
     "output_type": "stream",
     "text": [
      "stop reason: x_max;\n",
      "flight time: 151.59999999999567 с.;\n",
      "execution time: 161.33756589999996 с.\n"
     ]
    }
   ],
   "source": [
    "opts['myu_0'] = myu_0_opt\n",
    "opts['q_M'] = m_0_opt * 9.80665 / (np.pi * 0.515**2 / 4)\n",
    "res = ozvb(opts)"
   ]
  },
  {
   "cell_type": "code",
   "execution_count": 13,
   "metadata": {},
   "outputs": [
    {
     "data": {
      "image/png": "[encoded data removed]",
      "text/plain": [
       "<Figure size 600x400 with 1 Axes>"
      ]
     },
     "metadata": {
      "needs_background": "light"
     },
     "output_type": "display_data"
    },
    {
     "data": {
      "text/plain": [
       "2142.117991372499"
      ]
     },
     "execution_count": 13,
     "metadata": {},
     "output_type": "execute_result"
    }
   ],
   "source": [
    "plt.figure(dpi=100)\n",
    "plt.plot(res['t'], res['v'], linewidth=2)\n",
    "plt.grid()\n",
    "plt.xlabel('$t$, с'), plt.ylabel('$V$, м/с') \n",
    "plt.grid(True, linewidth=0.3, color='k')\n",
    "plt.show()\n",
    "max(res['v'])"
   ]
  },
  {
   "cell_type": "code",
   "execution_count": 14,
   "metadata": {},
   "outputs": [
    {
     "data": {
      "image/png": "[encoded data removed]",
      "text/plain": [
       "<Figure size 600x400 with 1 Axes>"
      ]
     },
     "metadata": {
      "needs_background": "light"
     },
     "output_type": "display_data"
    }
   ],
   "source": [
    "plt.figure(dpi=100)\n",
    "plt.plot(res['x']/1e3, res['y']/1e3, linewidth=2)\n",
    "plt.xlabel('$x$, км'), plt.ylabel('$y$, км') \n",
    "plt.xlim(0, 200), plt.ylim(0, 200)\n",
    "plt.grid(True, linewidth=0.3, color='k')\n",
    "plt.show()"
   ]
  },
  {
   "cell_type": "code",
   "execution_count": 15,
   "metadata": {},
   "outputs": [
    {
     "name": "stdout",
     "output_type": "stream",
     "text": [
      "Стартовая масса ракеты: m0 = 2402.896642527979 кг;\n",
      "Нагрузка на мидель на старте: q = 113123.13354877892 Н/м^2;\n",
      "Длина корпуса ракеты: l = 7.690232889503818 м (длина ТПК 7810 мм);\n",
      "Удлинение корпуса ракеты: λ = 14.932491047580228;\n",
      "Масса топлива двигателя: w = 1417.7090190915076 кг;\n",
      "Время работы двигателя: t = 11.602913766241713 с;\n",
      "Расход топлива: G = 122.18560334528075 кг/с;\n",
      "Тяга ДУ: P = 329901.12903225806 Н;\n"
     ]
    }
   ],
   "source": [
    "g = 9.80665\n",
    "m_0 = m_0_opt\n",
    "m_бч = 145\n",
    "d = 0.515 # из прототипа\n",
    "gamma = 1500 # плотность ракеты по статистике (удельный вес)\n",
    "q_m = (4 * m_0 * g) / (np.pi * d**2)\n",
    "l_korp = m_0 / (np.pi * d**2 / 4 * gamma)\n",
    "lambd_korp = l_korp / d\n",
    "w_marsh = m_0 * myu_0_opt\n",
    "t_marsh = opts['I_10'] * myu_0_opt / opts['η_0'] / g\n",
    "G_marsh = w_marsh / t_marsh\n",
    "P_marsh = opts['η_0'] * g * m_0 #  у прототипа 220000\n",
    "print(f'Стартовая масса ракеты: m0 = {m_0} кг;')\n",
    "print(f'Нагрузка на мидель на старте: q = {q_m} Н/м^2;')\n",
    "print(f'Длина корпуса ракеты: l = {l_korp} м (длина ТПК 7810 мм);')\n",
    "print(f'Удлинение корпуса ракеты: λ = {lambd_korp};')\n",
    "print(f'Масса топлива двигателя: w = {w_marsh} кг;')\n",
    "print(f'Время работы двигателя: t = {t_marsh} с;')\n",
    "print(f'Расход топлива: G = {G_marsh} кг/с;')\n",
    "print(f'Тяга ДУ: P = {P_marsh} Н;')"
   ]
  },
  {
   "cell_type": "markdown",
   "metadata": {},
   "source": [
    "## 2) Определение АД коэффициентов для более подробной мат модели"
   ]
  },
  {
   "attachments": {
    "image-6.png": {
     "image/png": "[encoded data removed]"
    }
   },
   "cell_type": "markdown",
   "metadata": {},
   "source": [
    "![image-6.png](attachment:image-6.png)\n",
    "\n",
    "**Прототип 48Н6Е** (С-300ПМУ). Бескрылая нормальная схема (частный случай \"нормальной\" схемы) - \"схема с несущим корпусом\". Двигатель разгонно-маршевый однорежимный из высокопрочного алюминиевого сплава (таблица 4.3). \n",
    "\n",
    "mz_cy = - 0.02...0.06 для обычной схемы (x_t - x_fa) / L_korp\n",
    "\n",
    "АД ОУ - рули-элероны выполняют еще и роль стабилизирующих поверхностей, обеспечивающих необходимые запасы статической устойчивости.\n",
    "\n",
    "* стр. 455 про бескрылую схему можно многое узнать\n",
    "\n",
    "* стр. 511 про нашу ракету написал Грушин\n",
    "\n",
    "* стр. 527 про бал проектирование"
   ]
  },
  {
   "cell_type": "markdown",
   "metadata": {},
   "source": [
    "### 2.1. Центровочный расчет ракеты"
   ]
  },
  {
   "cell_type": "code",
   "execution_count": 24,
   "metadata": {},
   "outputs": [],
   "source": [
    "# длины отсеков\n",
    "L1, L2, L3, L4, L5 = 1.360, 1.163, 0.465, 3.853, 0.849"
   ]
  },
  {
   "cell_type": "code",
   "execution_count": 52,
   "metadata": {},
   "outputs": [],
   "source": [
    "# плотности отсеков\n",
    "rho1, rho2, rho3, rho5 = 550, 750, 2500, 1200"
   ]
  },
  {
   "cell_type": "code",
   "execution_count": 53,
   "metadata": {},
   "outputs": [],
   "source": [
    "L_korp = 7690 / 1e3\n",
    "L_cil = 4567 / 1e3\n",
    "L_korm = 135 / 1e3\n",
    "L_oper = 1134 / 1e3\n",
    "b_0_oper = 1102.3 / 1e3\n",
    "L_kon1 = 1360 / 1e3\n",
    "L_kon2 = 1628 / 1e3\n",
    "x_b_oper = 6501.845766 / 1e3\n",
    "a = 0.2 # 0.15...0,2\n",
    "betta_kon2 = 1\n",
    "d = 515 / 1e3\n",
    "d_kon1 = d - 2 * np.tan(np.radians(betta_kon2)) * L_kon2\n",
    "d_kon2 = d_kon1 + 2 * np.tan(np.radians(betta_kon2)) * L2\n",
    "d_korm = 440 / 1e3\n",
    "c_oper = 0.03\n",
    "khi_pk_oper = 50\n",
    "khi_rul = 90\n",
    "class_korp = 7\n",
    "class_oper = 5\n",
    "S_oper = 1.20092864206\n",
    "x_ct_0 = 4.5066951078603825\n",
    "x_ct_marsh = 3.921345267027331"
   ]
  },
  {
   "cell_type": "code",
   "execution_count": 54,
   "metadata": {},
   "outputs": [
    {
     "data": {
      "text/plain": [
       "(0.07474012762427584,\n",
       " 0.2092344884749249,\n",
       " 0.09384174611213834,\n",
       " 0.8026077490489509,\n",
       " 0.1729562798379823)"
      ]
     },
     "execution_count": 54,
     "metadata": {},
     "output_type": "execute_result"
    }
   ],
   "source": [
    "# объемы отсеков\n",
    "V1 = 1/3 * np.pi * (d_kon1/2)**2 * L_kon1\n",
    "V2 = 1/3 * np.pi * L2 * ((d_kon1/2)**2 + (d_kon1/2) * (d_kon2/2) + (d_kon2/2)**2)\n",
    "V3 = 1/3 * np.pi * L3 * ((d_kon2/2)**2 + (d_kon2/2) * (d/2) + (d/2)**2)\n",
    "V4 = 1/4 * np.pi * d**2 * L4 \n",
    "V5 = 1/4 * np.pi * d**2 * (L5 - L_korm) + 1/3 * np.pi * L_korm * ((d/2)**2 + (d/2)*(d_korm/2) + (d_korm/2)**2)\n",
    "V1, V2, V3, V4, V5"
   ]
  },
  {
   "cell_type": "code",
   "execution_count": 55,
   "metadata": {},
   "outputs": [
    {
     "data": {
      "text/plain": [
       "(41.10707019335172,\n",
       " 156.92586635619367,\n",
       " 234.60436528034586,\n",
       " 1672.8966425279789,\n",
       " 207.54753580557878)"
      ]
     },
     "execution_count": 55,
     "metadata": {},
     "output_type": "execute_result"
    }
   ],
   "source": [
    "# массы отсеков\n",
    "Q1, Q2, Q3, Q4, Q5 = rho1 * V1, rho2 * V2, rho3 * V3, w_marsh + α_д * w_marsh, rho5 * V5\n",
    "Q1, Q2, Q3, Q4, Q5"
   ]
  },
  {
   "cell_type": "code",
   "execution_count": 56,
   "metadata": {},
   "outputs": [
    {
     "data": {
      "text/plain": [
       "2313.0814801634488"
      ]
     },
     "execution_count": 56,
     "metadata": {},
     "output_type": "execute_result"
    }
   ],
   "source": [
    "# масса ракеты\n",
    "Q1 + Q2 + Q3 + Q4 + Q5"
   ]
  },
  {
   "cell_type": "code",
   "execution_count": 57,
   "metadata": {},
   "outputs": [
    {
     "data": {
      "text/plain": [
       "(0.9066666666666667, 1.957937945958474, 2.762072351565512, 4.9145, 7.2655)"
      ]
     },
     "execution_count": 57,
     "metadata": {},
     "output_type": "execute_result"
    }
   ],
   "source": [
    "# центры масс отсеков\n",
    "x_ct1 = 2/3 * L_kon1\n",
    "r_kon1, r_kon2 = d_kon1/2, d_kon2/2\n",
    "x_ct2 = L_kon1 + (L2 - L2/4 * ((r_kon2**2 + 2*r_kon1*r_kon2 + 3*r_kon1**2) / (r_kon2**2 + r_kon1*r_kon2 + r_kon1**2)))\n",
    "x_ct3 = L_kon1 + L2 + (L3 - L3/4 * ((r_kon2**2 + 2*r_kon1*r_kon2 + 3*r_kon1**2) / (r_kon2**2 + r_kon1*r_kon2 + r_kon1**2)))\n",
    "x_ct4 = L_kon1 + L_kon2 + L4/2\n",
    "x_ct5 = L_kon1 + L_kon2 + L4 + L5/2\n",
    "x_ct1, x_ct2, x_ct3, x_ct4, x_ct5"
   ]
  },
  {
   "cell_type": "code",
   "execution_count": 58,
   "metadata": {},
   "outputs": [
    {
     "data": {
      "text/plain": [
       "(4.63533300175349, 4.193307377274312)"
      ]
     },
     "execution_count": 58,
     "metadata": {},
     "output_type": "execute_result"
    }
   ],
   "source": [
    "# центры масс ракеты в характерных точках\n",
    "x_ct_0 = (Q1 * x_ct1 + Q2 * x_ct2 + Q3 * x_ct3 + Q4 * x_ct4 + Q5 * x_ct5) / (Q1 + Q2 + Q3 + Q4 + Q5)\n",
    "x_ct_marsh = (Q1 * x_ct1 + Q2 * x_ct2 + Q3 * x_ct3 + (α_д * w_marsh) * x_ct4 + Q5 * x_ct5) / (Q1 + Q2 + Q3 + (α_д * w_marsh) + Q5)\n",
    "x_ct_0, x_ct_marsh"
   ]
  },
  {
   "cell_type": "code",
   "execution_count": 59,
   "metadata": {},
   "outputs": [
    {
     "data": {
      "text/plain": [
       "5.748057535489958"
      ]
     },
     "execution_count": 59,
     "metadata": {},
     "output_type": "execute_result"
    }
   ],
   "source": [
    "# разбежка центра масс\n",
    "razbezhka = (x_ct_0 - x_ct_marsh) / L_korp * 100\n",
    "razbezhka"
   ]
  },
  {
   "cell_type": "code",
   "execution_count": 60,
   "metadata": {},
   "outputs": [
    {
     "data": {
      "image/png": "[encoded data removed]",
      "text/plain": [
       "<Figure size 432x288 with 1 Axes>"
      ]
     },
     "metadata": {
      "needs_background": "light"
     },
     "output_type": "display_data"
    }
   ],
   "source": [
    "plt.figure()\n",
    "plt.plot()\n",
    "plt.show()"
   ]
  },
  {
   "cell_type": "markdown",
   "metadata": {},
   "source": [
    "### 2.2. Определение АД характеристик на траектории полета полученного профиля скорости"
   ]
  },
  {
   "cell_type": "code",
   "execution_count": 61,
   "metadata": {},
   "outputs": [],
   "source": [
    "def get_P(t):\n",
    "    if t < t_marsh:\n",
    "        return P_marsh\n",
    "    else:\n",
    "        return 0"
   ]
  },
  {
   "cell_type": "code",
   "execution_count": 62,
   "metadata": {},
   "outputs": [],
   "source": [
    "def get_x_ct(t):\n",
    "    dx_ct = abs(x_ct_0 - x_ct_marsh) / t_marsh\n",
    "    if t < t_marsh:\n",
    "        return x_ct_0 - dx_ct * t\n",
    "    else:\n",
    "        return x_ct_marsh"
   ]
  },
  {
   "cell_type": "code",
   "execution_count": 63,
   "metadata": {},
   "outputs": [],
   "source": [
    "def aero_coef(state):\n",
    "    \"\"\"\n",
    "    Ф-ция расчёта аэродинамических коэффициентов ракеты в состоянии state\n",
    "    arguments: state {np.ndarray} -- состояние ракеты; \n",
    "                                     [v,   x, y, Q,       alpha,   t]\n",
    "                                     [м/с, м, м, радианы, градусы, с]\n",
    "    return: {dict}                -- словарь с АД коэф-тами \n",
    "    \"\"\" \n",
    "    v, x, y, alpha, t = state[0], state[1], state[2], state[4], state[5] \n",
    "    Mach = v / table_atm(y, 4)\n",
    "    nyu = table_atm(y, 6)\n",
    "    x_ct = get_x_ct(t)\n",
    "    Re_korp_f = v * L_korp / nyu\n",
    "    Re_korp_t = table_4_5(Mach, Re_korp_f, class_korp, L_korp)\n",
    "    \n",
    "    \n",
    "    # Вычисление геометрии корпуса:\n",
    "    L_nos = L_kon1 #+ L_kon2\n",
    "    d_kon1 = d - 2 * np.tan(np.radians(betta_kon2)) * L_kon2\n",
    "    betta_kon1 = (d_kon1 / 2) / L_kon1\n",
    "    S_kon1 = np.pi * d_kon1**2 / 4\n",
    "    S_mid = np.pi * d**2 / 4\n",
    "    S_dno = np.pi * d_korm**2 / 4\n",
    "    F_f = (np.pi * d_kon1/2 * np.sqrt((d_kon1/2)**2 + L_kon1**2)) + (np.pi * (d_kon1/2 + d/2) * np.sqrt((d/2 - d_kon1/2)**2 + L_kon2**2)) + (np.pi * d * L_cil) + (np.pi * (d_korm/2 + d/2) * np.sqrt((d/2 - d_korm/2)**2 + L_korm**2))\n",
    "    W_nos = 1/3 * L_kon1 * S_mid + 1/3 * np.pi * L_kon2 * ((d_kon1/2)**2 + (d_kon1/2)*(d/2) + (d/2)**2)\n",
    "    lambd_korp = L_korp / d\n",
    "    lambd_nos = L_nos / d\n",
    "    lambd_cil = L_cil / d\n",
    "    lambd_korm = L_korm / d\n",
    "    nu_korm = d_korm / d\n",
    "    \n",
    "    \n",
    "    # Вычисление геометрии рулей (оперения):\n",
    "    D_oper = d / L_oper\n",
    "    L_k_oper = L_oper - d\n",
    "    tg_khi_pk_oper = np.tan(np.radians(khi_pk_oper))\n",
    "    lambd_oper = L_oper**2 / S_oper\n",
    "    nu_oper = (S_oper / (L_oper * b_0_oper) - 0.5) ** (-1) / 2\n",
    "    b_k_oper = b_0_oper / nu_oper\n",
    "    b_a_oper = 4 / 3 * S_oper / L_oper * (1 - (nu_oper / (nu_oper + 1) ** 2))\n",
    "    b_b_oper = b_0_oper * (1 - (nu_oper - 1) / nu_oper * d / L_oper)\n",
    "    z_a_oper = L_oper / 6 * ((nu_oper + 2) / (nu_oper + 1))\n",
    "    S_k_oper = S_oper * (1 - ((nu_oper - 1) / (nu_oper + 1)) * d / L_oper) * (1 - d / L_oper)\n",
    "    nu_k_oper = nu_oper - d / L_oper * (nu_oper - 1)\n",
    "    lambd_k_oper = lambd_oper * ((1 - d / L_oper) / (1 - ((nu_oper - 1) / (nu_oper + 1) * d / L_oper)))\n",
    "    tg_khi_05_oper = tg_khi_pk_oper - 2 / lambd_oper * (nu_k_oper - 1) / (nu_k_oper + 1)\n",
    "    a_oper = 2/3 * b_b_oper\n",
    "    K_oper = 1 / (1 - a_oper / b_a_oper)\n",
    "    L_hv_oper = L_korp - x_b_oper - b_b_oper\n",
    "    if tg_khi_pk_oper == 0:\n",
    "        x_b_a_oper = x_b_oper\n",
    "    else:\n",
    "        x_b_a_oper = x_b_oper + (z_a_oper - d / 2) * tg_khi_pk_oper\n",
    "\n",
    "    \n",
    "    # Коэф-т подъемной силы корпуса\n",
    "    if Mach <= 1:\n",
    "        Cy_alpha_nos = 2 / 57.3 * (1 + 0.27 * Mach**2)\n",
    "    else:\n",
    "        Cy_alpha_nos = 2 / 57.3 * (np.cos(np.radians(betta_kon1))**2 * S_kon1 / S_mid\n",
    "                                   + np.cos(np.radians(betta_kon2))**2 * (1 - S_kon1 / S_mid))\n",
    "    Cy_alpha_korm = - 2 / 57.3 * (1 - nu_korm ** 2) * a\n",
    "    Cy_alpha_korp = Cy_alpha_nos + Cy_alpha_korm\n",
    "    \n",
    "    \n",
    "    # Коэф-т подъемной силы оперения по углу атаки\n",
    "    K_t_oper = table_3_21(Mach, lambd_nos)\n",
    "    Cy_alpha_k_oper = Cy_alpha_iz_kr(Mach * np.sqrt(K_t_oper), lambd_oper, c_oper, tg_khi_05_oper)\n",
    "    k_aa_oper = (1 + 0.41 * D_oper)**2 * ((1 + 3 * D_oper - 1 / nu_k_oper * D_oper * (1 - D_oper)) / (1 + D_oper)**2)\n",
    "    K_aa_oper = 1 + 3 * D_oper - (D_oper * (1 - D_oper)) / nu_k_oper\n",
    "    Cy_alpha_oper = Cy_alpha_k_oper * K_aa_oper\n",
    "    \n",
    "    \n",
    "    # Коэф-т подъемной силы оперения (рулей) по углу их отклонения\n",
    "    K_delt_0_oper = k_aa_oper\n",
    "    k_delt_0_oper = k_aa_oper ** 2 / K_aa_oper\n",
    "    if Mach <= 1:\n",
    "        k_shch = 0.825\n",
    "    elif 1 < Mach <= 1.4:\n",
    "        k_shch = 0.85 + 0.15 * (Mach - 1) / 0.4\n",
    "    else:\n",
    "        k_shch = 0.975\n",
    "    n_eff = k_shch * np.cos(np.radians(khi_rul))\n",
    "    Сy_delt_oper = Cy_alpha_k_oper * K_delt_0_oper * n_eff\n",
    "    \n",
    "    \n",
    "    # Коэф-т подъемной силы ракеты\n",
    "    Cy_alpha = Cy_alpha_korp * (S_mid / S_mid)  + Cy_alpha_oper * (S_oper / S_mid) * K_t_oper    \n",
    "      \n",
    "    \n",
    "    # Сопротивление корпуса\n",
    "    x_t = Re_korp_t * nyu / v\n",
    "    x_t_ = x_t / L_korp\n",
    "    Cx_f_ = table_4_2(Re_korp_f, x_t_) / 2\n",
    "    nu_m = table_4_3(Mach, x_t_)\n",
    "    nu_c = 1 + 1 / lambd_nos\n",
    "    Cx_tr = Cx_f_ * (F_f / S_mid) * nu_m * nu_c\n",
    "    \n",
    "    if Mach > 1:\n",
    "        p_kon1_ = (0.0016 + 0.002 / Mach**2) * betta_kon1**1.7\n",
    "        p_kon2_ = (0.0016 + 0.002 / Mach**2) * betta_kon2**1.7\n",
    "        Cx_nos = p_kon1_ * (S_kon1 / S_mid) + p_kon2_ * (1 - (S_kon1 / S_mid))\n",
    "    else:\n",
    "        Cx_nos = table_4_11(Mach, lambd_nos)\n",
    "\n",
    "    Cx_korm = table_4_24(Mach, nu_korm, lambd_korm)\n",
    "    \n",
    "    if get_P(t) == 0:\n",
    "        p_dno_ = table_p_dno_(Mach, oper=True)\n",
    "        K_nu = table_k_nu(nu_korm, lambd_korm, Mach)\n",
    "        Cx_dno = p_dno_ * K_nu * (S_dno / S_mid)\n",
    "    else:\n",
    "        Cx_dno = 0\n",
    "    Cx_0_korp = Cx_tr + Cx_nos + Cx_korm + Cx_dno\n",
    "    \n",
    "    if Mach < 1:\n",
    "        phi = -0.2\n",
    "    else:\n",
    "        phi = 0.7\n",
    "    Cx_ind_korp = Cy_alpha_korp * alpha**2 * ((1 + phi) / 57.3)\n",
    "    \n",
    "    Cx_korp = Cx_0_korp + Cx_ind_korp\n",
    "    \n",
    "    \n",
    "    # Сопротивление оперения\n",
    "    Re_oper_f = v * b_a_oper / nyu\n",
    "    Re_oper_t = table_4_5(Mach, Re_oper_f, class_oper, b_a_oper)\n",
    "    x_t_oper = Re_oper_t / Re_oper_f\n",
    "    C_f_oper = table_4_2(Re_oper_f, x_t_oper)\n",
    "    nu_c_oper = table_4_28(x_t_oper, c_oper)\n",
    "    Cx_oper_prof = C_f_oper * nu_c_oper\n",
    "    \n",
    "    if Mach < 1.1:\n",
    "        Cx_oper_voln = table_4_30(Mach, nu_k_oper, lambd_oper, tg_khi_05_oper, c_oper)\n",
    "    else:\n",
    "        phi = table_4_32(Mach, tg_khi_05_oper)\n",
    "        Cx_oper_voln = (table_4_30(Mach, nu_k_oper, lambd_oper, tg_khi_05_oper, c_oper)) * (1 + phi * (K_oper - 1))\n",
    "        \n",
    "    Cx_0_oper = Cx_oper_prof + Cx_oper_voln\n",
    "    \n",
    "    if Mach * np.cos(np.radians(khi_pk_oper)) > 1:\n",
    "        Cx_ind_oper = (Cy_alpha_oper * alpha) * np.tan(np.radians(alpha))\n",
    "    else:\n",
    "        Cx_ind_oper = 0.38 * (Cy_alpha_oper * alpha)**2 / (lambd_oper - 0.8 * (Cy_alpha_oper * alpha) * (lambd_oper - 1)) *\\\n",
    "        ((lambd_oper / np.cos(np.radians(khi_pk_oper)) + 4) / (lambd_oper + 4))\n",
    "        \n",
    "    Cx_oper = Cx_0_oper + Cx_ind_oper\n",
    "    \n",
    "    Cx_0 = 1.05 * (Cx_0_korp * (S_mid / S_mid) + Cx_0_oper * K_t_oper * (S_oper / S_mid))\n",
    "    Cx_ind = Cx_ind_korp * (S_mid / S_mid) + Cx_ind_oper * (S_oper / S_mid) * K_t_oper\n",
    "    Cx = Cx_0 + Cx_ind\n",
    "    \n",
    "    \n",
    "    # Центр давления корпуса\n",
    "    delta_x_f = F_iz_korp(Mach, lambd_nos, lambd_korp, L_nos)\n",
    "    x_fa_nos_cil = L_nos - W_nos / S_mid + delta_x_f\n",
    "    x_fa_korm = L_korp - 0.5 * L_korm   \n",
    "    x_fa_korp = 1 / Cy_alpha_korp * (Cy_alpha_nos * x_fa_nos_cil + Cy_alpha_korm * x_fa_korm)\n",
    "    \n",
    "    \n",
    "    # Фокус оперения по углу атаки\n",
    "    x_f_iz_oper_ = F_iz_kr(Mach, lambd_k_oper, tg_khi_05_oper, nu_k_oper)\n",
    "    x_f_iz_oper = x_b_a_oper + b_a_oper * x_f_iz_oper_\n",
    "    f1 = table_5_11(D_oper, L_k_oper)\n",
    "    x_f_delt_oper = x_f_iz_oper - tg_khi_05_oper * f1\n",
    "    if Mach > 1:\n",
    "        b__b_oper = b_b_oper / (np.pi / 2 * d * np.sqrt(Mach ** 2 - 1))\n",
    "        L__hv_oper = L_hv_oper / (np.pi * d * np.sqrt(Mach ** 2 - 1))\n",
    "        c_const_oper = (4 + 1 / nu_k_oper) * (1 + 8 * D_oper ** 2)\n",
    "        F_1_oper = 1 - 1 / (c_const_oper * b__b_oper ** 2) * (1 - np.exp(-c_const_oper * b__b_oper ** 2))\n",
    "        F_oper = 1 - np.sqrt(np.pi) / (2 * b__b_oper * np.sqrt(c_const_oper)) * (table_int_ver((b__b_oper + L__hv_oper) *\\\n",
    "                np.sqrt(2 * c_const_oper)) - table_int_ver(L__hv_oper * np.sqrt(2 * c_const_oper)))\n",
    "        x_f_b_oper_ = x_f_iz_oper_ + 0.02 * lambd_oper * tg_khi_05_oper\n",
    "        x_f_ind_oper = x_b_oper + b_b_oper * x_f_b_oper_ * F_oper * F_1_oper\n",
    "        x_fa_oper = 1 / K_aa_oper * (x_f_iz_oper + (k_aa_oper - 1) * x_f_delt_oper + (K_aa_oper - k_aa_oper) * x_f_ind_oper)\n",
    "    else:\n",
    "        x_f_b_oper_ = x_f_iz_oper_ + 0.02 * lambd_oper * tg_khi_05_oper\n",
    "        x_f_ind_oper = x_b_oper + b_b_oper * x_f_b_oper_\n",
    "        x_fa_oper = 1 / K_aa_oper * (x_f_iz_oper + (k_aa_oper - 1) * x_f_delt_oper + (K_aa_oper - k_aa_oper) * x_f_ind_oper)\n",
    "\n",
    "        \n",
    "    # Фокус оперения по углу отклонения\n",
    "    x_fd_oper = 1 / K_delt_0_oper * (k_delt_0_oper * x_f_iz_oper + (K_delt_0_oper - k_delt_0_oper) * x_f_ind_oper)\n",
    "    \n",
    "    \n",
    "    # Фокус ракеты\n",
    "    x_fa = 1 / Cy_alpha * ((Cy_alpha_korp * (S_mid / S_mid) * x_fa_korp) + Cy_alpha_oper * (S_oper / S_mid) * x_fa_oper * K_t_oper)\n",
    "    \n",
    "    \n",
    "    # Демпфирующие моменты АД поверхностей\n",
    "    x_c_ob = L_korp * ((2 * (lambd_nos + lambd_cil)**2 - lambd_nos**2) / (4 * (lambd_nos + lambd_cil) * (lambd_nos + lambd_cil - 2 / 3 * lambd_nos)))\n",
    "    m_z_wz_korp = - 2 * (1 - x_ct / L_korp + (x_ct / L_korp) ** 2 - x_c_ob / L_korp)\n",
    "\n",
    "    x_ct_oper_ = (x_ct - x_b_a_oper) / b_a_oper\n",
    "    m_z_wz_oper = -57.3 * (Cy_alpha_oper * (x_ct_oper_ - 1 / 2)**2 * K_aa_oper)\n",
    "\n",
    "    m_z_wz = m_z_wz_korp * (S_mid / S_mid) * (L_korp / L_korp)**2 + m_z_wz_oper * (S_oper / S_mid) * (b_a_oper / L_korp) * np.sqrt(K_t_oper)\n",
    "    \n",
    "\n",
    "    # Балансировочная зависимость\n",
    "    M_z_delt_oper = Сy_delt_oper * (x_ct - x_fd_oper) / L_korp\n",
    "    M_z_alpha = Cy_alpha * (x_ct - x_fa) / L_korp\n",
    "    ballans_relation = - (M_z_alpha / M_z_delt_oper)\n",
    "\n",
    "    \n",
    "    # Запас статической устойчивости\n",
    "    m_z_cy = (x_ct - x_fa) / L_korp\n",
    "    \n",
    "    \n",
    "    return {\n",
    "        'Cy_alpha': Cy_alpha,\n",
    "        'Cy_alpha_korp': Cy_alpha_korp,\n",
    "        'Cy_alpha_oper': Cy_alpha_oper,\n",
    "        'Cx': Cx,\n",
    "        'Cx_0': Cx_0,\n",
    "        'Cx_0_korp': Cx_0_korp,\n",
    "        'Cx_0_oper': Cx_0_oper,\n",
    "        'Cx_ind': Cx_ind,\n",
    "        'Cx_ind_korp': Cx_ind_korp,\n",
    "        'Cx_ind_oper': Cx_ind_oper,\n",
    "        'x_fa': x_fa,\n",
    "        'x_fa_korp': x_fa_korp,\n",
    "        'x_fa_oper': x_fa_oper,\n",
    "        'x_fd_oper': x_fd_oper,\n",
    "        'm_z_cy': m_z_cy,\n",
    "        'm_z_wz': m_z_wz,\n",
    "        'm_z_wz_korp': m_z_wz_korp,\n",
    "        'm_z_wz_oper': m_z_wz_oper,\n",
    "        'ballans_relation': ballans_relation,\n",
    "        'M_z_alpha': M_z_alpha,\n",
    "        'M_z_delt_oper': M_z_delt_oper\n",
    "    }"
   ]
  },
  {
   "cell_type": "code",
   "execution_count": 64,
   "metadata": {},
   "outputs": [],
   "source": [
    "def foo_aero(solve, alpha):\n",
    "    result = []\n",
    "    for i in range(len(res['t'])):\n",
    "        arg = [res['v'][i], res['x'][i], res['y'][i], res['thetta'][i], alpha, res['t'][i]]\n",
    "        result.append(aero_coef(arg))\n",
    "    return result"
   ]
  },
  {
   "cell_type": "code",
   "execution_count": 65,
   "metadata": {},
   "outputs": [],
   "source": [
    "res_aero = foo_aero(res, alpha=0)"
   ]
  },
  {
   "cell_type": "code",
   "execution_count": 66,
   "metadata": {},
   "outputs": [
    {
     "data": {
      "text/plain": [
       "{'Cy_alpha': 0.2192406702210984,\n",
       " 'Cy_alpha_korp': 0.033016366385328684,\n",
       " 'Cy_alpha_oper': 0.03250331466959562,\n",
       " 'Cx': 0.15396967365097436,\n",
       " 'Cx_0': 0.15396967365097436,\n",
       " 'Cx_0_korp': 0.1108237770389851,\n",
       " 'Cx_0_oper': 0.006250923900994684,\n",
       " 'Cx_ind': 0.0,\n",
       " 'Cx_ind_korp': 0.0,\n",
       " 'Cx_ind_oper': 0.0,\n",
       " 'x_fa': 5.797998916597824,\n",
       " 'x_fa_korp': -0.14046005545656465,\n",
       " 'x_fa_oper': 6.850849340238016,\n",
       " 'x_fd_oper': 6.852656826076926,\n",
       " 'm_z_cy': -0.20867250186261532,\n",
       " 'm_z_wz': -23.26903895184845,\n",
       " 'm_z_wz_korp': -0.3545840650492176,\n",
       " 'm_z_wz_oper': -28.935381884650464,\n",
       " 'ballans_relation': -1.0245284672044747e+17,\n",
       " 'M_z_alpha': -0.04574949916507319,\n",
       " 'M_z_delt_oper': -4.465420008280018e-19}"
      ]
     },
     "execution_count": 66,
     "metadata": {},
     "output_type": "execute_result"
    }
   ],
   "source": [
    "res_aero[-1]"
   ]
  },
  {
   "cell_type": "code",
   "execution_count": 67,
   "metadata": {},
   "outputs": [
    {
     "data": {
      "text/plain": [
       "array([0.07350726, 0.11235622, 0.15141408, 0.19068343, 0.23016688,\n",
       "       0.2698671 , 0.30978677, 0.34992861, 0.39029538, 0.43088987,\n",
       "       0.47171473, 0.51277246, 0.55406632, 0.59559929, 0.63737436,\n",
       "       0.67939359, 0.72166   , 0.76417362, 0.80693602, 0.84994239,\n",
       "       0.89318186, 0.93662714, 0.98022183, 1.02390716, 1.0677475 ,\n",
       "       1.11177629, 1.1560096 , 1.20045597, 1.24513119, 1.29004283,\n",
       "       1.33519703, 1.38059334, 1.42623885, 1.47214011, 1.518299  ,\n",
       "       1.56471803, 1.61140599, 1.65837175, 1.70561888, 1.75315419,\n",
       "       1.80098459, 1.84910904, 1.89752909, 1.94624869, 1.99527215,\n",
       "       2.04462037, 2.0942803 , 2.14426335, 2.19458073, 2.24524048,\n",
       "       2.29623709, 2.34758492, 2.39930121, 2.45137314, 2.50381465,\n",
       "       2.55662301, 2.60981505, 2.66338668, 2.71735483, 2.77172806,\n",
       "       2.82650025, 2.88169298, 2.93729284, 2.99333529, 3.0497926 ,\n",
       "       3.10666946, 3.16395944, 3.22169408, 3.27984916, 3.3384531 ,\n",
       "       3.39751277, 3.4570335 , 3.5170174 , 3.57747876, 3.6384252 ,\n",
       "       3.69985334, 3.76177994, 3.82421068, 3.88714722, 3.9505969 ,\n",
       "       4.01457121, 4.07907617, 4.14412621, 4.2097236 , 4.27588922,\n",
       "       4.34262582, 4.40995145, 4.47787948, 4.546419  , 4.61559897,\n",
       "       4.68540377, 4.75586648, 4.82700413, 4.89882689, 4.9716602 ,\n",
       "       5.04457955, 5.11854591, 5.19325899, 5.26873797, 5.34500803,\n",
       "       5.42208217, 5.49997728, 5.57874135, 5.65836496, 5.73888428,\n",
       "       5.82031694, 5.90269463, 5.98604335, 6.07039134, 6.15575889,\n",
       "       6.24202049, 6.32968968, 6.41830998, 6.50808275, 6.59903653,\n",
       "       6.69121224, 6.78463542, 6.82151934])"
      ]
     },
     "execution_count": 67,
     "metadata": {},
     "output_type": "execute_result"
    }
   ],
   "source": [
    "arr_mach = res['Mach'][:np.argmax(res['Mach'])+1]\n",
    "arr_mach"
   ]
  },
  {
   "cell_type": "code",
   "execution_count": 68,
   "metadata": {},
   "outputs": [
    {
     "data": {
      "text/plain": [
       "array([0.34047833, 0.34073502, 0.34110246, 0.34158373, 0.34218247,\n",
       "       0.34290288, 0.34374988, 0.34472918, 0.34606708, 0.34763671,\n",
       "       0.34940204, 0.35137772, 0.35358163, 0.35603587, 0.35876836,\n",
       "       0.36181514, 0.36522443, 0.36906305, 0.37342939, 0.37847892,\n",
       "       0.38458321, 0.3927011 , 0.40479192, 0.4204059 , 0.42741814,\n",
       "       0.43120085, 0.42907013, 0.42716426, 0.42540505, 0.42374938,\n",
       "       0.42217052, 0.4197631 , 0.41507701, 0.41050912, 0.40603735,\n",
       "       0.40164444, 0.3973161 , 0.39304068, 0.38880899, 0.38415554,\n",
       "       0.37931262, 0.37449751, 0.36970488, 0.36492988, 0.36016821,\n",
       "       0.3554145 , 0.35066708, 0.34623847, 0.34211023, 0.33797889,\n",
       "       0.33384334, 0.32970097, 0.32554914, 0.32138773, 0.3172146 ,\n",
       "       0.31318803, 0.30949079, 0.30578025, 0.30205462, 0.29831273,\n",
       "       0.29455447, 0.29077789, 0.28698346, 0.28330499, 0.2798547 ,\n",
       "       0.27638445, 0.27289859, 0.26939498, 0.26587489, 0.26233641,\n",
       "       0.25877895, 0.25561349, 0.25270051, 0.24977075, 0.24682374,\n",
       "       0.24385957, 0.24087736, 0.23787677, 0.23496199, 0.23241917,\n",
       "       0.22985311, 0.22724792, 0.22462722, 0.22199095, 0.21933831,\n",
       "       0.21666924, 0.21398305, 0.21127927, 0.20855761, 0.20581698,\n",
       "       0.20305809, 0.2002797 , 0.19748124, 0.19466239, 0.19181054,\n",
       "       0.18898313, 0.18613147, 0.18325271, 0.18034607, 0.17741057,\n",
       "       0.17444569, 0.17145075, 0.16842389, 0.16536546, 0.16227406,\n",
       "       0.15914898, 0.15598901, 0.15279314, 0.14956026, 0.1462896 ,\n",
       "       0.14298595, 0.13962964, 0.13623814, 0.13280374, 0.12932534,\n",
       "       0.12580138, 0.12223086, 0.12082152])"
      ]
     },
     "execution_count": 68,
     "metadata": {},
     "output_type": "execute_result"
    }
   ],
   "source": [
    "arr_cya = []\n",
    "for i in range(len(arr_mach)):\n",
    "    arr_cya.append(res_aero[i]['Cy_alpha'])\n",
    "arr_cya = np.array(arr_cya)\n",
    "arr_cya"
   ]
  },
  {
   "cell_type": "code",
   "execution_count": 69,
   "metadata": {},
   "outputs": [],
   "source": [
    "data_cya_from_mach = {'Cya': arr_cya, 'Mach': arr_mach} \n",
    "df1 = pd.DataFrame(data_cya_from_mach)\n",
    "df1.to_csv('cya_from_mach.csv', sep = \";\", index=False)"
   ]
  },
  {
   "cell_type": "code",
   "execution_count": 70,
   "metadata": {},
   "outputs": [
    {
     "data": {
      "text/html": [
       "<div>\n",
       "<style scoped>\n",
       "    .dataframe tbody tr th:only-of-type {\n",
       "        vertical-align: middle;\n",
       "    }\n",
       "\n",
       "    .dataframe tbody tr th {\n",
       "        vertical-align: top;\n",
       "    }\n",
       "\n",
       "    .dataframe thead th {\n",
       "        text-align: right;\n",
       "    }\n",
       "</style>\n",
       "<table border=\"1\" class=\"dataframe\">\n",
       "  <thead>\n",
       "    <tr style=\"text-align: right;\">\n",
       "      <th></th>\n",
       "      <th>Cya</th>\n",
       "      <th>Mach</th>\n",
       "    </tr>\n",
       "  </thead>\n",
       "  <tbody>\n",
       "    <tr>\n",
       "      <th>0</th>\n",
       "      <td>0.340478</td>\n",
       "      <td>0.073507</td>\n",
       "    </tr>\n",
       "    <tr>\n",
       "      <th>1</th>\n",
       "      <td>0.340735</td>\n",
       "      <td>0.112356</td>\n",
       "    </tr>\n",
       "    <tr>\n",
       "      <th>2</th>\n",
       "      <td>0.341102</td>\n",
       "      <td>0.151414</td>\n",
       "    </tr>\n",
       "    <tr>\n",
       "      <th>3</th>\n",
       "      <td>0.341584</td>\n",
       "      <td>0.190683</td>\n",
       "    </tr>\n",
       "    <tr>\n",
       "      <th>4</th>\n",
       "      <td>0.342182</td>\n",
       "      <td>0.230167</td>\n",
       "    </tr>\n",
       "    <tr>\n",
       "      <th>...</th>\n",
       "      <td>...</td>\n",
       "      <td>...</td>\n",
       "    </tr>\n",
       "    <tr>\n",
       "      <th>113</th>\n",
       "      <td>0.132804</td>\n",
       "      <td>6.508083</td>\n",
       "    </tr>\n",
       "    <tr>\n",
       "      <th>114</th>\n",
       "      <td>0.129325</td>\n",
       "      <td>6.599037</td>\n",
       "    </tr>\n",
       "    <tr>\n",
       "      <th>115</th>\n",
       "      <td>0.125801</td>\n",
       "      <td>6.691212</td>\n",
       "    </tr>\n",
       "    <tr>\n",
       "      <th>116</th>\n",
       "      <td>0.122231</td>\n",
       "      <td>6.784635</td>\n",
       "    </tr>\n",
       "    <tr>\n",
       "      <th>117</th>\n",
       "      <td>0.120822</td>\n",
       "      <td>6.821519</td>\n",
       "    </tr>\n",
       "  </tbody>\n",
       "</table>\n",
       "<p>118 rows × 2 columns</p>\n",
       "</div>"
      ],
      "text/plain": [
       "          Cya      Mach\n",
       "0    0.340478  0.073507\n",
       "1    0.340735  0.112356\n",
       "2    0.341102  0.151414\n",
       "3    0.341584  0.190683\n",
       "4    0.342182  0.230167\n",
       "..        ...       ...\n",
       "113  0.132804  6.508083\n",
       "114  0.129325  6.599037\n",
       "115  0.125801  6.691212\n",
       "116  0.122231  6.784635\n",
       "117  0.120822  6.821519\n",
       "\n",
       "[118 rows x 2 columns]"
      ]
     },
     "execution_count": 70,
     "metadata": {},
     "output_type": "execute_result"
    }
   ],
   "source": [
    "df1 = pd.read_csv('cya_from_mach.csv', sep = \";\")\n",
    "df1"
   ]
  },
  {
   "cell_type": "code",
   "execution_count": 71,
   "metadata": {},
   "outputs": [
    {
     "data": {
      "text/plain": [
       "array([-40, -39, -38, -37, -36, -35, -34, -33, -32, -31, -30, -29, -28,\n",
       "       -27, -26, -25, -24, -23, -22, -21, -20, -19, -18, -17, -16, -15,\n",
       "       -14, -13, -12, -11, -10,  -9,  -8,  -7,  -6,  -5,  -4,  -3,  -2,\n",
       "        -1,   0,   1,   2,   3,   4,   5,   6,   7,   8,   9,  10,  11,\n",
       "        12,  13,  14,  15,  16,  17,  18,  19,  20,  21,  22,  23,  24,\n",
       "        25,  26,  27,  28,  29,  30,  31,  32,  33,  34,  35,  36,  37,\n",
       "        38,  39,  40])"
      ]
     },
     "execution_count": 71,
     "metadata": {},
     "output_type": "execute_result"
    }
   ],
   "source": [
    "arr_alpha = np.arange(-40, 41, 1)\n",
    "arr_alpha"
   ]
  },
  {
   "cell_type": "code",
   "execution_count": 72,
   "metadata": {},
   "outputs": [
    {
     "name": "stderr",
     "output_type": "stream",
     "text": [
      "100%|██████████████████████████████████████████████████████████████████████████████████| 81/81 [27:35<00:00, 20.43s/it]\n"
     ]
    },
    {
     "data": {
      "text/plain": [
       "array([[10.28152736, 10.31211896, 10.33126324, ...,  4.763873  ,\n",
       "         4.64408999,  4.61407573],\n",
       "       [ 9.80621655,  9.83623418,  9.85455594, ...,  4.50255135,\n",
       "         4.38984655,  4.36262619],\n",
       "       [ 9.34133408,  9.37078957,  9.38830576, ...,  4.25151015,\n",
       "         4.14556335,  4.1210105 ],\n",
       "       ...,\n",
       "       [11.3765391 , 11.40977263, 11.43271153, ...,  4.25151015,\n",
       "         4.14556335,  4.1210105 ],\n",
       "       [12.00772522, 12.0418313 , 12.06602133, ...,  4.50255135,\n",
       "         4.38984655,  4.36262619],\n",
       "       [12.65827417, 12.69328155, 12.71876392, ...,  4.763873  ,\n",
       "         4.64408999,  4.61407573]])"
      ]
     },
     "execution_count": 72,
     "metadata": {},
     "output_type": "execute_result"
    }
   ],
   "source": [
    "arr_cx = []\n",
    "for i in tqdm(arr_alpha):\n",
    "    res_aero = foo_aero(res, alpha=i)\n",
    "    cx_from_mach = []\n",
    "    for j in range(len(arr_mach)):\n",
    "        cx_from_mach.append(res_aero[j]['Cx'])\n",
    "    arr_cx.append(cx_from_mach)\n",
    "arr_cx = np.array(arr_cx)\n",
    "arr_cx"
   ]
  },
  {
   "cell_type": "code",
   "execution_count": 73,
   "metadata": {},
   "outputs": [],
   "source": [
    "df2 = pd.DataFrame(arr_cx, columns=arr_mach, index=arr_alpha)\n",
    "df2.to_csv('cx_from_mach_and_alpha.csv', sep = \";\")"
   ]
  },
  {
   "cell_type": "code",
   "execution_count": 74,
   "metadata": {},
   "outputs": [
    {
     "data": {
      "text/html": [
       "<div>\n",
       "<style scoped>\n",
       "    .dataframe tbody tr th:only-of-type {\n",
       "        vertical-align: middle;\n",
       "    }\n",
       "\n",
       "    .dataframe tbody tr th {\n",
       "        vertical-align: top;\n",
       "    }\n",
       "\n",
       "    .dataframe thead th {\n",
       "        text-align: right;\n",
       "    }\n",
       "</style>\n",
       "<table border=\"1\" class=\"dataframe\">\n",
       "  <thead>\n",
       "    <tr style=\"text-align: right;\">\n",
       "      <th></th>\n",
       "      <th>0.07350725518340458</th>\n",
       "      <th>0.11235622302801225</th>\n",
       "      <th>0.15141408224356973</th>\n",
       "      <th>0.19068342779848294</th>\n",
       "      <th>0.2301668834919304</th>\n",
       "      <th>0.2698671035071127</th>\n",
       "      <th>0.30978677403269317</th>\n",
       "      <th>0.3499286149568274</th>\n",
       "      <th>0.3902953816384221</th>\n",
       "      <th>0.4308898728215572</th>\n",
       "      <th>...</th>\n",
       "      <th>6.070391339081016</th>\n",
       "      <th>6.155758890734353</th>\n",
       "      <th>6.242020489964373</th>\n",
       "      <th>6.329689676420385</th>\n",
       "      <th>6.418309980865426</th>\n",
       "      <th>6.508082754866952</th>\n",
       "      <th>6.599036531233458</th>\n",
       "      <th>6.691212235330244</th>\n",
       "      <th>6.784635423997473</th>\n",
       "      <th>6.821519335332183</th>\n",
       "    </tr>\n",
       "  </thead>\n",
       "  <tbody>\n",
       "    <tr>\n",
       "      <th>-40</th>\n",
       "      <td>10.281527</td>\n",
       "      <td>10.312119</td>\n",
       "      <td>10.331263</td>\n",
       "      <td>10.348157</td>\n",
       "      <td>10.369575</td>\n",
       "      <td>10.405084</td>\n",
       "      <td>10.446811</td>\n",
       "      <td>10.495132</td>\n",
       "      <td>10.563311</td>\n",
       "      <td>10.644174</td>\n",
       "      <td>...</td>\n",
       "      <td>5.561835</td>\n",
       "      <td>5.451894</td>\n",
       "      <td>5.340931</td>\n",
       "      <td>5.228202</td>\n",
       "      <td>5.114292</td>\n",
       "      <td>4.998943</td>\n",
       "      <td>4.882117</td>\n",
       "      <td>4.763873</td>\n",
       "      <td>4.644090</td>\n",
       "      <td>4.614076</td>\n",
       "    </tr>\n",
       "    <tr>\n",
       "      <th>-39</th>\n",
       "      <td>9.806217</td>\n",
       "      <td>9.836234</td>\n",
       "      <td>9.854556</td>\n",
       "      <td>9.870370</td>\n",
       "      <td>9.890444</td>\n",
       "      <td>9.924331</td>\n",
       "      <td>9.964145</td>\n",
       "      <td>10.010248</td>\n",
       "      <td>10.075297</td>\n",
       "      <td>10.152454</td>\n",
       "      <td>...</td>\n",
       "      <td>5.253414</td>\n",
       "      <td>5.149956</td>\n",
       "      <td>5.045543</td>\n",
       "      <td>4.939467</td>\n",
       "      <td>4.832281</td>\n",
       "      <td>4.723740</td>\n",
       "      <td>4.613810</td>\n",
       "      <td>4.502551</td>\n",
       "      <td>4.389847</td>\n",
       "      <td>4.362626</td>\n",
       "    </tr>\n",
       "    <tr>\n",
       "      <th>-38</th>\n",
       "      <td>9.341334</td>\n",
       "      <td>9.370790</td>\n",
       "      <td>9.388306</td>\n",
       "      <td>9.403063</td>\n",
       "      <td>9.421820</td>\n",
       "      <td>9.454118</td>\n",
       "      <td>9.492059</td>\n",
       "      <td>9.535989</td>\n",
       "      <td>9.597973</td>\n",
       "      <td>9.671498</td>\n",
       "      <td>...</td>\n",
       "      <td>4.957404</td>\n",
       "      <td>4.860137</td>\n",
       "      <td>4.761976</td>\n",
       "      <td>4.662253</td>\n",
       "      <td>4.561485</td>\n",
       "      <td>4.459445</td>\n",
       "      <td>4.356099</td>\n",
       "      <td>4.251510</td>\n",
       "      <td>4.145563</td>\n",
       "      <td>4.121011</td>\n",
       "    </tr>\n",
       "    <tr>\n",
       "      <th>-37</th>\n",
       "      <td>8.886953</td>\n",
       "      <td>8.915858</td>\n",
       "      <td>8.932586</td>\n",
       "      <td>8.946309</td>\n",
       "      <td>8.963776</td>\n",
       "      <td>8.994520</td>\n",
       "      <td>9.030628</td>\n",
       "      <td>9.072430</td>\n",
       "      <td>9.131413</td>\n",
       "      <td>9.201382</td>\n",
       "      <td>...</td>\n",
       "      <td>4.673302</td>\n",
       "      <td>4.581946</td>\n",
       "      <td>4.489756</td>\n",
       "      <td>4.396099</td>\n",
       "      <td>4.301461</td>\n",
       "      <td>4.205628</td>\n",
       "      <td>4.108568</td>\n",
       "      <td>4.010349</td>\n",
       "      <td>3.910855</td>\n",
       "      <td>3.888850</td>\n",
       "    </tr>\n",
       "    <tr>\n",
       "      <th>-36</th>\n",
       "      <td>8.443146</td>\n",
       "      <td>8.471513</td>\n",
       "      <td>8.487470</td>\n",
       "      <td>8.500182</td>\n",
       "      <td>8.516388</td>\n",
       "      <td>8.545610</td>\n",
       "      <td>8.579925</td>\n",
       "      <td>8.619647</td>\n",
       "      <td>8.675694</td>\n",
       "      <td>8.742185</td>\n",
       "      <td>...</td>\n",
       "      <td>4.400644</td>\n",
       "      <td>4.314933</td>\n",
       "      <td>4.228446</td>\n",
       "      <td>4.140581</td>\n",
       "      <td>4.051797</td>\n",
       "      <td>3.961892</td>\n",
       "      <td>3.870835</td>\n",
       "      <td>3.778698</td>\n",
       "      <td>3.685367</td>\n",
       "      <td>3.665794</td>\n",
       "    </tr>\n",
       "    <tr>\n",
       "      <th>...</th>\n",
       "      <td>...</td>\n",
       "      <td>...</td>\n",
       "      <td>...</td>\n",
       "      <td>...</td>\n",
       "      <td>...</td>\n",
       "      <td>...</td>\n",
       "      <td>...</td>\n",
       "      <td>...</td>\n",
       "      <td>...</td>\n",
       "      <td>...</td>\n",
       "      <td>...</td>\n",
       "      <td>...</td>\n",
       "      <td>...</td>\n",
       "      <td>...</td>\n",
       "      <td>...</td>\n",
       "      <td>...</td>\n",
       "      <td>...</td>\n",
       "      <td>...</td>\n",
       "      <td>...</td>\n",
       "      <td>...</td>\n",
       "      <td>...</td>\n",
       "    </tr>\n",
       "    <tr>\n",
       "      <th>36</th>\n",
       "      <td>10.171561</td>\n",
       "      <td>10.203134</td>\n",
       "      <td>10.223692</td>\n",
       "      <td>10.242453</td>\n",
       "      <td>10.266220</td>\n",
       "      <td>10.304593</td>\n",
       "      <td>10.349739</td>\n",
       "      <td>10.402085</td>\n",
       "      <td>10.476512</td>\n",
       "      <td>10.565015</td>\n",
       "      <td>...</td>\n",
       "      <td>4.400644</td>\n",
       "      <td>4.314933</td>\n",
       "      <td>4.228446</td>\n",
       "      <td>4.140581</td>\n",
       "      <td>4.051797</td>\n",
       "      <td>3.961892</td>\n",
       "      <td>3.870835</td>\n",
       "      <td>3.778698</td>\n",
       "      <td>3.685367</td>\n",
       "      <td>3.665794</td>\n",
       "    </tr>\n",
       "    <tr>\n",
       "      <th>37</th>\n",
       "      <td>10.764542</td>\n",
       "      <td>10.796931</td>\n",
       "      <td>10.818659</td>\n",
       "      <td>10.838957</td>\n",
       "      <td>10.864641</td>\n",
       "      <td>10.905328</td>\n",
       "      <td>10.953207</td>\n",
       "      <td>11.008729</td>\n",
       "      <td>11.087686</td>\n",
       "      <td>11.181578</td>\n",
       "      <td>...</td>\n",
       "      <td>4.673302</td>\n",
       "      <td>4.581946</td>\n",
       "      <td>4.489756</td>\n",
       "      <td>4.396099</td>\n",
       "      <td>4.301461</td>\n",
       "      <td>4.205628</td>\n",
       "      <td>4.108568</td>\n",
       "      <td>4.010349</td>\n",
       "      <td>3.910855</td>\n",
       "      <td>3.888850</td>\n",
       "    </tr>\n",
       "    <tr>\n",
       "      <th>38</th>\n",
       "      <td>11.376539</td>\n",
       "      <td>11.409773</td>\n",
       "      <td>11.432712</td>\n",
       "      <td>11.454598</td>\n",
       "      <td>11.482265</td>\n",
       "      <td>11.525346</td>\n",
       "      <td>11.576052</td>\n",
       "      <td>11.634858</td>\n",
       "      <td>11.718503</td>\n",
       "      <td>11.817969</td>\n",
       "      <td>...</td>\n",
       "      <td>4.957404</td>\n",
       "      <td>4.860137</td>\n",
       "      <td>4.761976</td>\n",
       "      <td>4.662253</td>\n",
       "      <td>4.561485</td>\n",
       "      <td>4.459445</td>\n",
       "      <td>4.356099</td>\n",
       "      <td>4.251510</td>\n",
       "      <td>4.145563</td>\n",
       "      <td>4.121011</td>\n",
       "    </tr>\n",
       "    <tr>\n",
       "      <th>39</th>\n",
       "      <td>12.007725</td>\n",
       "      <td>12.041831</td>\n",
       "      <td>12.066021</td>\n",
       "      <td>12.089550</td>\n",
       "      <td>12.119267</td>\n",
       "      <td>12.164822</td>\n",
       "      <td>12.218451</td>\n",
       "      <td>12.280652</td>\n",
       "      <td>12.369143</td>\n",
       "      <td>12.474373</td>\n",
       "      <td>...</td>\n",
       "      <td>5.253414</td>\n",
       "      <td>5.149956</td>\n",
       "      <td>5.045543</td>\n",
       "      <td>4.939467</td>\n",
       "      <td>4.832281</td>\n",
       "      <td>4.723740</td>\n",
       "      <td>4.613810</td>\n",
       "      <td>4.502551</td>\n",
       "      <td>4.389847</td>\n",
       "      <td>4.362626</td>\n",
       "    </tr>\n",
       "    <tr>\n",
       "      <th>40</th>\n",
       "      <td>12.658274</td>\n",
       "      <td>12.693282</td>\n",
       "      <td>12.718764</td>\n",
       "      <td>12.743990</td>\n",
       "      <td>12.775823</td>\n",
       "      <td>12.823935</td>\n",
       "      <td>12.880582</td>\n",
       "      <td>12.946291</td>\n",
       "      <td>13.039789</td>\n",
       "      <td>13.150974</td>\n",
       "      <td>...</td>\n",
       "      <td>5.561835</td>\n",
       "      <td>5.451894</td>\n",
       "      <td>5.340931</td>\n",
       "      <td>5.228202</td>\n",
       "      <td>5.114292</td>\n",
       "      <td>4.998943</td>\n",
       "      <td>4.882117</td>\n",
       "      <td>4.763873</td>\n",
       "      <td>4.644090</td>\n",
       "      <td>4.614076</td>\n",
       "    </tr>\n",
       "  </tbody>\n",
       "</table>\n",
       "<p>81 rows × 118 columns</p>\n",
       "</div>"
      ],
      "text/plain": [
       "     0.07350725518340458  0.11235622302801225  0.15141408224356973  \\\n",
       "-40            10.281527            10.312119            10.331263   \n",
       "-39             9.806217             9.836234             9.854556   \n",
       "-38             9.341334             9.370790             9.388306   \n",
       "-37             8.886953             8.915858             8.932586   \n",
       "-36             8.443146             8.471513             8.487470   \n",
       "..                   ...                  ...                  ...   \n",
       " 36            10.171561            10.203134            10.223692   \n",
       " 37            10.764542            10.796931            10.818659   \n",
       " 38            11.376539            11.409773            11.432712   \n",
       " 39            12.007725            12.041831            12.066021   \n",
       " 40            12.658274            12.693282            12.718764   \n",
       "\n",
       "     0.19068342779848294  0.2301668834919304  0.2698671035071127  \\\n",
       "-40            10.348157           10.369575           10.405084   \n",
       "-39             9.870370            9.890444            9.924331   \n",
       "-38             9.403063            9.421820            9.454118   \n",
       "-37             8.946309            8.963776            8.994520   \n",
       "-36             8.500182            8.516388            8.545610   \n",
       "..                   ...                 ...                 ...   \n",
       " 36            10.242453           10.266220           10.304593   \n",
       " 37            10.838957           10.864641           10.905328   \n",
       " 38            11.454598           11.482265           11.525346   \n",
       " 39            12.089550           12.119267           12.164822   \n",
       " 40            12.743990           12.775823           12.823935   \n",
       "\n",
       "     0.30978677403269317  0.3499286149568274  0.3902953816384221  \\\n",
       "-40            10.446811           10.495132           10.563311   \n",
       "-39             9.964145           10.010248           10.075297   \n",
       "-38             9.492059            9.535989            9.597973   \n",
       "-37             9.030628            9.072430            9.131413   \n",
       "-36             8.579925            8.619647            8.675694   \n",
       "..                   ...                 ...                 ...   \n",
       " 36            10.349739           10.402085           10.476512   \n",
       " 37            10.953207           11.008729           11.087686   \n",
       " 38            11.576052           11.634858           11.718503   \n",
       " 39            12.218451           12.280652           12.369143   \n",
       " 40            12.880582           12.946291           13.039789   \n",
       "\n",
       "     0.4308898728215572  ...  6.070391339081016  6.155758890734353  \\\n",
       "-40           10.644174  ...           5.561835           5.451894   \n",
       "-39           10.152454  ...           5.253414           5.149956   \n",
       "-38            9.671498  ...           4.957404           4.860137   \n",
       "-37            9.201382  ...           4.673302           4.581946   \n",
       "-36            8.742185  ...           4.400644           4.314933   \n",
       "..                  ...  ...                ...                ...   \n",
       " 36           10.565015  ...           4.400644           4.314933   \n",
       " 37           11.181578  ...           4.673302           4.581946   \n",
       " 38           11.817969  ...           4.957404           4.860137   \n",
       " 39           12.474373  ...           5.253414           5.149956   \n",
       " 40           13.150974  ...           5.561835           5.451894   \n",
       "\n",
       "     6.242020489964373  6.329689676420385  6.418309980865426  \\\n",
       "-40           5.340931           5.228202           5.114292   \n",
       "-39           5.045543           4.939467           4.832281   \n",
       "-38           4.761976           4.662253           4.561485   \n",
       "-37           4.489756           4.396099           4.301461   \n",
       "-36           4.228446           4.140581           4.051797   \n",
       "..                 ...                ...                ...   \n",
       " 36           4.228446           4.140581           4.051797   \n",
       " 37           4.489756           4.396099           4.301461   \n",
       " 38           4.761976           4.662253           4.561485   \n",
       " 39           5.045543           4.939467           4.832281   \n",
       " 40           5.340931           5.228202           5.114292   \n",
       "\n",
       "     6.508082754866952  6.599036531233458  6.691212235330244  \\\n",
       "-40           4.998943           4.882117           4.763873   \n",
       "-39           4.723740           4.613810           4.502551   \n",
       "-38           4.459445           4.356099           4.251510   \n",
       "-37           4.205628           4.108568           4.010349   \n",
       "-36           3.961892           3.870835           3.778698   \n",
       "..                 ...                ...                ...   \n",
       " 36           3.961892           3.870835           3.778698   \n",
       " 37           4.205628           4.108568           4.010349   \n",
       " 38           4.459445           4.356099           4.251510   \n",
       " 39           4.723740           4.613810           4.502551   \n",
       " 40           4.998943           4.882117           4.763873   \n",
       "\n",
       "     6.784635423997473  6.821519335332183  \n",
       "-40           4.644090           4.614076  \n",
       "-39           4.389847           4.362626  \n",
       "-38           4.145563           4.121011  \n",
       "-37           3.910855           3.888850  \n",
       "-36           3.685367           3.665794  \n",
       "..                 ...                ...  \n",
       " 36           3.685367           3.665794  \n",
       " 37           3.910855           3.888850  \n",
       " 38           4.145563           4.121011  \n",
       " 39           4.389847           4.362626  \n",
       " 40           4.644090           4.614076  \n",
       "\n",
       "[81 rows x 118 columns]"
      ]
     },
     "execution_count": 74,
     "metadata": {},
     "output_type": "execute_result"
    }
   ],
   "source": [
    "df2 = pd.read_csv('cx_from_mach_and_alpha.csv', sep = \";\", index_col=0)\n",
    "df2"
   ]
  },
  {
   "cell_type": "markdown",
   "metadata": {},
   "source": [
    "## 3) Бал. расчет с помощью более подробной мат. модели"
   ]
  },
  {
   "cell_type": "code",
   "execution_count": null,
   "metadata": {},
   "outputs": [],
   "source": []
  },
  {
   "cell_type": "code",
   "execution_count": null,
   "metadata": {},
   "outputs": [],
   "source": []
  }
 ],
 "metadata": {
  "kernelspec": {
   "display_name": "Python 3",
   "language": "python",
   "name": "python3"
  },
  "language_info": {
   "codemirror_mode": {
    "name": "ipython",
    "version": 3
   },
   "file_extension": ".py",
   "mimetype": "text/x-python",
   "name": "python",
   "nbconvert_exporter": "python",
   "pygments_lexer": "ipython3",
   "version": "3.8.5"
  }
 },
 "nbformat": 4,
 "nbformat_minor": 4
}
