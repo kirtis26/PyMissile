{
 "cells": [
  {
   "cell_type": "code",
   "execution_count": 1,
   "metadata": {},
   "outputs": [],
   "source": [
    "import numpy as np\n",
    "import matplotlib.pyplot as plt\n",
    "import timeit\n",
    "from math import *\n",
    "import pickle\n",
    "import pandas as pd\n",
    "from tqdm import tqdm\n",
    "from aero_info import *\n",
    "from missile_gym import MissileGym\n",
    "from ipywidgets import interact, interactive, fixed\n",
    "from matplotlib.pylab import figure, subplot2grid\n",
    "from interpolation import Interp1d, Interp2d, InterpVec\n",
    "import ipywidgets"
   ]
  },
  {
   "cell_type": "code",
   "execution_count": 2,
   "metadata": {},
   "outputs": [],
   "source": [
    "# настройка шрифтов\n",
    "rc = {\"font.family\" : \"serif\", \n",
    "      \"mathtext.fontset\" : \"stix\"}\n",
    "plt.rcParams.update(rc)\n",
    "plt.rcParams[\"font.serif\"] = [\"Times New Roman\"] + plt.rcParams[\"font.serif\"]"
   ]
  },
  {
   "cell_type": "markdown",
   "metadata": {},
   "source": [
    "# Баллистическое проектирование ЗУР\n",
    "\n",
    "## 1) Первичный бал проект: решение простейшей задачи траекторного анализа"
   ]
  },
  {
   "cell_type": "code",
   "execution_count": 3,
   "metadata": {},
   "outputs": [],
   "source": [
    "def ozvb(dict_opts):\n",
    "    \n",
    "    \"\"\"\n",
    "    Ф-ция решения прямой задачи внешней баллистики (ОЗВБ) ракеты\n",
    "    argument:  dict_opts {dict}  -- словарь с опциями (начальными данными)\n",
    "    return:    dict_res  {dict}  -- словарь с результатами решения ОЗВБ\n",
    "    \"\"\"\n",
    "    \n",
    "    # const:\n",
    "    g = 9.80665\n",
    "    \n",
    "    def func_stop(stop_conditions):\n",
    "        if stop_conditions == 't0':\n",
    "            return lambda t: dict_opts['I_10'] * dict_opts['myu_0'] / dict_opts['η_0'] / g - t\n",
    "        if stop_conditions == 'v_max':\n",
    "            return lambda v: dict_opts['integr']['value'] - v\n",
    "        if stop_conditions == 'y_max':\n",
    "            return lambda y: dict_opts['integr']['value'] - y\n",
    "        if stop_conditions == 'x_max':\n",
    "            return lambda x: dict_opts['integr']['value'] - x\n",
    "        if stop_conditions == 'step_max':\n",
    "            return lambda i: dict_opts['integr']['value'] - i\n",
    "        if stop_conditions == 't_max':\n",
    "            return lambda t: dict_opts['integr']['value'] - t\n",
    "        \n",
    "    def ξ_stage(μ, μ_0):\n",
    "        if μ < μ_0:\n",
    "            return 1\n",
    "        else:\n",
    "            return 0\n",
    "        \n",
    "    def system(t, Y, r=dict_opts, Cx=Cx43):\n",
    "            \n",
    "        y1 = Y[0] # v\n",
    "        y2 = Y[1] # θ\n",
    "        y3 = Y[2] # x\n",
    "        y4 = Y[3] # y\n",
    "        y5 = Y[4] # μ \n",
    "        \n",
    "        M = y1 / table_atm(y4, 4)\n",
    "        \n",
    "        a1_1 = g * r['η_0'] / (1 - y5) * ξ_stage(y5, r['myu_0'])\n",
    "        a1_2 = g * r['i'] * Cx(M) * table_atm(y4, 3) * y1**2 / (2 * r['q_M'] * (1 - y5))\n",
    "        a1_3 = g * np.sin(y2)\n",
    "        \n",
    "        # dv/dt\n",
    "        f1 = a1_1 - a1_2 - a1_3\n",
    "        # dθ/dt\n",
    "        f2 = 0\n",
    "        # dx/dt\n",
    "        f3 = y1 * np.cos(y2)\n",
    "        # dy/dt\n",
    "        f4 = y1 * np.sin(y2)\n",
    "        # dμ/dt\n",
    "        f5 = g * (r['η_0'] / r['I_10']) * ξ_stage(y5, r['myu_0'])\n",
    "        \n",
    "        return np.array([f1, f2, f3, f4, f5])\n",
    "   \n",
    "    def RK4(F, Y0, stop_conditions=dict_opts['integr']['stop_conditions'],\n",
    "            func_end=func_stop(dict_opts['integr']['stop_conditions']), \n",
    "            dt=dict_opts['integr']['dt'], y=dict_opts['init_conditions']['y'],\n",
    "            t0=0, max_time=300): \n",
    "        \n",
    "        ti = t0 \n",
    "        Yi = Y0\n",
    "        res = {\n",
    "        'y1': [Y0[0]],\n",
    "        'y2': [Y0[1]],\n",
    "        'y3': [Y0[2]],\n",
    "        'y4': [Y0[3]],\n",
    "        'y5': [Y0[4]],\n",
    "        'Mach': [Y0[0]/table_atm(Y0[3],4)],\n",
    "        't': [t0],\n",
    "        'stop_reason': ''        \n",
    "        }\n",
    "\n",
    "        def foo_init_stop(stop_conditions, fint, *args):\n",
    "            if stop_conditions == 't0':\n",
    "                if fint == 1:\n",
    "                    return args[1]\n",
    "                if fint == 0:\n",
    "                    return t0\n",
    "            elif stop_conditions == 'v_max':\n",
    "                if fint == 1:\n",
    "                    return args[0][0]\n",
    "                if fint == 0:\n",
    "                    return Y0[0]\n",
    "            elif stop_conditions == 'y_max':\n",
    "                if fint == 1:\n",
    "                    return args[0][3]\n",
    "                if fint==0:\n",
    "                    return Y0[3]\n",
    "            elif stop_conditions == 'x_max':\n",
    "                if fint == 1:\n",
    "                    return args[0][2]\n",
    "                if fint == 0:\n",
    "                    return Y0[2]\n",
    "            elif stop_conditions == 't_max':\n",
    "                if fint == 1:\n",
    "                    return args[1]\n",
    "                if fint == 0:\n",
    "                    return t0\n",
    "            else:\n",
    "                print('unknown condition')\n",
    "        \n",
    "        flag = True\n",
    "        var = foo_init_stop(stop_conditions, 0, Yi, ti)\n",
    "        \n",
    "        while func_end(var) > 0 and ti < max_time and Yi[3] < 8e4 and flag == True:\n",
    "            \n",
    "            k1 = F(ti, Yi)\n",
    "            k2 = F(ti + dt / 2, Yi + k1 * dt / 2)\n",
    "            k3 = F(ti + dt / 2, Yi + k2 * dt / 2)\n",
    "            k4 = F(ti + dt, Yi + k3 * dt)\n",
    "            Yi += dt * (k1 + 2 * k2 + 2 * k3 + k4) / 6\n",
    "            \n",
    "            ti += dt\n",
    "            if Yi[3] <= 0:\n",
    "                flag = False\n",
    "            \n",
    "            var = foo_init_stop(stop_conditions, 1, Yi, ti)\n",
    "            \n",
    "            res['y1'].append(Yi[0])\n",
    "            res['y2'].append(Yi[1])\n",
    "            res['y3'].append(Yi[2])\n",
    "            res['y4'].append(Yi[3])\n",
    "            res['y5'].append(Yi[4])\n",
    "            res['Mach'].append(Yi[0]/table_atm(Yi[3],4))\n",
    "            res['t'].append(ti)\n",
    "            \n",
    "        if func_end(var) < 0:\n",
    "            stop_reason = dict_opts['integr']['stop_conditions']\n",
    "        elif ti >= max_time:\n",
    "            stop_reason = 'max_time'\n",
    "        elif Yi[3] <= 0:\n",
    "            stop_reason = f'missile arrived (x = {Yi[2]}; y = 0)'\n",
    "        elif Yi[3] >= 8e4:\n",
    "            stop_reason = 'y_max_atmo'\n",
    "        else:\n",
    "            stop_reason = 'unknown reason'\n",
    "        res['stop_reason'] = stop_reason\n",
    "        print(f'stop reason: {stop_reason};\\nflight time: {ti} с.;')\n",
    "        \n",
    "        return res\n",
    "    \n",
    "    init = [dict_opts['init_conditions']['v'], np.radians(dict_opts['init_conditions']['thetta']),\n",
    "            dict_opts['init_conditions']['x'], dict_opts['init_conditions']['y'], 0]\n",
    "    \n",
    "    fl_start = timeit.default_timer()\n",
    "    res = RK4(system, init)\n",
    "    fl_end   = timeit.default_timer() - fl_start \n",
    "    print(f'execution time: {fl_end} с.')\n",
    "    \n",
    "    dict_res = {\n",
    "        'v': np.array(res['y1']),\n",
    "        'thetta': np.array(res['y2']),\n",
    "        'x':  np.array(res['y3']),\n",
    "        'y': np.array(res['y4']),\n",
    "        'myu':  np.array(res['y5']),\n",
    "        't':  np.array(res['t']),\n",
    "        'Mach': np.array(res['Mach']),\n",
    "        'stop_reason': res['stop_reason'],\n",
    "        'execution_time': fl_end\n",
    "    }\n",
    "\n",
    "    return dict_res"
   ]
  },
  {
   "cell_type": "code",
   "execution_count": 4,
   "metadata": {},
   "outputs": [
    {
     "data": {
      "text/plain": [
       "25.016893478100023"
      ]
     },
     "execution_count": 4,
     "metadata": {},
     "output_type": "execute_result"
    }
   ],
   "source": [
    "thetta_opt = np.arctan(7e3/15e3) * 180 / np.pi\n",
    "thetta_opt"
   ]
  },
  {
   "cell_type": "code",
   "execution_count": 5,
   "metadata": {},
   "outputs": [],
   "source": [
    "opts = {\n",
    "    'init_conditions': {'l_pusk': 3,\n",
    "                        'x': 0,\n",
    "                        'y': 30,\n",
    "                        'v': 30,\n",
    "                        'thetta': thetta_opt},\n",
    "    'η_0': None,\n",
    "    'I_10': None,\n",
    "    'q_M': None,\n",
    "    'i': 1.2,\n",
    "    'integr': {'stop_conditions': 'x_max',\n",
    "               'value': 15e3,\n",
    "               'dt': 1e-2}\n",
    "} "
   ]
  },
  {
   "cell_type": "code",
   "execution_count": 6,
   "metadata": {
    "scrolled": true
   },
   "outputs": [
    {
     "name": "stderr",
     "output_type": "stream",
     "text": [
      "  0%|                                                                                            | 0/7 [00:02<?, ?it/s]\n"
     ]
    },
    {
     "ename": "KeyboardInterrupt",
     "evalue": "",
     "output_type": "error",
     "traceback": [
      "\u001b[1;31m---------------------------------------------------------------------------\u001b[0m",
      "\u001b[1;31mKeyboardInterrupt\u001b[0m                         Traceback (most recent call last)",
      "\u001b[1;32m~\\AppData\\Local\\Temp/ipykernel_9348/2365954220.py\u001b[0m in \u001b[0;36m<module>\u001b[1;34m\u001b[0m\n\u001b[0;32m     12\u001b[0m         \u001b[0mopts\u001b[0m\u001b[1;33m[\u001b[0m\u001b[1;34m'η_0'\u001b[0m\u001b[1;33m]\u001b[0m \u001b[1;33m=\u001b[0m \u001b[0mi\u001b[0m\u001b[1;33m\u001b[0m\u001b[1;33m\u001b[0m\u001b[0m\n\u001b[0;32m     13\u001b[0m         \u001b[0mopts\u001b[0m\u001b[1;33m[\u001b[0m\u001b[1;34m'q_M'\u001b[0m\u001b[1;33m]\u001b[0m \u001b[1;33m=\u001b[0m \u001b[0mk\u001b[0m\u001b[1;33m\u001b[0m\u001b[1;33m\u001b[0m\u001b[0m\n\u001b[1;32m---> 14\u001b[1;33m         \u001b[0mres\u001b[0m \u001b[1;33m=\u001b[0m \u001b[0mozvb\u001b[0m\u001b[1;33m(\u001b[0m\u001b[0mopts\u001b[0m\u001b[1;33m)\u001b[0m\u001b[1;33m\u001b[0m\u001b[1;33m\u001b[0m\u001b[0m\n\u001b[0m\u001b[0;32m     15\u001b[0m         \u001b[0mOPTS\u001b[0m\u001b[1;33m[\u001b[0m\u001b[0mn\u001b[0m\u001b[1;33m]\u001b[0m \u001b[1;33m=\u001b[0m \u001b[1;33m(\u001b[0m\u001b[0mmyu_0\u001b[0m\u001b[1;33m,\u001b[0m \u001b[0mi\u001b[0m\u001b[1;33m,\u001b[0m \u001b[0mk\u001b[0m\u001b[1;33m)\u001b[0m\u001b[1;33m\u001b[0m\u001b[1;33m\u001b[0m\u001b[0m\n\u001b[0;32m     16\u001b[0m         \u001b[0mRESULT\u001b[0m\u001b[1;33m[\u001b[0m\u001b[0mn\u001b[0m\u001b[1;33m]\u001b[0m \u001b[1;33m=\u001b[0m \u001b[1;33m(\u001b[0m\u001b[0mmax\u001b[0m\u001b[1;33m(\u001b[0m\u001b[0mres\u001b[0m\u001b[1;33m[\u001b[0m\u001b[1;34m'v'\u001b[0m\u001b[1;33m]\u001b[0m\u001b[1;33m)\u001b[0m\u001b[1;33m,\u001b[0m \u001b[0mres\u001b[0m\u001b[1;33m[\u001b[0m\u001b[1;34m'v'\u001b[0m\u001b[1;33m]\u001b[0m\u001b[1;33m[\u001b[0m\u001b[1;33m-\u001b[0m\u001b[1;36m1\u001b[0m\u001b[1;33m]\u001b[0m\u001b[1;33m,\u001b[0m \u001b[0mres\u001b[0m\u001b[1;33m[\u001b[0m\u001b[1;34m'y'\u001b[0m\u001b[1;33m]\u001b[0m\u001b[1;33m[\u001b[0m\u001b[1;33m-\u001b[0m\u001b[1;36m1\u001b[0m\u001b[1;33m]\u001b[0m\u001b[1;33m,\u001b[0m \u001b[0mres\u001b[0m\u001b[1;33m[\u001b[0m\u001b[1;34m'x'\u001b[0m\u001b[1;33m]\u001b[0m\u001b[1;33m[\u001b[0m\u001b[1;33m-\u001b[0m\u001b[1;36m1\u001b[0m\u001b[1;33m]\u001b[0m\u001b[1;33m,\u001b[0m \u001b[0mres\u001b[0m\u001b[1;33m[\u001b[0m\u001b[1;34m'myu'\u001b[0m\u001b[1;33m]\u001b[0m\u001b[1;33m[\u001b[0m\u001b[1;33m-\u001b[0m\u001b[1;36m1\u001b[0m\u001b[1;33m]\u001b[0m\u001b[1;33m,\u001b[0m \u001b[0mres\u001b[0m\u001b[1;33m[\u001b[0m\u001b[1;34m't'\u001b[0m\u001b[1;33m]\u001b[0m\u001b[1;33m[\u001b[0m\u001b[1;33m-\u001b[0m\u001b[1;36m1\u001b[0m\u001b[1;33m]\u001b[0m\u001b[1;33m,\u001b[0m \u001b[0mres\u001b[0m\u001b[1;33m[\u001b[0m\u001b[1;34m'stop_reason'\u001b[0m\u001b[1;33m]\u001b[0m\u001b[1;33m)\u001b[0m\u001b[1;33m\u001b[0m\u001b[1;33m\u001b[0m\u001b[0m\n",
      "\u001b[1;32m~\\AppData\\Local\\Temp/ipykernel_9348/2521162680.py\u001b[0m in \u001b[0;36mozvb\u001b[1;34m(dict_opts)\u001b[0m\n\u001b[0;32m    148\u001b[0m \u001b[1;33m\u001b[0m\u001b[0m\n\u001b[0;32m    149\u001b[0m     \u001b[0mfl_start\u001b[0m \u001b[1;33m=\u001b[0m \u001b[0mtimeit\u001b[0m\u001b[1;33m.\u001b[0m\u001b[0mdefault_timer\u001b[0m\u001b[1;33m(\u001b[0m\u001b[1;33m)\u001b[0m\u001b[1;33m\u001b[0m\u001b[1;33m\u001b[0m\u001b[0m\n\u001b[1;32m--> 150\u001b[1;33m     \u001b[0mres\u001b[0m \u001b[1;33m=\u001b[0m \u001b[0mRK4\u001b[0m\u001b[1;33m(\u001b[0m\u001b[0msystem\u001b[0m\u001b[1;33m,\u001b[0m \u001b[0minit\u001b[0m\u001b[1;33m)\u001b[0m\u001b[1;33m\u001b[0m\u001b[1;33m\u001b[0m\u001b[0m\n\u001b[0m\u001b[0;32m    151\u001b[0m     \u001b[0mfl_end\u001b[0m   \u001b[1;33m=\u001b[0m \u001b[0mtimeit\u001b[0m\u001b[1;33m.\u001b[0m\u001b[0mdefault_timer\u001b[0m\u001b[1;33m(\u001b[0m\u001b[1;33m)\u001b[0m \u001b[1;33m-\u001b[0m \u001b[0mfl_start\u001b[0m\u001b[1;33m\u001b[0m\u001b[1;33m\u001b[0m\u001b[0m\n\u001b[0;32m    152\u001b[0m     \u001b[0mprint\u001b[0m\u001b[1;33m(\u001b[0m\u001b[1;34mf'execution time: {fl_end} с.'\u001b[0m\u001b[1;33m)\u001b[0m\u001b[1;33m\u001b[0m\u001b[1;33m\u001b[0m\u001b[0m\n",
      "\u001b[1;32m~\\AppData\\Local\\Temp/ipykernel_9348/2521162680.py\u001b[0m in \u001b[0;36mRK4\u001b[1;34m(F, Y0, stop_conditions, func_end, dt, y, t0, max_time)\u001b[0m\n\u001b[0;32m    110\u001b[0m \u001b[1;33m\u001b[0m\u001b[0m\n\u001b[0;32m    111\u001b[0m             \u001b[0mk1\u001b[0m \u001b[1;33m=\u001b[0m \u001b[0mF\u001b[0m\u001b[1;33m(\u001b[0m\u001b[0mti\u001b[0m\u001b[1;33m,\u001b[0m \u001b[0mYi\u001b[0m\u001b[1;33m)\u001b[0m\u001b[1;33m\u001b[0m\u001b[1;33m\u001b[0m\u001b[0m\n\u001b[1;32m--> 112\u001b[1;33m             \u001b[0mk2\u001b[0m \u001b[1;33m=\u001b[0m \u001b[0mF\u001b[0m\u001b[1;33m(\u001b[0m\u001b[0mti\u001b[0m \u001b[1;33m+\u001b[0m \u001b[0mdt\u001b[0m \u001b[1;33m/\u001b[0m \u001b[1;36m2\u001b[0m\u001b[1;33m,\u001b[0m \u001b[0mYi\u001b[0m \u001b[1;33m+\u001b[0m \u001b[0mk1\u001b[0m \u001b[1;33m*\u001b[0m \u001b[0mdt\u001b[0m \u001b[1;33m/\u001b[0m \u001b[1;36m2\u001b[0m\u001b[1;33m)\u001b[0m\u001b[1;33m\u001b[0m\u001b[1;33m\u001b[0m\u001b[0m\n\u001b[0m\u001b[0;32m    113\u001b[0m             \u001b[0mk3\u001b[0m \u001b[1;33m=\u001b[0m \u001b[0mF\u001b[0m\u001b[1;33m(\u001b[0m\u001b[0mti\u001b[0m \u001b[1;33m+\u001b[0m \u001b[0mdt\u001b[0m \u001b[1;33m/\u001b[0m \u001b[1;36m2\u001b[0m\u001b[1;33m,\u001b[0m \u001b[0mYi\u001b[0m \u001b[1;33m+\u001b[0m \u001b[0mk2\u001b[0m \u001b[1;33m*\u001b[0m \u001b[0mdt\u001b[0m \u001b[1;33m/\u001b[0m \u001b[1;36m2\u001b[0m\u001b[1;33m)\u001b[0m\u001b[1;33m\u001b[0m\u001b[1;33m\u001b[0m\u001b[0m\n\u001b[0;32m    114\u001b[0m             \u001b[0mk4\u001b[0m \u001b[1;33m=\u001b[0m \u001b[0mF\u001b[0m\u001b[1;33m(\u001b[0m\u001b[0mti\u001b[0m \u001b[1;33m+\u001b[0m \u001b[0mdt\u001b[0m\u001b[1;33m,\u001b[0m \u001b[0mYi\u001b[0m \u001b[1;33m+\u001b[0m \u001b[0mk3\u001b[0m \u001b[1;33m*\u001b[0m \u001b[0mdt\u001b[0m\u001b[1;33m)\u001b[0m\u001b[1;33m\u001b[0m\u001b[1;33m\u001b[0m\u001b[0m\n",
      "\u001b[1;32m~\\AppData\\Local\\Temp/ipykernel_9348/2521162680.py\u001b[0m in \u001b[0;36msystem\u001b[1;34m(t, Y, r, Cx)\u001b[0m\n\u001b[0;32m     38\u001b[0m         \u001b[0my5\u001b[0m \u001b[1;33m=\u001b[0m \u001b[0mY\u001b[0m\u001b[1;33m[\u001b[0m\u001b[1;36m4\u001b[0m\u001b[1;33m]\u001b[0m \u001b[1;31m# μ\u001b[0m\u001b[1;33m\u001b[0m\u001b[1;33m\u001b[0m\u001b[0m\n\u001b[0;32m     39\u001b[0m \u001b[1;33m\u001b[0m\u001b[0m\n\u001b[1;32m---> 40\u001b[1;33m         \u001b[0mM\u001b[0m \u001b[1;33m=\u001b[0m \u001b[0my1\u001b[0m \u001b[1;33m/\u001b[0m \u001b[0mtable_atm\u001b[0m\u001b[1;33m(\u001b[0m\u001b[0my4\u001b[0m\u001b[1;33m,\u001b[0m \u001b[1;36m4\u001b[0m\u001b[1;33m)\u001b[0m\u001b[1;33m\u001b[0m\u001b[1;33m\u001b[0m\u001b[0m\n\u001b[0m\u001b[0;32m     41\u001b[0m \u001b[1;33m\u001b[0m\u001b[0m\n\u001b[0;32m     42\u001b[0m         \u001b[0ma1_1\u001b[0m \u001b[1;33m=\u001b[0m \u001b[0mg\u001b[0m \u001b[1;33m*\u001b[0m \u001b[0mr\u001b[0m\u001b[1;33m[\u001b[0m\u001b[1;34m'η_0'\u001b[0m\u001b[1;33m]\u001b[0m \u001b[1;33m/\u001b[0m \u001b[1;33m(\u001b[0m\u001b[1;36m1\u001b[0m \u001b[1;33m-\u001b[0m \u001b[0my5\u001b[0m\u001b[1;33m)\u001b[0m \u001b[1;33m*\u001b[0m \u001b[0mξ_stage\u001b[0m\u001b[1;33m(\u001b[0m\u001b[0my5\u001b[0m\u001b[1;33m,\u001b[0m \u001b[0mr\u001b[0m\u001b[1;33m[\u001b[0m\u001b[1;34m'myu_0'\u001b[0m\u001b[1;33m]\u001b[0m\u001b[1;33m)\u001b[0m\u001b[1;33m\u001b[0m\u001b[1;33m\u001b[0m\u001b[0m\n",
      "\u001b[1;32m~\\PycharmProjects\\PyMissile\\aero_info.py\u001b[0m in \u001b[0;36mtable_atm\u001b[1;34m(h, parametr)\u001b[0m\n\u001b[0;32m    103\u001b[0m     \"\"\"\n\u001b[0;32m    104\u001b[0m \u001b[1;33m\u001b[0m\u001b[0m\n\u001b[1;32m--> 105\u001b[1;33m     \u001b[0mtable\u001b[0m \u001b[1;33m=\u001b[0m \u001b[0mpd\u001b[0m\u001b[1;33m.\u001b[0m\u001b[0mread_csv\u001b[0m\u001b[1;33m(\u001b[0m\u001b[1;34m'data_constants/table_atm.csv'\u001b[0m\u001b[1;33m,\u001b[0m \u001b[0mnames\u001b[0m\u001b[1;33m=\u001b[0m\u001b[1;33m[\u001b[0m\u001b[1;34m'h'\u001b[0m\u001b[1;33m,\u001b[0m \u001b[1;34m'p'\u001b[0m\u001b[1;33m,\u001b[0m \u001b[1;34m'rho'\u001b[0m\u001b[1;33m,\u001b[0m \u001b[1;34m'T'\u001b[0m\u001b[1;33m]\u001b[0m\u001b[1;33m,\u001b[0m \u001b[0msep\u001b[0m\u001b[1;33m=\u001b[0m\u001b[1;34m','\u001b[0m\u001b[1;33m)\u001b[0m\u001b[1;33m\u001b[0m\u001b[1;33m\u001b[0m\u001b[0m\n\u001b[0m\u001b[0;32m    106\u001b[0m \u001b[1;33m\u001b[0m\u001b[0m\n\u001b[0;32m    107\u001b[0m     \u001b[0mtable_h\u001b[0m \u001b[1;33m=\u001b[0m \u001b[0mtable\u001b[0m\u001b[1;33m[\u001b[0m\u001b[1;34m'h'\u001b[0m\u001b[1;33m]\u001b[0m\u001b[1;33m\u001b[0m\u001b[1;33m\u001b[0m\u001b[0m\n",
      "\u001b[1;32m~\\anaconda3\\lib\\site-packages\\pandas\\util\\_decorators.py\u001b[0m in \u001b[0;36mwrapper\u001b[1;34m(*args, **kwargs)\u001b[0m\n\u001b[0;32m    309\u001b[0m                     \u001b[0mstacklevel\u001b[0m\u001b[1;33m=\u001b[0m\u001b[0mstacklevel\u001b[0m\u001b[1;33m,\u001b[0m\u001b[1;33m\u001b[0m\u001b[1;33m\u001b[0m\u001b[0m\n\u001b[0;32m    310\u001b[0m                 )\n\u001b[1;32m--> 311\u001b[1;33m             \u001b[1;32mreturn\u001b[0m \u001b[0mfunc\u001b[0m\u001b[1;33m(\u001b[0m\u001b[1;33m*\u001b[0m\u001b[0margs\u001b[0m\u001b[1;33m,\u001b[0m \u001b[1;33m**\u001b[0m\u001b[0mkwargs\u001b[0m\u001b[1;33m)\u001b[0m\u001b[1;33m\u001b[0m\u001b[1;33m\u001b[0m\u001b[0m\n\u001b[0m\u001b[0;32m    312\u001b[0m \u001b[1;33m\u001b[0m\u001b[0m\n\u001b[0;32m    313\u001b[0m         \u001b[1;32mreturn\u001b[0m \u001b[0mwrapper\u001b[0m\u001b[1;33m\u001b[0m\u001b[1;33m\u001b[0m\u001b[0m\n",
      "\u001b[1;32m~\\anaconda3\\lib\\site-packages\\pandas\\io\\parsers\\readers.py\u001b[0m in \u001b[0;36mread_csv\u001b[1;34m(filepath_or_buffer, sep, delimiter, header, names, index_col, usecols, squeeze, prefix, mangle_dupe_cols, dtype, engine, converters, true_values, false_values, skipinitialspace, skiprows, skipfooter, nrows, na_values, keep_default_na, na_filter, verbose, skip_blank_lines, parse_dates, infer_datetime_format, keep_date_col, date_parser, dayfirst, cache_dates, iterator, chunksize, compression, thousands, decimal, lineterminator, quotechar, quoting, doublequote, escapechar, comment, encoding, encoding_errors, dialect, error_bad_lines, warn_bad_lines, on_bad_lines, delim_whitespace, low_memory, memory_map, float_precision, storage_options)\u001b[0m\n\u001b[0;32m    584\u001b[0m     \u001b[0mkwds\u001b[0m\u001b[1;33m.\u001b[0m\u001b[0mupdate\u001b[0m\u001b[1;33m(\u001b[0m\u001b[0mkwds_defaults\u001b[0m\u001b[1;33m)\u001b[0m\u001b[1;33m\u001b[0m\u001b[1;33m\u001b[0m\u001b[0m\n\u001b[0;32m    585\u001b[0m \u001b[1;33m\u001b[0m\u001b[0m\n\u001b[1;32m--> 586\u001b[1;33m     \u001b[1;32mreturn\u001b[0m \u001b[0m_read\u001b[0m\u001b[1;33m(\u001b[0m\u001b[0mfilepath_or_buffer\u001b[0m\u001b[1;33m,\u001b[0m \u001b[0mkwds\u001b[0m\u001b[1;33m)\u001b[0m\u001b[1;33m\u001b[0m\u001b[1;33m\u001b[0m\u001b[0m\n\u001b[0m\u001b[0;32m    587\u001b[0m \u001b[1;33m\u001b[0m\u001b[0m\n\u001b[0;32m    588\u001b[0m \u001b[1;33m\u001b[0m\u001b[0m\n",
      "\u001b[1;32m~\\anaconda3\\lib\\site-packages\\pandas\\io\\parsers\\readers.py\u001b[0m in \u001b[0;36m_read\u001b[1;34m(filepath_or_buffer, kwds)\u001b[0m\n\u001b[0;32m    486\u001b[0m \u001b[1;33m\u001b[0m\u001b[0m\n\u001b[0;32m    487\u001b[0m     \u001b[1;32mwith\u001b[0m \u001b[0mparser\u001b[0m\u001b[1;33m:\u001b[0m\u001b[1;33m\u001b[0m\u001b[1;33m\u001b[0m\u001b[0m\n\u001b[1;32m--> 488\u001b[1;33m         \u001b[1;32mreturn\u001b[0m \u001b[0mparser\u001b[0m\u001b[1;33m.\u001b[0m\u001b[0mread\u001b[0m\u001b[1;33m(\u001b[0m\u001b[0mnrows\u001b[0m\u001b[1;33m)\u001b[0m\u001b[1;33m\u001b[0m\u001b[1;33m\u001b[0m\u001b[0m\n\u001b[0m\u001b[0;32m    489\u001b[0m \u001b[1;33m\u001b[0m\u001b[0m\n\u001b[0;32m    490\u001b[0m \u001b[1;33m\u001b[0m\u001b[0m\n",
      "\u001b[1;32m~\\anaconda3\\lib\\site-packages\\pandas\\io\\parsers\\readers.py\u001b[0m in \u001b[0;36m__exit__\u001b[1;34m(self, exc_type, exc_value, traceback)\u001b[0m\n\u001b[0;32m   1078\u001b[0m \u001b[1;33m\u001b[0m\u001b[0m\n\u001b[0;32m   1079\u001b[0m     \u001b[1;32mdef\u001b[0m \u001b[0m__exit__\u001b[0m\u001b[1;33m(\u001b[0m\u001b[0mself\u001b[0m\u001b[1;33m,\u001b[0m \u001b[0mexc_type\u001b[0m\u001b[1;33m,\u001b[0m \u001b[0mexc_value\u001b[0m\u001b[1;33m,\u001b[0m \u001b[0mtraceback\u001b[0m\u001b[1;33m)\u001b[0m\u001b[1;33m:\u001b[0m\u001b[1;33m\u001b[0m\u001b[1;33m\u001b[0m\u001b[0m\n\u001b[1;32m-> 1080\u001b[1;33m         \u001b[0mself\u001b[0m\u001b[1;33m.\u001b[0m\u001b[0mclose\u001b[0m\u001b[1;33m(\u001b[0m\u001b[1;33m)\u001b[0m\u001b[1;33m\u001b[0m\u001b[1;33m\u001b[0m\u001b[0m\n\u001b[0m\u001b[0;32m   1081\u001b[0m \u001b[1;33m\u001b[0m\u001b[0m\n\u001b[0;32m   1082\u001b[0m \u001b[1;33m\u001b[0m\u001b[0m\n",
      "\u001b[1;32m~\\anaconda3\\lib\\site-packages\\pandas\\io\\parsers\\readers.py\u001b[0m in \u001b[0;36mclose\u001b[1;34m(self)\u001b[0m\n\u001b[0;32m    812\u001b[0m \u001b[1;33m\u001b[0m\u001b[0m\n\u001b[0;32m    813\u001b[0m     \u001b[1;32mdef\u001b[0m \u001b[0mclose\u001b[0m\u001b[1;33m(\u001b[0m\u001b[0mself\u001b[0m\u001b[1;33m)\u001b[0m\u001b[1;33m:\u001b[0m\u001b[1;33m\u001b[0m\u001b[1;33m\u001b[0m\u001b[0m\n\u001b[1;32m--> 814\u001b[1;33m         \u001b[0mself\u001b[0m\u001b[1;33m.\u001b[0m\u001b[0m_engine\u001b[0m\u001b[1;33m.\u001b[0m\u001b[0mclose\u001b[0m\u001b[1;33m(\u001b[0m\u001b[1;33m)\u001b[0m\u001b[1;33m\u001b[0m\u001b[1;33m\u001b[0m\u001b[0m\n\u001b[0m\u001b[0;32m    815\u001b[0m \u001b[1;33m\u001b[0m\u001b[0m\n\u001b[0;32m    816\u001b[0m     \u001b[1;32mdef\u001b[0m \u001b[0m_get_options_with_defaults\u001b[0m\u001b[1;33m(\u001b[0m\u001b[0mself\u001b[0m\u001b[1;33m,\u001b[0m \u001b[0mengine\u001b[0m\u001b[1;33m)\u001b[0m\u001b[1;33m:\u001b[0m\u001b[1;33m\u001b[0m\u001b[1;33m\u001b[0m\u001b[0m\n",
      "\u001b[1;32m~\\anaconda3\\lib\\site-packages\\pandas\\io\\parsers\\c_parser_wrapper.py\u001b[0m in \u001b[0;36mclose\u001b[1;34m(self)\u001b[0m\n\u001b[0;32m    190\u001b[0m \u001b[1;33m\u001b[0m\u001b[0m\n\u001b[0;32m    191\u001b[0m     \u001b[1;32mdef\u001b[0m \u001b[0mclose\u001b[0m\u001b[1;33m(\u001b[0m\u001b[0mself\u001b[0m\u001b[1;33m)\u001b[0m \u001b[1;33m->\u001b[0m \u001b[1;32mNone\u001b[0m\u001b[1;33m:\u001b[0m\u001b[1;33m\u001b[0m\u001b[1;33m\u001b[0m\u001b[0m\n\u001b[1;32m--> 192\u001b[1;33m         \u001b[0msuper\u001b[0m\u001b[1;33m(\u001b[0m\u001b[1;33m)\u001b[0m\u001b[1;33m.\u001b[0m\u001b[0mclose\u001b[0m\u001b[1;33m(\u001b[0m\u001b[1;33m)\u001b[0m\u001b[1;33m\u001b[0m\u001b[1;33m\u001b[0m\u001b[0m\n\u001b[0m\u001b[0;32m    193\u001b[0m \u001b[1;33m\u001b[0m\u001b[0m\n\u001b[0;32m    194\u001b[0m         \u001b[1;31m# close additional handles opened by C parser\u001b[0m\u001b[1;33m\u001b[0m\u001b[1;33m\u001b[0m\u001b[0m\n",
      "\u001b[1;32m~\\anaconda3\\lib\\site-packages\\pandas\\io\\parsers\\base_parser.py\u001b[0m in \u001b[0;36mclose\u001b[1;34m(self)\u001b[0m\n\u001b[0;32m    280\u001b[0m     \u001b[1;32mdef\u001b[0m \u001b[0mclose\u001b[0m\u001b[1;33m(\u001b[0m\u001b[0mself\u001b[0m\u001b[1;33m)\u001b[0m\u001b[1;33m:\u001b[0m\u001b[1;33m\u001b[0m\u001b[1;33m\u001b[0m\u001b[0m\n\u001b[0;32m    281\u001b[0m         \u001b[1;32mif\u001b[0m \u001b[0mself\u001b[0m\u001b[1;33m.\u001b[0m\u001b[0mhandles\u001b[0m \u001b[1;32mis\u001b[0m \u001b[1;32mnot\u001b[0m \u001b[1;32mNone\u001b[0m\u001b[1;33m:\u001b[0m\u001b[1;33m\u001b[0m\u001b[1;33m\u001b[0m\u001b[0m\n\u001b[1;32m--> 282\u001b[1;33m             \u001b[0mself\u001b[0m\u001b[1;33m.\u001b[0m\u001b[0mhandles\u001b[0m\u001b[1;33m.\u001b[0m\u001b[0mclose\u001b[0m\u001b[1;33m(\u001b[0m\u001b[1;33m)\u001b[0m\u001b[1;33m\u001b[0m\u001b[1;33m\u001b[0m\u001b[0m\n\u001b[0m\u001b[0;32m    283\u001b[0m \u001b[1;33m\u001b[0m\u001b[0m\n\u001b[0;32m    284\u001b[0m     \u001b[1;33m@\u001b[0m\u001b[0mfinal\u001b[0m\u001b[1;33m\u001b[0m\u001b[1;33m\u001b[0m\u001b[0m\n",
      "\u001b[1;32m~\\anaconda3\\lib\\site-packages\\pandas\\io\\common.py\u001b[0m in \u001b[0;36mclose\u001b[1;34m(self)\u001b[0m\n\u001b[0;32m    110\u001b[0m         \u001b[1;32mtry\u001b[0m\u001b[1;33m:\u001b[0m\u001b[1;33m\u001b[0m\u001b[1;33m\u001b[0m\u001b[0m\n\u001b[0;32m    111\u001b[0m             \u001b[1;32mfor\u001b[0m \u001b[0mhandle\u001b[0m \u001b[1;32min\u001b[0m \u001b[0mself\u001b[0m\u001b[1;33m.\u001b[0m\u001b[0mcreated_handles\u001b[0m\u001b[1;33m:\u001b[0m\u001b[1;33m\u001b[0m\u001b[1;33m\u001b[0m\u001b[0m\n\u001b[1;32m--> 112\u001b[1;33m                 \u001b[0mhandle\u001b[0m\u001b[1;33m.\u001b[0m\u001b[0mclose\u001b[0m\u001b[1;33m(\u001b[0m\u001b[1;33m)\u001b[0m\u001b[1;33m\u001b[0m\u001b[1;33m\u001b[0m\u001b[0m\n\u001b[0m\u001b[0;32m    113\u001b[0m         \u001b[1;32mexcept\u001b[0m \u001b[1;33m(\u001b[0m\u001b[0mOSError\u001b[0m\u001b[1;33m,\u001b[0m \u001b[0mValueError\u001b[0m\u001b[1;33m)\u001b[0m\u001b[1;33m:\u001b[0m\u001b[1;33m\u001b[0m\u001b[1;33m\u001b[0m\u001b[0m\n\u001b[0;32m    114\u001b[0m             \u001b[1;32mpass\u001b[0m\u001b[1;33m\u001b[0m\u001b[1;33m\u001b[0m\u001b[0m\n",
      "\u001b[1;31mKeyboardInterrupt\u001b[0m: "
     ]
    }
   ],
   "source": [
    "mass_η_0 = np.arange(12, 15.5, 0.5)\n",
    "mass_q_M = np.arange(35e3, 40e3, 500)\n",
    "V_max = 1100\n",
    "opts['I_10'] = 2550\n",
    "RESULT = {}\n",
    "OPTS = {}\n",
    "n = 0\n",
    "for i in tqdm(mass_η_0):\n",
    "    for k in mass_q_M:\n",
    "        myu_0 = 1 - np.exp(-((V_max - opts['init_conditions']['v']) / (0.92 * opts['I_10'])))\n",
    "        opts['myu_0'] = myu_0\n",
    "        opts['η_0'] = i\n",
    "        opts['q_M'] = k\n",
    "        res = ozvb(opts)\n",
    "        OPTS[n] = (myu_0, i, k)\n",
    "        RESULT[n] = (max(res['v']), res['v'][-1], res['y'][-1], res['x'][-1], res['myu'][-1], res['t'][-1], res['stop_reason'])\n",
    "        n += 1"
   ]
  },
  {
   "cell_type": "code",
   "execution_count": 6,
   "metadata": {},
   "outputs": [
    {
     "data": {
      "text/plain": [
       "(array([12. , 12.5, 13. , 13.5, 14. , 14.5, 15. ]),\n",
       " array([2400, 2450, 2500, 2550, 2600]),\n",
       " array([35000., 35500., 36000., 36500., 37000., 37500., 38000., 38500.,\n",
       "        39000., 39500.]))"
      ]
     },
     "execution_count": 6,
     "metadata": {},
     "output_type": "execute_result"
    }
   ],
   "source": [
    "mass_η_0 = np.arange(12, 15.5, 0.5)\n",
    "mass_I_10 = np.arange(2400, 2650, 50)\n",
    "mass_q_M = np.arange(35e3, 40e3, 500)\n",
    "mass_η_0, mass_I_10, mass_q_M"
   ]
  },
  {
   "cell_type": "code",
   "execution_count": null,
   "metadata": {
    "scrolled": true
   },
   "outputs": [],
   "source": [
    "V_max = 1100\n",
    "RESULT = {}\n",
    "OPTS = {}\n",
    "n = 0\n",
    "for i in tqdm(mass_η_0):\n",
    "    for j in mass_I_10:\n",
    "        for k in mass_q_M:\n",
    "            myu_0 = 1 - np.exp(-((V_max - opts['init_conditions']['v']) / (0.92 * j)))\n",
    "            opts['myu_0'] = myu_0\n",
    "            opts['η_0'] = i\n",
    "            opts['I_10'] = j\n",
    "            opts['q_M'] = k\n",
    "            res = ozvb(opts)\n",
    "            OPTS[n] = (myu_0, i, j, k)\n",
    "            RESULT[n] = (max(res['v']), res['v'][-1], res['y'][-1], res['x'][-1], res['myu'][-1], res['t'][-1], res['stop_reason'])\n",
    "            n += 1"
   ]
  },
  {
   "cell_type": "code",
   "execution_count": 7,
   "metadata": {},
   "outputs": [],
   "source": [
    "with open('bp_opts.bin', 'wb') as f:\n",
    "    pickle.dump(OPTS, f)\n",
    "with open('bp_resilt.bin', 'wb') as f:\n",
    "    pickle.dump(RESULT, f)"
   ]
  },
  {
   "cell_type": "code",
   "execution_count": 10,
   "metadata": {},
   "outputs": [],
   "source": [
    "with open('bp_opts.bin', 'rb') as f:\n",
    "    OPTS = pickle.load(f)\n",
    "with open('bp_resilt.bin', 'rb') as f:\n",
    "    RESULT = pickle.load(f)"
   ]
  },
  {
   "cell_type": "code",
   "execution_count": 11,
   "metadata": {},
   "outputs": [],
   "source": [
    "d = 0.240\n",
    "S_mid = np.pi * d**2 / 4\n",
    "mass_m0 = {etta: [] for etta in mass_η_0}\n",
    "mass_v0 = {etta: [] for etta in mass_η_0}\n",
    "mass_m0_odz = []\n",
    "mass_v0_odz = []\n",
    "keys = []\n",
    "\n",
    "for key in RESULT:\n",
    "    m_0 = OPTS[key][-1] * S_mid / 9.80665\n",
    "    v_0 = RESULT[key][0]\n",
    "    mass_m0[OPTS[key][1]].append(m_0)\n",
    "    mass_v0[OPTS[key][1]].append(v_0)\n",
    "    if RESULT[key][0] > 1000:\n",
    "        m_0 = OPTS[key][-1] * S_mid / 9.80665\n",
    "        v_0 = RESULT[key][0]\n",
    "        mass_m0_odz.append(m_0)\n",
    "        mass_v0_odz.append(v_0)\n",
    "        keys.append(key)"
   ]
  },
  {
   "cell_type": "code",
   "execution_count": 12,
   "metadata": {},
   "outputs": [
    {
     "data": {
      "image/png": "[encoded data removed]",
      "text/plain": [
       "<Figure size 900x600 with 1 Axes>"
      ]
     },
     "metadata": {
      "needs_background": "light"
     },
     "output_type": "display_data"
    }
   ],
   "source": [
    "plt.figure(dpi=150)\n",
    "colors = {key: i for key, i in zip(mass_η_0, ['k', 'b', 'g', 'darkorange', 'r', 'c', 'm', 'y'])}\n",
    "alpha = 0.1\n",
    "\n",
    "for key in mass_m0:\n",
    "    plt.scatter(mass_m0[key], mass_v0[key], c=colors[key], edgecolors='k', alpha=alpha, s=80, marker='o', label=f'η$_0$={key}')\n",
    "    plt.plot(mass_m0[key], mass_v0[key], alpha=alpha, c=colors[key])\n",
    "    alpha += 0.1\n",
    "\n",
    "plt.scatter(mass_m0_odz[3], mass_v0_odz[3], edgecolors='k', c='gold', s=180, marker='*', label='Оптимальное решение')\n",
    "\n",
    "plt.hlines(1000, 160, 185, linestyle='--', colors='purple', label='Мин. ограничение по $V_{max}$')\n",
    "plt.xlim(165, 183)\n",
    "plt.xlabel('$m_0$, кг'), plt.ylabel('$V_0$, м/с') \n",
    "plt.grid(True, linewidth=0.15, color='k')\n",
    "plt.legend(ncol=3)\n",
    "plt.show()"
   ]
  },
  {
   "cell_type": "code",
   "execution_count": 13,
   "metadata": {},
   "outputs": [
    {
     "name": "stdout",
     "output_type": "stream",
     "text": [
      "stop reason: x_max;\n",
      "flight time: 28.760000000001696 с.;\n",
      "execution time: 40.23134610000011 с.\n"
     ]
    }
   ],
   "source": [
    "opts['myu_0'], opts['η_0'], opts['q_M'], opts['I_10'] = *OPTS[keys[3]], 2550\n",
    "res = ozvb(opts)"
   ]
  },
  {
   "cell_type": "code",
   "execution_count": 14,
   "metadata": {},
   "outputs": [
    {
     "data": {
      "image/png": "[encoded data removed]",
      "text/plain": [
       "<Figure size 600x400 with 1 Axes>"
      ]
     },
     "metadata": {
      "needs_background": "light"
     },
     "output_type": "display_data"
    }
   ],
   "source": [
    "plt.figure(dpi=100)\n",
    "plt.plot(res['t'], res['v'], lw=2, ls='-')\n",
    "plt.grid(True, linewidth=0.3, color='k')\n",
    "plt.show()"
   ]
  },
  {
   "cell_type": "code",
   "execution_count": 15,
   "metadata": {},
   "outputs": [
    {
     "data": {
      "image/png": "[encoded data removed]",
      "text/plain": [
       "<Figure size 600x400 with 1 Axes>"
      ]
     },
     "metadata": {
      "needs_background": "light"
     },
     "output_type": "display_data"
    }
   ],
   "source": [
    "plt.figure(dpi=100)\n",
    "plt.plot(res['x'], res['y'], lw=2, ls='-')\n",
    "plt.grid(True, linewidth=0.3, color='k')\n",
    "plt.show()"
   ]
  },
  {
   "cell_type": "code",
   "execution_count": 16,
   "metadata": {},
   "outputs": [
    {
     "data": {
      "image/png": "[encoded data removed]",
      "text/plain": [
       "<Figure size 600x400 with 1 Axes>"
      ]
     },
     "metadata": {
      "needs_background": "light"
     },
     "output_type": "display_data"
    }
   ],
   "source": [
    "plt.figure(dpi=100)\n",
    "plt.plot(res['t'], res['myu'], lw=2, ls='-')\n",
    "plt.show()"
   ]
  },
  {
   "cell_type": "code",
   "execution_count": 17,
   "metadata": {},
   "outputs": [
    {
     "name": "stdout",
     "output_type": "stream",
     "text": [
      " m0 = 170.6842362919694;\n",
      " w = 63.53209559432441;\n",
      " myu = 0.3722200536764716;\n",
      " P = 24270.688204573304;\n",
      " t = 6.679999999999902;\n",
      " I_p = 162128.19720654728;\n",
      " l_p = 3.0183599904146674;\n",
      " lambd_korp = 12.576499960061115;\n",
      " Vmax = 1015.9548902555453;\n",
      " Vcp = 575.4235444152247\n"
     ]
    }
   ],
   "source": [
    "g = 9.80665\n",
    "d = 0.240\n",
    "gamma = 1250 \n",
    "# ---------------------------------------\n",
    "t_marsh = res['t'][np.argmax(res['myu'])]\n",
    "myu_marsh = max(res['myu'])\n",
    "vel_mid = np.average(res['v'])\n",
    "vel_max = max(res['v'])\n",
    "m_0 = opts['q_M'] * np.pi * d**2 / 4 / g\n",
    "P_0 =  opts['η_0'] * m_0 * g\n",
    "w_marsh = m_0 * myu_marsh\n",
    "I_p = P_0 * t_marsh\n",
    "l_korp = m_0 / (np.pi * d**2 / 4 * gamma)\n",
    "lambd_korp = l_korp / d\n",
    "print(f' m0 = {m_0};\\n w = {w_marsh};\\n myu = {myu_marsh};\\n P = {P_0};\\n t = {t_marsh};\\n I_p = {I_p};\\n l_p = {l_korp};\\n lambd_korp = {lambd_korp};\\n Vmax = {vel_max};\\n Vcp = {vel_mid}')"
   ]
  },
  {
   "cell_type": "code",
   "execution_count": 123,
   "metadata": {},
   "outputs": [
    {
     "data": {
      "text/plain": [
       "2528.105590062112"
      ]
     },
     "execution_count": 123,
     "metadata": {},
     "output_type": "execute_result"
    }
   ],
   "source": [
    "G = 64.4 / 6.7\n",
    "Pud = 24300 / G\n",
    "Pud"
   ]
  },
  {
   "cell_type": "markdown",
   "metadata": {},
   "source": [
    "## 2) Траекторный анализ более подробной математической модели"
   ]
  },
  {
   "cell_type": "code",
   "execution_count": 1,
   "metadata": {},
   "outputs": [],
   "source": [
    "from missile import Missile2D\n",
    "from missile_gym import MissileGym\n",
    "import matplotlib.pyplot as plt\n",
    "from tqdm import tqdm \n",
    "import numpy as np\n",
    "\n",
    "from ipywidgets import interact, interactive, fixed\n",
    "import ipywidgets\n",
    "from matplotlib.pylab import figure, subplot2grid"
   ]
  },
  {
   "cell_type": "code",
   "execution_count": 2,
   "metadata": {},
   "outputs": [],
   "source": [
    "missile_opts = {\n",
    "    'd': 0.240,\n",
    "    'm_0': 170.7,\n",
    "    't_marsh': 6.7,\n",
    "    'w_marsh': 63.5,\n",
    "    'P_marsh': 24.3e3,\n",
    "    'r_kill': 50,\n",
    "    'alpha_max': 12,\n",
    "    'xi': 0.5,\n",
    "    'am': 5,\n",
    "    'dny': 1,\n",
    "    'init_conditions': {'V_0': 25, 'pos_0': (0, 25)}\n",
    "}"
   ]
  },
  {
   "cell_type": "code",
   "execution_count": 3,
   "metadata": {},
   "outputs": [],
   "source": [
    "trg_pos = (25e3, 7e3)\n",
    "trg_vel = (-350, 0)"
   ]
  },
  {
   "cell_type": "code",
   "execution_count": 4,
   "metadata": {},
   "outputs": [
    {
     "name": "stdout",
     "output_type": "stream",
     "text": [
      "Meeting point: False\n",
      "info = target destroyed\n",
      "Wall time: 44.3 s\n"
     ]
    }
   ],
   "source": [
    "sim_scenario = MissileGym.make_simple_scenario(missile_opts, trg_pos, trg_vel, t_max=25)\n",
    "%time res_hit = MissileGym.launch(sim_scenario) # aero=False, record=True, desc=True"
   ]
  },
  {
   "cell_type": "code",
   "execution_count": 13,
   "metadata": {},
   "outputs": [
    {
     "data": {
      "image/png": "[encoded data removed]",
      "text/plain": [
       "<Figure size 600x400 with 1 Axes>"
      ]
     },
     "metadata": {
      "needs_background": "light"
     },
     "output_type": "display_data"
    },
    {
     "data": {
      "text/plain": [
       "(787.847738994198, 1099.655963929262, 23.22000000000083)"
      ]
     },
     "execution_count": 13,
     "metadata": {},
     "output_type": "execute_result"
    }
   ],
   "source": [
    "plt.figure(dpi=100)\n",
    "plt.plot(res_hit['t'], res_hit['missile']['v'])\n",
    "plt.ylabel('$V$, м/с')\n",
    "plt.xlabel('$t$, с')\n",
    "plt.grid()\n",
    "plt.show()\n",
    "np.mean(res_hit['missile']['v']), max(res_hit['missile']['v']), res_hit['t'][-1]"
   ]
  },
  {
   "cell_type": "code",
   "execution_count": 14,
   "metadata": {},
   "outputs": [
    {
     "data": {
      "image/png": "[encoded data removed]",
      "text/plain": [
       "<Figure size 600x400 with 1 Axes>"
      ]
     },
     "metadata": {
      "needs_background": "light"
     },
     "output_type": "display_data"
    }
   ],
   "source": [
    "%matplotlib inline\n",
    "plt.figure(dpi=100)\n",
    "plt.plot(res_hit['missile']['x'], res_hit['missile']['y'])\n",
    "plt.plot(res_hit['target']['x'], res_hit['target']['y'])\n",
    "plt.grid()\n",
    "plt.ylabel('$y$, м')\n",
    "plt.xlabel('$x$, м')\n",
    "plt.axis('equal')\n",
    "plt.show()"
   ]
  },
  {
   "cell_type": "code",
   "execution_count": 15,
   "metadata": {},
   "outputs": [
    {
     "data": {
      "application/vnd.jupyter.widget-view+json": {
       "model_id": "17553f4d89554d83aa8880629ceab3ec",
       "version_major": 2,
       "version_minor": 0
      },
      "text/plain": [
       "interactive(children=(IntSlider(value=2322, description='tau', max=2322), Output()), _dom_classes=('widget-int…"
      ]
     },
     "metadata": {},
     "output_type": "display_data"
    }
   ],
   "source": [
    "@interact(i=ipywidgets.IntSlider(description='tau', max=len(res_hit['t'])-1, step=1, value=len(res_hit['t'])-1))\n",
    "def draw_gym_hit(i):\n",
    "    \n",
    "    plt.figure(figsize=(16,12))\n",
    "    \n",
    "    ax01 = subplot2grid((8, 4), (0, 0), colspan=4, rowspan=4)\n",
    "    ax02 = subplot2grid((8, 4), (4, 0), colspan=2, rowspan=2)\n",
    "    ax03 = subplot2grid((8, 4), (6, 0), colspan=2, rowspan=2,sharex=ax02)\n",
    "    ax04 = subplot2grid((8, 4), (4, 2), colspan=2, rowspan=2,sharex=ax02)\n",
    "    ax05 = subplot2grid((8, 4), (6, 2), colspan=2, rowspan=2,sharex=ax02)\n",
    "    \n",
    "    ax01.plot(res_hit['missile']['x'][:i], res_hit['missile']['y'][:i], lw=3, ls=':', color='k', label='траектория ракеты')\n",
    "    ax01.plot(res_hit['target']['x'][:i], res_hit['target']['y'][:i], lw=3, ls=':', color='red', label='траектория цели')\n",
    "    ax01.tick_params(labelsize=12, pad = 0)\n",
    "    ax01.legend(loc='best', fontsize=14)\n",
    "    ax01.grid(True)\n",
    "    \n",
    "    ax02.plot(res_hit['t'][:i], res_hit['missile']['v'][:i], label='$V_р$', c='k')\n",
    "    ax02.plot(res_hit['t'][:i], res_hit['target']['v'][:i], label='$V_ц$', c='red')\n",
    "    ax02.tick_params(left=True, labelleft=True,labelbottom=False, bottom=False, right=False, labelright=False, labelsize=12)\n",
    "    ax02.legend(fontsize=14)\n",
    "    ax02.grid(True)\n",
    "    \n",
    "    ax03.plot(res_hit['t'][:i], res_hit['missile']['ny'][:i], label=r'$n_y$ ракеты', c='k')\n",
    "    ax03.plot(res_hit['t'][:i], res_hit['missile']['nx'][:i], label=r'$n_x$ ракеты', c='k', ls='--')\n",
    "#     ax03.plot(res_hit['t'][:i], res_hit['target']['ny'][:i], label=r'$n_y$ цели', c='red')\n",
    "#     ax03.plot(res_hit['t'][:i], res_hit['target']['nx'][:i], label=r'$n_x$ цели', c='red', ls='--')\n",
    "    ax03.legend(loc='best', ncol=2, fontsize=14)\n",
    "    ax03.tick_params(left=True, labelleft=True, right=False, labelright=False, labelsize=12)\n",
    "    ax03.grid(True)\n",
    "    \n",
    "    ax04.plot(res_hit['t'][:i], res_hit['missile']['alpha'][:i], label=r'$\\alpha$', color='k')\n",
    "    ax04.plot(res_hit['t'][:i], res_hit['alpha_targeting'][:i], label=r'$\\alpha_{пот}$', color='darkorange', ls='-')\n",
    "    ax04.tick_params(left=False, labelleft=False, labelbottom=False, bottom=False, right=True, labelright=True, labelsize=12)\n",
    "    ax04.legend(fontsize=14)\n",
    "    ax04.grid(True)\n",
    "       \n",
    "    ax05.plot(res_hit['t'][:i], res_hit['missile']['Q'][:i], color='k', label='Q')\n",
    "    ax05.tick_params(left=False, labelleft=False, right=True, labelright=True, labelsize=12)\n",
    "    ax05.legend(fontsize=14)\n",
    "    ax05.grid(True)\n",
    "    \n",
    "    plt.savefig('Баллистика.png', dpi=400, bbox_inches='tight')\n",
    "    \n",
    "    plt.show()"
   ]
  },
  {
   "cell_type": "markdown",
   "metadata": {},
   "source": [
    "## 3) Построение зоны поражения и пуска"
   ]
  },
  {
   "cell_type": "code",
   "execution_count": 15,
   "metadata": {},
   "outputs": [],
   "source": [
    "trg_vel = (-1e-5, 0)\n",
    "xs = np.linspace(-20e3, 20e3, 51)\n",
    "ys = np.linspace(100, 7e3, 21)"
   ]
  },
  {
   "cell_type": "code",
   "execution_count": 16,
   "metadata": {},
   "outputs": [],
   "source": [
    "def foo_gym_hit(missile_opts, trg_pos, trg_vel, t_max=22, desc=False):\n",
    "    sim_scenario = MissileGym.make_simple_scenario(missile_opts, trg_pos, trg_vel, t_max=25, desc=False)\n",
    "    res = MissileGym.launch(sim_scenario)\n",
    "    return {'t': res['t'][-1],\n",
    "            'info': res['info'],\n",
    "            'missile': {\n",
    "                'x': res['missile']['x'][-1],\n",
    "                'y': res['missile']['y'][-1],\n",
    "                'ny': max(res['missile']['ny']),\n",
    "                'nx': max(res['missile']['nx'])\n",
    "                       },\n",
    "            'target': {\n",
    "                'x': res['target']['x'][-1],\n",
    "                'y': res['target']['y'][-1],\n",
    "                'x0': res['target']['x'][0],\n",
    "                'y0': res['target']['y'][0],\n",
    "                'ny': max(res['target']['ny']),\n",
    "                'nx': max(res['target']['nx'])\n",
    "                       }\n",
    "           }"
   ]
  },
  {
   "cell_type": "code",
   "execution_count": 9,
   "metadata": {
    "scrolled": true
   },
   "outputs": [
    {
     "name": "stderr",
     "output_type": "stream",
     "text": [
      "\r",
      "  0%|                                                                                           | 0/51 [00:00<?, ?it/s]"
     ]
    },
    {
     "name": "stdout",
     "output_type": "stream",
     "text": [
      "info = missile fell\n",
      "info = missile fell\n",
      "info = missile fell\n",
      "info = missile fell\n",
      "info = missile fell\n",
      "info = missile fell\n",
      "info = missile fell\n",
      "info = missile fell\n",
      "info = missile fell\n",
      "info = a long time to fly\n",
      "info = a long time to fly\n",
      "info = a long time to fly\n",
      "info = a long time to fly\n",
      "info = a long time to fly\n",
      "info = a long time to fly\n",
      "info = a long time to fly\n",
      "info = a long time to fly\n",
      "info = a long time to fly\n",
      "info = a long time to fly\n",
      "info = a long time to fly\n",
      "info = a long time to fly\n"
     ]
    },
    {
     "name": "stderr",
     "output_type": "stream",
     "text": [
      "\r",
      "  2%|█▌                                                                              | 1/51 [09:52<8:13:49, 592.58s/it]"
     ]
    },
    {
     "name": "stdout",
     "output_type": "stream",
     "text": [
      "info = missile fell\n",
      "info = missile fell\n",
      "info = missile fell\n",
      "info = missile fell\n",
      "info = missile fell\n",
      "info = missile fell\n",
      "info = missile fell\n",
      "info = missile fell\n",
      "info = missile fell\n",
      "info = a long time to fly\n",
      "info = a long time to fly\n",
      "info = a long time to fly\n",
      "info = a long time to fly\n",
      "info = a long time to fly\n",
      "info = a long time to fly\n",
      "info = a long time to fly\n",
      "info = a long time to fly\n",
      "info = a long time to fly\n",
      "info = a long time to fly\n",
      "info = a long time to fly\n",
      "info = a long time to fly\n"
     ]
    },
    {
     "name": "stderr",
     "output_type": "stream",
     "text": [
      "\r",
      "  4%|███▏                                                                            | 2/51 [19:50<8:06:36, 595.85s/it]"
     ]
    },
    {
     "name": "stdout",
     "output_type": "stream",
     "text": [
      "info = missile fell\n",
      "info = missile fell\n",
      "info = missile fell\n",
      "info = missile fell\n",
      "info = missile fell\n",
      "info = missile fell\n",
      "info = missile fell\n",
      "info = missile fell\n",
      "info = target destroyed\n",
      "info = target destroyed\n",
      "info = target destroyed\n",
      "info = target destroyed\n",
      "info = target destroyed\n",
      "info = target destroyed\n",
      "info = target destroyed\n",
      "info = target destroyed\n",
      "info = target destroyed\n",
      "info = a long time to fly\n",
      "info = a long time to fly\n",
      "info = a long time to fly\n",
      "info = a long time to fly\n"
     ]
    },
    {
     "name": "stderr",
     "output_type": "stream",
     "text": [
      "\r",
      "  6%|████▋                                                                           | 3/51 [30:26<8:11:23, 614.24s/it]"
     ]
    },
    {
     "name": "stdout",
     "output_type": "stream",
     "text": [
      "info = missile fell\n",
      "info = missile fell\n",
      "info = missile fell\n",
      "info = missile fell\n",
      "info = missile fell\n",
      "info = missile fell\n",
      "info = missile fell\n",
      "info = missile fell\n",
      "info = target destroyed\n",
      "info = target destroyed\n",
      "info = target destroyed\n",
      "info = target destroyed\n",
      "info = target destroyed\n",
      "info = target destroyed\n",
      "info = target destroyed\n",
      "info = target destroyed\n",
      "info = target destroyed\n",
      "info = target destroyed\n",
      "info = target destroyed\n",
      "info = target destroyed\n",
      "info = target destroyed\n"
     ]
    },
    {
     "name": "stderr",
     "output_type": "stream",
     "text": [
      "\r",
      "  8%|██████▎                                                                         | 4/51 [40:47<8:03:08, 616.77s/it]"
     ]
    },
    {
     "name": "stdout",
     "output_type": "stream",
     "text": [
      "info = missile fell\n",
      "info = missile fell\n",
      "info = missile fell\n",
      "info = missile fell\n",
      "info = missile fell\n",
      "info = missile fell\n",
      "info = missile fell\n",
      "info = missile fell\n",
      "info = target destroyed\n",
      "info = target destroyed\n",
      "info = target destroyed\n",
      "info = target destroyed\n",
      "info = target destroyed\n",
      "info = target destroyed\n",
      "info = target destroyed\n",
      "info = target destroyed\n",
      "info = target destroyed\n",
      "info = target destroyed\n",
      "info = target destroyed\n",
      "info = target destroyed\n",
      "info = target destroyed\n"
     ]
    },
    {
     "name": "stderr",
     "output_type": "stream",
     "text": [
      "\r",
      " 10%|███████▊                                                                        | 5/51 [50:21<7:40:56, 601.22s/it]"
     ]
    },
    {
     "name": "stdout",
     "output_type": "stream",
     "text": [
      "info = missile fell\n",
      "info = missile fell\n",
      "info = missile fell\n",
      "info = missile fell\n",
      "info = missile fell\n",
      "info = missile fell\n",
      "info = missile fell\n",
      "info = target destroyed\n",
      "info = target destroyed\n",
      "info = target destroyed\n",
      "info = target destroyed\n",
      "info = target destroyed\n",
      "info = target destroyed\n",
      "info = target destroyed\n",
      "info = target destroyed\n",
      "info = target destroyed\n",
      "info = target destroyed\n",
      "info = target destroyed\n",
      "info = target destroyed\n",
      "info = target destroyed\n",
      "info = target destroyed\n"
     ]
    },
    {
     "name": "stderr",
     "output_type": "stream",
     "text": [
      "\r",
      " 12%|█████████▍                                                                      | 6/51 [59:27<7:16:57, 582.62s/it]"
     ]
    },
    {
     "name": "stdout",
     "output_type": "stream",
     "text": [
      "info = missile fell\n",
      "info = missile fell\n",
      "info = missile fell\n",
      "info = missile fell\n",
      "info = missile fell\n",
      "info = missile fell\n",
      "info = missile fell\n",
      "info = target destroyed\n",
      "info = target destroyed\n",
      "info = target destroyed\n",
      "info = target destroyed\n",
      "info = target destroyed\n",
      "info = target destroyed\n",
      "info = target destroyed\n",
      "info = target destroyed\n",
      "info = target destroyed\n",
      "info = target destroyed\n",
      "info = target destroyed\n",
      "info = target destroyed\n",
      "info = target destroyed\n",
      "info = target destroyed\n"
     ]
    },
    {
     "name": "stderr",
     "output_type": "stream",
     "text": [
      "\r",
      " 14%|██████████▋                                                                   | 7/51 [1:08:38<6:59:37, 572.21s/it]"
     ]
    },
    {
     "name": "stdout",
     "output_type": "stream",
     "text": [
      "info = missile fell\n",
      "info = missile fell\n",
      "info = missile fell\n",
      "info = missile fell\n",
      "info = missile fell\n",
      "info = missile fell\n",
      "info = target destroyed\n",
      "info = target destroyed\n",
      "info = target destroyed\n",
      "info = target destroyed\n",
      "info = target destroyed\n",
      "info = target destroyed\n",
      "info = target destroyed\n",
      "info = target destroyed\n",
      "info = target destroyed\n",
      "info = target destroyed\n",
      "info = target destroyed\n",
      "info = target destroyed\n",
      "info = target destroyed\n",
      "info = target destroyed\n",
      "info = target destroyed\n"
     ]
    },
    {
     "name": "stderr",
     "output_type": "stream",
     "text": [
      "\r",
      " 16%|████████████▏                                                                 | 8/51 [1:17:52<6:45:58, 566.49s/it]"
     ]
    },
    {
     "name": "stdout",
     "output_type": "stream",
     "text": [
      "info = missile fell\n",
      "info = missile fell\n",
      "info = missile fell\n",
      "info = missile fell\n",
      "info = missile fell\n",
      "info = missile fell\n",
      "info = target destroyed\n",
      "info = target destroyed\n",
      "info = target destroyed\n",
      "info = target destroyed\n",
      "info = target destroyed\n",
      "info = target destroyed\n",
      "info = target destroyed\n",
      "info = target destroyed\n",
      "info = target destroyed\n",
      "info = target destroyed\n",
      "info = target destroyed\n",
      "info = target destroyed\n",
      "info = target destroyed\n",
      "info = target destroyed\n",
      "info = target destroyed\n"
     ]
    },
    {
     "name": "stderr",
     "output_type": "stream",
     "text": [
      "\r",
      " 18%|█████████████▊                                                                | 9/51 [1:26:00<6:19:23, 541.99s/it]"
     ]
    },
    {
     "name": "stdout",
     "output_type": "stream",
     "text": [
      "info = missile fell\n",
      "info = missile fell\n",
      "info = missile fell\n",
      "info = missile fell\n",
      "info = missile fell\n",
      "info = target destroyed\n",
      "info = target destroyed\n",
      "info = target destroyed\n",
      "info = target destroyed\n",
      "info = target destroyed\n",
      "info = target destroyed\n",
      "info = target destroyed\n",
      "info = target destroyed\n",
      "info = target destroyed\n",
      "info = target destroyed\n",
      "info = target destroyed\n",
      "info = target destroyed\n",
      "info = target destroyed\n",
      "info = target destroyed\n",
      "info = target destroyed\n",
      "info = target destroyed\n"
     ]
    },
    {
     "name": "stderr",
     "output_type": "stream",
     "text": [
      "\r",
      " 20%|███████████████                                                              | 10/51 [1:33:39<5:52:42, 516.15s/it]"
     ]
    },
    {
     "name": "stdout",
     "output_type": "stream",
     "text": [
      "info = missile fell\n",
      "info = missile fell\n",
      "info = missile fell\n",
      "info = missile fell\n",
      "info = missile fell\n",
      "info = target destroyed\n",
      "info = target destroyed\n",
      "info = target destroyed\n",
      "info = target destroyed\n",
      "info = target destroyed\n",
      "info = target destroyed\n",
      "info = target destroyed\n",
      "info = target destroyed\n",
      "info = target destroyed\n",
      "info = target destroyed\n",
      "info = target destroyed\n",
      "info = target destroyed\n",
      "info = target destroyed\n",
      "info = target destroyed\n",
      "info = target destroyed\n",
      "info = target destroyed\n"
     ]
    },
    {
     "name": "stderr",
     "output_type": "stream",
     "text": [
      "\r",
      " 22%|████████████████▌                                                            | 11/51 [1:40:40<5:24:47, 487.18s/it]"
     ]
    },
    {
     "name": "stdout",
     "output_type": "stream",
     "text": [
      "info = missile fell\n",
      "info = missile fell\n",
      "info = missile fell\n",
      "info = missile fell\n",
      "info = missile fell\n",
      "info = target destroyed\n",
      "info = target destroyed\n",
      "info = target destroyed\n",
      "info = target destroyed\n",
      "info = target destroyed\n",
      "info = target destroyed\n",
      "info = target destroyed\n",
      "info = target destroyed\n",
      "info = target destroyed\n",
      "info = target destroyed\n",
      "info = target destroyed\n",
      "info = target destroyed\n",
      "info = target destroyed\n",
      "info = target destroyed\n",
      "info = target destroyed\n",
      "info = target destroyed\n"
     ]
    },
    {
     "name": "stderr",
     "output_type": "stream",
     "text": [
      "\r",
      " 24%|██████████████████                                                           | 12/51 [1:47:18<4:59:04, 460.13s/it]"
     ]
    },
    {
     "name": "stdout",
     "output_type": "stream",
     "text": [
      "info = missile fell\n",
      "info = missile fell\n",
      "info = missile fell\n",
      "info = missile fell\n",
      "info = target destroyed\n",
      "info = target destroyed\n",
      "info = target destroyed\n",
      "info = target destroyed\n",
      "info = target destroyed\n",
      "info = target destroyed\n",
      "info = target destroyed\n",
      "info = target destroyed\n",
      "info = target destroyed\n",
      "info = target destroyed\n",
      "info = target destroyed\n",
      "info = target destroyed\n",
      "info = target destroyed\n",
      "info = target destroyed\n",
      "info = target destroyed\n",
      "info = target destroyed\n",
      "info = target destroyed\n"
     ]
    },
    {
     "name": "stderr",
     "output_type": "stream",
     "text": [
      "\r",
      " 25%|███████████████████▋                                                         | 13/51 [1:53:50<4:38:18, 439.44s/it]"
     ]
    },
    {
     "name": "stdout",
     "output_type": "stream",
     "text": [
      "info = missile fell\n",
      "info = missile fell\n",
      "info = missile fell\n",
      "info = missile fell\n",
      "info = target destroyed\n",
      "info = target destroyed\n",
      "info = target destroyed\n",
      "info = target destroyed\n",
      "info = target destroyed\n",
      "info = target destroyed\n",
      "info = target destroyed\n",
      "info = target destroyed\n",
      "info = target destroyed\n",
      "info = target destroyed\n",
      "info = target destroyed\n",
      "info = target destroyed\n",
      "info = target destroyed\n",
      "info = target destroyed\n",
      "info = target destroyed\n",
      "info = target destroyed\n",
      "info = target destroyed\n"
     ]
    },
    {
     "name": "stderr",
     "output_type": "stream",
     "text": [
      "\r",
      " 27%|█████████████████████▏                                                       | 14/51 [2:00:03<4:18:38, 419.43s/it]"
     ]
    },
    {
     "name": "stdout",
     "output_type": "stream",
     "text": [
      "info = missile fell\n",
      "info = missile fell\n",
      "info = missile fell\n",
      "info = target destroyed\n",
      "info = target destroyed\n",
      "info = target destroyed\n",
      "info = target destroyed\n",
      "info = target destroyed\n",
      "info = target destroyed\n",
      "info = target destroyed\n",
      "info = target destroyed\n",
      "info = target destroyed\n",
      "info = target destroyed\n",
      "info = target destroyed\n",
      "info = target destroyed\n",
      "info = target destroyed\n",
      "info = target destroyed\n",
      "info = target destroyed\n",
      "info = target destroyed\n",
      "info = target destroyed\n",
      "info = target destroyed\n"
     ]
    },
    {
     "name": "stderr",
     "output_type": "stream",
     "text": [
      "\r",
      " 29%|██████████████████████▋                                                      | 15/51 [2:06:09<4:01:56, 403.25s/it]"
     ]
    },
    {
     "name": "stdout",
     "output_type": "stream",
     "text": [
      "info = missile fell\n",
      "info = missile fell\n",
      "info = missile fell\n",
      "info = target destroyed\n",
      "info = target destroyed\n",
      "info = target destroyed\n",
      "info = target destroyed\n",
      "info = target destroyed\n",
      "info = target destroyed\n",
      "info = target destroyed\n",
      "info = target destroyed\n",
      "info = target destroyed\n",
      "info = target destroyed\n",
      "info = target destroyed\n",
      "info = target destroyed\n",
      "info = target destroyed\n",
      "info = target destroyed\n",
      "info = target destroyed\n",
      "info = target destroyed\n",
      "info = target destroyed\n",
      "info = target destroyed\n"
     ]
    },
    {
     "name": "stderr",
     "output_type": "stream",
     "text": [
      "\r",
      " 31%|████████████████████████▏                                                    | 16/51 [2:11:56<3:45:25, 386.43s/it]"
     ]
    },
    {
     "name": "stdout",
     "output_type": "stream",
     "text": [
      "info = missile fell\n",
      "info = missile fell\n",
      "info = missile fell\n",
      "info = target destroyed\n",
      "info = target destroyed\n",
      "info = target destroyed\n",
      "info = target destroyed\n",
      "info = target destroyed\n",
      "info = target destroyed\n",
      "info = target destroyed\n",
      "info = target destroyed\n",
      "info = target destroyed\n",
      "info = target destroyed\n",
      "info = target destroyed\n",
      "info = target destroyed\n",
      "info = target destroyed\n",
      "info = target destroyed\n",
      "info = target destroyed\n",
      "info = target destroyed\n",
      "info = target destroyed\n",
      "info = target destroyed\n"
     ]
    },
    {
     "name": "stderr",
     "output_type": "stream",
     "text": [
      "\r",
      " 33%|█████████████████████████▋                                                   | 17/51 [2:17:27<3:29:25, 369.58s/it]"
     ]
    },
    {
     "name": "stdout",
     "output_type": "stream",
     "text": [
      "info = missile fell\n",
      "info = missile fell\n",
      "info = target destroyed\n",
      "info = target destroyed\n",
      "info = target destroyed\n",
      "info = target destroyed\n",
      "info = target destroyed\n",
      "info = target destroyed\n",
      "info = target destroyed\n",
      "info = target destroyed\n",
      "info = target destroyed\n",
      "info = target destroyed\n",
      "info = target destroyed\n",
      "info = target destroyed\n",
      "info = target destroyed\n",
      "info = target destroyed\n",
      "info = target destroyed\n",
      "info = target destroyed\n",
      "info = target destroyed\n",
      "info = target destroyed\n",
      "info = target destroyed\n"
     ]
    },
    {
     "name": "stderr",
     "output_type": "stream",
     "text": [
      "\r",
      " 35%|███████████████████████████▏                                                 | 18/51 [2:22:49<3:15:22, 355.23s/it]"
     ]
    },
    {
     "name": "stdout",
     "output_type": "stream",
     "text": [
      "info = missile fell\n",
      "info = missile fell\n",
      "info = target destroyed\n",
      "info = target destroyed\n",
      "info = target destroyed\n",
      "info = target destroyed\n",
      "info = target destroyed\n",
      "info = target destroyed\n",
      "info = target destroyed\n",
      "info = target destroyed\n",
      "info = target destroyed\n",
      "info = target destroyed\n",
      "info = target destroyed\n",
      "info = target destroyed\n",
      "info = target destroyed\n",
      "info = target destroyed\n",
      "info = target destroyed\n",
      "info = target destroyed\n",
      "info = target destroyed\n",
      "info = target destroyed\n",
      "info = target destroyed\n"
     ]
    },
    {
     "name": "stderr",
     "output_type": "stream",
     "text": [
      "\r",
      " 37%|████████████████████████████▋                                                | 19/51 [2:27:54<3:01:24, 340.14s/it]"
     ]
    },
    {
     "name": "stdout",
     "output_type": "stream",
     "text": [
      "info = missile fell\n",
      "info = missile fell\n",
      "info = target destroyed\n",
      "info = target destroyed\n",
      "info = target destroyed\n",
      "info = target destroyed\n",
      "info = target destroyed\n",
      "info = target destroyed\n",
      "info = target destroyed\n",
      "info = target destroyed\n",
      "info = target destroyed\n",
      "info = target destroyed\n",
      "info = target destroyed\n",
      "info = target destroyed\n",
      "info = target destroyed\n",
      "info = target destroyed\n",
      "info = target destroyed\n",
      "info = target destroyed\n",
      "info = target destroyed\n",
      "info = target destroyed\n",
      "info = target destroyed\n"
     ]
    },
    {
     "name": "stderr",
     "output_type": "stream",
     "text": [
      "\r",
      " 39%|██████████████████████████████▏                                              | 20/51 [2:32:41<2:47:33, 324.31s/it]"
     ]
    },
    {
     "name": "stdout",
     "output_type": "stream",
     "text": [
      "info = missile fell\n",
      "info = target destroyed\n",
      "info = target destroyed\n",
      "info = target destroyed\n",
      "info = target destroyed\n",
      "info = target destroyed\n",
      "info = target destroyed\n",
      "info = target destroyed\n",
      "info = target destroyed\n",
      "info = target destroyed\n",
      "info = target destroyed\n",
      "info = target destroyed\n",
      "info = target destroyed\n",
      "info = target destroyed\n",
      "info = target destroyed\n",
      "info = target destroyed\n",
      "info = target destroyed\n",
      "info = target destroyed\n",
      "info = target destroyed\n",
      "info = target destroyed\n",
      "info = target destroyed\n"
     ]
    },
    {
     "name": "stderr",
     "output_type": "stream",
     "text": [
      "\r",
      " 41%|███████████████████████████████▋                                             | 21/51 [2:37:24<2:35:54, 311.81s/it]"
     ]
    },
    {
     "name": "stdout",
     "output_type": "stream",
     "text": [
      "info = missile fell\n",
      "info = target destroyed\n",
      "info = target destroyed\n",
      "info = target destroyed\n",
      "info = target destroyed\n",
      "info = target destroyed\n",
      "info = target destroyed\n",
      "info = target destroyed\n",
      "info = target destroyed\n",
      "info = target destroyed\n",
      "info = target destroyed\n",
      "info = target destroyed\n",
      "info = target destroyed\n",
      "info = target destroyed\n",
      "info = target destroyed\n",
      "info = target destroyed\n",
      "info = target destroyed\n",
      "info = target destroyed\n",
      "info = target destroyed\n",
      "info = target destroyed\n",
      "info = target destroyed\n"
     ]
    },
    {
     "name": "stderr",
     "output_type": "stream",
     "text": [
      "\r",
      " 43%|█████████████████████████████████▏                                           | 22/51 [2:42:00<2:25:34, 301.19s/it]"
     ]
    },
    {
     "name": "stdout",
     "output_type": "stream",
     "text": [
      "info = missile fell\n",
      "info = target destroyed\n",
      "info = target destroyed\n",
      "info = target destroyed\n",
      "info = target destroyed\n",
      "info = target destroyed\n",
      "info = target destroyed\n",
      "info = target destroyed\n",
      "info = target destroyed\n",
      "info = target destroyed\n",
      "info = target destroyed\n",
      "info = target destroyed\n",
      "info = target destroyed\n",
      "info = target destroyed\n",
      "info = target destroyed\n",
      "info = target destroyed\n",
      "info = target destroyed\n",
      "info = target destroyed\n",
      "info = target destroyed\n",
      "info = target destroyed\n",
      "info = target destroyed\n"
     ]
    },
    {
     "name": "stderr",
     "output_type": "stream",
     "text": [
      "\r",
      " 45%|██████████████████████████████████▋                                          | 23/51 [2:46:52<2:19:11, 298.26s/it]"
     ]
    },
    {
     "name": "stdout",
     "output_type": "stream",
     "text": [
      "info = missile fell\n",
      "info = target destroyed\n",
      "info = target destroyed\n",
      "info = target destroyed\n",
      "info = target destroyed\n",
      "info = target destroyed\n",
      "info = target destroyed\n",
      "info = target destroyed\n",
      "info = target destroyed\n",
      "info = target destroyed\n",
      "info = target destroyed\n",
      "info = target destroyed\n",
      "info = target destroyed\n",
      "info = target destroyed\n",
      "info = target destroyed\n",
      "info = target destroyed\n",
      "info = target destroyed\n",
      "info = target destroyed\n",
      "info = target destroyed\n",
      "info = target destroyed\n",
      "info = target destroyed\n"
     ]
    },
    {
     "name": "stderr",
     "output_type": "stream",
     "text": [
      "\r",
      " 47%|████████████████████████████████████▏                                        | 24/51 [2:51:18<2:09:52, 288.63s/it]"
     ]
    },
    {
     "name": "stdout",
     "output_type": "stream",
     "text": [
      "info = target destroyed\n",
      "info = target destroyed\n",
      "info = target destroyed\n",
      "info = target destroyed\n",
      "info = target destroyed\n",
      "info = target destroyed\n",
      "info = target destroyed\n",
      "info = target destroyed\n",
      "info = target destroyed\n",
      "info = target destroyed\n",
      "info = target destroyed\n",
      "info = target destroyed\n",
      "info = target destroyed\n",
      "info = target destroyed\n",
      "info = target destroyed\n",
      "info = target destroyed\n",
      "info = target destroyed\n",
      "info = target destroyed\n",
      "info = target destroyed\n",
      "info = target destroyed\n",
      "info = target destroyed\n"
     ]
    },
    {
     "name": "stderr",
     "output_type": "stream",
     "text": [
      "\r",
      " 49%|█████████████████████████████████████▋                                       | 25/51 [2:55:26<1:59:46, 276.39s/it]"
     ]
    },
    {
     "name": "stdout",
     "output_type": "stream",
     "text": [
      "info = target destroyed\n",
      "info = target destroyed\n",
      "info = target destroyed\n",
      "info = target destroyed\n",
      "info = target destroyed\n",
      "info = target destroyed\n",
      "info = target destroyed\n",
      "info = target destroyed\n",
      "info = target destroyed\n",
      "info = target destroyed\n",
      "info = target destroyed\n",
      "info = target destroyed\n",
      "info = target destroyed\n",
      "info = target destroyed\n",
      "info = target destroyed\n",
      "info = target destroyed\n",
      "info = target destroyed\n",
      "info = target destroyed\n",
      "info = target destroyed\n",
      "info = target destroyed\n",
      "info = target destroyed\n"
     ]
    },
    {
     "name": "stderr",
     "output_type": "stream",
     "text": [
      "\r",
      " 51%|███████████████████████████████████████▎                                     | 26/51 [2:59:23<1:50:13, 264.55s/it]"
     ]
    },
    {
     "name": "stdout",
     "output_type": "stream",
     "text": [
      "info = target destroyed\n",
      "info = target destroyed\n",
      "info = target destroyed\n",
      "info = target destroyed\n",
      "info = target destroyed\n",
      "info = target destroyed\n",
      "info = target destroyed\n",
      "info = target destroyed\n",
      "info = target destroyed\n",
      "info = target destroyed\n",
      "info = target destroyed\n",
      "info = target destroyed\n",
      "info = target destroyed\n",
      "info = target destroyed\n",
      "info = target destroyed\n",
      "info = target destroyed\n",
      "info = target destroyed\n",
      "info = target destroyed\n",
      "info = target destroyed\n",
      "info = target destroyed\n",
      "info = target destroyed\n"
     ]
    },
    {
     "name": "stderr",
     "output_type": "stream",
     "text": [
      "\r",
      " 53%|████████████████████████████████████████▊                                    | 27/51 [3:03:32<1:44:01, 260.05s/it]"
     ]
    },
    {
     "name": "stdout",
     "output_type": "stream",
     "text": [
      "info = target destroyed\n",
      "info = target destroyed\n",
      "info = target destroyed\n",
      "info = target destroyed\n",
      "info = target destroyed\n",
      "info = target destroyed\n",
      "info = target destroyed\n",
      "info = target destroyed\n",
      "info = target destroyed\n",
      "info = target destroyed\n",
      "info = target destroyed\n",
      "info = target destroyed\n",
      "info = target destroyed\n",
      "info = target destroyed\n",
      "info = target destroyed\n",
      "info = target destroyed\n",
      "info = target destroyed\n",
      "info = target destroyed\n",
      "info = target destroyed\n",
      "info = target destroyed\n",
      "info = target destroyed\n"
     ]
    },
    {
     "name": "stderr",
     "output_type": "stream",
     "text": [
      "\r",
      " 55%|██████████████████████████████████████████▎                                  | 28/51 [3:08:13<1:42:05, 266.31s/it]"
     ]
    },
    {
     "name": "stdout",
     "output_type": "stream",
     "text": [
      "info = target destroyed\n",
      "info = target destroyed\n",
      "info = target destroyed\n",
      "info = target destroyed\n",
      "info = target destroyed\n",
      "info = target destroyed\n",
      "info = target destroyed\n",
      "info = target destroyed\n",
      "info = target destroyed\n",
      "info = target destroyed\n",
      "info = target destroyed\n",
      "info = target destroyed\n",
      "info = target destroyed\n",
      "info = target destroyed\n",
      "info = target destroyed\n",
      "info = target destroyed\n",
      "info = target destroyed\n",
      "info = target destroyed\n",
      "info = target destroyed\n",
      "info = target destroyed\n",
      "info = target destroyed\n"
     ]
    },
    {
     "name": "stderr",
     "output_type": "stream",
     "text": [
      "\r",
      " 57%|███████████████████████████████████████████▊                                 | 29/51 [3:12:53<1:39:07, 270.32s/it]"
     ]
    },
    {
     "name": "stdout",
     "output_type": "stream",
     "text": [
      "info = target destroyed\n",
      "info = target destroyed\n",
      "info = target destroyed\n",
      "info = target destroyed\n",
      "info = target destroyed\n",
      "info = target destroyed\n",
      "info = target destroyed\n",
      "info = target destroyed\n",
      "info = target destroyed\n",
      "info = target destroyed\n",
      "info = target destroyed\n",
      "info = target destroyed\n",
      "info = target destroyed\n",
      "info = target destroyed\n",
      "info = target destroyed\n",
      "info = target destroyed\n",
      "info = target destroyed\n",
      "info = target destroyed\n",
      "info = target destroyed\n",
      "info = target destroyed\n",
      "info = target destroyed\n"
     ]
    },
    {
     "name": "stderr",
     "output_type": "stream",
     "text": [
      "\r",
      " 59%|█████████████████████████████████████████████▎                               | 30/51 [3:17:45<1:36:52, 276.79s/it]"
     ]
    },
    {
     "name": "stdout",
     "output_type": "stream",
     "text": [
      "info = target destroyed\n",
      "info = target destroyed\n",
      "info = target destroyed\n",
      "info = target destroyed\n",
      "info = target destroyed\n",
      "info = target destroyed\n",
      "info = target destroyed\n",
      "info = target destroyed\n",
      "info = target destroyed\n",
      "info = target destroyed\n",
      "info = target destroyed\n",
      "info = target destroyed\n",
      "info = target destroyed\n",
      "info = target destroyed\n",
      "info = target destroyed\n",
      "info = target destroyed\n",
      "info = target destroyed\n",
      "info = target destroyed\n",
      "info = target destroyed\n",
      "info = target destroyed\n",
      "info = target destroyed\n"
     ]
    },
    {
     "name": "stderr",
     "output_type": "stream",
     "text": [
      "\r",
      " 61%|██████████████████████████████████████████████▊                              | 31/51 [3:23:07<1:36:47, 290.37s/it]"
     ]
    },
    {
     "name": "stdout",
     "output_type": "stream",
     "text": [
      "info = target destroyed\n",
      "info = target destroyed\n",
      "info = target destroyed\n",
      "info = target destroyed\n",
      "info = target destroyed\n",
      "info = target destroyed\n",
      "info = target destroyed\n",
      "info = target destroyed\n",
      "info = target destroyed\n",
      "info = target destroyed\n",
      "info = target destroyed\n",
      "info = target destroyed\n",
      "info = target destroyed\n",
      "info = target destroyed\n",
      "info = target destroyed\n",
      "info = target destroyed\n",
      "info = target destroyed\n",
      "info = target destroyed\n",
      "info = target destroyed\n",
      "info = target destroyed\n",
      "info = target destroyed\n"
     ]
    },
    {
     "name": "stderr",
     "output_type": "stream",
     "text": [
      "\r",
      " 63%|████████████████████████████████████████████████▎                            | 32/51 [3:28:47<1:36:40, 305.31s/it]"
     ]
    },
    {
     "name": "stdout",
     "output_type": "stream",
     "text": [
      "info = target destroyed\n",
      "info = target destroyed\n",
      "info = target destroyed\n",
      "info = target destroyed\n",
      "info = target destroyed\n",
      "info = target destroyed\n",
      "info = target destroyed\n",
      "info = target destroyed\n",
      "info = target destroyed\n",
      "info = target destroyed\n",
      "info = target destroyed\n",
      "info = target destroyed\n",
      "info = target destroyed\n",
      "info = target destroyed\n",
      "info = target destroyed\n",
      "info = target destroyed\n",
      "info = target destroyed\n",
      "info = target destroyed\n",
      "info = target destroyed\n",
      "info = target destroyed\n",
      "info = target destroyed\n"
     ]
    },
    {
     "name": "stderr",
     "output_type": "stream",
     "text": [
      "\r",
      " 65%|█████████████████████████████████████████████████▊                           | 33/51 [3:34:50<1:36:47, 322.61s/it]"
     ]
    },
    {
     "name": "stdout",
     "output_type": "stream",
     "text": [
      "info = target destroyed\n",
      "info = target destroyed\n",
      "info = target destroyed\n",
      "info = target destroyed\n",
      "info = target destroyed\n",
      "info = target destroyed\n",
      "info = target destroyed\n",
      "info = target destroyed\n",
      "info = target destroyed\n",
      "info = target destroyed\n",
      "info = target destroyed\n",
      "info = target destroyed\n",
      "info = target destroyed\n",
      "info = target destroyed\n",
      "info = target destroyed\n",
      "info = target destroyed\n",
      "info = target destroyed\n",
      "info = target destroyed\n",
      "info = target destroyed\n",
      "info = target destroyed\n",
      "info = target destroyed\n"
     ]
    },
    {
     "name": "stderr",
     "output_type": "stream",
     "text": [
      "\r",
      " 67%|███████████████████████████████████████████████████▎                         | 34/51 [3:41:16<1:36:47, 341.62s/it]"
     ]
    },
    {
     "name": "stdout",
     "output_type": "stream",
     "text": [
      "info = target destroyed\n",
      "info = target destroyed\n",
      "info = target destroyed\n",
      "info = target destroyed\n",
      "info = target destroyed\n",
      "info = target destroyed\n",
      "info = target destroyed\n",
      "info = target destroyed\n",
      "info = target destroyed\n",
      "info = target destroyed\n",
      "info = target destroyed\n",
      "info = target destroyed\n",
      "info = target destroyed\n",
      "info = target destroyed\n",
      "info = target destroyed\n",
      "info = target destroyed\n",
      "info = target destroyed\n",
      "info = target destroyed\n",
      "info = target destroyed\n",
      "info = target destroyed\n",
      "info = target destroyed\n"
     ]
    },
    {
     "name": "stderr",
     "output_type": "stream",
     "text": [
      "\r",
      " 69%|████████████████████████████████████████████████████▊                        | 35/51 [3:48:32<1:38:38, 369.88s/it]"
     ]
    },
    {
     "name": "stdout",
     "output_type": "stream",
     "text": [
      "info = target destroyed\n",
      "info = target destroyed\n",
      "info = target destroyed\n",
      "info = target destroyed\n",
      "info = target destroyed\n",
      "info = target destroyed\n",
      "info = target destroyed\n",
      "info = target destroyed\n",
      "info = target destroyed\n",
      "info = target destroyed\n",
      "info = target destroyed\n",
      "info = target destroyed\n",
      "info = target destroyed\n",
      "info = target destroyed\n",
      "info = target destroyed\n",
      "info = target destroyed\n",
      "info = target destroyed\n",
      "info = target destroyed\n",
      "info = target destroyed\n",
      "info = target destroyed\n",
      "info = target destroyed\n"
     ]
    },
    {
     "name": "stderr",
     "output_type": "stream",
     "text": [
      "\r",
      " 71%|██████████████████████████████████████████████████████▎                      | 36/51 [3:55:41<1:36:55, 387.70s/it]"
     ]
    },
    {
     "name": "stdout",
     "output_type": "stream",
     "text": [
      "info = target destroyed\n",
      "info = target destroyed\n",
      "info = target destroyed\n",
      "info = target destroyed\n",
      "info = target destroyed\n",
      "info = target destroyed\n",
      "info = target destroyed\n",
      "info = target destroyed\n",
      "info = target destroyed\n",
      "info = target destroyed\n",
      "info = target destroyed\n",
      "info = target destroyed\n",
      "info = target destroyed\n",
      "info = target destroyed\n",
      "info = target destroyed\n",
      "info = target destroyed\n",
      "info = target destroyed\n",
      "info = target destroyed\n",
      "info = target destroyed\n",
      "info = target destroyed\n",
      "info = target destroyed\n"
     ]
    },
    {
     "name": "stderr",
     "output_type": "stream",
     "text": [
      "\r",
      " 73%|███████████████████████████████████████████████████████▊                     | 37/51 [4:03:26<1:35:53, 410.97s/it]"
     ]
    },
    {
     "name": "stdout",
     "output_type": "stream",
     "text": [
      "info = target destroyed\n",
      "info = target destroyed\n",
      "info = target destroyed\n",
      "info = target destroyed\n",
      "info = target destroyed\n",
      "info = target destroyed\n",
      "info = target destroyed\n",
      "info = target destroyed\n",
      "info = target destroyed\n",
      "info = target destroyed\n",
      "info = target destroyed\n",
      "info = target destroyed\n",
      "info = target destroyed\n",
      "info = target destroyed\n",
      "info = target destroyed\n",
      "info = target destroyed\n",
      "info = target destroyed\n",
      "info = target destroyed\n",
      "info = target destroyed\n",
      "info = target destroyed\n",
      "info = target destroyed\n"
     ]
    },
    {
     "name": "stderr",
     "output_type": "stream",
     "text": [
      "\r",
      " 75%|█████████████████████████████████████████████████████████▎                   | 38/51 [4:12:11<1:36:26, 445.13s/it]"
     ]
    },
    {
     "name": "stdout",
     "output_type": "stream",
     "text": [
      "info = target destroyed\n",
      "info = target destroyed\n",
      "info = target destroyed\n",
      "info = target destroyed\n",
      "info = target destroyed\n",
      "info = target destroyed\n",
      "info = target destroyed\n",
      "info = target destroyed\n",
      "info = target destroyed\n",
      "info = target destroyed\n",
      "info = target destroyed\n",
      "info = target destroyed\n",
      "info = target destroyed\n",
      "info = target destroyed\n",
      "info = target destroyed\n",
      "info = target destroyed\n",
      "info = target destroyed\n",
      "info = target destroyed\n",
      "info = target destroyed\n",
      "info = target destroyed\n",
      "info = target destroyed\n"
     ]
    },
    {
     "name": "stderr",
     "output_type": "stream",
     "text": [
      "\r",
      " 76%|██████████████████████████████████████████████████████████▉                  | 39/51 [4:21:25<1:35:32, 477.67s/it]"
     ]
    },
    {
     "name": "stdout",
     "output_type": "stream",
     "text": [
      "info = target destroyed\n",
      "info = target destroyed\n",
      "info = target destroyed\n",
      "info = target destroyed\n",
      "info = target destroyed\n",
      "info = target destroyed\n",
      "info = target destroyed\n",
      "info = target destroyed\n",
      "info = target destroyed\n",
      "info = target destroyed\n",
      "info = target destroyed\n",
      "info = target destroyed\n",
      "info = target destroyed\n",
      "info = target destroyed\n",
      "info = target destroyed\n",
      "info = target destroyed\n",
      "info = target destroyed\n",
      "info = target destroyed\n",
      "info = target destroyed\n",
      "info = target destroyed\n",
      "info = target destroyed\n"
     ]
    },
    {
     "name": "stderr",
     "output_type": "stream",
     "text": [
      "\r",
      " 78%|████████████████████████████████████████████████████████████▍                | 40/51 [4:31:11<1:33:34, 510.40s/it]"
     ]
    },
    {
     "name": "stdout",
     "output_type": "stream",
     "text": [
      "info = target destroyed\n",
      "info = target destroyed\n",
      "info = target destroyed\n",
      "info = target destroyed\n",
      "info = target destroyed\n",
      "info = target destroyed\n",
      "info = target destroyed\n",
      "info = target destroyed\n",
      "info = target destroyed\n",
      "info = target destroyed\n",
      "info = target destroyed\n",
      "info = target destroyed\n",
      "info = target destroyed\n",
      "info = target destroyed\n",
      "info = target destroyed\n",
      "info = target destroyed\n",
      "info = target destroyed\n",
      "info = target destroyed\n",
      "info = target destroyed\n",
      "info = target destroyed\n",
      "info = target destroyed\n"
     ]
    },
    {
     "name": "stderr",
     "output_type": "stream",
     "text": [
      "\r",
      " 80%|█████████████████████████████████████████████████████████████▉               | 41/51 [4:41:40<1:30:58, 545.85s/it]"
     ]
    },
    {
     "name": "stdout",
     "output_type": "stream",
     "text": [
      "info = target destroyed\n",
      "info = target destroyed\n",
      "info = target destroyed\n",
      "info = target destroyed\n",
      "info = target destroyed\n",
      "info = target destroyed\n",
      "info = target destroyed\n",
      "info = target destroyed\n",
      "info = target destroyed\n",
      "info = target destroyed\n",
      "info = target destroyed\n",
      "info = target destroyed\n",
      "info = target destroyed\n",
      "info = target destroyed\n",
      "info = target destroyed\n",
      "info = target destroyed\n",
      "info = target destroyed\n",
      "info = target destroyed\n",
      "info = target destroyed\n",
      "info = target destroyed\n",
      "info = target destroyed\n"
     ]
    },
    {
     "name": "stderr",
     "output_type": "stream",
     "text": [
      "\r",
      " 82%|███████████████████████████████████████████████████████████████▍             | 42/51 [4:52:34<1:26:44, 578.24s/it]"
     ]
    },
    {
     "name": "stdout",
     "output_type": "stream",
     "text": [
      "info = target destroyed\n",
      "info = target destroyed\n",
      "info = target destroyed\n",
      "info = target destroyed\n",
      "info = target destroyed\n",
      "info = target destroyed\n",
      "info = target destroyed\n",
      "info = target destroyed\n",
      "info = target destroyed\n",
      "info = target destroyed\n",
      "info = target destroyed\n",
      "info = target destroyed\n",
      "info = target destroyed\n",
      "info = target destroyed\n",
      "info = target destroyed\n",
      "info = target destroyed\n",
      "info = target destroyed\n",
      "info = target destroyed\n",
      "info = target destroyed\n",
      "info = target destroyed\n",
      "info = target destroyed\n"
     ]
    },
    {
     "name": "stderr",
     "output_type": "stream",
     "text": [
      "\r",
      " 84%|████████████████████████████████████████████████████████████████▉            | 43/51 [5:04:18<1:22:07, 615.95s/it]"
     ]
    },
    {
     "name": "stdout",
     "output_type": "stream",
     "text": [
      "info = target destroyed\n",
      "info = target destroyed\n",
      "info = target destroyed\n",
      "info = target destroyed\n",
      "info = target destroyed\n",
      "info = target destroyed\n",
      "info = target destroyed\n",
      "info = target destroyed\n",
      "info = target destroyed\n",
      "info = target destroyed\n",
      "info = target destroyed\n",
      "info = target destroyed\n",
      "info = target destroyed\n",
      "info = target destroyed\n",
      "info = target destroyed\n",
      "info = target destroyed\n",
      "info = target destroyed\n",
      "info = target destroyed\n",
      "info = target destroyed\n",
      "info = target destroyed\n",
      "info = target destroyed\n"
     ]
    },
    {
     "name": "stderr",
     "output_type": "stream",
     "text": [
      "\r",
      " 86%|██████████████████████████████████████████████████████████████████▍          | 44/51 [5:16:16<1:15:25, 646.55s/it]"
     ]
    },
    {
     "name": "stdout",
     "output_type": "stream",
     "text": [
      "info = target destroyed\n",
      "info = target destroyed\n",
      "info = target destroyed\n",
      "info = target destroyed\n",
      "info = target destroyed\n",
      "info = target destroyed\n",
      "info = target destroyed\n",
      "info = target destroyed\n",
      "info = target destroyed\n",
      "info = target destroyed\n",
      "info = target destroyed\n",
      "info = target destroyed\n",
      "info = target destroyed\n",
      "info = target destroyed\n",
      "info = target destroyed\n",
      "info = target destroyed\n",
      "info = target destroyed\n",
      "info = target destroyed\n",
      "info = target destroyed\n",
      "info = target destroyed\n",
      "info = target destroyed\n"
     ]
    },
    {
     "name": "stderr",
     "output_type": "stream",
     "text": [
      "\r",
      " 88%|███████████████████████████████████████████████████████████████████▉         | 45/51 [5:29:20<1:08:46, 687.80s/it]"
     ]
    },
    {
     "name": "stdout",
     "output_type": "stream",
     "text": [
      "info = target destroyed\n",
      "info = target destroyed\n",
      "info = target destroyed\n",
      "info = target destroyed\n",
      "info = target destroyed\n",
      "info = target destroyed\n",
      "info = target destroyed\n",
      "info = target destroyed\n",
      "info = target destroyed\n",
      "info = target destroyed\n",
      "info = target destroyed\n",
      "info = target destroyed\n",
      "info = target destroyed\n",
      "info = target destroyed\n",
      "info = target destroyed\n",
      "info = target destroyed\n",
      "info = target destroyed\n",
      "info = target destroyed\n",
      "info = target destroyed\n",
      "info = target destroyed\n",
      "info = target destroyed\n"
     ]
    },
    {
     "name": "stderr",
     "output_type": "stream",
     "text": [
      "\r",
      " 90%|█████████████████████████████████████████████████████████████████████▍       | 46/51 [5:43:05<1:00:44, 728.91s/it]"
     ]
    },
    {
     "name": "stdout",
     "output_type": "stream",
     "text": [
      "info = target destroyed\n",
      "info = target destroyed\n",
      "info = target destroyed\n",
      "info = target destroyed\n",
      "info = target destroyed\n",
      "info = target destroyed\n",
      "info = target destroyed\n",
      "info = target destroyed\n",
      "info = target destroyed\n",
      "info = target destroyed\n",
      "info = target destroyed\n",
      "info = target destroyed\n",
      "info = target destroyed\n",
      "info = target destroyed\n",
      "info = target destroyed\n",
      "info = target destroyed\n",
      "info = target destroyed\n",
      "info = target destroyed\n",
      "info = target destroyed\n",
      "info = target destroyed\n",
      "info = target destroyed\n"
     ]
    },
    {
     "name": "stderr",
     "output_type": "stream",
     "text": [
      "\r",
      " 92%|████████████████████████████████████████████████████████████████████████▊      | 47/51 [5:56:36<50:14, 753.55s/it]"
     ]
    },
    {
     "name": "stdout",
     "output_type": "stream",
     "text": [
      "info = target destroyed\n",
      "info = target destroyed\n",
      "info = target destroyed\n",
      "info = target destroyed\n",
      "info = target destroyed\n",
      "info = target destroyed\n",
      "info = target destroyed\n",
      "info = target destroyed\n",
      "info = target destroyed\n",
      "info = target destroyed\n",
      "info = target destroyed\n",
      "info = target destroyed\n",
      "info = target destroyed\n",
      "info = target destroyed\n",
      "info = target destroyed\n",
      "info = target destroyed\n",
      "info = target destroyed\n",
      "info = target destroyed\n",
      "info = target destroyed\n",
      "info = target destroyed\n",
      "info = target destroyed\n"
     ]
    },
    {
     "name": "stderr",
     "output_type": "stream",
     "text": [
      "\r",
      " 94%|██████████████████████████████████████████████████████████████████████████▎    | 48/51 [6:11:01<39:21, 787.00s/it]"
     ]
    },
    {
     "name": "stdout",
     "output_type": "stream",
     "text": [
      "info = target destroyed\n",
      "info = target destroyed\n",
      "info = target destroyed\n",
      "info = target destroyed\n",
      "info = target destroyed\n",
      "info = target destroyed\n",
      "info = target destroyed\n",
      "info = target destroyed\n",
      "info = target destroyed\n",
      "info = target destroyed\n",
      "info = target destroyed\n",
      "info = target destroyed\n",
      "info = target destroyed\n",
      "info = target destroyed\n",
      "info = target destroyed\n",
      "info = target destroyed\n",
      "info = target destroyed\n",
      "info = target destroyed\n",
      "info = target destroyed\n",
      "info = a long time to fly\n",
      "info = a long time to fly\n"
     ]
    },
    {
     "name": "stderr",
     "output_type": "stream",
     "text": [
      "\r",
      " 96%|███████████████████████████████████████████████████████████████████████████▉   | 49/51 [6:26:06<27:24, 822.43s/it]"
     ]
    },
    {
     "name": "stdout",
     "output_type": "stream",
     "text": [
      "info = a long time to fly\n",
      "info = target destroyed\n",
      "info = target destroyed\n",
      "info = target destroyed\n",
      "info = target destroyed\n",
      "info = target destroyed\n",
      "info = target destroyed\n",
      "info = a long time to fly\n",
      "info = a long time to fly\n",
      "info = a long time to fly\n",
      "info = a long time to fly\n",
      "info = a long time to fly\n",
      "info = a long time to fly\n",
      "info = a long time to fly\n",
      "info = a long time to fly\n",
      "info = a long time to fly\n",
      "info = a long time to fly\n",
      "info = a long time to fly\n",
      "info = a long time to fly\n",
      "info = a long time to fly\n",
      "info = a long time to fly\n"
     ]
    },
    {
     "name": "stderr",
     "output_type": "stream",
     "text": [
      "\r",
      " 98%|█████████████████████████████████████████████████████████████████████████████▍ | 50/51 [6:41:30<14:12, 852.99s/it]"
     ]
    },
    {
     "name": "stdout",
     "output_type": "stream",
     "text": [
      "info = a long time to fly\n",
      "info = a long time to fly\n",
      "info = a long time to fly\n",
      "info = a long time to fly\n",
      "info = a long time to fly\n",
      "info = a long time to fly\n",
      "info = a long time to fly\n",
      "info = a long time to fly\n",
      "info = a long time to fly\n",
      "info = a long time to fly\n",
      "info = a long time to fly\n",
      "info = a long time to fly\n",
      "info = a long time to fly\n",
      "info = a long time to fly\n",
      "info = a long time to fly\n",
      "info = a long time to fly\n",
      "info = a long time to fly\n",
      "info = a long time to fly\n",
      "info = a long time to fly\n",
      "info = a long time to fly\n",
      "info = a long time to fly\n"
     ]
    },
    {
     "name": "stderr",
     "output_type": "stream",
     "text": [
      "100%|███████████████████████████████████████████████████████████████████████████████| 51/51 [6:56:59<00:00, 490.58s/it]\n"
     ]
    }
   ],
   "source": [
    "res_gym = []\n",
    "for x in tqdm(xs):\n",
    "    for y in ys:\n",
    "        res_gym.append(foo_gym_hit(missile_opts, (x, y), trg_vel))"
   ]
  },
  {
   "cell_type": "code",
   "execution_count": 10,
   "metadata": {},
   "outputs": [],
   "source": [
    "with open('saves/zone_affected.bin', 'wb') as f:\n",
    "    pickle.dump(res_gym, f)"
   ]
  },
  {
   "cell_type": "code",
   "execution_count": 17,
   "metadata": {},
   "outputs": [],
   "source": [
    "with open('saves/zone_affected.bin', 'rb') as f:\n",
    "    res_gym = pickle.load(f)"
   ]
  },
  {
   "cell_type": "code",
   "execution_count": 18,
   "metadata": {},
   "outputs": [],
   "source": [
    "zone_ny = []\n",
    "zone_xs = []\n",
    "zone_ys = []\n",
    "zone_xs0 = []\n",
    "zone_ys0 = []\n",
    "zone_ts = []\n",
    "\n",
    "for i in range(len(res_gym)):\n",
    "    zone_ny.append(np.absolute(res_gym[i]['missile']['ny']))\n",
    "    zone_xs.append(res_gym[i]['missile']['x'])\n",
    "    zone_ys.append(res_gym[i]['missile']['y'])\n",
    "    zone_xs0.append(res_gym[i]['target']['x0'])\n",
    "    zone_ys0.append(res_gym[i]['target']['y0'])\n",
    "    zone_ts.append(res_gym[i]['t'])\n",
    "res_dict = {'x': zone_xs, 'y': zone_ys, 'x0': zone_xs0, 'y0': zone_ys0, 't': zone_ts, 'ny': zone_ny}"
   ]
  },
  {
   "cell_type": "code",
   "execution_count": 13,
   "metadata": {},
   "outputs": [],
   "source": [
    "with open('saves/zone_destroy.bin', 'wb') as f:\n",
    "    pickle.dump(res_dict, f)"
   ]
  },
  {
   "cell_type": "code",
   "execution_count": 93,
   "metadata": {},
   "outputs": [],
   "source": [
    "with open('saves/zone_destroy.bin', 'rb') as f:\n",
    "    zone = pickle.load(f)"
   ]
  },
  {
   "cell_type": "code",
   "execution_count": 94,
   "metadata": {},
   "outputs": [],
   "source": [
    "ny_r = 25 # располагаемая перегрузка\n",
    "zone_xs = []\n",
    "zone_ys = []\n",
    "zone_ts = []\n",
    "zone_pusk_xs = []\n",
    "zone_pusk_ys = []\n",
    "for i in range(len(zone['ny'])):\n",
    "    if zone['ny'][i] <= ny_r and (np.sqrt(zone['x'][i]**2 + zone['y'][i]**2) >= 3000):\n",
    "        zone_xs.append(zone['x'][i])\n",
    "        zone_ys.append(zone['y'][i])\n",
    "        zone_ts.append(zone['t'][i])\n",
    "        zone_pusk_xs.append(zone['x0'][i] + zone['t'][i]*500)\n",
    "        zone_pusk_ys.append(zone['y0'][i])"
   ]
  },
  {
   "cell_type": "code",
   "execution_count": 82,
   "metadata": {},
   "outputs": [
    {
     "data": {
      "image/png": "[encoded data removed]",
      "text/plain": [
       "<Figure size 1600x500 with 1 Axes>"
      ]
     },
     "metadata": {
      "needs_background": "light"
     },
     "output_type": "display_data"
    }
   ],
   "source": [
    "plt.figure(figsize=(16, 5), dpi=100)\n",
    "plt.scatter(zone_xs, zone_ys, s=50, marker='s', c='darkorange', edgecolors='k', label='Зона поражения')\n",
    "plt.plot(res_hit['missile']['x'], res_hit['missile']['y'], lw=3, label='Траектория ракеты')\n",
    "plt.plot(res_hit['target']['x'], res_hit['target']['y'], lw=3, c='r', label='Траектория цели')\n",
    "plt.scatter(res_hit['target']['x'][-1], res_hit['target']['y'][-1], s=150, marker='x', c='k', label='Точка встречи')\n",
    "plt.fill_between([-20e3, 20e3], [0,0], [-1000, -1000], facecolor='white', hatch='\\\\\\\\\\\\\\\\', linewidth=0.5)\n",
    "plt.arrow(15e3, 7.5e3, -1500, 0, width=150, facecolor='r', edgecolor='k')\n",
    "plt.text(15e3, 7.5e3, 'V$_ц$=500 м/с', fontsize=14)\n",
    "plt.legend(fontsize=14, ncol=2)\n",
    "plt.ylim(-100, 8000)\n",
    "plt.xlim(-20e3, 20e3)\n",
    "plt.tick_params(labelsize=14)\n",
    "plt.savefig('Зона поражения.png', dpi=300, bbox_inches='tight')\n",
    "plt.show()"
   ]
  },
  {
   "cell_type": "code",
   "execution_count": 101,
   "metadata": {},
   "outputs": [
    {
     "data": {
      "image/png": "[encoded data removed]",
      "text/plain": [
       "<Figure size 1600x500 with 1 Axes>"
      ]
     },
     "metadata": {
      "needs_background": "light"
     },
     "output_type": "display_data"
    }
   ],
   "source": [
    "plt.figure(figsize=(16, 5), dpi=100)\n",
    "plt.fill_between([-10e3, 30e3], [0, 0], [-1000, -1000], facecolor='white', hatch='\\\\\\\\\\\\\\\\\\\\', linewidth=0.5)\n",
    "plt.scatter(zone_pusk_xs, zone_pusk_ys, marker='s', c='green', edgecolors='k', s=50, label='Зона пуска')\n",
    "plt.legend(fontsize=14)\n",
    "plt.ylim(-100, 8000)\n",
    "plt.xlim(-10e3, 30e3)\n",
    "plt.tick_params(labelsize=14)\n",
    "plt.savefig('Зона пуска.png', dpi=300, bbox_inches='tight')\n",
    "plt.show()"
   ]
  },
  {
   "cell_type": "markdown",
   "metadata": {},
   "source": [
    "## 2) Определение АД коэффициентов для более подробной мат модели"
   ]
  },
  {
   "cell_type": "markdown",
   "metadata": {},
   "source": [
    "### 2.1. Центровочный расчет ракеты"
   ]
  },
  {
   "cell_type": "code",
   "execution_count": 90,
   "metadata": {},
   "outputs": [
    {
     "data": {
      "text/plain": [
       "3.0"
      ]
     },
     "execution_count": 90,
     "metadata": {},
     "output_type": "execute_result"
    }
   ],
   "source": [
    "# длины отсеков\n",
    "L1, L2, L3, L4, L5, L6 = 0.339, 0.355, 0.328, 0.428, 1.35, 0.2\n",
    "L_korp = L1+L2+L3+L4+L5+L6\n",
    "L_korp"
   ]
  },
  {
   "cell_type": "code",
   "execution_count": 91,
   "metadata": {},
   "outputs": [],
   "source": [
    "# из расчета РДТТ\n",
    "w_marsh = 64.4"
   ]
  },
  {
   "cell_type": "code",
   "execution_count": 92,
   "metadata": {},
   "outputs": [
    {
     "data": {
      "text/plain": [
       "170.7"
      ]
     },
     "execution_count": 92,
     "metadata": {},
     "output_type": "execute_result"
    }
   ],
   "source": [
    "# массы отсеков\n",
    "m1 = 7\n",
    "m2 = 19\n",
    "m3 = 17\n",
    "m4 = 30.2\n",
    "m5 = 80\n",
    "m6 = 17.5\n",
    "m1+m2+m3+m4+m5+m6"
   ]
  },
  {
   "cell_type": "code",
   "execution_count": 85,
   "metadata": {},
   "outputs": [],
   "source": [
    "# центры масс отсеков\n",
    "x_ct1 = 0.269\n",
    "x_ct2 = 0.529\n",
    "x_ct3 = 0.841\n",
    "x_ct4 = 1.140\n",
    "x_ct5 = 2.244\n",
    "x_ct6 = 2.720"
   ]
  },
  {
   "cell_type": "code",
   "execution_count": 86,
   "metadata": {},
   "outputs": [
    {
     "data": {
      "text/plain": [
       "(1.685875805506737, 1.3477460018814675)"
      ]
     },
     "execution_count": 86,
     "metadata": {},
     "output_type": "execute_result"
    }
   ],
   "source": [
    "# центры масс ракеты в характерных точках\n",
    "x_ct_0     = (m1 * x_ct1 + m2 * x_ct2 + m3 * x_ct3 + m4 * x_ct4 + m5 * x_ct5             + m6 * x_ct6) / (m1 + m2 + m3 + m4 + m5 + m6)\n",
    "x_ct_marsh = (m1 * x_ct1 + m2 * x_ct2 + m3 * x_ct3 + m4 * x_ct4 + (m5 - w_marsh) * x_ct5 + m6 * x_ct6) / (m1 + m2 + m3 + m4 +( m5 - w_marsh) + m6)\n",
    "x_ct_0, x_ct_marsh"
   ]
  },
  {
   "cell_type": "code",
   "execution_count": 87,
   "metadata": {},
   "outputs": [
    {
     "data": {
      "text/plain": [
       "11.270993454175652"
      ]
     },
     "execution_count": 87,
     "metadata": {},
     "output_type": "execute_result"
    }
   ],
   "source": [
    "# разбежка центра масс\n",
    "razbezhka = (x_ct_0 - x_ct_marsh) / L_korp * 100\n",
    "razbezhka"
   ]
  },
  {
   "cell_type": "code",
   "execution_count": 88,
   "metadata": {},
   "outputs": [
    {
     "data": {
      "text/plain": [
       "104.25042956707676"
      ]
     },
     "execution_count": 88,
     "metadata": {},
     "output_type": "execute_result"
    }
   ],
   "source": [
    "I1 = m1 * (x_ct1 - x_ct_0) ** 2\n",
    "I2 = m2 * (x_ct2 - x_ct_0) ** 2\n",
    "I3 = m3 * (x_ct3 - x_ct_0) ** 2\n",
    "I4 = m4 * (x_ct4 - x_ct_0) ** 2\n",
    "I5 = m5 * (x_ct5 - x_ct_0) ** 2\n",
    "I6 = m6 * (x_ct6 - x_ct_0) ** 2\n",
    "I0 = I1 + I2 + I3 + I4 + I5 + I6\n",
    "I0"
   ]
  },
  {
   "cell_type": "code",
   "execution_count": 89,
   "metadata": {},
   "outputs": [
    {
     "data": {
      "text/plain": [
       "72.03619454205082"
      ]
     },
     "execution_count": 89,
     "metadata": {},
     "output_type": "execute_result"
    }
   ],
   "source": [
    "I1пуст = m1 * (x_ct1 - x_ct_marsh) ** 2\n",
    "I2пуст = m2 * (x_ct2 - x_ct_marsh) ** 2\n",
    "I3пуст = m3 * (x_ct3 - x_ct_marsh) ** 2\n",
    "I4пуст = m4 * (x_ct4 - x_ct_marsh) ** 2\n",
    "I5пуст = (m5 - w_marsh) * (x_ct5 - x_ct_marsh) ** 2\n",
    "I6пуст = m6 * (x_ct6 - x_ct_marsh) ** 2\n",
    "Iпуст = I1пуст + I2пуст + I3пуст + I4пуст + I5пуст + I6пуст\n",
    "Iпуст"
   ]
  },
  {
   "cell_type": "code",
   "execution_count": 93,
   "metadata": {},
   "outputs": [
    {
     "data": {
      "text/plain": [
       "(-1.416875805506737,\n",
       " -1.1568758055067372,\n",
       " -0.8448758055067371,\n",
       " -0.5458758055067372,\n",
       " 0.5581241944932631,\n",
       " 1.034124194493263)"
      ]
     },
     "execution_count": 93,
     "metadata": {},
     "output_type": "execute_result"
    }
   ],
   "source": [
    "x_ct1 - x_ct_0, x_ct2 - x_ct_0, x_ct3 - x_ct_0, x_ct4 - x_ct_0, x_ct5 - x_ct_0, x_ct6 - x_ct_0"
   ]
  },
  {
   "cell_type": "code",
   "execution_count": 94,
   "metadata": {},
   "outputs": [
    {
     "data": {
      "text/plain": [
       "(-1.0787460018814676,\n",
       " -0.8187460018814675,\n",
       " -0.5067460018814676,\n",
       " -0.20774600188146763,\n",
       " 0.8962539981185327,\n",
       " 1.3722539981185327)"
      ]
     },
     "execution_count": 94,
     "metadata": {},
     "output_type": "execute_result"
    }
   ],
   "source": [
    "x_ct1 - x_ct_marsh, x_ct2 - x_ct_marsh, x_ct3 - x_ct_marsh, x_ct4 - x_ct_marsh, x_ct5 - x_ct_marsh, x_ct6 - x_ct_marsh"
   ]
  },
  {
   "cell_type": "markdown",
   "metadata": {},
   "source": [
    "### 2.2. Определение АД характеристик на траектории полета полученного профиля скорости"
   ]
  },
  {
   "cell_type": "code",
   "execution_count": 1,
   "metadata": {},
   "outputs": [],
   "source": [
    "from missile import Missile2D\n",
    "from missile_gym import MissileGym\n",
    "import matplotlib.pyplot as plt\n",
    "from tqdm import tqdm \n",
    "import numpy as np\n",
    "\n",
    "from ipywidgets import interact, interactive, fixed\n",
    "import ipywidgets\n",
    "from matplotlib.pylab import figure, subplot2grid"
   ]
  },
  {
   "cell_type": "code",
   "execution_count": 2,
   "metadata": {},
   "outputs": [],
   "source": [
    "missile_opts = {\n",
    "    'd': 0.240,\n",
    "    'm_0': 170.7,\n",
    "    't_marsh': 6.7,\n",
    "    'w_marsh': 63.5,\n",
    "    'P_marsh': 24.3e3,\n",
    "    'r_kill': 50,\n",
    "    'alpha_max': 12,\n",
    "    'xi': 0.5,\n",
    "    'am': 5,\n",
    "    'dny': 1,\n",
    "    'init_conditions': {'V_0': 25, 'pos_0': (0, 25)}\n",
    "}"
   ]
  },
  {
   "cell_type": "code",
   "execution_count": 3,
   "metadata": {},
   "outputs": [],
   "source": [
    "trg_pos = (25e3, 7e3)\n",
    "trg_vel = (-350, 0)"
   ]
  },
  {
   "cell_type": "code",
   "execution_count": 4,
   "metadata": {},
   "outputs": [
    {
     "name": "stdout",
     "output_type": "stream",
     "text": [
      "Meeting point: False\n",
      "info = target destroyed\n",
      "Wall time: 24.1 s\n"
     ]
    }
   ],
   "source": [
    "sim_scenario = MissileGym.make_simple_scenario(missile_opts, trg_pos, trg_vel, tau=0.1, t_max=25)\n",
    "%time res_hit = MissileGym.launch(sim_scenario) # aero=False, record=True, desc=True"
   ]
  },
  {
   "cell_type": "code",
   "execution_count": 5,
   "metadata": {},
   "outputs": [],
   "source": [
    "from aero import Aerodynamic"
   ]
  },
  {
   "cell_type": "code",
   "execution_count": 43,
   "metadata": {},
   "outputs": [],
   "source": [
    "geom_opts = {\n",
    "    'd': 0.24,\n",
    "    'a': 0.2,\n",
    "    't_marsh': 6.7,\n",
    "    'x_ct_0': 1.686,\n",
    "    'x_ct_marsh': 1.348,\n",
    "    'L_korp': 3.0,\n",
    "    'L_nos': 0.69,\n",
    "    'L_cil': 2.104,\n",
    "    'L_korm': 0.206,\n",
    "    'betta_kon': 18,\n",
    "    'd_korm': 0.120,\n",
    "    'class_korp': 8, #\n",
    "    'S_oper': 0.125,\n",
    "    'c_oper': 0.006,\n",
    "    'L_oper': 0.535,\n",
    "    'b_0_oper': 0.326,\n",
    "    'x_b_oper': 0.3624,\n",
    "    'khi_pk_oper': 34.5,\n",
    "    'khi_rul': 0,\n",
    "    'class_oper': 8,\n",
    "    'S_kr': 0.304,\n",
    "    'c_kr': 0.008,\n",
    "    'L_kr': 0.62,\n",
    "    'b_0_kr': 0.76,\n",
    "    'x_b_kr': 2.444,\n",
    "    'khi_pk_kr': 60,  \n",
    "    'class_kr': 8\n",
    "}"
   ]
  },
  {
   "cell_type": "code",
   "execution_count": 44,
   "metadata": {},
   "outputs": [],
   "source": [
    "AERO_MODEL = Aerodynamic.get_aero_models(geom_opts)\n",
    "AERO_RES = AERO_MODEL.get_aero_const(res_hit)"
   ]
  },
  {
   "cell_type": "code",
   "execution_count": 64,
   "metadata": {},
   "outputs": [
    {
     "data": {
      "text/plain": [
       "[<matplotlib.lines.Line2D at 0x1e51bbfd3d0>]"
      ]
     },
     "execution_count": 64,
     "metadata": {},
     "output_type": "execute_result"
    },
    {
     "data": {
      "image/png": "[encoded data removed]",
      "text/plain": [
       "<Figure size 900x600 with 1 Axes>"
      ]
     },
     "metadata": {
      "needs_background": "light"
     },
     "output_type": "display_data"
    }
   ],
   "source": [
    "plt.figure(dpi=150)\n",
    "plt.plot([i['t'] for i in AERO_RES], [i['Cx'] for i in AERO_RES])\n",
    "plt.plot([i['t'] for i in AERO_RES], [i['Cy_alpha'] for i in AERO_RES])"
   ]
  },
  {
   "cell_type": "code",
   "execution_count": null,
   "metadata": {},
   "outputs": [],
   "source": []
  },
  {
   "cell_type": "code",
   "execution_count": null,
   "metadata": {},
   "outputs": [],
   "source": []
  },
  {
   "cell_type": "code",
   "execution_count": null,
   "metadata": {},
   "outputs": [],
   "source": []
  },
  {
   "cell_type": "code",
   "execution_count": 162,
   "metadata": {},
   "outputs": [],
   "source": [
    "mass_S_oper, count_S_oper = np.arange(0.5, 2.5, 0.01), 0.01\n",
    "mass_xb_oper, count_xb_oper = np.linspace(5.5, 8.5, 100, retstep=True)\n",
    "mass_L_oper, count_L_oper = np.linspace(1.0, 2.0, 100, retstep=True)\n",
    "mass_khi_pk_oper = np.arange(0.0, 90.0, 1)\n",
    "mass_alpha = np.arange(0.0, 20.0, 1)"
   ]
  },
  {
   "cell_type": "code",
   "execution_count": 165,
   "metadata": {},
   "outputs": [
    {
     "data": {
      "application/vnd.jupyter.widget-view+json": {
       "model_id": "ce86b21a4be941888ae12aa5a206a016",
       "version_major": 2,
       "version_minor": 0
      },
      "text/plain": [
       "interactive(children=(FloatSlider(value=1.1, description='S$_{опер}$, м$^2$', max=2.490000000000002, min=0.5, …"
      ]
     },
     "metadata": {},
     "output_type": "display_data"
    }
   ],
   "source": [
    "@interact(i=ipywidgets.FloatSlider(description='S$_{опер}$, м$^2$',  min=mass_S_oper[0], max=mass_S_oper[-1], step=count_S_oper, value=1.1),\n",
    "          j=ipywidgets.FloatSlider(description='xb$_{опер}$, м', min=mass_xb_oper[0], max=mass_xb_oper[-1], step=count_xb_oper, value=7.37),\n",
    "          l=ipywidgets.FloatSlider(description='L$_{опер}$, м',  min=mass_L_oper[0], max=mass_L_oper[-1], step=count_L_oper, value=1.25),\n",
    "          h=ipywidgets.FloatSlider(description='χ$_{пк.опер}$, град',    min=mass_khi_pk_oper[0], max=mass_khi_pk_oper[-1], step=1, value=55),\n",
    "          alf=ipywidgets.FloatSlider(description='α, град',  min=mass_alpha[0], max=mass_alpha[-1], step=1))\n",
    "def draw_missile(i, j, l, h, alf):\n",
    "    \n",
    "    params = [i, j, l, h]\n",
    "    S_oper, x_b_oper, L_oper, khi_pk_oper = i, j, l, h\n",
    "    \n",
    "    res_aero = foo_aero(res, alf, params)\n",
    "    \n",
    "    clr_line = 'black'\n",
    "    clr_axis = 'darkorange'\n",
    "    clr_fill = 'lightgrey'\n",
    "    clr_fill_rul = 'white'\n",
    "    hatch = \"/////\"\n",
    "    alpha = 0.8\n",
    "    alpha_fill = 0.8\n",
    "    end_ax = 0.1\n",
    "    width_line = 1\n",
    "    width_axis = 0.8\n",
    "    \n",
    "    d_kon1 = d - 2 * np.tan(np.radians(betta_kon2)) * L_kon2\n",
    "    d_kon2 = d_kon1 + 2 * np.tan(np.radians(betta_kon2)) * L2\n",
    "    nu_oper = b_0_oper * L_oper / (2 * S_oper - b_0_oper * L_oper)\n",
    "    b_k_oper = b_0_oper / nu_oper\n",
    "    \n",
    "    plt.figure(figsize=(16,12))  \n",
    "    plt.title('Эскиз ракеты')\n",
    "    \n",
    "    ax01 = subplot2grid((10, 4), (0, 0), colspan=4, rowspan=4)\n",
    "    ax02 = subplot2grid((10, 4), (4, 0), colspan=2, rowspan=2)\n",
    "    ax03 = subplot2grid((10, 4), (6, 0), colspan=2, rowspan=2,sharex=ax02)\n",
    "    ax04 = subplot2grid((10, 4), (4, 2), colspan=2, rowspan=2,sharex=ax02)\n",
    "    ax05 = subplot2grid((10, 4), (6, 2), colspan=2, rowspan=2,sharex=ax02)\n",
    "    ax06 = subplot2grid((10, 4), (8, 0), colspan=2, rowspan=2,sharex=ax02)\n",
    "    ax07 = subplot2grid((10, 4), (8, 2), colspan=2, rowspan=2,sharex=ax02)\n",
    "    \n",
    "    # 1-ый отсек\n",
    "    ax01.plot([0, L1], [0, d_kon1/2],  linestyle='-', linewidth=width_line, color=clr_line, alpha=alpha)\n",
    "    ax01.plot([0, L1], [0, -d_kon1/2], linestyle='-', linewidth=width_line, color=clr_line, alpha=alpha)\n",
    "\n",
    "    # 2-ой отсек\n",
    "    ax01.plot([L1, L1+L2], [d_kon1/2, d_kon2/2],   linestyle='-', linewidth=width_line, color=clr_line, alpha=alpha)\n",
    "    ax01.plot([L1, L1+L2], [-d_kon1/2, -d_kon2/2], linestyle='-', linewidth=width_line, color=clr_line, alpha=alpha)\n",
    "\n",
    "    # 3-ий отсек\n",
    "    ax01.plot([L1+L2, L1+L2+L3], [d_kon2/2, d/2],   linestyle='-', linewidth=width_line, color=clr_line, alpha=alpha)\n",
    "    ax01.plot([L1+L2, L1+L2+L3], [-d_kon2/2, -d/2], linestyle='-', linewidth=width_line, color=clr_line, alpha=alpha)\n",
    "\n",
    "    # 4-ый отсек\n",
    "    ax01.plot([L1+L2+L3, L1+L2+L3+L4], [d/2, d/2],   linestyle='-', linewidth=width_line, color=clr_line, alpha=alpha)\n",
    "    plt.plot([L1+L2+L3, L1+L2+L3+L4], [-d/2, -d/2], linestyle='-', linewidth=width_line, color=clr_line, alpha=alpha)\n",
    "\n",
    "    # 5-ый отсек\n",
    "    ax01.plot([L1+L2+L3+L4, L1+L2+L3+L4+L5-L_korm], [d/2, d/2],   linestyle='-', linewidth=width_line, color=clr_line, alpha=alpha)\n",
    "    ax01.plot([L1+L2+L3+L4, L1+L2+L3+L4+L5-L_korm], [-d/2, -d/2], linestyle='-', linewidth=width_line, color=clr_line, alpha=alpha)\n",
    "    ax01.plot([L1+L2+L3+L4+L5-L_korm, L1+L2+L3+L4+L5], [d/2, d_korm/2],   linestyle='-', linewidth=width_line, color=clr_line, alpha=alpha)\n",
    "    ax01.plot([L1+L2+L3+L4+L5-L_korm, L1+L2+L3+L4+L5], [-d/2, -d_korm/2], linestyle='-', linewidth=width_line, color=clr_line, alpha=alpha)\n",
    "    ax01.plot([L1+L2+L3+L4+L5-L_korm, L1+L2+L3+L4+L5-L_korm], [-d/2, d/2], linestyle='-', linewidth=width_line, color=clr_line, alpha=alpha)\n",
    "    ax01.plot([L1+L2+L3+L4+L5, L1+L2+L3+L4+L5], [-d_korm/2, d_korm/2], linestyle='-', linewidth=width_line, color=clr_line, alpha=alpha)\n",
    "\n",
    "    # Состыковка отсеков\n",
    "    ax01.plot([L1, L1], [-d_kon1/2, d_kon1/2], linestyle='-', linewidth=width_line, color=clr_line, alpha=alpha)\n",
    "    ax01.plot([L1+L2, L1+L2], [-d_kon2/2, d_kon2/2], linestyle='-', linewidth=width_line, color=clr_line, alpha=alpha)\n",
    "    ax01.plot([L1+L2+L3, L1+L2+L3], [-d/2, d/2], linestyle='-', linewidth=width_line, color=clr_line, alpha=alpha)\n",
    "    ax01.plot([L1+L2+L3+L4, L1+L2+L3+L4], [-d/2, d/2], linestyle='-', linewidth=width_line, color=clr_line, alpha=alpha)\n",
    "\n",
    "\n",
    "    # Рули\n",
    "    ax01.plot([x_b_oper, x_b_oper+np.tan(np.radians(khi_pk_oper))*(L_oper-d)/2], [d/2, L_oper/2],  linestyle='-', linewidth=width_line, color=clr_line, alpha=alpha)\n",
    "    ax01.plot([x_b_oper, x_b_oper+np.tan(np.radians(khi_pk_oper))*(L_oper-d)/2], [-d/2, -L_oper/2],linestyle='-', linewidth=width_line, color=clr_line, alpha=alpha)\n",
    "    ax01.plot([x_b_oper+np.tan(np.radians(khi_pk_oper))*(L_oper-d)/2, x_b_oper+np.tan(np.radians(khi_pk_oper))*(L_oper-d)/2+b_k_oper],\n",
    "             [L_oper/2, L_oper/2],  linestyle='-', linewidth=width_line, color=clr_line, alpha=alpha)\n",
    "    ax01.plot([x_b_oper+np.tan(np.radians(khi_pk_oper))*(L_oper-d)/2, x_b_oper+np.tan(np.radians(khi_pk_oper))*(L_oper-d)/2+b_k_oper],\n",
    "             [-L_oper/2, -L_oper/2],  linestyle='-', linewidth=width_line, color=clr_line, alpha=alpha)\n",
    "    ax01.plot([x_b_oper+np.tan(np.radians(khi_pk_oper))*(L_oper-d)/2+b_k_oper, x_b_oper+np.tan(np.radians(khi_pk_oper))*(L_oper-d)/2+b_k_oper],\n",
    "             [d/2, L_oper/2],  linestyle='-', linewidth=width_line, color=clr_line, alpha=alpha)\n",
    "    ax01.plot([x_b_oper+np.tan(np.radians(khi_pk_oper))*(L_oper-d)/2+b_k_oper, x_b_oper+np.tan(np.radians(khi_pk_oper))*(L_oper-d)/2+b_k_oper],\n",
    "             [-d/2, -L_oper/2],  linestyle='-', linewidth=width_line, color=clr_line, alpha=alpha)\n",
    "    ax01.plot([x_b_oper, x_b_oper+np.tan(np.radians(khi_pk_oper))*(L_oper-d)/2+b_k_oper], [d/2, d/2],  linestyle='--', linewidth=width_line, color=clr_line, alpha=alpha)\n",
    "    ax01.plot([x_b_oper, x_b_oper+np.tan(np.radians(khi_pk_oper))*(L_oper-d)/2+b_k_oper], [-d/2, -d/2],  linestyle='--', linewidth=width_line, color=clr_line, alpha=alpha)\n",
    "    ax01.plot([x_b_oper-np.tan(np.radians(khi_pk_oper))*d/2, x_b_oper], [0, d/2],  linestyle='-.', linewidth=width_line, color=clr_line, alpha=alpha)\n",
    "    ax01.plot([x_b_oper-np.tan(np.radians(khi_pk_oper))*d/2, x_b_oper], [0, -d/2],  linestyle='-.', linewidth=width_line, color=clr_line, alpha=alpha)\n",
    "\n",
    "\n",
    "    # Разукраска\n",
    "    arr_x_korp = np.array([0, L_kon1, L_kon1+L_kon2, L_korp-L_korm, L_korp])\n",
    "    arr_y_korp = np.array([0, d_kon1/2, d/2, d/2, d_korm/2])\n",
    "    arr_x_rul  = np.array([x_b_oper, x_b_oper+np.tan(np.radians(khi_pk_oper))*(L_oper-d)/2,\n",
    "                           x_b_oper+np.tan(np.radians(khi_pk_oper))*(L_oper-d)/2+b_k_oper])\n",
    "    arr_yh_rul  = np.array([d/2, L_oper/2, L_oper/2])\n",
    "    arr_yl_rul = np.array([d/2, d/2, d/2])\n",
    "    ax01.fill_between(arr_x_korp, arr_y_korp, -arr_y_korp, facecolor=clr_fill, alpha=alpha_fill, edgecolor=\"black\", linewidth=0.5)\n",
    "    ax01.fill_between(arr_x_rul,  arr_yh_rul,  arr_yl_rul, facecolor=clr_fill_rul, hatch=hatch, alpha=alpha_fill, edgecolor=\"black\", linewidth=0.5)\n",
    "    ax01.fill_between(arr_x_rul, -arr_yh_rul, -arr_yl_rul, facecolor=clr_fill_rul, hatch=hatch, alpha=alpha_fill, edgecolor=\"black\", linewidth=0.5)\n",
    "\n",
    "    # Центр масс\n",
    "    ax01.scatter(x_ct_0, 0, s=10, color='silver', edgecolors='black')\n",
    "    ax01.text(x_ct_0+0.01, 0.05, 'ЦМ$_{полн}$', fontsize=14)\n",
    "    ax01.scatter(x_ct_marsh, 0, s=10, color='silver', edgecolors='black')\n",
    "    ax01.text(x_ct_marsh-0.5, 0.05, 'ЦМ$_{пуст}$', fontsize=14)\n",
    "    ax01.plot([x_ct_0, x_ct_0], [0, -1], linewidth=0.7, linestyle='-', color='black')\n",
    "    ax01.plot([x_ct_marsh, x_ct_marsh], [0, -1], linewidth=0.7, linestyle='-' , color='black')\n",
    "    ax01.plot([x_ct_0, x_ct_marsh], [-1, -1], linewidth=0.7, linestyle='-' , color='black')\n",
    "    ax01.scatter(x_ct_0-0.05, -1, marker='>', color='black')\n",
    "    ax01.scatter(x_ct_marsh+0.05, -1, marker='<', color='black')\n",
    "    ax01.text(x_ct_marsh+(x_ct_0-x_ct_marsh)/7, -0.9, 'Δ$_{разб}$', fontsize=14)\n",
    "    \n",
    "    # Осевая\n",
    "    ax01.plot([0-end_ax, L_korp+end_ax], [0, 0], linestyle='-.', linewidth=width_axis, color=clr_axis, alpha=1)\n",
    "    ax01.axis('equal')\n",
    "    ax01.tick_params(labeltop=True, top=True, labelbottom=False, bottom=False, labelsize=14)\n",
    "    \n",
    "    ax02.plot(res_aero['t'], res_aero['Cy_alpha'], label='$C_{Y.ЛА}^{a}$', c='k')\n",
    "    ax02.plot(res_aero['t'], res_aero['Cy_alpha_korp'], label='$C_{Y.корп}^{a}$', c='blue')\n",
    "    ax02.plot(res_aero['t'], res_aero['Cy_alpha_oper'], label='$C_{Y.опер}^{a}$', c='darkorange')\n",
    "    ax02.tick_params(labeltop=False, top=False, pad = 10, labelbottom=False, bottom=False, labelsize=14)\n",
    "    ax02.legend(fontsize=12)\n",
    "    ax02.grid(True)\n",
    "    \n",
    "    ax03.plot(res_aero['t'], res_aero['Cx'], label='$C_{X.ЛА}$', c='k')\n",
    "    ax03.plot(res_aero['t'], res_aero['Cx_0'], label=r'$C_{X0.ЛА}$', c='k', ls='-.')\n",
    "    ax03.plot(res_aero['t'], res_aero['Cx_ind'], label=r'$C_{Xind.ЛА}$', c='k', ls='--')\n",
    "    ax03.plot(res_aero['t'], res_aero['Cx_0_korp'], label=r'$C_{X0.корп}$', c='blue', ls='-.')\n",
    "    ax03.plot(res_aero['t'], res_aero['Cx_ind_korp'], label=r'$C_{Xind.корп}$', c='blue', ls='--')\n",
    "    ax03.plot(res_aero['t'], res_aero['Cx_0_oper'], label=r'$C_{X0.опер}$', c='darkorange', ls='-.')\n",
    "    ax03.plot(res_aero['t'], res_aero['Cx_ind_oper'], label=r'$C_{Xind.опер}$', c='darkorange', ls='--')\n",
    "    ax03.legend(loc='best', ncol=3)\n",
    "    ax03.tick_params(left=True, labelleft=True, labelbottom=False, bottom=False, labelsize=14)\n",
    "    ax03.grid(True)\n",
    "    \n",
    "    ax04.plot(res_aero['t'], res_aero['m_z_wz'], label='$m_z^{wz}$', color='black', ls='-')\n",
    "    ax04.plot(res_aero['t'], res_aero['m_z_wz_korp'], label='$m_{z.корп}^{wz}$', color='blue', ls='--')\n",
    "    ax04.plot(res_aero['t'], res_aero['m_z_wz_oper'], label='$m_{z.опер}^{wz}$', color='darkorange', ls='-.')\n",
    "    ax04.tick_params(labeltop=False, top=False, pad = 10, left=False, labelleft=False, right=True, labelright=True, labelbottom=False, bottom=False, labelsize=14)\n",
    "    ax04.legend(fontsize=12)\n",
    "    ax04.grid(True)\n",
    "       \n",
    "    ax05.plot(res_aero['t'], res_aero['x_fa'], color='black', label='$x_{fa}$')\n",
    "    ax05.plot(res_aero['t'], res_aero['x_fa_korp'], color='blue', label='$x_{fa.korp}$')\n",
    "    ax05.plot(res_aero['t'], res_aero['x_fa_oper'], color='darkorange', label='$x_{fa.oper}$')\n",
    "#     ax05.plot(res_aero['t'], res_aero['x_fd_oper'], color='k', label='$x_{fd.oper}$')\n",
    "    ax05.tick_params(left=False, labelleft=False, right=True, labelright=True, labelbottom=False, bottom=False, labelsize=14)\n",
    "    ax05.legend(fontsize=12)\n",
    "    ax05.grid(True)\n",
    "    \n",
    "    ax06.plot(res_aero['t'], res_aero['m_z_cy'], label='$m_z^{Cy}$', color='black')\n",
    "    ax06.plot(res_aero['t'], res_aero['M_z_alpha'], label='$M_{z}^α$', ls='-.', color='black')\n",
    "    ax06.plot(res_aero['t'], res_aero['M_z_delt'], label='$M_{z}^δ$', ls='--', color='black')\n",
    "    ax06.tick_params(labelbottom=True, bottom=True, labelsize=14)\n",
    "    ax06.legend(fontsize=12, loc='right')\n",
    "    ax06.grid(True)\n",
    "    \n",
    "    ax07.plot(res_aero['t'], res_aero['ballans_relation'], label='$δ / α$', color='black')\n",
    "    ax07.tick_params(left=False, labelleft=False, right=True, labelright=True, labelbottom=True, bottom=True, labelsize=14)\n",
    "    ax07.legend(fontsize=12, loc='right')\n",
    "    ax07.grid(True)\n",
    "    \n",
    "#     plt.savefig('pictures/Аэродинамика ЛА.png', dpi=900, bbox_inches='tight')\n",
    "    \n",
    "    plt.show()"
   ]
  },
  {
   "cell_type": "code",
   "execution_count": null,
   "metadata": {},
   "outputs": [],
   "source": [
    "arr_mach = res['Mach'][:np.argmax(res['Mach'])+1]\n",
    "arr_mach"
   ]
  },
  {
   "cell_type": "code",
   "execution_count": null,
   "metadata": {},
   "outputs": [],
   "source": [
    "arr_cya = []\n",
    "for i in range(len(arr_mach)):\n",
    "    arr_cya.append(res_aero[i]['Cy_alpha'])\n",
    "arr_cya = np.array(arr_cya)\n",
    "arr_cya"
   ]
  },
  {
   "cell_type": "code",
   "execution_count": null,
   "metadata": {},
   "outputs": [],
   "source": [
    "data_cya_from_mach = {'Cya': arr_cya, 'Mach': arr_mach} \n",
    "df1 = pd.DataFrame(data_cya_from_mach)\n",
    "df1.to_csv('data_constants/cya_from_mach.csv', sep = \";\", index=False)"
   ]
  },
  {
   "cell_type": "code",
   "execution_count": null,
   "metadata": {},
   "outputs": [],
   "source": [
    "df1 = pd.read_csv('data_constants/cya_from_mach.csv', sep = \";\")\n",
    "df1"
   ]
  },
  {
   "cell_type": "code",
   "execution_count": null,
   "metadata": {},
   "outputs": [],
   "source": [
    "arr_alpha = np.arange(-40, 41, 1)\n",
    "arr_alpha"
   ]
  },
  {
   "cell_type": "code",
   "execution_count": null,
   "metadata": {},
   "outputs": [],
   "source": [
    "arr_cx = []\n",
    "for i in tqdm(arr_alpha):\n",
    "    res_aero = foo_aero(res, alpha=i)\n",
    "    cx_from_mach = []\n",
    "    for j in range(len(arr_mach)):\n",
    "        cx_from_mach.append(res_aero[j]['Cx'])\n",
    "    arr_cx.append(cx_from_mach)\n",
    "arr_cx = np.array(arr_cx)\n",
    "arr_cx"
   ]
  },
  {
   "cell_type": "code",
   "execution_count": null,
   "metadata": {},
   "outputs": [],
   "source": [
    "df2 = pd.DataFrame(arr_cx, columns=arr_mach, index=arr_alpha)\n",
    "df2.to_csv('data_constants/cx_from_mach_and_alpha.csv', sep = \";\")"
   ]
  },
  {
   "cell_type": "code",
   "execution_count": null,
   "metadata": {},
   "outputs": [],
   "source": [
    "df2 = pd.read_csv('data_constants/cx_from_mach_and_alpha.csv', sep = \";\", index_col=0)\n",
    "df2"
   ]
  },
  {
   "cell_type": "code",
   "execution_count": null,
   "metadata": {},
   "outputs": [],
   "source": []
  },
  {
   "cell_type": "code",
   "execution_count": null,
   "metadata": {},
   "outputs": [],
   "source": []
  },
  {
   "cell_type": "code",
   "execution_count": null,
   "metadata": {},
   "outputs": [],
   "source": []
  },
  {
   "cell_type": "code",
   "execution_count": 191,
   "metadata": {},
   "outputs": [],
   "source": [
    "Cya = []\n",
    "Cy_alpha_korp = []\n",
    "Cy_alpha_oper = []\n",
    "Cx  = []\n",
    "Cx_0 = []\n",
    "Cx_0_korp = []\n",
    "Cx_0_oper = []\n",
    "Cx_ind = []\n",
    "Cx_ind_korp = []\n",
    "Cx_ind_oper = []\n",
    "t   = []\n",
    "alpha = []\n",
    "Mach = []\n",
    "m_z_cy = []\n",
    "m_z_wz = []\n",
    "m_z_wz_korp = []\n",
    "m_z_wz_oper = []\n",
    "x_fa = []\n",
    "x_fa_oper = []\n",
    "x_fa_korp = []\n",
    "x_fd_oper = []\n",
    "ballans_relation = []\n",
    "M_z_alpha = []\n",
    "M_z_delt = []\n",
    "for i in range(1, len(res_hit['aero'])):\n",
    "    \n",
    "    Cya.append(res_hit['aero'][i]['Cy_alpha'])\n",
    "    Cy_alpha_korp.append(res_hit['aero'][i]['Cy_alpha_korp'])\n",
    "    Cy_alpha_oper.append(res_hit['aero'][i]['Cy_alpha_oper'])\n",
    "    \n",
    "    Cx.append(res_hit['aero'][i]['Cx'])\n",
    "    Cx_0.append(res_hit['aero'][i]['Cx_0'])\n",
    "    Cx_0_korp.append(res_hit['aero'][i]['Cx_0_korp'])\n",
    "    Cx_0_oper.append(res_hit['aero'][i]['Cx_0_oper'])\n",
    "    Cx_ind.append(res_hit['aero'][i]['Cx_ind'])\n",
    "    Cx_ind_korp.append(res_hit['aero'][i]['Cx_ind_korp'])\n",
    "    Cx_ind_oper.append(res_hit['aero'][i]['Cx_ind_oper'])\n",
    "    \n",
    "    m_z_cy.append(res_hit['aero'][i]['m_z_cy'])\n",
    "    m_z_wz.append(res_hit['aero'][i]['m_z_wz'])\n",
    "    m_z_wz_korp.append(res_hit['aero'][i]['m_z_wz_korp'])\n",
    "    m_z_wz_oper.append(res_hit['aero'][i]['m_z_wz_oper'])\n",
    "    \n",
    "    x_fa.append(res_hit['aero'][i]['x_fa'])\n",
    "    x_fa_oper.append(res_hit['aero'][i]['x_fa_oper'])\n",
    "    x_fa_korp.append(res_hit['aero'][i]['x_fa_korp'])\n",
    "    x_fd_oper.append(res_hit['aero'][i]['x_fd_oper'])\n",
    "    \n",
    "    ballans_relation.append(res_hit['aero'][i]['ballans_relation'])\n",
    "    M_z_alpha.append(res_hit['aero'][i]['M_z_alpha'])\n",
    "    M_z_delt.append(res_hit['aero'][i]['M_z_delt'])\n",
    "    \n",
    "    t.append(res_hit['aero'][i]['t'])\n",
    "    alpha.append(res_hit['aero'][i]['alpha'])\n",
    "    Mach.append(res_hit['aero'][i]['Mach'])"
   ]
  },
  {
   "cell_type": "code",
   "execution_count": 200,
   "metadata": {},
   "outputs": [
    {
     "data": {
      "application/vnd.jupyter.widget-view+json": {
       "model_id": "7d59b6d8129a4a20bde6142697d3fcad",
       "version_major": 2,
       "version_minor": 0
      },
      "text/plain": [
       "interactive(children=(IntSlider(value=3211, description='tau', max=3211), Output()), _dom_classes=('widget-int…"
      ]
     },
     "metadata": {},
     "output_type": "display_data"
    }
   ],
   "source": [
    "@interact(i=ipywidgets.IntSlider(description='tau', max=len(res_hit['t'])-1, step=1, value=len(res_hit['t'])-1))\n",
    "def draw_aero_gym_hit(i):\n",
    "    \n",
    "    plt.figure(figsize=(16,12))\n",
    "\n",
    "    ax00 = subplot2grid((8, 4), (0, 2), colspan=2, rowspan=2)\n",
    "    ax01 = subplot2grid((8, 4), (0, 0), colspan=2, rowspan=2)\n",
    "    ax02 = subplot2grid((8, 4), (2, 0), colspan=2, rowspan=2)\n",
    "    ax03 = subplot2grid((8, 4), (4, 0), colspan=2, rowspan=2,sharex=ax02)\n",
    "    ax04 = subplot2grid((8, 4), (2, 2), colspan=2, rowspan=2,sharex=ax02)\n",
    "    ax05 = subplot2grid((8, 4), (4, 2), colspan=2, rowspan=2,sharex=ax02)\n",
    "    ax06 = subplot2grid((8, 4), (6, 0), colspan=2, rowspan=2,sharex=ax02)\n",
    "    ax07 = subplot2grid((8, 4), (6, 2), colspan=2, rowspan=2,sharex=ax02)\n",
    "    \n",
    "    ax00.plot(t[:i], Mach[:i], lw=3, ls=':', color='k', label='Mach')\n",
    "    ax00.legend(loc='best', fontsize=14)\n",
    "    ax00.tick_params(left=False, labelleft=False, right=True, labelright=True,  pad = 0, labelsize=12)\n",
    "    ax00.grid(True)\n",
    "    \n",
    "    ax01.plot(res_hit['missile']['x'][:i], res_hit['missile']['y'][:i], lw=3, ls=':', color='k', label='траектория ракеты')\n",
    "    ax01.plot(res_hit['target']['x'][:i], res_hit['target']['y'][:i], lw=3, ls=':', color='red', label='траектория цели')\n",
    "    ax01.tick_params(labelsize=12, pad = 0)\n",
    "    ax01.legend(loc='best', fontsize=14)\n",
    "    ax01.grid(True)\n",
    "    \n",
    "    ax02.plot(t[:i], Cya[:i], label='$C_{Y.ЛА}^{a}$', c='k')\n",
    "    ax02.plot(t[:i], Cy_alpha_korp[:i], label='$C_{Y.корп}^{a}$', c='blue')\n",
    "    ax02.plot(t[:i], Cy_alpha_oper[:i], label='$C_{Y.опер}^{a}$', c='darkorange')\n",
    "    ax02.tick_params(labeltop=False, top=False, labelbottom=False, bottom=False, labelsize=12)\n",
    "    ax02.legend(fontsize=14)\n",
    "    ax02.grid(True)\n",
    "    \n",
    "    ax03.plot(t[:i], Cx[:i], label='$C_{X.ЛА}$', c='k')\n",
    "    ax03.plot(t[:i], Cx_0[:i], label=r'$C_{X0.ЛА}$', c='k', ls='-.')\n",
    "    ax03.plot(t[:i], Cx_ind[:i], label=r'$C_{Xind.ЛА}$', c='k', ls='--')\n",
    "    ax03.plot(t[:i], Cx_0_korp[:i], label=r'$C_{X0.корп}$', c='blue', ls='-.')\n",
    "    ax03.plot(t[:i], Cx_ind_korp[:i], label=r'$C_{Xind.корп}$', c='blue', ls='--')\n",
    "    ax03.plot(t[:i], Cx_0_oper[:i], label=r'$C_{X0.опер}$', c='darkorange', ls='-.')\n",
    "    ax03.plot(t[:i], Cx_ind_oper[:i], label=r'$C_{Xind.опер}$', c='darkorange', ls='--')\n",
    "    ax03.legend(loc='best', ncol=3, fontsize=14)\n",
    "    ax03.tick_params(left=True, labelleft=True, labelbottom=False, bottom=False, labelsize=12)\n",
    "    ax03.grid(True)\n",
    "    \n",
    "    ax04.plot(t[:i], m_z_wz[:i], label='$m_z^{wz}$', color='black', ls='-')\n",
    "    ax04.plot(t[:i], m_z_wz_korp[:i], label='$m_{z.корп}^{wz}$', color='blue', ls='--')\n",
    "    ax04.plot(t[:i], m_z_wz_oper[:i], label='$m_{z.опер}^{wz}$', color='darkorange', ls='-.')\n",
    "    ax04.tick_params(labeltop=False, top=False, pad = 5, left=False, labelleft=False, right=True, labelright=True, labelbottom=False, bottom=False, labelsize=12)\n",
    "    ax04.legend(fontsize=14)\n",
    "    ax04.grid(True)\n",
    "       \n",
    "    ax05.plot(t[:i], x_fa[:i], color='k', label='$x_{fa}$')\n",
    "    ax05.plot(t[:i], x_fa_korp[:i], color='blue', label='$x_{fa.korp}$')\n",
    "    ax05.plot(t[:i], x_fa_oper[:i], color='darkorange', label='$x_{fa.oper}$')\n",
    "    ax05.tick_params(left=False, labelleft=False, right=True, labelright=True, labelbottom=False, bottom=False, labelsize=12)\n",
    "    ax05.legend(fontsize=14)\n",
    "    ax05.grid(True)\n",
    "    \n",
    "    ax06.plot(t[:i], m_z_cy[:i], label='$m_z^{Cy}$', color='k')\n",
    "    ax06.plot(t[:i], M_z_delt[:i], label='$M_{z}^δ$', ls='-.', color='k')\n",
    "    ax06.plot(t[:i], M_z_alpha[:i], label='$M_{z}^α$', ls='--',color='k')\n",
    "    ax06.tick_params(labelbottom=True, bottom=True, labelsize=12)\n",
    "    ax06.legend(fontsize=14, loc='right')\n",
    "    ax06.grid(True)\n",
    "    \n",
    "    ax07.plot(t[:i], ballans_relation[:i], label='$δ / α$', color='k')\n",
    "    ax07.tick_params(left=False, labelleft=False, right=True, labelright=True, labelbottom=True, bottom=True, labelsize=12)\n",
    "    ax07.legend(fontsize=14)\n",
    "    ax07\n",
    "    ax07.grid(True)\n",
    "    \n",
    "    plt.savefig('pictures/Аэродинамика ЛА.png', dpi=900, bbox_inches='tight')\n",
    "    \n",
    "    plt.show()"
   ]
  }
 ],
 "metadata": {
  "kernelspec": {
   "display_name": "Python 3 (ipykernel)",
   "language": "python",
   "name": "python3"
  },
  "language_info": {
   "codemirror_mode": {
    "name": "ipython",
    "version": 3
   },
   "file_extension": ".py",
   "mimetype": "text/x-python",
   "name": "python",
   "nbconvert_exporter": "python",
   "pygments_lexer": "ipython3",
   "version": "3.9.7"
  }
 },
 "nbformat": 4,
 "nbformat_minor": 4
}
