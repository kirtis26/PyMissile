{
 "cells": [
  {
   "cell_type": "code",
   "execution_count": 6,
   "id": "f721ce0a",
   "metadata": {},
   "outputs": [],
   "source": [
    "from missile import Missile"
   ]
  },
  {
   "cell_type": "code",
   "execution_count": 7,
   "id": "70df4517",
   "metadata": {},
   "outputs": [],
   "source": [
    "opts = {\n",
    "    'm_0': 2350,\n",
    "    'vel_abs': 1700,\n",
    "    't_marsh': 12,\n",
    "    'w_marsh': 1428.122,\n",
    "    'P_marsh': 300e3,\n",
    "    'dt': 0.01,\n",
    "    'tau': 1/20,\n",
    "    't_max': 165,\n",
    "    'I': 2500,\n",
    "    'r_kill': 50,\n",
    "    'alpha_max': 20,\n",
    "    'xi': 0.5,\n",
    "    'am': 4,\n",
    "    'dny': 1,\n",
    "    'init_conditions': {'V_0': 25, 'pos_0': (0, 20)},\n",
    "    'L_korp': 8.298,\n",
    "    'L_cil': 5.519,\n",
    "    'L_korm': 0.135,\n",
    "    'L_oper': 1.25,\n",
    "    'L_kon1': 0.913,\n",
    "    'L_kon2': 1.731,\n",
    "    'b_0_oper': 1360 / 1e3,\n",
    "    'x_b_oper': 7.37,\n",
    "    'a': 0.2,\n",
    "    'betta_kon2': 1,\n",
    "    'd': 0.515,\n",
    "    'd_korm': 0.490,\n",
    "    'c_oper': 0.03,\n",
    "    'khi_pk_oper': 55,\n",
    "    'khi_rul': 0.0,\n",
    "    'class_korp': 7,\n",
    "    'class_oper': 5,\n",
    "    'S_oper': 1.1,\n",
    "    'x_ct_0': 4.808396444826858,\n",
    "    'x_ct_marsh': 4.137372904870341,\n",
    "}"
   ]
  },
  {
   "cell_type": "code",
   "execution_count": 8,
   "id": "b709da44",
   "metadata": {},
   "outputs": [],
   "source": [
    "missile = Missile.get_missile(opts)"
   ]
  },
  {
   "cell_type": "code",
   "execution_count": null,
   "id": "e2bcabec",
   "metadata": {},
   "outputs": [],
   "source": []
  }
 ],
 "metadata": {
  "kernelspec": {
   "display_name": "Python 3 (ipykernel)",
   "language": "python",
   "name": "python3"
  },
  "language_info": {
   "codemirror_mode": {
    "name": "ipython",
    "version": 3
   },
   "file_extension": ".py",
   "mimetype": "text/x-python",
   "name": "python",
   "nbconvert_exporter": "python",
   "pygments_lexer": "ipython3",
   "version": "3.9.7"
  }
 },
 "nbformat": 4,
 "nbformat_minor": 5
}
